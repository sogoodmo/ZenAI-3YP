{
 "cells": [
  {
   "cell_type": "code",
   "execution_count": 159,
   "source": [
    "import pandas as pd \n",
    "from sklearn.neighbors import KNeighborsClassifier as KNN \n",
    "from sklearn.model_selection import KFold\n",
    "from sklearn.model_selection import cross_val_score\n",
    "import matplotlib.pyplot as plt\n",
    "import numpy as np\n",
    "import os \n",
    "\n",
    "os.chdir('../Dataset')\n",
    "path = os.getcwd()\n",
    "\n",
    "\n",
    "columns = ['class','l_shoulder','r_shoulder','l_arm','r_arm','l_hip','r_hip','l_knee','r_knee']\n",
    "\n",
    "y82_test = pd.read_csv(os.path.join(path,'y82_testing.csv'), header=None)\n",
    "y82_train = pd.read_csv(os.path.join(path,'y82_training.csv'), header=None)\n",
    "L_test = pd.read_csv(os.path.join(path,'L_testing.csv'), header=None)\n",
    "L_train = pd.read_csv(os.path.join(path,'L_training.csv'), header=None)\n",
    "\n",
    "combined_test = pd.concat([L_test, y82_test])\n",
    "combined_train = pd.concat([L_train, y82_train])\n",
    "\n",
    "combined_test.columns = columns \n",
    "combined_train.columns = columns \n",
    "\n",
    "combined_test['class'], classes = pd.factorize(combined_test['class'])\n",
    "combined_train['class'], _ = pd.factorize(combined_train['class'])\n",
    "\n",
    "classes = list(classes)\n"
   ],
   "outputs": [],
   "metadata": {}
  },
  {
   "cell_type": "code",
   "execution_count": 160,
   "source": [
    "all_combined_df = pd.concat([y82_train, y82_test, L_test, L_train])\n",
    "all_combined = pd.concat([combined_test, combined_train])\n",
    "\n",
    "def split_features_labels(df):\n",
    "    return df.drop('class', axis=1), df['class']"
   ],
   "outputs": [],
   "metadata": {}
  },
  {
   "cell_type": "markdown",
   "source": [
    "## Using TSNE Reduction to keep the relationships between the datapoints \n",
    "# Scrap this, TSNE is an unsupervied method so doesn't really work with TEST and TRAIN datasets, it doens't actually learn a mapping function. Best way to go is PCA "
   ],
   "metadata": {}
  },
  {
   "cell_type": "code",
   "execution_count": 161,
   "source": [
    "# from sklearn.manifold import TSNE\n",
    "# from sklearn.svm import SVC\n",
    "# X, y = split_features_labels(combined_train)\n",
    "\n",
    "# tsne = TSNE(n_components = 2)\n",
    "# X_train_tsne = tsne.fit_transform(X)\n",
    "\n",
    "# clf = SVC(kernel='linear', probability=True)\n",
    "# clf.fit(X_train_tsne, y)"
   ],
   "outputs": [],
   "metadata": {}
  },
  {
   "cell_type": "code",
   "execution_count": 162,
   "source": [
    "# plt.scatter(X_train_tsne[:, 0], X_train_tsne[:, 1], c=y)\n",
    "# plt.show()\n",
    "\n",
    "# # create a mesh to plot in\n",
    "# x_min, x_max = X_train_tsne[:, 0].min() - 1, X_train_tsne[:, 0].max() + 1\n",
    "# y_min, y_max = X_train_tsne[:, 1].min() - 1, X_train_tsne[:, 1].max() + 1\n",
    "# xx, yy = np.meshgrid(np.arange(x_min, x_max, 0.1),\n",
    "#                      np.arange(y_min, y_max, 0.1))\n",
    "\n",
    "# # Plot the decision boundary\n",
    "# Z = clf.predict(np.c_[xx.ravel(), yy.ravel()])\n",
    "# Z = Z.reshape(xx.shape)\n",
    "# plt.contour(xx, yy, Z, cmap=plt.cm.Paired)\n",
    "\n",
    "# plt.show()"
   ],
   "outputs": [],
   "metadata": {}
  },
  {
   "cell_type": "markdown",
   "source": [
    "~~Note the use of `.transform` instead of `.fit_transform` when project data (as we did before) as the tsne is using the previously calcualted on the training data to transform the new unseen test data~~\n"
   ],
   "metadata": {}
  },
  {
   "cell_type": "code",
   "execution_count": 163,
   "source": [
    "# X_test, y_test = split_features_labels(combined_test)\n",
    "# X_test_tsne = tsne.transform(X_test)  \n",
    "\n",
    "# y_pred = clf.predict(X_test)"
   ],
   "outputs": [],
   "metadata": {}
  },
  {
   "cell_type": "markdown",
   "source": [
    "## Using PCA Reduction, did this first cause this was all I knew. Going to next try to project the data to a higher-dimension to get a fully linearly seperable data"
   ],
   "metadata": {}
  },
  {
   "cell_type": "code",
   "execution_count": 164,
   "source": [
    "from sklearn.decomposition import PCA\n",
    "from sklearn.svm import SVC\n",
    "from sklearn.model_selection import GridSearchCV\n",
    "\n",
    "X_train, y_train = split_features_labels(combined_train)\n",
    "X_test, y_test = split_features_labels(combined_test)\n",
    "\n",
    "# First Step: Decomp\n",
    "pca = PCA(n_components = 2)\n",
    "\n",
    "# Note the use of .transform and .fit_transform \n",
    "X_train_pca = pca.fit_transform(X_train)\n",
    "X_test_pca = pca.transform(X_test)\n",
    "\n",
    "\n",
    "svm = SVC(kernel='rbf', probability=True)\n",
    "svm.fit(X_train_pca, y_train)"
   ],
   "outputs": [
    {
     "output_type": "execute_result",
     "data": {
      "text/html": [
       "<style>#sk-container-id-9 {color: black;background-color: white;}#sk-container-id-9 pre{padding: 0;}#sk-container-id-9 div.sk-toggleable {background-color: white;}#sk-container-id-9 label.sk-toggleable__label {cursor: pointer;display: block;width: 100%;margin-bottom: 0;padding: 0.3em;box-sizing: border-box;text-align: center;}#sk-container-id-9 label.sk-toggleable__label-arrow:before {content: \"▸\";float: left;margin-right: 0.25em;color: #696969;}#sk-container-id-9 label.sk-toggleable__label-arrow:hover:before {color: black;}#sk-container-id-9 div.sk-estimator:hover label.sk-toggleable__label-arrow:before {color: black;}#sk-container-id-9 div.sk-toggleable__content {max-height: 0;max-width: 0;overflow: hidden;text-align: left;background-color: #f0f8ff;}#sk-container-id-9 div.sk-toggleable__content pre {margin: 0.2em;color: black;border-radius: 0.25em;background-color: #f0f8ff;}#sk-container-id-9 input.sk-toggleable__control:checked~div.sk-toggleable__content {max-height: 200px;max-width: 100%;overflow: auto;}#sk-container-id-9 input.sk-toggleable__control:checked~label.sk-toggleable__label-arrow:before {content: \"▾\";}#sk-container-id-9 div.sk-estimator input.sk-toggleable__control:checked~label.sk-toggleable__label {background-color: #d4ebff;}#sk-container-id-9 div.sk-label input.sk-toggleable__control:checked~label.sk-toggleable__label {background-color: #d4ebff;}#sk-container-id-9 input.sk-hidden--visually {border: 0;clip: rect(1px 1px 1px 1px);clip: rect(1px, 1px, 1px, 1px);height: 1px;margin: -1px;overflow: hidden;padding: 0;position: absolute;width: 1px;}#sk-container-id-9 div.sk-estimator {font-family: monospace;background-color: #f0f8ff;border: 1px dotted black;border-radius: 0.25em;box-sizing: border-box;margin-bottom: 0.5em;}#sk-container-id-9 div.sk-estimator:hover {background-color: #d4ebff;}#sk-container-id-9 div.sk-parallel-item::after {content: \"\";width: 100%;border-bottom: 1px solid gray;flex-grow: 1;}#sk-container-id-9 div.sk-label:hover label.sk-toggleable__label {background-color: #d4ebff;}#sk-container-id-9 div.sk-serial::before {content: \"\";position: absolute;border-left: 1px solid gray;box-sizing: border-box;top: 0;bottom: 0;left: 50%;z-index: 0;}#sk-container-id-9 div.sk-serial {display: flex;flex-direction: column;align-items: center;background-color: white;padding-right: 0.2em;padding-left: 0.2em;position: relative;}#sk-container-id-9 div.sk-item {position: relative;z-index: 1;}#sk-container-id-9 div.sk-parallel {display: flex;align-items: stretch;justify-content: center;background-color: white;position: relative;}#sk-container-id-9 div.sk-item::before, #sk-container-id-9 div.sk-parallel-item::before {content: \"\";position: absolute;border-left: 1px solid gray;box-sizing: border-box;top: 0;bottom: 0;left: 50%;z-index: -1;}#sk-container-id-9 div.sk-parallel-item {display: flex;flex-direction: column;z-index: 1;position: relative;background-color: white;}#sk-container-id-9 div.sk-parallel-item:first-child::after {align-self: flex-end;width: 50%;}#sk-container-id-9 div.sk-parallel-item:last-child::after {align-self: flex-start;width: 50%;}#sk-container-id-9 div.sk-parallel-item:only-child::after {width: 0;}#sk-container-id-9 div.sk-dashed-wrapped {border: 1px dashed gray;margin: 0 0.4em 0.5em 0.4em;box-sizing: border-box;padding-bottom: 0.4em;background-color: white;}#sk-container-id-9 div.sk-label label {font-family: monospace;font-weight: bold;display: inline-block;line-height: 1.2em;}#sk-container-id-9 div.sk-label-container {text-align: center;}#sk-container-id-9 div.sk-container {/* jupyter's `normalize.less` sets `[hidden] { display: none; }` but bootstrap.min.css set `[hidden] { display: none !important; }` so we also need the `!important` here to be able to override the default hidden behavior on the sphinx rendered scikit-learn.org. See: https://github.com/scikit-learn/scikit-learn/issues/21755 */display: inline-block !important;position: relative;}#sk-container-id-9 div.sk-text-repr-fallback {display: none;}</style><div id=\"sk-container-id-9\" class=\"sk-top-container\"><div class=\"sk-text-repr-fallback\"><pre>SVC(probability=True)</pre><b>In a Jupyter environment, please rerun this cell to show the HTML representation or trust the notebook. <br />On GitHub, the HTML representation is unable to render, please try loading this page with nbviewer.org.</b></div><div class=\"sk-container\" hidden><div class=\"sk-item\"><div class=\"sk-estimator sk-toggleable\"><input class=\"sk-toggleable__control sk-hidden--visually\" id=\"sk-estimator-id-9\" type=\"checkbox\" checked><label for=\"sk-estimator-id-9\" class=\"sk-toggleable__label sk-toggleable__label-arrow\">SVC</label><div class=\"sk-toggleable__content\"><pre>SVC(probability=True)</pre></div></div></div></div></div>"
      ],
      "text/plain": [
       "SVC(probability=True)"
      ]
     },
     "metadata": {},
     "execution_count": 164
    }
   ],
   "metadata": {}
  },
  {
   "cell_type": "code",
   "execution_count": 165,
   "source": [
    "# # Grid searching best hyper params \n",
    "# svm = SVC()\n",
    "\n",
    "# param_grid = {'C' : [0.1, 1, 10, 100],\n",
    "#               'gamma' : [0.01, 0.1, 1, 2, 3, 4, 5, 6, 7, 8, 9, 10],\n",
    "#               'kernel' : ['linear', 'poly'],\n",
    "#               'coef0' : [-1, 0, 1]}\n",
    "\n",
    "# # Using grid search cross validation to find the best value of K \n",
    "# SVM_GSCV = GridSearchCV(svm, param_grid = param_grid, cv=5)\n",
    "\n",
    "# '''Shuffle then fit model to data'''\n",
    "# SVM_GSCV.fit(X_train_pca, y_train)\n",
    "\n",
    "# SVM_GSCV.best_params_"
   ],
   "outputs": [],
   "metadata": {}
  },
  {
   "cell_type": "code",
   "execution_count": 166,
   "source": [
    "pred = svm.predict(X_test_pca)\n",
    "\n",
    "cm = confusion_matrix(y_test, pred)\n",
    "display_confusion_matrix = ConfusionMatrixDisplay(confusion_matrix=cm, display_labels=classes)\n",
    "display_confusion_matrix.plot()\n",
    "\n",
    "\n",
    "print(f'{list(zip(classes, range(5)))}\\n')\n",
    "print(classification_report(y_test, pred))\n",
    "print()"
   ],
   "outputs": [
    {
     "output_type": "stream",
     "name": "stdout",
     "text": [
      "[('WarriorIII', 0), ('Tree', 1), ('Cobra', 2), ('Chair', 3), ('DownDog', 4)]\n",
      "\n",
      "              precision    recall  f1-score   support\n",
      "\n",
      "           0       0.60      0.38      0.46       103\n",
      "           1       0.97      0.73      0.83       127\n",
      "           2       0.79      0.97      0.87       188\n",
      "           3       0.72      0.87      0.79       142\n",
      "           4       0.94      0.92      0.93       142\n",
      "\n",
      "    accuracy                           0.81       702\n",
      "   macro avg       0.80      0.77      0.78       702\n",
      "weighted avg       0.81      0.81      0.80       702\n",
      "\n",
      "\n"
     ]
    },
    {
     "output_type": "display_data",
     "data": {
      "image/png": "[encoded data removed]",
      "text/plain": [
       "<Figure size 640x480 with 2 Axes>"
      ]
     },
     "metadata": {}
    }
   ],
   "metadata": {}
  },
  {
   "cell_type": "code",
   "execution_count": 167,
   "source": [
    "plot_decision_regions(X_test_pca, y_test.to_numpy(), clf=svm, legend=2)\n",
    "\n",
    "legend = plt.legend(loc='upper right')\n",
    "for i, t in enumerate(legend.texts):\n",
    "    t.set_text(classes[i])\n",
    "\n",
    "plt.xlabel(X_train.columns[0], size=14)\n",
    "plt.ylabel(X_train.columns[1], size=14)   \n",
    "plt.title('SVM Decision Region Boundary (After PCA Projection to 2D) [RBF Kernel]', size=16)\n",
    "plt.show()\n"
   ],
   "outputs": [
    {
     "output_type": "error",
     "ename": "KeyboardInterrupt",
     "evalue": "",
     "traceback": [
      "\u001b[0;31m---------------------------------------------------------------------------\u001b[0m",
      "\u001b[0;31mKeyboardInterrupt\u001b[0m                         Traceback (most recent call last)",
      "Cell \u001b[0;32mIn[167], line 1\u001b[0m\n\u001b[0;32m----> 1\u001b[0m \u001b[43mplot_decision_regions\u001b[49m\u001b[43m(\u001b[49m\u001b[43mX_test_pca\u001b[49m\u001b[43m,\u001b[49m\u001b[43m \u001b[49m\u001b[43my_test\u001b[49m\u001b[38;5;241;43m.\u001b[39;49m\u001b[43mto_numpy\u001b[49m\u001b[43m(\u001b[49m\u001b[43m)\u001b[49m\u001b[43m,\u001b[49m\u001b[43m \u001b[49m\u001b[43mclf\u001b[49m\u001b[38;5;241;43m=\u001b[39;49m\u001b[43msvm\u001b[49m\u001b[43m,\u001b[49m\u001b[43m \u001b[49m\u001b[43mlegend\u001b[49m\u001b[38;5;241;43m=\u001b[39;49m\u001b[38;5;241;43m2\u001b[39;49m\u001b[43m)\u001b[49m\n\u001b[1;32m      3\u001b[0m legend \u001b[38;5;241m=\u001b[39m plt\u001b[38;5;241m.\u001b[39mlegend(loc\u001b[38;5;241m=\u001b[39m\u001b[38;5;124m'\u001b[39m\u001b[38;5;124mupper right\u001b[39m\u001b[38;5;124m'\u001b[39m)\n\u001b[1;32m      4\u001b[0m \u001b[38;5;28;01mfor\u001b[39;00m i, t \u001b[38;5;129;01min\u001b[39;00m \u001b[38;5;28menumerate\u001b[39m(legend\u001b[38;5;241m.\u001b[39mtexts):\n",
      "File \u001b[0;32m~/ZenAI-3YP/3yp_venv/lib/python3.10/site-packages/mlxtend/plotting/decision_regions.py:249\u001b[0m, in \u001b[0;36mplot_decision_regions\u001b[0;34m(X, y, clf, feature_index, filler_feature_values, filler_feature_ranges, ax, X_highlight, zoom_factor, legend, hide_spines, markers, colors, scatter_kwargs, contourf_kwargs, contour_kwargs, scatter_highlight_kwargs)\u001b[0m\n\u001b[1;32m    247\u001b[0m         \u001b[38;5;28;01mfor\u001b[39;00m feature_idx \u001b[38;5;129;01min\u001b[39;00m filler_feature_values:\n\u001b[1;32m    248\u001b[0m             X_predict[:, feature_idx] \u001b[38;5;241m=\u001b[39m filler_feature_values[feature_idx]\n\u001b[0;32m--> 249\u001b[0m Z \u001b[38;5;241m=\u001b[39m \u001b[43mclf\u001b[49m\u001b[38;5;241;43m.\u001b[39;49m\u001b[43mpredict\u001b[49m\u001b[43m(\u001b[49m\u001b[43mX_predict\u001b[49m\u001b[38;5;241;43m.\u001b[39;49m\u001b[43mastype\u001b[49m\u001b[43m(\u001b[49m\u001b[43mX\u001b[49m\u001b[38;5;241;43m.\u001b[39;49m\u001b[43mdtype\u001b[49m\u001b[43m)\u001b[49m\u001b[43m)\u001b[49m\n\u001b[1;32m    250\u001b[0m Z \u001b[38;5;241m=\u001b[39m Z\u001b[38;5;241m.\u001b[39mreshape(xx\u001b[38;5;241m.\u001b[39mshape)\n\u001b[1;32m    251\u001b[0m \u001b[38;5;66;03m# Plot decisoin region\u001b[39;00m\n\u001b[1;32m    252\u001b[0m \u001b[38;5;66;03m# Make sure contourf_kwargs has backwards compatible defaults\u001b[39;00m\n",
      "File \u001b[0;32m~/ZenAI-3YP/3yp_venv/lib/python3.10/site-packages/sklearn/svm/_base.py:820\u001b[0m, in \u001b[0;36mBaseSVC.predict\u001b[0;34m(self, X)\u001b[0m\n\u001b[1;32m    818\u001b[0m     y \u001b[38;5;241m=\u001b[39m np\u001b[38;5;241m.\u001b[39margmax(\u001b[38;5;28mself\u001b[39m\u001b[38;5;241m.\u001b[39mdecision_function(X), axis\u001b[38;5;241m=\u001b[39m\u001b[38;5;241m1\u001b[39m)\n\u001b[1;32m    819\u001b[0m \u001b[38;5;28;01melse\u001b[39;00m:\n\u001b[0;32m--> 820\u001b[0m     y \u001b[38;5;241m=\u001b[39m \u001b[38;5;28;43msuper\u001b[39;49m\u001b[43m(\u001b[49m\u001b[43m)\u001b[49m\u001b[38;5;241;43m.\u001b[39;49m\u001b[43mpredict\u001b[49m\u001b[43m(\u001b[49m\u001b[43mX\u001b[49m\u001b[43m)\u001b[49m\n\u001b[1;32m    821\u001b[0m \u001b[38;5;28;01mreturn\u001b[39;00m \u001b[38;5;28mself\u001b[39m\u001b[38;5;241m.\u001b[39mclasses_\u001b[38;5;241m.\u001b[39mtake(np\u001b[38;5;241m.\u001b[39masarray(y, dtype\u001b[38;5;241m=\u001b[39mnp\u001b[38;5;241m.\u001b[39mintp))\n",
      "File \u001b[0;32m~/ZenAI-3YP/3yp_venv/lib/python3.10/site-packages/sklearn/svm/_base.py:435\u001b[0m, in \u001b[0;36mBaseLibSVM.predict\u001b[0;34m(self, X)\u001b[0m\n\u001b[1;32m    433\u001b[0m X \u001b[38;5;241m=\u001b[39m \u001b[38;5;28mself\u001b[39m\u001b[38;5;241m.\u001b[39m_validate_for_predict(X)\n\u001b[1;32m    434\u001b[0m predict \u001b[38;5;241m=\u001b[39m \u001b[38;5;28mself\u001b[39m\u001b[38;5;241m.\u001b[39m_sparse_predict \u001b[38;5;28;01mif\u001b[39;00m \u001b[38;5;28mself\u001b[39m\u001b[38;5;241m.\u001b[39m_sparse \u001b[38;5;28;01melse\u001b[39;00m \u001b[38;5;28mself\u001b[39m\u001b[38;5;241m.\u001b[39m_dense_predict\n\u001b[0;32m--> 435\u001b[0m \u001b[38;5;28;01mreturn\u001b[39;00m \u001b[43mpredict\u001b[49m\u001b[43m(\u001b[49m\u001b[43mX\u001b[49m\u001b[43m)\u001b[49m\n",
      "File \u001b[0;32m~/ZenAI-3YP/3yp_venv/lib/python3.10/site-packages/sklearn/svm/_base.py:454\u001b[0m, in \u001b[0;36mBaseLibSVM._dense_predict\u001b[0;34m(self, X)\u001b[0m\n\u001b[1;32m    446\u001b[0m         \u001b[38;5;28;01mraise\u001b[39;00m \u001b[38;5;167;01mValueError\u001b[39;00m(\n\u001b[1;32m    447\u001b[0m             \u001b[38;5;124m\"\u001b[39m\u001b[38;5;124mX.shape[1] = \u001b[39m\u001b[38;5;132;01m%d\u001b[39;00m\u001b[38;5;124m should be equal to \u001b[39m\u001b[38;5;132;01m%d\u001b[39;00m\u001b[38;5;124m, \u001b[39m\u001b[38;5;124m\"\u001b[39m\n\u001b[1;32m    448\u001b[0m             \u001b[38;5;124m\"\u001b[39m\u001b[38;5;124mthe number of samples at training time\u001b[39m\u001b[38;5;124m\"\u001b[39m\n\u001b[1;32m    449\u001b[0m             \u001b[38;5;241m%\u001b[39m (X\u001b[38;5;241m.\u001b[39mshape[\u001b[38;5;241m1\u001b[39m], \u001b[38;5;28mself\u001b[39m\u001b[38;5;241m.\u001b[39mshape_fit_[\u001b[38;5;241m0\u001b[39m])\n\u001b[1;32m    450\u001b[0m         )\n\u001b[1;32m    452\u001b[0m svm_type \u001b[38;5;241m=\u001b[39m LIBSVM_IMPL\u001b[38;5;241m.\u001b[39mindex(\u001b[38;5;28mself\u001b[39m\u001b[38;5;241m.\u001b[39m_impl)\n\u001b[0;32m--> 454\u001b[0m \u001b[38;5;28;01mreturn\u001b[39;00m \u001b[43mlibsvm\u001b[49m\u001b[38;5;241;43m.\u001b[39;49m\u001b[43mpredict\u001b[49m\u001b[43m(\u001b[49m\n\u001b[1;32m    455\u001b[0m \u001b[43m    \u001b[49m\u001b[43mX\u001b[49m\u001b[43m,\u001b[49m\n\u001b[1;32m    456\u001b[0m \u001b[43m    \u001b[49m\u001b[38;5;28;43mself\u001b[39;49m\u001b[38;5;241;43m.\u001b[39;49m\u001b[43msupport_\u001b[49m\u001b[43m,\u001b[49m\n\u001b[1;32m    457\u001b[0m \u001b[43m    \u001b[49m\u001b[38;5;28;43mself\u001b[39;49m\u001b[38;5;241;43m.\u001b[39;49m\u001b[43msupport_vectors_\u001b[49m\u001b[43m,\u001b[49m\n\u001b[1;32m    458\u001b[0m \u001b[43m    \u001b[49m\u001b[38;5;28;43mself\u001b[39;49m\u001b[38;5;241;43m.\u001b[39;49m\u001b[43m_n_support\u001b[49m\u001b[43m,\u001b[49m\n\u001b[1;32m    459\u001b[0m \u001b[43m    \u001b[49m\u001b[38;5;28;43mself\u001b[39;49m\u001b[38;5;241;43m.\u001b[39;49m\u001b[43m_dual_coef_\u001b[49m\u001b[43m,\u001b[49m\n\u001b[1;32m    460\u001b[0m \u001b[43m    \u001b[49m\u001b[38;5;28;43mself\u001b[39;49m\u001b[38;5;241;43m.\u001b[39;49m\u001b[43m_intercept_\u001b[49m\u001b[43m,\u001b[49m\n\u001b[1;32m    461\u001b[0m \u001b[43m    \u001b[49m\u001b[38;5;28;43mself\u001b[39;49m\u001b[38;5;241;43m.\u001b[39;49m\u001b[43m_probA\u001b[49m\u001b[43m,\u001b[49m\n\u001b[1;32m    462\u001b[0m \u001b[43m    \u001b[49m\u001b[38;5;28;43mself\u001b[39;49m\u001b[38;5;241;43m.\u001b[39;49m\u001b[43m_probB\u001b[49m\u001b[43m,\u001b[49m\n\u001b[1;32m    463\u001b[0m \u001b[43m    \u001b[49m\u001b[43msvm_type\u001b[49m\u001b[38;5;241;43m=\u001b[39;49m\u001b[43msvm_type\u001b[49m\u001b[43m,\u001b[49m\n\u001b[1;32m    464\u001b[0m \u001b[43m    \u001b[49m\u001b[43mkernel\u001b[49m\u001b[38;5;241;43m=\u001b[39;49m\u001b[43mkernel\u001b[49m\u001b[43m,\u001b[49m\n\u001b[1;32m    465\u001b[0m \u001b[43m    \u001b[49m\u001b[43mdegree\u001b[49m\u001b[38;5;241;43m=\u001b[39;49m\u001b[38;5;28;43mself\u001b[39;49m\u001b[38;5;241;43m.\u001b[39;49m\u001b[43mdegree\u001b[49m\u001b[43m,\u001b[49m\n\u001b[1;32m    466\u001b[0m \u001b[43m    \u001b[49m\u001b[43mcoef0\u001b[49m\u001b[38;5;241;43m=\u001b[39;49m\u001b[38;5;28;43mself\u001b[39;49m\u001b[38;5;241;43m.\u001b[39;49m\u001b[43mcoef0\u001b[49m\u001b[43m,\u001b[49m\n\u001b[1;32m    467\u001b[0m \u001b[43m    \u001b[49m\u001b[43mgamma\u001b[49m\u001b[38;5;241;43m=\u001b[39;49m\u001b[38;5;28;43mself\u001b[39;49m\u001b[38;5;241;43m.\u001b[39;49m\u001b[43m_gamma\u001b[49m\u001b[43m,\u001b[49m\n\u001b[1;32m    468\u001b[0m \u001b[43m    \u001b[49m\u001b[43mcache_size\u001b[49m\u001b[38;5;241;43m=\u001b[39;49m\u001b[38;5;28;43mself\u001b[39;49m\u001b[38;5;241;43m.\u001b[39;49m\u001b[43mcache_size\u001b[49m\u001b[43m,\u001b[49m\n\u001b[1;32m    469\u001b[0m \u001b[43m\u001b[49m\u001b[43m)\u001b[49m\n",
      "\u001b[0;31mKeyboardInterrupt\u001b[0m: "
     ]
    },
    {
     "output_type": "display_data",
     "data": {
      "image/png": "[encoded data removed]",
      "text/plain": [
       "<Figure size 640x480 with 1 Axes>"
      ]
     },
     "metadata": {}
    }
   ],
   "metadata": {}
  },
  {
   "cell_type": "markdown",
   "source": [
    "# Plotting dimension into higher dimension subspace using RBF Kernel"
   ],
   "metadata": {}
  },
  {
   "cell_type": "markdown",
   "source": [
    "# "
   ],
   "metadata": {}
  },
  {
   "cell_type": "code",
   "execution_count": null,
   "source": [
    "from sklearn.pipeline import Pipeline\n",
    "from sklearn.decomposition import PCA\n",
    "from sklearn.svm import SVC\n",
    "from sklearn.model_selection import GridSearchCV\n",
    "from sklearn.metrics import classification_report, confusion_matrix, accuracy_score, ConfusionMatrixDisplay\n",
    "from mlxtend.plotting import plot_decision_regions\n",
    "\n",
    "RANDOM_ORDER_DATA = True \n",
    "\n",
    "'''Shuffle data for better resuliting'''\n",
    "if RANDOM_ORDER_DATA:\n",
    "    mutated_train = combined_train.sample(frac=1)\n",
    "else:\n",
    "    mutated_train = combined_train\n",
    "\n",
    "X_train, y_train = split_features_labels(mutated_train)\n",
    "X_test, y_test = split_features_labels(combined_test)\n",
    "\n",
    "svm = SVC(kernel='rbf')\n",
    "svm.fit(X_train, y_train)\n"
   ],
   "outputs": [],
   "metadata": {}
  },
  {
   "cell_type": "code",
   "execution_count": null,
   "source": [
    "pred = svm.predict(X_test)\n",
    "\n",
    "cm = confusion_matrix(y_test, pred)\n",
    "display_confusion_matrix = ConfusionMatrixDisplay(confusion_matrix=cm, display_labels=classes)\n",
    "display_confusion_matrix.plot()\n",
    "\n",
    "\n",
    "print(f'{list(zip(classes, range(5)))}\\n')\n",
    "print(classification_report(y_test, pred))\n",
    "print()"
   ],
   "outputs": [],
   "metadata": {}
  },
  {
   "cell_type": "markdown",
   "source": [
    "# Projecting data into 2D then using RBF Kernel"
   ],
   "metadata": {}
  },
  {
   "cell_type": "code",
   "execution_count": null,
   "source": [
    "pca = PCA(n_components=2)\n",
    "X_2d = pca.fit_transform(X_train)\n",
    "\n",
    "# Train an SVM with a radial basis function (RBF) kernel\n",
    "svm = SVC(kernel='rbf')\n",
    "svm.fit(X_2d, y_train)\n",
    "plot_decision_regions(X_2d, y_train.to_numpy(), clf=svm, legend=2)\n",
    "\n",
    "legend = plt.legend(loc='upper right')\n",
    "for i, t in enumerate(legend.texts):\n",
    "    t.set_text(classes[i])\n",
    "\n",
    "plt.xlabel(X_train.columns[0], size=14)\n",
    "plt.ylabel(X_train.columns[1], size=14)   \n",
    "plt.title('SVM Decision Region Boundary (After PCA Projection to 2D) [RBF Kernel]', size=16)\n",
    "plt.show()\n"
   ],
   "outputs": [],
   "metadata": {}
  },
  {
   "cell_type": "code",
   "execution_count": null,
   "source": [
    "\n",
    "pred = svm.predict(X_test)\n",
    "\n",
    "cm = confusion_matrix(y_test, pred)\n",
    "display_confusion_matrix = ConfusionMatrixDisplay(confusion_matrix=cm, display_labels=classes)\n",
    "display_confusion_matrix.plot()\n",
    "\n",
    "\n",
    "print(f'{list(zip(classes, range(5)))}\\n')\n",
    "print(classification_report(y_test, pred))\n",
    "print()"
   ],
   "outputs": [],
   "metadata": {}
  },
  {
   "cell_type": "markdown",
   "source": [
    "## Grid search with all the dimenions, the previous one is just testing 1 dimensions"
   ],
   "metadata": {}
  },
  {
   "cell_type": "code",
   "execution_count": null,
   "source": [
    "from sklearn.model_selection import RandomizedSearchCV\n",
    "# svm.fit(X_train, y_train)\n",
    "\n",
    "# pred = svm.predict(X_test)\n",
    "\n",
    "# cm = confusion_matrix(y_test, pred)\n",
    "# display_confusion_matrix = ConfusionMatrixDisplay(confusion_matrix=cm, display_labels=classes)\n",
    "# display_confusion_matrix.plot()\n",
    "\n",
    "n_features = X_train.shape[1]\n",
    "gamma_start = 1/X_train.var()[0]\n",
    "\n",
    "gamma_ranges = [1/i * gamma_start for i in range(1, 10+1)]\n",
    "### Doing Grid Search Now ###\n",
    "\n",
    "C_range = [i for i in range(1, 11)]\n",
    "\n",
    "# set the parameter grid for grid search\n",
    "param_grid = {\n",
    "        'C': C_range,\n",
    "        'gamma' : gamma_ranges\n",
    "    }\n",
    "\n",
    "# perform grid search\n",
    "grid = GridSearchCV(svm, cv=5, param_grid=param_grid, verbose=3)\n",
    "# grid = RandomizedSearchCV(svm, cv=5, param_distributions=param_grid, verbose=3)\n",
    "grid.fit(X_train, y_train)\n",
    "\n",
    "# best parameters and score\n",
    "print(\"Best parameters:\", grid.best_params_)\n",
    "print(\"Best cross-validation score:\", grid.best_score_)\n",
    "\n",
    "# evaluate on test data\n",
    "y_pred = grid.predict(X_test)\n",
    "accuracy = accuracy_score(y_test, y_pred)\n",
    "print(\"Test set accuracy:\", accuracy)"
   ],
   "outputs": [],
   "metadata": {}
  },
  {
   "cell_type": "code",
   "execution_count": null,
   "source": [
    "class bcolors:\n",
    "    HEADER = '\\033[95m'\n",
    "    OKBLUE = '\\033[94m'\n",
    "    OKCYAN = '\\033[96m'\n",
    "    OKGREEN = '\\033[92m'\n",
    "    WARNING = '\\033[93m'\n",
    "    FAIL = '\\033[91m'\n",
    "    ENDC = '\\033[0m'\n",
    "    BOLD = '\\033[1m'\n",
    "    UNDERLINE = '\\033[4m'\n",
    "\n",
    "\n",
    "class HyperParameters:\n",
    "\n",
    "    def __init__(self):\n",
    "        self.accuracy = float('-inf')\n",
    "        self.n_comp = -1 \n",
    "        \n",
    "        self.model_gamma = -1 \n",
    "        \n",
    "        self.kpca_gamma = -1 \n",
    "\n",
    "        self.model_C = -1\n",
    "\n",
    "    def __str__(self):\n",
    "        return f'Best Accuracy: {self.accuracy} | Top Components: {self.n_comp} | Best Model Gamma: {self.model_gamma} | Best Model C: {self.model_C} | Best KPCA Gamma: {self.kpca_gamma}\\n'"
   ],
   "outputs": [],
   "metadata": {}
  },
  {
   "cell_type": "markdown",
   "source": [
    "# Well this seems to be producing the best results, it's still stagnating at around 90ish% though, refuses to get more accurate. Maybe I just need more data\n",
    "\n",
    "## This was a complete waste of time, the gamme ranges completly fucked me"
   ],
   "metadata": {}
  },
  {
   "cell_type": "code",
   "execution_count": 195,
   "source": [
    "from sklearn.decomposition import KernelPCA\n",
    "\n",
    "RANDOM_ORDER_DATA = True \n",
    "\n",
    "'''Shuffle data for better resuliting'''\n",
    "if RANDOM_ORDER_DATA:\n",
    "    mutated_train = combined_train.sample(frac=1)\n",
    "else:\n",
    "    mutated_train = combined_train\n",
    "\n",
    "X_train, y_train = split_features_labels(mutated_train)\n",
    "X_test, y_test = split_features_labels(combined_test)\n",
    "\n",
    "'''This is stupid and made 0 progress\n",
    "\n",
    "n_features = X_train.shape[1]\n",
    "epsilon = 0.005\n",
    "gamma_min = 1 / (n_features*(max(X_train.var())))\n",
    "gamma_max = 1 / (n_features*(min(X_train.var())))\n",
    "gamma_ranges = list(np.arange(gamma_min, gamma_max, (max(X_train.var()) - min(X_train.var()))/n_features))\n",
    "''' \n",
    "\n",
    "n_ranges = [i for i in range(n_features, 14)]\n",
    "C_range = [i for i in range(1, 11)]\n",
    "\n",
    "# set the parameter grid for grid search\n",
    "param_grid = {\n",
    "        'C': C_range,\n",
    "    }\n",
    "BestHP = HyperParameters() \n",
    "\n",
    "for n_comp in n_ranges:\n",
    "    kpca = KernelPCA(kernel='rbf', n_jobs=-1, n_components=n_comp, gamma=None)\n",
    "    X_train_kpca = kpca.fit_transform(X_train)\n",
    "    X_test_kpca = kpca.transform(X_test)\n",
    "\n",
    "    # svm = SVC(kernel='rbf', gamma='scale')\n",
    "\n",
    "    # ''' Using Randomised Search CV instead of GridSearch since it's much faster and the scores are quite near to each other & i'm searching through alot of HP'''\n",
    "    # grid = RandomizedSearchCV(svm, cv=5, param_distributions=param_grid, n_jobs=-1)\n",
    "    # grid.fit(X_train_kpca, y_train)\n",
    "\n",
    "    # print(grid.best_score_)\n",
    "\n",
    "    # best_model_C = grid.best_params_['C']\n",
    "    \n",
    "    best_svm = SVC(kernel='sigmoid', C=10, gamma='scale')\n",
    "    best_svm.fit(X_train_kpca, y_train)\n",
    "\n",
    "    # evaluate on test data AFTER transforming\n",
    "    y_pred = best_svm.predict(X_test_kpca)\n",
    "\n",
    "\n",
    "    print(X_test_kpca)\n",
    "    print(accuracy) \n",
    "\n",
    "    if accuracy > BestHP.accuracy:\n",
    "        print(f'{bcolors.OKGREEN}!! New Max Accuracy !!{bcolors.ENDC}: {accuracy} | Old: {BestHP.accuracy}') \n",
    "        # print(classification_report(y_test, y_pred))\n",
    "        BestHP.accuracy = accuracy\n",
    "        BestHP.n_comp = n_comp\n",
    "        \n",
    "        # BestHP.model_C = best_model_C\n",
    "\n",
    "        print(BestHP)\n",
    "            \n",
    "print('='*len(str(BestHP)) + '\\n')\n",
    "print(BestHP)\n",
    "print('='*len(str(BestHP)))\n",
    "\n",
    "''' Fitting Final Model'''\n",
    "\n",
    "final_kpca = KernelPCA(kernel='rbf', n_jobs=-1, n_components=BestHP.n_comp, gamma=None)\n",
    "X_train_kpca = final_kpca.fit_transform(X_train)\n",
    "X_test_kpca = final_kpca.transform(X_test)\n",
    "\n",
    "final_svm = SVC(kernel='rbf', gamma='scale', C=10)\n",
    "final_svm.fit(X_train_kpca, y_train)\n",
    "\n",
    "y_pred = final_svm.predict(X_test_kpca)\n",
    "\n",
    "print('\\n\\n\\n')\n",
    "print(f'{list(zip(classes, range(5)))}\\n')\n",
    "# print(classification_report(y_test, y_pred))\n",
    "\n",
    "# cm = confusion_matrix(y_test, y_pred)\n",
    "# display_confusion_matrix = ConfusionMtrixDisplay(confusion_matrix=cm, display_labels=classes)\n",
    "# display_confusion_matrix.plot()"
   ],
   "outputs": [
    {
     "output_type": "stream",
     "name": "stdout",
     "text": [
      "[[-0.00047843 -0.00036069 -0.00032231 ... -0.00029483 -0.00031534\n",
      "  -0.00036106]\n",
      " [-0.00047843 -0.00036069 -0.00032231 ... -0.00029483 -0.00031534\n",
      "  -0.00036106]\n",
      " [-0.00047843 -0.00036069 -0.00032231 ... -0.00029483 -0.00031534\n",
      "  -0.00036106]\n",
      " ...\n",
      " [-0.00047843 -0.00036069 -0.00032231 ... -0.00029483 -0.00031534\n",
      "  -0.00036106]\n",
      " [-0.00047843 -0.00036069 -0.00032231 ... -0.00029483 -0.00031534\n",
      "  -0.00036106]\n",
      " [-0.00047843 -0.00036069 -0.00032231 ... -0.00029483 -0.00031534\n",
      "  -0.00036106]]\n",
      "0.2022792022792023\n",
      "\u001b[92m!! New Max Accuracy !!\u001b[0m: 0.2022792022792023 | Old: -inf\n",
      "Best Accuracy: 0.2022792022792023 | Top Components: 8 | Best Model Gamma: -1 | Best Model C: -1 | Best KPCA Gamma: -1\n",
      "\n",
      "[[-0.00047843 -0.00036069 -0.00032231 ... -0.00031534 -0.00036106\n",
      "  -0.00022925]\n",
      " [-0.00047843 -0.00036069 -0.00032231 ... -0.00031534 -0.00036106\n",
      "  -0.00022925]\n",
      " [-0.00047843 -0.00036069 -0.00032231 ... -0.00031534 -0.00036106\n",
      "  -0.00022925]\n",
      " ...\n",
      " [-0.00047843 -0.00036069 -0.00032231 ... -0.00031534 -0.00036106\n",
      "  -0.00022925]\n",
      " [-0.00047843 -0.00036069 -0.00032231 ... -0.00031534 -0.00036106\n",
      "  -0.00022925]\n",
      " [-0.00047843 -0.00036069 -0.00032231 ... -0.00031534 -0.00036106\n",
      "  -0.00022925]]\n",
      "0.2022792022792023\n",
      "[[-0.00047843 -0.00036069 -0.00032231 ... -0.00036106 -0.00022925\n",
      "  -0.00015823]\n",
      " [-0.00047843 -0.00036069 -0.00032231 ... -0.00036106 -0.00022925\n",
      "  -0.00015823]\n",
      " [-0.00047843 -0.00036069 -0.00032231 ... -0.00036106 -0.00022925\n",
      "  -0.00015823]\n",
      " ...\n",
      " [-0.00047843 -0.00036069 -0.00032231 ... -0.00036106 -0.00022925\n",
      "  -0.00015823]\n",
      " [-0.00047843 -0.00036069 -0.00032231 ... -0.00036106 -0.00022925\n",
      "  -0.00015823]\n",
      " [-0.00047843 -0.00036069 -0.00032231 ... -0.00036106 -0.00022925\n",
      "  -0.00015823]]\n",
      "0.2022792022792023\n",
      "[[-0.00047843 -0.00036069 -0.00032231 ... -0.00022925 -0.00015823\n",
      "  -0.00016466]\n",
      " [-0.00047843 -0.00036069 -0.00032231 ... -0.00022925 -0.00015823\n",
      "  -0.00016466]\n",
      " [-0.00047843 -0.00036069 -0.00032231 ... -0.00022925 -0.00015823\n",
      "  -0.00016466]\n",
      " ...\n",
      " [-0.00047843 -0.00036069 -0.00032231 ... -0.00022925 -0.00015823\n",
      "  -0.00016466]\n",
      " [-0.00047843 -0.00036069 -0.00032231 ... -0.00022925 -0.00015823\n",
      "  -0.00016466]\n",
      " [-0.00047843 -0.00036069 -0.00032231 ... -0.00022925 -0.00015823\n",
      "  -0.00016466]]\n",
      "0.2022792022792023\n",
      "[[-0.00047843 -0.00036069 -0.00032231 ... -0.00015823 -0.00016466\n",
      "  -0.00016467]\n",
      " [-0.00047843 -0.00036069 -0.00032231 ... -0.00015823 -0.00016466\n",
      "  -0.00016467]\n",
      " [-0.00047843 -0.00036069 -0.00032231 ... -0.00015823 -0.00016466\n",
      "  -0.00016467]\n",
      " ...\n",
      " [-0.00047843 -0.00036069 -0.00032231 ... -0.00015823 -0.00016466\n",
      "  -0.00016467]\n",
      " [-0.00047843 -0.00036069 -0.00032231 ... -0.00015823 -0.00016466\n",
      "  -0.00016467]\n",
      " [-0.00047843 -0.00036069 -0.00032231 ... -0.00015823 -0.00016466\n",
      "  -0.00016467]]\n",
      "0.2022792022792023\n",
      "[[-0.00047843 -0.00036069 -0.00032231 ... -0.00016466 -0.00016467\n",
      "  -0.00016003]\n",
      " [-0.00047843 -0.00036069 -0.00032231 ... -0.00016466 -0.00016467\n",
      "  -0.00016003]\n",
      " [-0.00047843 -0.00036069 -0.00032231 ... -0.00016466 -0.00016467\n",
      "  -0.00016003]\n",
      " ...\n",
      " [-0.00047843 -0.00036069 -0.00032231 ... -0.00016466 -0.00016467\n",
      "  -0.00016003]\n",
      " [-0.00047843 -0.00036069 -0.00032231 ... -0.00016466 -0.00016467\n",
      "  -0.00016003]\n",
      " [-0.00047843 -0.00036069 -0.00032231 ... -0.00016466 -0.00016467\n",
      "  -0.00016003]]\n",
      "0.2022792022792023\n",
      "======================================================================================================================\n",
      "\n",
      "Best Accuracy: 0.2022792022792023 | Top Components: 8 | Best Model Gamma: -1 | Best Model C: -1 | Best KPCA Gamma: -1\n",
      "\n",
      "======================================================================================================================\n",
      "\n",
      "\n",
      "\n",
      "\n",
      "[('WarriorIII', 0), ('Tree', 1), ('Cobra', 2), ('Chair', 3), ('DownDog', 4)]\n",
      "\n"
     ]
    }
   ],
   "metadata": {}
  },
  {
   "cell_type": "code",
   "execution_count": null,
   "source": [
    "match = [f'Real: {x[0]} Pred: {x[1]}' for x in zip(y_test, y_pred)]\n",
    "y_bad = [1 for _ in range(len(y_test))]\n",
    "print(classification_report(y_test, pred))\n",
    "print(classification_report(y_bad, pred))"
   ],
   "outputs": [],
   "metadata": {}
  },
  {
   "cell_type": "markdown",
   "source": [
    "# This is just some testing / debugging suite"
   ],
   "metadata": {}
  },
  {
   "cell_type": "code",
   "execution_count": 187,
   "source": [
    "RANDOM_ORDER_DATA = False \n",
    "\n",
    "'''Shuffle data for better resuliting'''\n",
    "if RANDOM_ORDER_DATA:\n",
    "    mutated_train = combined_train.sample(frac=1)\n",
    "    mutated_test = combined_test.sample(frac=1)\n",
    "else:\n",
    "    mutated_train = combined_train\n",
    "    mutated_test = combined_test\n",
    "\n",
    "X_train, y_train = split_features_labels(mutated_train)\n",
    "X_test, y_test = split_features_labels(combined_test)\n",
    "\n",
    "''' Using Randomised Search CV instead of GridSearch since it's much faster and the scores are quite near to each other & i'm searching through alot of HP'''\n",
    "\n",
    "def RandomSearchSVM_ypred():\n",
    "    n_features = X_train.shape[1]\n",
    "    gamma_start = 1/X_train.var()[0]\n",
    "\n",
    "    gamma_ranges = [1/i * gamma_start for i in range(1, 10+1)]\n",
    "    C_range = [i for i in range(1, 11)]\n",
    "\n",
    "    # set the parameter grid for grid search\n",
    "    param_grid = {\n",
    "            'C': C_range,\n",
    "            'gamma' : gamma_ranges\n",
    "        }\n",
    "\n",
    "    svm = SVC(kernel='rbf')\n",
    "\n",
    "    grid = RandomizedSearchCV(svm, cv=5, param_distributions=param_grid, n_jobs=-1)\n",
    "    grid.fit(X_train, y_train)\n",
    "\n",
    "    best_svm = SVC(kernel='rbf', C=grid.best_params_['C'], gamma=grid.best_params_['gamma']) # From Search\n",
    "    best_svm.fit(X_train, y_train)\n",
    "\n",
    "    y_pred = best_svm.predict(X_test)\n",
    "    return y_pred\n",
    "\n",
    "\n",
    "''' From testing these were pretty good values'''\n",
    "def HardCodedSVM_ypred():\n",
    "    final_kpca = KernelPCA(kernel='rbf', n_jobs=-1, n_components=9, gamma=4.073013044517308e-05)\n",
    "    X_train_kpca = final_kpca.fit_transform(X_train)\n",
    "    X_test_kpca = final_kpca.transform(X_test)\n",
    "\n",
    "    final_svm = SVC(kernel='rbf', gamma=2.036506522258654e-05, C=3)\n",
    "    final_svm.fit(X_train_kpca, y_train)\n",
    "\n",
    "    y_pred_good = final_svm.predict(X_test_kpca)\n",
    "\n",
    "    return y_pred_good\n",
    "\n",
    "def BadSVM():\n",
    "    best_svm = SVC(kernel='rbf', C=1000, gamma=1000) # Hard Code Bad Values\n",
    "    return best_svm\n",
    "\n",
    "\n",
    "# y_pred_hard = HardCodedSVM_ypred()\n",
    "y_pred_search = RandomSearchSVM_ypred()\n",
    "\n",
    "print('\\n\\n\\n')\n",
    "print(f'{list(zip(classes, range(5)))}\\n')\n",
    "print(classification_report(y_test, y_pred_search))"
   ],
   "outputs": [
    {
     "output_type": "stream",
     "name": "stdout",
     "text": [
      "\n",
      "\n",
      "\n",
      "\n",
      "[('WarriorIII', 0), ('Tree', 1), ('Cobra', 2), ('Chair', 3), ('DownDog', 4)]\n",
      "\n",
      "              precision    recall  f1-score   support\n",
      "\n",
      "           0       0.83      0.62      0.71       103\n",
      "           1       0.93      0.97      0.95       127\n",
      "           2       0.90      0.95      0.92       188\n",
      "           3       0.87      0.90      0.89       142\n",
      "           4       0.95      0.98      0.97       142\n",
      "\n",
      "    accuracy                           0.90       702\n",
      "   macro avg       0.90      0.88      0.89       702\n",
      "weighted avg       0.90      0.90      0.90       702\n",
      "\n"
     ]
    }
   ],
   "metadata": {}
  },
  {
   "cell_type": "code",
   "execution_count": null,
   "source": [],
   "outputs": [],
   "metadata": {}
  }
 ],
 "metadata": {
  "orig_nbformat": 4,
  "language_info": {
   "name": "python",
   "version": "3.10.9",
   "mimetype": "text/x-python",
   "codemirror_mode": {
    "name": "ipython",
    "version": 3
   },
   "pygments_lexer": "ipython3",
   "nbconvert_exporter": "python",
   "file_extension": ".py"
  },
  "kernelspec": {
   "name": "python3",
   "display_name": "Python 3.10.9 64-bit ('3yp_venv': venv)"
  },
  "interpreter": {
   "hash": "863f67b31f24466e0883f69032a69c124c9bc374896dddab98911f54145fcab2"
  }
 },
 "nbformat": 4,
 "nbformat_minor": 2
}