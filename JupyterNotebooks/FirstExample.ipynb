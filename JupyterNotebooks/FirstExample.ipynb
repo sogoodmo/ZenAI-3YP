{
 "cells": [
  {
   "cell_type": "code",
   "execution_count": 146,
   "source": [
    "import pandas as pd \n",
    "import numpy as np\n",
    "from joint_pose_vocab import vocab_dict\n",
    "import matplotlib.pyplot as plt\n",
    "import os\n",
    "import cv2\n",
    "import mediapipe as mp\n",
    "import time \n",
    "import traceback\n",
    "from sklearn.ensemble import RandomForestClassifier\n",
    "from sklearn.decomposition import PCA\n",
    "from sklearn.model_selection import GridSearchCV\n",
    "from sklearn.model_selection import RandomizedSearchCV\n",
    "from sklearn.neighbors import KNeighborsClassifier as KNN \n",
    "from sklearn.neural_network import MLPClassifier\n",
    "from sklearn.metrics import classification_report, confusion_matrix, accuracy_score, ConfusionMatrixDisplay\n",
    "from sklearn.svm import SVC\n",
    "import pickle\n",
    "\n",
    "\n",
    "TRAIN_SVM = True\n",
    "TRAIN_FOREST = True\n",
    "TRAIN_NN = True\n",
    "TRAIN_KNN = True\n",
    "\n",
    "os.chdir('../Dataset')\n",
    "path = os.getcwd()\n",
    "\n",
    "columns = ['class','l_shoulder','r_shoulder','l_arm','r_arm','l_hip','r_hip','l_knee','r_knee']\n",
    "\n",
    "Y82_test = pd.read_csv(os.path.join(path,'Y82_testing_new.csv'), header=None)\n",
    "Y82_train = pd.read_csv(os.path.join(path,'Y82_training_new.csv'), header=None)\n",
    "\n",
    "L_test = pd.read_csv(os.path.join(path,'L_testing_new.csv'), header=None)\n",
    "L_train = pd.read_csv(os.path.join(path,'L_training_new.csv'), header=None)\n",
    "\n",
    "W2_test = pd.read_csv(os.path.join(path,'W2_testing_new.csv'), header=None)\n",
    "W2_train = pd.read_csv(os.path.join(path,'W2_training_new.csv'), header=None)\n",
    "\n",
    "Neutral_test = pd.read_csv(os.path.join(path,'Neutral_testing.csv'), header=None)\n",
    "Neutral_train = pd.read_csv(os.path.join(path,'Neutral_training.csv'), header=None) \n",
    "\n",
    "combined_test = pd.concat([L_test, Y82_test, W2_test, Neutral_test])\n",
    "combined_train = pd.concat([L_train, Y82_train, W2_train, Neutral_train])\n",
    "\n",
    "combined_test.columns = columns \n",
    "combined_train.columns = columns \n",
    "\n",
    "combined_test['class'], classes = pd.factorize(combined_test['class'])\n",
    "combined_train['class'], _ = pd.factorize(combined_train['class'])\n",
    "\n",
    "''' Filtering out all the extra examples for the cobra class to make a more balanced data set '''\n",
    "extra_test_cobra_rows = combined_test[combined_test['class'] == 1].sample(130)\n",
    "extra_train_cobra_rows = combined_train[combined_train['class'] == 1].sample(275)\n",
    "\n",
    "combined_test = combined_test.drop(extra_test_cobra_rows.index)\n",
    "combined_train = combined_train.drop(extra_train_cobra_rows.index)\n",
    "\n",
    "classes = list(classes)\n",
    "\n",
    "''' These will be the list of classes when giving feedback due to the fact Tree and Warrior have directional variations'''\n",
    "feedback_classes = classes + ['WarriorII_L', 'WarriorII_R', 'Tree_L_D', 'Tree_R_D', 'Tree_L_U', 'Tree_R_U']\n",
    "feedback_classes.remove('Neutral')\n",
    "feedback_classes.remove('Tree')\n",
    "feedback_classes.remove('WarriorII')\n",
    "\n",
    "joint_idx_map = {\n",
    "        0 : 'Left Shoulder',\n",
    "        1 : 'Right Shoulder',\n",
    "        2 : 'Left Arm',\n",
    "        3 : 'Right Arm',\n",
    "        4 : 'Left Hip',\n",
    "        5 : 'Right Hip',\n",
    "        6 : 'Left Knee',\n",
    "        7 : 'Right Knee'\n",
    "    }"
   ],
   "outputs": [],
   "metadata": {}
  },
  {
   "cell_type": "code",
   "execution_count": null,
   "source": [
    "vocab_dict['Chair'][0]"
   ],
   "outputs": [],
   "metadata": {}
  },
  {
   "cell_type": "code",
   "execution_count": null,
   "source": [
    "all_combined_df = pd.concat([Y82_train, Y82_test, L_test, L_train, W2_train, W2_test])\n",
    "all_combined = pd.concat([combined_test, combined_train])\n",
    "\n",
    "def split_features_labels(df):\n",
    "    return df.drop('class', axis=1), df['class']\n",
    "    \n",
    "for i, c in enumerate(classes):\n",
    "    print(f\"Train: {c} - {len(combined_train[combined_train['class'] == i])}\")\n",
    "    print(f\"Test: {c} - {len(combined_test[combined_test['class'] == i])}\")\n",
    "    print()"
   ],
   "outputs": [],
   "metadata": {}
  },
  {
   "cell_type": "markdown",
   "source": [
    "# Random Forest Classifer\n",
    "# 88-89% Maybe 90?\n",
    "## IDK anymore.. even this is at like 95% lol"
   ],
   "metadata": {}
  },
  {
   "cell_type": "code",
   "execution_count": 147,
   "source": [
    "# from sklearn.model_selection import train_test_split // Don't need anymore\n",
    "\n",
    "if TRAIN_FOREST:\n",
    "  RANDOM_ORDER_DATA = True \n",
    "  MAX_ESTIMATORS = 100\n",
    "  MAX_DEPTH = 8 \n",
    "\n",
    "  if RANDOM_ORDER_DATA:\n",
    "    mutated_train = combined_train.sample(frac=1)\n",
    "  else:\n",
    "    mutated_train = combined_train\n",
    "\n",
    "  X_train, y_train = split_features_labels(mutated_train)\n",
    "  X_test, y_test = split_features_labels(combined_test)\n",
    "\n",
    "\n",
    "  forest_classifier = RandomForestClassifier()\n",
    "  param_grid = {'n_estimators' : np.arange(1, MAX_ESTIMATORS),\n",
    "                'max_depth' : np.arange(1, MAX_DEPTH),\n",
    "              }\n",
    "\n",
    "  forest_classifier_gscv = RandomizedSearchCV(forest_classifier, param_distributions=param_grid, cv=5, n_jobs=-1)\n",
    "\n",
    "  #fit model to data\n",
    "  forest_classifier_gscv.fit(X_train, y_train)\n",
    "\n",
    "  MAX_DEPTH = forest_classifier_gscv.best_params_['max_depth']\n",
    "  N_ESTIMATORS = forest_classifier_gscv.best_params_['n_estimators']\n",
    "\n",
    "  best_forest = RandomForestClassifier(max_depth=MAX_DEPTH, n_estimators=N_ESTIMATORS)\n",
    "  best_forest.fit(X_train, y_train)\n",
    "\n",
    "  pred = best_forest.predict(X_test)\n",
    "  cm = confusion_matrix(y_test, pred)\n",
    "  display_confusion_matrix = ConfusionMatrixDisplay(confusion_matrix=cm, display_labels=classes)\n",
    "  display_confusion_matrix.plot()\n",
    "  print(classification_report(y_test, pred))\n",
    "\n",
    "  # Dumping pre-trained model \n",
    "  # with open('/Users/mohamed/ZenAI-3YP/AppSite/backend/models/random_forest_92.pkl', 'wb') as f:\n",
    "  #   pickle.dump(best_forest, f)"
   ],
   "outputs": [
    {
     "output_type": "stream",
     "name": "stdout",
     "text": [
      "              precision    recall  f1-score   support\n",
      "\n",
      "           0       0.94      0.97      0.96       106\n",
      "           1       0.92      0.89      0.91       122\n",
      "           2       0.94      0.89      0.92       141\n",
      "           3       0.98      0.97      0.98       104\n",
      "           4       0.94      0.98      0.96       133\n",
      "           5       0.71      0.73      0.72        49\n",
      "\n",
      "    accuracy                           0.93       655\n",
      "   macro avg       0.91      0.91      0.91       655\n",
      "weighted avg       0.93      0.93      0.93       655\n",
      "\n"
     ]
    },
    {
     "output_type": "display_data",
     "data": {
      "image/png": "[encoded data removed]",
      "text/plain": [
       "<Figure size 640x480 with 2 Axes>"
      ]
     },
     "metadata": {}
    }
   ],
   "metadata": {}
  },
  {
   "cell_type": "markdown",
   "source": [
    "# KNN Classifer \n",
    "# Eh Around 88%\n"
   ],
   "metadata": {}
  },
  {
   "cell_type": "code",
   "execution_count": 148,
   "source": [
    "\n",
    "if TRAIN_KNN:\n",
    "    ''' Don't need to do this anymore, cause the dataset is already split (Didn't realise this) '''\n",
    "    # from sklearn.model_selection import train_test_split\n",
    "    # 80/20 Split of data, Doesn't randomize, Randomsplit ensures the proportion of classes is the same. \n",
    "    # X_train, X_test, y_train, y_test = train_test_split(X, y, test_size=0.2, random_state=42)\n",
    "    RANDOM_ORDER_DATA = True \n",
    "\n",
    "    '''Shuffle data for better resuliting'''\n",
    "    if RANDOM_ORDER_DATA:\n",
    "        mutated_train = combined_train.sample(frac=1)\n",
    "    else:\n",
    "        mutated_train = combined_train\n",
    "\n",
    "    X_train, y_train = split_features_labels(mutated_train)\n",
    "    X_test, y_test = split_features_labels(combined_test)\n",
    "\n",
    "    max_neighbours = int(np.sqrt(len(X_train)))\n",
    "    knn_algorithms = ['kd_tree', 'brute', 'ball_tree']\n",
    "\n",
    "\n",
    "    knn = KNN()\n",
    "\n",
    "    param_grid = {'n_neighbors' : np.arange(1, max_neighbours),\n",
    "                'algorithm' : knn_algorithms}\n",
    "\n",
    "    # Using grid search cross validation to find the best value of K \n",
    "    knn_gscv = GridSearchCV(knn, param_grid, cv=5, n_jobs=-1)\n",
    "\n",
    "    knn_gscv.fit(X_train, y_train)\n",
    "\n",
    "    ALGORITHM = knn_gscv.best_params_['algorithm']\n",
    "    N_NEIGHBORS = knn_gscv.best_params_['n_neighbors']\n",
    "\n",
    "    best_KNN = KNN(algorithm=ALGORITHM, n_neighbors=N_NEIGHBORS)\n",
    "    best_KNN.fit(X_train, y_train)\n",
    "\n",
    "    print(f\"Fitted KNN Classifer with {ALGORITHM=} and {N_NEIGHBORS=}\")\n",
    "\n",
    "\n",
    "    pred = best_KNN.predict(X_test)\n",
    "    cm = confusion_matrix(y_test, pred)\n",
    "    display_confusion_matrix = ConfusionMatrixDisplay(confusion_matrix=cm, display_labels=classes)\n",
    "    display_confusion_matrix.plot()\n",
    "    print(classification_report(y_test, pred))\n"
   ],
   "outputs": [
    {
     "output_type": "stream",
     "name": "stdout",
     "text": [
      "Fitted KNN Classifer with ALGORITHM='kd_tree' and N_NEIGHBORS=3\n",
      "              precision    recall  f1-score   support\n",
      "\n",
      "           0       0.94      0.97      0.95       106\n",
      "           1       0.88      0.96      0.92       122\n",
      "           2       0.93      0.92      0.93       141\n",
      "           3       0.99      0.98      0.99       104\n",
      "           4       0.97      0.96      0.97       133\n",
      "           5       0.84      0.63      0.72        49\n",
      "\n",
      "    accuracy                           0.93       655\n",
      "   macro avg       0.92      0.90      0.91       655\n",
      "weighted avg       0.93      0.93      0.93       655\n",
      "\n"
     ]
    },
    {
     "output_type": "display_data",
     "data": {
      "image/png": "[encoded data removed]",
      "text/plain": [
       "<Figure size 640x480 with 2 Axes>"
      ]
     },
     "metadata": {}
    }
   ],
   "metadata": {}
  },
  {
   "cell_type": "code",
   "execution_count": 150,
   "source": [],
   "outputs": [],
   "metadata": {}
  },
  {
   "cell_type": "markdown",
   "source": [
    "# NN Classifier\n",
    "## About 87-89% Acc - okay\n",
    "## WOW WITH JUST A BIT OF DATACLEANING, GETTING SOME MORE EXAMPLES AND FIXING A BUG THE ACCURACY SHOT UP - 94% "
   ],
   "metadata": {}
  },
  {
   "cell_type": "code",
   "execution_count": 154,
   "source": [
    "if TRAIN_NN:\n",
    "    GRID_SEARCH_PARAMS = True\n",
    "\n",
    "    '''Shuffle data for better resuliting'''\n",
    "    RANDOM_ORDER_DATA = True \n",
    "    if RANDOM_ORDER_DATA:\n",
    "        mutated_train = combined_train.sample(frac=1)\n",
    "    else:\n",
    "        mutated_train = combined_train\n",
    "\n",
    "    X_train, y_train = split_features_labels(mutated_train)\n",
    "    X_test, y_test = split_features_labels(combined_test)\n",
    "\n",
    "    # Define the parameter distributions to sample from\n",
    "    param_dist = {\n",
    "        'hidden_layer_sizes' : [(i, j, k) for i in range(1, 15) for j in range(1, 15) for k in range(1, 15)],\n",
    "        'solver': ['adam', 'lbfgs'],\n",
    "        'activation': ['relu', 'logistic'],\n",
    "        'alpha' : [1, 0.1, 0.01, 0.001, 0.0001, 0.00001]\n",
    "    }\n",
    "\n",
    "    # Initialize MLPClassifier with default values\n",
    "    mlp = MLPClassifier(max_iter=1000)\n",
    "\n",
    "    if GRID_SEARCH_PARAMS:\n",
    "        random_search = RandomizedSearchCV(mlp, param_distributions=param_dist, n_iter=100, cv=5, n_jobs=-1, verbose=3)\n",
    "\n",
    "        # Train the classifier on your data\n",
    "        random_search.fit(X_train, y_train)\n",
    "\n",
    "        # Get the best hyperparameters from the search\n",
    "        best_params = random_search.best_params_\n",
    "        print(\"Best solver: \", best_params['solver'])\n",
    "        print(\"Best activation: \", best_params['activation'])\n",
    "        print(\"Layers: \", best_params['hidden_layer_sizes'] )\n",
    "        print(\"Alpha: \", best_params['alpha'])\n",
    "\n",
    "        # Use the best hyperparameters to initialize the MLPClassifier\n",
    "        best_mlp = MLPClassifier(solver=best_params['solver'], activation=best_params['activation'], alpha=best_params['alpha'], hidden_layer_sizes=best_params['hidden_layer_sizes'], max_iter=1000)\n",
    "\n",
    "        # Train the MLPClassifier on the training data\n",
    "        best_mlp.fit(X_train, y_train)\n",
    "    else:\n",
    "        ''' If you want to skip searching for params. Train NN with values:\n",
    "        solver: adam\n",
    "        activation: relu\n",
    "        layers: 11, 14\n",
    "        alpha: 0.0001\n",
    "        '''\n",
    "        best_mlp = MLPClassifier(solver='adam', activation='relu', alpha=0.0001, hidden_layer_sizes=(11, 14), max_iter=1000)\n",
    "        best_mlp.fit(X_train, y_train)\n",
    "        \n",
    "    pred = best_mlp.predict(X_test)\n",
    "    cm = confusion_matrix(y_test, pred)\n",
    "    display_confusion_matrix = ConfusionMatrixDisplay(confusion_matrix=cm, display_labels=classes)\n",
    "    display_confusion_matrix.plot()\n",
    "    print(classification_report(y_test, pred))"
   ],
   "outputs": [
    {
     "output_type": "stream",
     "name": "stdout",
     "text": [
      "Fitting 5 folds for each of 100 candidates, totalling 500 fits\n"
     ]
    },
    {
     "output_type": "stream",
     "name": "stderr",
     "text": [
      "/Users/mohamed/ZenAI-3YP/3yp_venv/lib/python3.10/site-packages/sklearn/neural_network/_multilayer_perceptron.py:536: ConvergenceWarning: lbfgs failed to converge (status=1):\n",
      "STOP: TOTAL NO. of ITERATIONS REACHED LIMIT.\n",
      "\n",
      "Increase the number of iterations (max_iter) or scale the data as shown in:\n",
      "    https://scikit-learn.org/stable/modules/preprocessing.html\n",
      "  self.n_iter_ = _check_optimize_result(\"lbfgs\", opt_res, self.max_iter)\n",
      "/Users/mohamed/ZenAI-3YP/3yp_venv/lib/python3.10/site-packages/sklearn/neural_network/_multilayer_perceptron.py:536: ConvergenceWarning: lbfgs failed to converge (status=1):\n",
      "STOP: TOTAL NO. of ITERATIONS REACHED LIMIT.\n",
      "\n",
      "Increase the number of iterations (max_iter) or scale the data as shown in:\n",
      "    https://scikit-learn.org/stable/modules/preprocessing.html\n",
      "  self.n_iter_ = _check_optimize_result(\"lbfgs\", opt_res, self.max_iter)\n",
      "/Users/mohamed/ZenAI-3YP/3yp_venv/lib/python3.10/site-packages/sklearn/neural_network/_multilayer_perceptron.py:536: ConvergenceWarning: lbfgs failed to converge (status=1):\n",
      "STOP: TOTAL NO. of ITERATIONS REACHED LIMIT.\n",
      "\n",
      "Increase the number of iterations (max_iter) or scale the data as shown in:\n",
      "    https://scikit-learn.org/stable/modules/preprocessing.html\n",
      "  self.n_iter_ = _check_optimize_result(\"lbfgs\", opt_res, self.max_iter)\n"
     ]
    },
    {
     "output_type": "stream",
     "name": "stdout",
     "text": [
      "[CV 5/5] END activation=logistic, alpha=0.1, hidden_layer_sizes=(10, 7, 4), solver=lbfgs;, score=0.727 total time=   3.2s\n",
      "[CV 2/5] END activation=logistic, alpha=0.1, hidden_layer_sizes=(10, 7, 4), solver=lbfgs;, score=0.660 total time=   3.2s\n",
      "[CV 4/5] END activation=logistic, alpha=0.1, hidden_layer_sizes=(10, 7, 4), solver=lbfgs;, score=0.799 total time=   3.3s\n"
     ]
    },
    {
     "output_type": "stream",
     "name": "stderr",
     "text": [
      "/Users/mohamed/ZenAI-3YP/3yp_venv/lib/python3.10/site-packages/sklearn/neural_network/_multilayer_perceptron.py:536: ConvergenceWarning: lbfgs failed to converge (status=1):\n",
      "STOP: TOTAL NO. of ITERATIONS REACHED LIMIT.\n",
      "\n",
      "Increase the number of iterations (max_iter) or scale the data as shown in:\n",
      "    https://scikit-learn.org/stable/modules/preprocessing.html\n",
      "  self.n_iter_ = _check_optimize_result(\"lbfgs\", opt_res, self.max_iter)\n",
      "/Users/mohamed/ZenAI-3YP/3yp_venv/lib/python3.10/site-packages/sklearn/neural_network/_multilayer_perceptron.py:536: ConvergenceWarning: lbfgs failed to converge (status=1):\n",
      "STOP: TOTAL NO. of ITERATIONS REACHED LIMIT.\n",
      "\n",
      "Increase the number of iterations (max_iter) or scale the data as shown in:\n",
      "    https://scikit-learn.org/stable/modules/preprocessing.html\n",
      "  self.n_iter_ = _check_optimize_result(\"lbfgs\", opt_res, self.max_iter)\n"
     ]
    },
    {
     "output_type": "stream",
     "name": "stdout",
     "text": [
      "[CV 1/5] END activation=logistic, alpha=0.1, hidden_layer_sizes=(10, 7, 4), solver=lbfgs;, score=0.615 total time=   3.4s\n",
      "[CV 3/5] END activation=logistic, alpha=0.1, hidden_layer_sizes=(10, 7, 4), solver=lbfgs;, score=0.735 total time=   3.6s\n",
      "[CV 2/5] END activation=logistic, alpha=1e-05, hidden_layer_sizes=(11, 10, 10), solver=adam;, score=0.810 total time=   4.4s\n",
      "[CV 1/5] END activation=logistic, alpha=1e-05, hidden_layer_sizes=(11, 10, 10), solver=adam;, score=0.821 total time=   5.9s\n",
      "[CV 3/5] END activation=logistic, alpha=1e-05, hidden_layer_sizes=(11, 10, 10), solver=adam;, score=0.834 total time=   6.5s\n",
      "[CV 1/5] END activation=logistic, alpha=0.1, hidden_layer_sizes=(2, 1, 6), solver=adam;, score=0.201 total time=   0.2s\n"
     ]
    },
    {
     "output_type": "stream",
     "name": "stderr",
     "text": [
      "/Users/mohamed/ZenAI-3YP/3yp_venv/lib/python3.10/site-packages/sklearn/neural_network/_multilayer_perceptron.py:536: ConvergenceWarning: lbfgs failed to converge (status=1):\n",
      "STOP: TOTAL NO. of ITERATIONS REACHED LIMIT.\n",
      "\n",
      "Increase the number of iterations (max_iter) or scale the data as shown in:\n",
      "    https://scikit-learn.org/stable/modules/preprocessing.html\n",
      "  self.n_iter_ = _check_optimize_result(\"lbfgs\", opt_res, self.max_iter)\n",
      "/Users/mohamed/ZenAI-3YP/3yp_venv/lib/python3.10/site-packages/sklearn/neural_network/_multilayer_perceptron.py:536: ConvergenceWarning: lbfgs failed to converge (status=1):\n",
      "STOP: TOTAL NO. of ITERATIONS REACHED LIMIT.\n",
      "\n",
      "Increase the number of iterations (max_iter) or scale the data as shown in:\n",
      "    https://scikit-learn.org/stable/modules/preprocessing.html\n",
      "  self.n_iter_ = _check_optimize_result(\"lbfgs\", opt_res, self.max_iter)\n"
     ]
    },
    {
     "output_type": "stream",
     "name": "stdout",
     "text": [
      "[CV 2/5] END activation=logistic, alpha=0.1, hidden_layer_sizes=(13, 4, 13), solver=lbfgs;, score=0.647 total time=   3.9s\n",
      "[CV 1/5] END activation=logistic, alpha=0.1, hidden_layer_sizes=(13, 4, 13), solver=lbfgs;, score=0.663 total time=   4.0s\n",
      "[CV 3/5] END activation=logistic, alpha=0.1, hidden_layer_sizes=(2, 1, 6), solver=adam;, score=0.203 total time=   0.2s\n",
      "[CV 4/5] END activation=logistic, alpha=0.1, hidden_layer_sizes=(2, 1, 6), solver=adam;, score=0.203 total time=   0.3s\n",
      "[CV 3/5] END activation=logistic, alpha=0.1, hidden_layer_sizes=(13, 4, 13), solver=lbfgs;, score=0.714 total time=   4.2s\n"
     ]
    },
    {
     "output_type": "stream",
     "name": "stderr",
     "text": [
      "/Users/mohamed/ZenAI-3YP/3yp_venv/lib/python3.10/site-packages/sklearn/neural_network/_multilayer_perceptron.py:536: ConvergenceWarning: lbfgs failed to converge (status=1):\n",
      "STOP: TOTAL NO. of ITERATIONS REACHED LIMIT.\n",
      "\n",
      "Increase the number of iterations (max_iter) or scale the data as shown in:\n",
      "    https://scikit-learn.org/stable/modules/preprocessing.html\n",
      "  self.n_iter_ = _check_optimize_result(\"lbfgs\", opt_res, self.max_iter)\n"
     ]
    },
    {
     "output_type": "stream",
     "name": "stdout",
     "text": [
      "[CV 5/5] END activation=logistic, alpha=0.1, hidden_layer_sizes=(2, 1, 6), solver=adam;, score=0.204 total time=   0.3s\n"
     ]
    },
    {
     "output_type": "stream",
     "name": "stderr",
     "text": [
      "/Users/mohamed/ZenAI-3YP/3yp_venv/lib/python3.10/site-packages/sklearn/neural_network/_multilayer_perceptron.py:536: ConvergenceWarning: lbfgs failed to converge (status=1):\n",
      "STOP: TOTAL NO. of ITERATIONS REACHED LIMIT.\n",
      "\n",
      "Increase the number of iterations (max_iter) or scale the data as shown in:\n",
      "    https://scikit-learn.org/stable/modules/preprocessing.html\n",
      "  self.n_iter_ = _check_optimize_result(\"lbfgs\", opt_res, self.max_iter)\n"
     ]
    },
    {
     "output_type": "stream",
     "name": "stdout",
     "text": [
      "[CV 4/5] END activation=logistic, alpha=0.1, hidden_layer_sizes=(13, 4, 13), solver=lbfgs;, score=0.618 total time=   4.0s\n",
      "[CV 5/5] END activation=logistic, alpha=1e-05, hidden_layer_sizes=(11, 10, 10), solver=adam;, score=0.826 total time=   5.8s\n"
     ]
    },
    {
     "output_type": "stream",
     "name": "stderr",
     "text": [
      "/Users/mohamed/ZenAI-3YP/3yp_venv/lib/python3.10/site-packages/sklearn/neural_network/_multilayer_perceptron.py:536: ConvergenceWarning: lbfgs failed to converge (status=1):\n",
      "STOP: TOTAL NO. of ITERATIONS REACHED LIMIT.\n",
      "\n",
      "Increase the number of iterations (max_iter) or scale the data as shown in:\n",
      "    https://scikit-learn.org/stable/modules/preprocessing.html\n",
      "  self.n_iter_ = _check_optimize_result(\"lbfgs\", opt_res, self.max_iter)\n"
     ]
    },
    {
     "output_type": "stream",
     "name": "stdout",
     "text": [
      "[CV 5/5] END activation=logistic, alpha=0.1, hidden_layer_sizes=(13, 4, 13), solver=lbfgs;, score=0.579 total time=   3.4s\n",
      "[CV 4/5] END activation=logistic, alpha=1e-05, hidden_layer_sizes=(11, 10, 10), solver=adam;, score=0.842 total time=   6.3s\n",
      "[CV 2/5] END activation=logistic, alpha=0.1, hidden_layer_sizes=(2, 1, 6), solver=adam;, score=0.430 total time=   3.2s\n",
      "[CV 5/5] END activation=relu, alpha=0.01, hidden_layer_sizes=(11, 3, 8), solver=adam;, score=0.866 total time=   2.0s\n",
      "[CV 1/5] END activation=relu, alpha=0.01, hidden_layer_sizes=(11, 3, 8), solver=adam;, score=0.813 total time=   3.7s\n",
      "[CV 3/5] END activation=relu, alpha=0.01, hidden_layer_sizes=(11, 3, 8), solver=adam;, score=0.374 total time=   4.0s\n",
      "[CV 2/5] END activation=relu, alpha=0.01, hidden_layer_sizes=(11, 3, 8), solver=adam;, score=0.610 total time=   4.4s\n",
      "[CV 1/5] END activation=logistic, alpha=1, hidden_layer_sizes=(8, 7, 10), solver=lbfgs;, score=0.717 total time=   2.9s\n"
     ]
    },
    {
     "output_type": "stream",
     "name": "stderr",
     "text": [
      "/Users/mohamed/ZenAI-3YP/3yp_venv/lib/python3.10/site-packages/sklearn/neural_network/_multilayer_perceptron.py:536: ConvergenceWarning: lbfgs failed to converge (status=1):\n",
      "STOP: TOTAL NO. of ITERATIONS REACHED LIMIT.\n",
      "\n",
      "Increase the number of iterations (max_iter) or scale the data as shown in:\n",
      "    https://scikit-learn.org/stable/modules/preprocessing.html\n",
      "  self.n_iter_ = _check_optimize_result(\"lbfgs\", opt_res, self.max_iter)\n",
      "/Users/mohamed/ZenAI-3YP/3yp_venv/lib/python3.10/site-packages/sklearn/neural_network/_multilayer_perceptron.py:536: ConvergenceWarning: lbfgs failed to converge (status=1):\n",
      "STOP: TOTAL NO. of ITERATIONS REACHED LIMIT.\n",
      "\n",
      "Increase the number of iterations (max_iter) or scale the data as shown in:\n",
      "    https://scikit-learn.org/stable/modules/preprocessing.html\n",
      "  self.n_iter_ = _check_optimize_result(\"lbfgs\", opt_res, self.max_iter)\n"
     ]
    },
    {
     "output_type": "stream",
     "name": "stdout",
     "text": [
      "[CV 2/5] END activation=logistic, alpha=1, hidden_layer_sizes=(8, 7, 10), solver=lbfgs;, score=0.604 total time=   3.0s\n"
     ]
    },
    {
     "output_type": "stream",
     "name": "stderr",
     "text": [
      "/Users/mohamed/ZenAI-3YP/3yp_venv/lib/python3.10/site-packages/sklearn/neural_network/_multilayer_perceptron.py:536: ConvergenceWarning: lbfgs failed to converge (status=1):\n",
      "STOP: TOTAL NO. of ITERATIONS REACHED LIMIT.\n",
      "\n",
      "Increase the number of iterations (max_iter) or scale the data as shown in:\n",
      "    https://scikit-learn.org/stable/modules/preprocessing.html\n",
      "  self.n_iter_ = _check_optimize_result(\"lbfgs\", opt_res, self.max_iter)\n"
     ]
    },
    {
     "output_type": "stream",
     "name": "stdout",
     "text": [
      "[CV 3/5] END activation=logistic, alpha=1, hidden_layer_sizes=(8, 7, 10), solver=lbfgs;, score=0.816 total time=   3.0s\n",
      "[CV 4/5] END activation=relu, alpha=0.01, hidden_layer_sizes=(11, 3, 8), solver=adam;, score=0.703 total time=   5.3s\n"
     ]
    },
    {
     "output_type": "stream",
     "name": "stderr",
     "text": [
      "/Users/mohamed/ZenAI-3YP/3yp_venv/lib/python3.10/site-packages/sklearn/neural_network/_multilayer_perceptron.py:536: ConvergenceWarning: lbfgs failed to converge (status=1):\n",
      "STOP: TOTAL NO. of ITERATIONS REACHED LIMIT.\n",
      "\n",
      "Increase the number of iterations (max_iter) or scale the data as shown in:\n",
      "    https://scikit-learn.org/stable/modules/preprocessing.html\n",
      "  self.n_iter_ = _check_optimize_result(\"lbfgs\", opt_res, self.max_iter)\n",
      "/Users/mohamed/ZenAI-3YP/3yp_venv/lib/python3.10/site-packages/sklearn/neural_network/_multilayer_perceptron.py:536: ConvergenceWarning: lbfgs failed to converge (status=1):\n",
      "STOP: TOTAL NO. of ITERATIONS REACHED LIMIT.\n",
      "\n",
      "Increase the number of iterations (max_iter) or scale the data as shown in:\n",
      "    https://scikit-learn.org/stable/modules/preprocessing.html\n",
      "  self.n_iter_ = _check_optimize_result(\"lbfgs\", opt_res, self.max_iter)\n"
     ]
    },
    {
     "output_type": "stream",
     "name": "stdout",
     "text": [
      "[CV 4/5] END activation=logistic, alpha=1, hidden_layer_sizes=(8, 7, 10), solver=lbfgs;, score=0.842 total time=   3.1s\n",
      "[CV 1/5] END activation=logistic, alpha=0.001, hidden_layer_sizes=(8, 3, 3), solver=lbfgs;, score=0.439 total time=   2.5s\n"
     ]
    },
    {
     "output_type": "stream",
     "name": "stderr",
     "text": [
      "/Users/mohamed/ZenAI-3YP/3yp_venv/lib/python3.10/site-packages/sklearn/neural_network/_multilayer_perceptron.py:536: ConvergenceWarning: lbfgs failed to converge (status=1):\n",
      "STOP: TOTAL NO. of ITERATIONS REACHED LIMIT.\n",
      "\n",
      "Increase the number of iterations (max_iter) or scale the data as shown in:\n",
      "    https://scikit-learn.org/stable/modules/preprocessing.html\n",
      "  self.n_iter_ = _check_optimize_result(\"lbfgs\", opt_res, self.max_iter)\n"
     ]
    },
    {
     "output_type": "stream",
     "name": "stdout",
     "text": [
      "[CV 5/5] END activation=logistic, alpha=1, hidden_layer_sizes=(8, 7, 10), solver=lbfgs;, score=0.718 total time=   3.2s\n",
      "[CV 4/5] END activation=relu, alpha=0.001, hidden_layer_sizes=(3, 5, 14), solver=lbfgs;, score=0.203 total time=   0.0s\n"
     ]
    },
    {
     "output_type": "stream",
     "name": "stderr",
     "text": [
      "/Users/mohamed/ZenAI-3YP/3yp_venv/lib/python3.10/site-packages/sklearn/neural_network/_multilayer_perceptron.py:536: ConvergenceWarning: lbfgs failed to converge (status=1):\n",
      "STOP: TOTAL NO. of ITERATIONS REACHED LIMIT.\n",
      "\n",
      "Increase the number of iterations (max_iter) or scale the data as shown in:\n",
      "    https://scikit-learn.org/stable/modules/preprocessing.html\n",
      "  self.n_iter_ = _check_optimize_result(\"lbfgs\", opt_res, self.max_iter)\n"
     ]
    },
    {
     "output_type": "stream",
     "name": "stdout",
     "text": [
      "[CV 3/5] END activation=logistic, alpha=0.001, hidden_layer_sizes=(8, 3, 3), solver=lbfgs;, score=0.473 total time=   2.6s\n"
     ]
    },
    {
     "output_type": "stream",
     "name": "stderr",
     "text": [
      "/Users/mohamed/ZenAI-3YP/3yp_venv/lib/python3.10/site-packages/sklearn/neural_network/_multilayer_perceptron.py:536: ConvergenceWarning: lbfgs failed to converge (status=1):\n",
      "STOP: TOTAL NO. of ITERATIONS REACHED LIMIT.\n",
      "\n",
      "Increase the number of iterations (max_iter) or scale the data as shown in:\n",
      "    https://scikit-learn.org/stable/modules/preprocessing.html\n",
      "  self.n_iter_ = _check_optimize_result(\"lbfgs\", opt_res, self.max_iter)\n",
      "/Users/mohamed/ZenAI-3YP/3yp_venv/lib/python3.10/site-packages/sklearn/neural_network/_multilayer_perceptron.py:536: ConvergenceWarning: lbfgs failed to converge (status=1):\n",
      "STOP: TOTAL NO. of ITERATIONS REACHED LIMIT.\n",
      "\n",
      "Increase the number of iterations (max_iter) or scale the data as shown in:\n",
      "    https://scikit-learn.org/stable/modules/preprocessing.html\n",
      "  self.n_iter_ = _check_optimize_result(\"lbfgs\", opt_res, self.max_iter)\n"
     ]
    },
    {
     "output_type": "stream",
     "name": "stdout",
     "text": [
      "[CV 2/5] END activation=logistic, alpha=0.001, hidden_layer_sizes=(8, 3, 3), solver=lbfgs;, score=0.711 total time=   2.9s\n",
      "[CV 4/5] END activation=logistic, alpha=0.001, hidden_layer_sizes=(8, 3, 3), solver=lbfgs;, score=0.666 total time=   2.8s\n"
     ]
    },
    {
     "output_type": "stream",
     "name": "stderr",
     "text": [
      "/Users/mohamed/ZenAI-3YP/3yp_venv/lib/python3.10/site-packages/sklearn/neural_network/_multilayer_perceptron.py:536: ConvergenceWarning: lbfgs failed to converge (status=1):\n",
      "STOP: TOTAL NO. of ITERATIONS REACHED LIMIT.\n",
      "\n",
      "Increase the number of iterations (max_iter) or scale the data as shown in:\n",
      "    https://scikit-learn.org/stable/modules/preprocessing.html\n",
      "  self.n_iter_ = _check_optimize_result(\"lbfgs\", opt_res, self.max_iter)\n"
     ]
    },
    {
     "output_type": "stream",
     "name": "stdout",
     "text": [
      "[CV 5/5] END activation=logistic, alpha=0.001, hidden_layer_sizes=(8, 3, 3), solver=lbfgs;, score=0.504 total time=   2.6s\n",
      "[CV 1/5] END activation=relu, alpha=0.001, hidden_layer_sizes=(3, 5, 14), solver=lbfgs;, score=0.540 total time=   2.1s\n",
      "[CV 5/5] END activation=relu, alpha=0.001, hidden_layer_sizes=(3, 5, 14), solver=lbfgs;, score=0.461 total time=   1.2s\n",
      "[CV 1/5] END activation=relu, alpha=0.001, hidden_layer_sizes=(3, 12, 14), solver=adam;, score=0.508 total time=   1.5s\n"
     ]
    },
    {
     "output_type": "stream",
     "name": "stderr",
     "text": [
      "/Users/mohamed/ZenAI-3YP/3yp_venv/lib/python3.10/site-packages/sklearn/neural_network/_multilayer_perceptron.py:536: ConvergenceWarning: lbfgs failed to converge (status=1):\n",
      "STOP: TOTAL NO. of ITERATIONS REACHED LIMIT.\n",
      "\n",
      "Increase the number of iterations (max_iter) or scale the data as shown in:\n",
      "    https://scikit-learn.org/stable/modules/preprocessing.html\n",
      "  self.n_iter_ = _check_optimize_result(\"lbfgs\", opt_res, self.max_iter)\n",
      "/Users/mohamed/ZenAI-3YP/3yp_venv/lib/python3.10/site-packages/sklearn/neural_network/_multilayer_perceptron.py:536: ConvergenceWarning: lbfgs failed to converge (status=1):\n",
      "STOP: TOTAL NO. of ITERATIONS REACHED LIMIT.\n",
      "\n",
      "Increase the number of iterations (max_iter) or scale the data as shown in:\n",
      "    https://scikit-learn.org/stable/modules/preprocessing.html\n",
      "  self.n_iter_ = _check_optimize_result(\"lbfgs\", opt_res, self.max_iter)\n"
     ]
    },
    {
     "output_type": "stream",
     "name": "stdout",
     "text": [
      "[CV 2/5] END activation=relu, alpha=0.001, hidden_layer_sizes=(3, 5, 14), solver=lbfgs;, score=0.607 total time=   2.8s\n",
      "[CV 3/5] END activation=relu, alpha=0.001, hidden_layer_sizes=(3, 5, 14), solver=lbfgs;, score=0.824 total time=   2.7s\n",
      "[CV 2/5] END activation=relu, alpha=0.001, hidden_layer_sizes=(3, 12, 14), solver=adam;, score=0.762 total time=   3.7s\n",
      "[CV 4/5] END activation=relu, alpha=0.001, hidden_layer_sizes=(3, 12, 14), solver=adam;, score=0.773 total time=   3.5s\n",
      "[CV 3/5] END activation=relu, alpha=0.001, hidden_layer_sizes=(3, 12, 14), solver=adam;, score=0.824 total time=   4.0s\n",
      "[CV 2/5] END activation=relu, alpha=0.1, hidden_layer_sizes=(2, 4, 8), solver=lbfgs;, score=0.334 total time=   0.3s\n",
      "[CV 3/5] END activation=relu, alpha=0.1, hidden_layer_sizes=(2, 4, 8), solver=lbfgs;, score=0.203 total time=   0.0s\n",
      "[CV 5/5] END activation=relu, alpha=0.001, hidden_layer_sizes=(3, 12, 14), solver=adam;, score=0.791 total time=   4.3s\n",
      "[CV 5/5] END activation=relu, alpha=0.1, hidden_layer_sizes=(2, 4, 8), solver=lbfgs;, score=0.204 total time=   0.4s\n",
      "[CV 1/5] END activation=logistic, alpha=0.0001, hidden_layer_sizes=(8, 14, 6), solver=adam;, score=0.824 total time=   5.0s\n",
      "[CV 4/5] END activation=logistic, alpha=0.0001, hidden_layer_sizes=(8, 14, 6), solver=adam;, score=0.824 total time=   4.2s\n",
      "[CV 1/5] END activation=relu, alpha=0.1, hidden_layer_sizes=(2, 4, 8), solver=lbfgs;, score=0.511 total time=   2.0s\n",
      "[CV 4/5] END activation=relu, alpha=0.1, hidden_layer_sizes=(2, 4, 8), solver=lbfgs;, score=0.492 total time=   1.6s\n",
      "[CV 2/5] END activation=relu, alpha=0.1, hidden_layer_sizes=(11, 3, 1), solver=adam;, score=0.198 total time=   1.6s\n",
      "[CV 5/5] END activation=logistic, alpha=0.0001, hidden_layer_sizes=(8, 14, 6), solver=adam;, score=0.705 total time=   3.8s\n",
      "[CV 2/5] END activation=logistic, alpha=0.0001, hidden_layer_sizes=(8, 14, 6), solver=adam;, score=0.810 total time=   6.6s\n",
      "[CV 3/5] END activation=logistic, alpha=0.0001, hidden_layer_sizes=(8, 14, 6), solver=adam;, score=0.727 total time=   6.1s\n",
      "[CV 4/5] END activation=relu, alpha=0.1, hidden_layer_sizes=(11, 3, 1), solver=adam;, score=0.345 total time=   4.9s\n",
      "[CV 3/5] END activation=relu, alpha=0.1, hidden_layer_sizes=(11, 3, 1), solver=adam;, score=0.548 total time=   5.2s\n",
      "[CV 1/5] END activation=relu, alpha=0.1, hidden_layer_sizes=(11, 3, 1), solver=adam;, score=0.559 total time=   6.4s\n",
      "[CV 4/5] END activation=logistic, alpha=0.0001, hidden_layer_sizes=(9, 5, 3), solver=adam;, score=0.529 total time=   6.3s\n",
      "[CV 1/5] END activation=logistic, alpha=0.0001, hidden_layer_sizes=(9, 5, 3), solver=adam;, score=0.733 total time=   6.9s\n"
     ]
    },
    {
     "output_type": "stream",
     "name": "stderr",
     "text": [
      "/Users/mohamed/ZenAI-3YP/3yp_venv/lib/python3.10/site-packages/sklearn/neural_network/_multilayer_perceptron.py:679: ConvergenceWarning: Stochastic Optimizer: Maximum iterations (1000) reached and the optimization hasn't converged yet.\n",
      "  warnings.warn(\n"
     ]
    },
    {
     "output_type": "stream",
     "name": "stdout",
     "text": [
      "[CV 5/5] END activation=relu, alpha=0.1, hidden_layer_sizes=(11, 3, 1), solver=adam;, score=0.534 total time=   8.3s\n"
     ]
    },
    {
     "output_type": "stream",
     "name": "stderr",
     "text": [
      "/Users/mohamed/ZenAI-3YP/3yp_venv/lib/python3.10/site-packages/sklearn/neural_network/_multilayer_perceptron.py:536: ConvergenceWarning: lbfgs failed to converge (status=1):\n",
      "STOP: TOTAL NO. of ITERATIONS REACHED LIMIT.\n",
      "\n",
      "Increase the number of iterations (max_iter) or scale the data as shown in:\n",
      "    https://scikit-learn.org/stable/modules/preprocessing.html\n",
      "  self.n_iter_ = _check_optimize_result(\"lbfgs\", opt_res, self.max_iter)\n"
     ]
    },
    {
     "output_type": "stream",
     "name": "stdout",
     "text": [
      "[CV 1/5] END activation=relu, alpha=1, hidden_layer_sizes=(11, 11, 10), solver=lbfgs;, score=0.872 total time=   3.5s\n",
      "[CV 3/5] END activation=logistic, alpha=0.0001, hidden_layer_sizes=(9, 5, 3), solver=adam;, score=0.791 total time=   7.2s\n"
     ]
    },
    {
     "output_type": "stream",
     "name": "stderr",
     "text": [
      "/Users/mohamed/ZenAI-3YP/3yp_venv/lib/python3.10/site-packages/sklearn/neural_network/_multilayer_perceptron.py:536: ConvergenceWarning: lbfgs failed to converge (status=1):\n",
      "STOP: TOTAL NO. of ITERATIONS REACHED LIMIT.\n",
      "\n",
      "Increase the number of iterations (max_iter) or scale the data as shown in:\n",
      "    https://scikit-learn.org/stable/modules/preprocessing.html\n",
      "  self.n_iter_ = _check_optimize_result(\"lbfgs\", opt_res, self.max_iter)\n"
     ]
    },
    {
     "output_type": "stream",
     "name": "stdout",
     "text": [
      "[CV 2/5] END activation=relu, alpha=1, hidden_layer_sizes=(11, 11, 10), solver=lbfgs;, score=0.805 total time=   3.8s\n"
     ]
    },
    {
     "output_type": "stream",
     "name": "stderr",
     "text": [
      "/Users/mohamed/ZenAI-3YP/3yp_venv/lib/python3.10/site-packages/sklearn/neural_network/_multilayer_perceptron.py:679: ConvergenceWarning: Stochastic Optimizer: Maximum iterations (1000) reached and the optimization hasn't converged yet.\n",
      "  warnings.warn(\n"
     ]
    },
    {
     "output_type": "stream",
     "name": "stdout",
     "text": [
      "[CV 2/5] END activation=logistic, alpha=0.0001, hidden_layer_sizes=(9, 5, 3), solver=adam;, score=0.759 total time=   8.6s\n",
      "[CV 5/5] END activation=logistic, alpha=0.0001, hidden_layer_sizes=(9, 5, 3), solver=adam;, score=0.772 total time=   6.4s\n",
      "[CV 1/5] END activation=logistic, alpha=0.01, hidden_layer_sizes=(4, 5, 3), solver=lbfgs;, score=0.586 total time=   2.8s\n"
     ]
    },
    {
     "output_type": "stream",
     "name": "stderr",
     "text": [
      "/Users/mohamed/ZenAI-3YP/3yp_venv/lib/python3.10/site-packages/sklearn/neural_network/_multilayer_perceptron.py:536: ConvergenceWarning: lbfgs failed to converge (status=1):\n",
      "STOP: TOTAL NO. of ITERATIONS REACHED LIMIT.\n",
      "\n",
      "Increase the number of iterations (max_iter) or scale the data as shown in:\n",
      "    https://scikit-learn.org/stable/modules/preprocessing.html\n",
      "  self.n_iter_ = _check_optimize_result(\"lbfgs\", opt_res, self.max_iter)\n",
      "/Users/mohamed/ZenAI-3YP/3yp_venv/lib/python3.10/site-packages/sklearn/neural_network/_multilayer_perceptron.py:536: ConvergenceWarning: lbfgs failed to converge (status=1):\n",
      "STOP: TOTAL NO. of ITERATIONS REACHED LIMIT.\n",
      "\n",
      "Increase the number of iterations (max_iter) or scale the data as shown in:\n",
      "    https://scikit-learn.org/stable/modules/preprocessing.html\n",
      "  self.n_iter_ = _check_optimize_result(\"lbfgs\", opt_res, self.max_iter)\n"
     ]
    },
    {
     "output_type": "stream",
     "name": "stdout",
     "text": [
      "[CV 3/5] END activation=relu, alpha=1, hidden_layer_sizes=(11, 11, 10), solver=lbfgs;, score=0.845 total time=   3.4s\n",
      "[CV 2/5] END activation=logistic, alpha=0.01, hidden_layer_sizes=(4, 5, 3), solver=lbfgs;, score=0.425 total time=   2.8s\n"
     ]
    },
    {
     "output_type": "stream",
     "name": "stderr",
     "text": [
      "/Users/mohamed/ZenAI-3YP/3yp_venv/lib/python3.10/site-packages/sklearn/neural_network/_multilayer_perceptron.py:536: ConvergenceWarning: lbfgs failed to converge (status=1):\n",
      "STOP: TOTAL NO. of ITERATIONS REACHED LIMIT.\n",
      "\n",
      "Increase the number of iterations (max_iter) or scale the data as shown in:\n",
      "    https://scikit-learn.org/stable/modules/preprocessing.html\n",
      "  self.n_iter_ = _check_optimize_result(\"lbfgs\", opt_res, self.max_iter)\n",
      "/Users/mohamed/ZenAI-3YP/3yp_venv/lib/python3.10/site-packages/sklearn/neural_network/_multilayer_perceptron.py:536: ConvergenceWarning: lbfgs failed to converge (status=1):\n",
      "STOP: TOTAL NO. of ITERATIONS REACHED LIMIT.\n",
      "\n",
      "Increase the number of iterations (max_iter) or scale the data as shown in:\n",
      "    https://scikit-learn.org/stable/modules/preprocessing.html\n",
      "  self.n_iter_ = _check_optimize_result(\"lbfgs\", opt_res, self.max_iter)\n",
      "/Users/mohamed/ZenAI-3YP/3yp_venv/lib/python3.10/site-packages/sklearn/neural_network/_multilayer_perceptron.py:536: ConvergenceWarning: lbfgs failed to converge (status=1):\n",
      "STOP: TOTAL NO. of ITERATIONS REACHED LIMIT.\n",
      "\n",
      "Increase the number of iterations (max_iter) or scale the data as shown in:\n",
      "    https://scikit-learn.org/stable/modules/preprocessing.html\n",
      "  self.n_iter_ = _check_optimize_result(\"lbfgs\", opt_res, self.max_iter)\n"
     ]
    },
    {
     "output_type": "stream",
     "name": "stdout",
     "text": [
      "[CV 5/5] END activation=relu, alpha=1, hidden_layer_sizes=(11, 11, 10), solver=lbfgs;, score=0.855 total time=   3.5s\n",
      "[CV 4/5] END activation=relu, alpha=1, hidden_layer_sizes=(11, 11, 10), solver=lbfgs;, score=0.840 total time=   3.7s\n",
      "[CV 3/5] END activation=logistic, alpha=0.01, hidden_layer_sizes=(4, 5, 3), solver=lbfgs;, score=0.406 total time=   2.7s\n"
     ]
    },
    {
     "output_type": "stream",
     "name": "stderr",
     "text": [
      "/Users/mohamed/ZenAI-3YP/3yp_venv/lib/python3.10/site-packages/sklearn/neural_network/_multilayer_perceptron.py:536: ConvergenceWarning: lbfgs failed to converge (status=1):\n",
      "STOP: TOTAL NO. of ITERATIONS REACHED LIMIT.\n",
      "\n",
      "Increase the number of iterations (max_iter) or scale the data as shown in:\n",
      "    https://scikit-learn.org/stable/modules/preprocessing.html\n",
      "  self.n_iter_ = _check_optimize_result(\"lbfgs\", opt_res, self.max_iter)\n"
     ]
    },
    {
     "output_type": "stream",
     "name": "stdout",
     "text": [
      "[CV 4/5] END activation=logistic, alpha=0.01, hidden_layer_sizes=(4, 5, 3), solver=lbfgs;, score=0.342 total time=   2.6s\n"
     ]
    },
    {
     "output_type": "stream",
     "name": "stderr",
     "text": [
      "/Users/mohamed/ZenAI-3YP/3yp_venv/lib/python3.10/site-packages/sklearn/neural_network/_multilayer_perceptron.py:536: ConvergenceWarning: lbfgs failed to converge (status=1):\n",
      "STOP: TOTAL NO. of ITERATIONS REACHED LIMIT.\n",
      "\n",
      "Increase the number of iterations (max_iter) or scale the data as shown in:\n",
      "    https://scikit-learn.org/stable/modules/preprocessing.html\n",
      "  self.n_iter_ = _check_optimize_result(\"lbfgs\", opt_res, self.max_iter)\n"
     ]
    },
    {
     "output_type": "stream",
     "name": "stdout",
     "text": [
      "[CV 5/5] END activation=logistic, alpha=0.01, hidden_layer_sizes=(4, 5, 3), solver=lbfgs;, score=0.509 total time=   2.4s\n",
      "[CV 5/5] END activation=logistic, alpha=1, hidden_layer_sizes=(14, 2, 13), solver=adam;, score=0.509 total time=   2.8s\n",
      "[CV 4/5] END activation=logistic, alpha=1, hidden_layer_sizes=(14, 2, 13), solver=adam;, score=0.521 total time=   3.0s\n",
      "[CV 2/5] END activation=logistic, alpha=1, hidden_layer_sizes=(14, 2, 13), solver=adam;, score=0.610 total time=   3.7s\n"
     ]
    },
    {
     "output_type": "stream",
     "name": "stderr",
     "text": [
      "/Users/mohamed/ZenAI-3YP/3yp_venv/lib/python3.10/site-packages/sklearn/neural_network/_multilayer_perceptron.py:536: ConvergenceWarning: lbfgs failed to converge (status=1):\n",
      "STOP: TOTAL NO. of ITERATIONS REACHED LIMIT.\n",
      "\n",
      "Increase the number of iterations (max_iter) or scale the data as shown in:\n",
      "    https://scikit-learn.org/stable/modules/preprocessing.html\n",
      "  self.n_iter_ = _check_optimize_result(\"lbfgs\", opt_res, self.max_iter)\n"
     ]
    },
    {
     "output_type": "stream",
     "name": "stdout",
     "text": [
      "[CV 1/5] END activation=logistic, alpha=0.001, hidden_layer_sizes=(11, 4, 11), solver=lbfgs;, score=0.599 total time=   3.6s\n",
      "[CV 1/5] END activation=logistic, alpha=1, hidden_layer_sizes=(14, 2, 13), solver=adam;, score=0.545 total time=   4.4s\n"
     ]
    },
    {
     "output_type": "stream",
     "name": "stderr",
     "text": [
      "/Users/mohamed/ZenAI-3YP/3yp_venv/lib/python3.10/site-packages/sklearn/neural_network/_multilayer_perceptron.py:536: ConvergenceWarning: lbfgs failed to converge (status=1):\n",
      "STOP: TOTAL NO. of ITERATIONS REACHED LIMIT.\n",
      "\n",
      "Increase the number of iterations (max_iter) or scale the data as shown in:\n",
      "    https://scikit-learn.org/stable/modules/preprocessing.html\n",
      "  self.n_iter_ = _check_optimize_result(\"lbfgs\", opt_res, self.max_iter)\n"
     ]
    },
    {
     "output_type": "stream",
     "name": "stdout",
     "text": [
      "[CV 2/5] END activation=logistic, alpha=0.001, hidden_layer_sizes=(11, 4, 11), solver=lbfgs;, score=0.682 total time=   3.4s\n",
      "[CV 3/5] END activation=logistic, alpha=1, hidden_layer_sizes=(14, 2, 13), solver=adam;, score=0.460 total time=   4.1s\n"
     ]
    },
    {
     "output_type": "stream",
     "name": "stderr",
     "text": [
      "/Users/mohamed/ZenAI-3YP/3yp_venv/lib/python3.10/site-packages/sklearn/neural_network/_multilayer_perceptron.py:536: ConvergenceWarning: lbfgs failed to converge (status=1):\n",
      "STOP: TOTAL NO. of ITERATIONS REACHED LIMIT.\n",
      "\n",
      "Increase the number of iterations (max_iter) or scale the data as shown in:\n",
      "    https://scikit-learn.org/stable/modules/preprocessing.html\n",
      "  self.n_iter_ = _check_optimize_result(\"lbfgs\", opt_res, self.max_iter)\n"
     ]
    },
    {
     "output_type": "stream",
     "name": "stdout",
     "text": [
      "[CV 3/5] END activation=logistic, alpha=0.001, hidden_layer_sizes=(11, 4, 11), solver=lbfgs;, score=0.505 total time=   3.4s\n"
     ]
    },
    {
     "output_type": "stream",
     "name": "stderr",
     "text": [
      "/Users/mohamed/ZenAI-3YP/3yp_venv/lib/python3.10/site-packages/sklearn/neural_network/_multilayer_perceptron.py:536: ConvergenceWarning: lbfgs failed to converge (status=1):\n",
      "STOP: TOTAL NO. of ITERATIONS REACHED LIMIT.\n",
      "\n",
      "Increase the number of iterations (max_iter) or scale the data as shown in:\n",
      "    https://scikit-learn.org/stable/modules/preprocessing.html\n",
      "  self.n_iter_ = _check_optimize_result(\"lbfgs\", opt_res, self.max_iter)\n"
     ]
    },
    {
     "output_type": "stream",
     "name": "stdout",
     "text": [
      "[CV 4/5] END activation=logistic, alpha=0.001, hidden_layer_sizes=(11, 4, 11), solver=lbfgs;, score=0.521 total time=   3.5s\n",
      "[CV 2/5] END activation=logistic, alpha=0.0001, hidden_layer_sizes=(1, 8, 4), solver=adam;, score=0.203 total time=   0.3s\n",
      "[CV 5/5] END activation=logistic, alpha=0.001, hidden_layer_sizes=(11, 4, 11), solver=lbfgs;, score=0.718 total time=   3.8s\n"
     ]
    },
    {
     "output_type": "stream",
     "name": "stderr",
     "text": [
      "/Users/mohamed/ZenAI-3YP/3yp_venv/lib/python3.10/site-packages/sklearn/neural_network/_multilayer_perceptron.py:536: ConvergenceWarning: lbfgs failed to converge (status=1):\n",
      "STOP: TOTAL NO. of ITERATIONS REACHED LIMIT.\n",
      "\n",
      "Increase the number of iterations (max_iter) or scale the data as shown in:\n",
      "    https://scikit-learn.org/stable/modules/preprocessing.html\n",
      "  self.n_iter_ = _check_optimize_result(\"lbfgs\", opt_res, self.max_iter)\n"
     ]
    },
    {
     "output_type": "stream",
     "name": "stdout",
     "text": [
      "[CV 3/5] END activation=logistic, alpha=0.0001, hidden_layer_sizes=(1, 8, 4), solver=adam;, score=0.203 total time=   0.4s\n",
      "[CV 5/5] END activation=logistic, alpha=0.0001, hidden_layer_sizes=(1, 8, 4), solver=adam;, score=0.204 total time=   0.3s\n",
      "[CV 1/5] END activation=logistic, alpha=0.0001, hidden_layer_sizes=(1, 8, 4), solver=adam;, score=0.329 total time=   2.4s\n",
      "[CV 2/5] END activation=relu, alpha=0.1, hidden_layer_sizes=(3, 2, 12), solver=adam;, score=0.679 total time=   4.2s\n",
      "[CV 1/5] END activation=relu, alpha=0.1, hidden_layer_sizes=(3, 2, 12), solver=adam;, score=0.596 total time=   4.6s\n",
      "[CV 4/5] END activation=relu, alpha=0.1, hidden_layer_sizes=(3, 2, 12), solver=adam;, score=0.639 total time=   4.3s\n",
      "[CV 1/5] END activation=relu, alpha=0.01, hidden_layer_sizes=(1, 4, 4), solver=adam;, score=0.267 total time=   1.1s\n",
      "[CV 1/5] END activation=relu, alpha=1e-05, hidden_layer_sizes=(6, 1, 2), solver=lbfgs;, score=0.201 total time=   0.1s\n",
      "[CV 2/5] END activation=relu, alpha=1e-05, hidden_layer_sizes=(6, 1, 2), solver=lbfgs;, score=0.203 total time=   0.0s\n",
      "[CV 3/5] END activation=relu, alpha=1e-05, hidden_layer_sizes=(6, 1, 2), solver=lbfgs;, score=0.203 total time=   0.0s\n",
      "[CV 4/5] END activation=logistic, alpha=0.0001, hidden_layer_sizes=(1, 8, 4), solver=adam;, score=0.348 total time=   2.0s\n",
      "[CV 5/5] END activation=relu, alpha=1e-05, hidden_layer_sizes=(6, 1, 2), solver=lbfgs;, score=0.204 total time=   0.0s\n",
      "[CV 4/5] END activation=relu, alpha=1e-05, hidden_layer_sizes=(6, 1, 2), solver=lbfgs;, score=0.369 total time=   0.4s\n",
      "[CV 3/5] END activation=relu, alpha=0.1, hidden_layer_sizes=(3, 2, 12), solver=adam;, score=0.693 total time=   5.7s\n",
      "[CV 5/5] END activation=relu, alpha=0.01, hidden_layer_sizes=(1, 4, 4), solver=adam;, score=0.397 total time=   1.9s\n",
      "[CV 5/5] END activation=relu, alpha=0.1, hidden_layer_sizes=(3, 2, 12), solver=adam;, score=0.504 total time=   6.5s\n",
      "[CV 2/5] END activation=relu, alpha=0.01, hidden_layer_sizes=(1, 4, 4), solver=adam;, score=0.439 total time=   3.7s\n",
      "[CV 4/5] END activation=relu, alpha=0.01, hidden_layer_sizes=(1, 4, 4), solver=adam;, score=0.537 total time=   4.5s\n",
      "[CV 3/5] END activation=relu, alpha=0.01, hidden_layer_sizes=(1, 4, 4), solver=adam;, score=0.620 total time=   4.6s\n",
      "[CV 1/5] END activation=logistic, alpha=0.1, hidden_layer_sizes=(6, 9, 6), solver=adam;, score=0.751 total time=   4.8s\n",
      "[CV 3/5] END activation=logistic, alpha=0.1, hidden_layer_sizes=(6, 9, 6), solver=adam;, score=0.848 total time=   4.7s\n",
      "[CV 4/5] END activation=logistic, alpha=0.1, hidden_layer_sizes=(6, 9, 6), solver=adam;, score=0.757 total time=   4.3s\n",
      "[CV 5/5] END activation=logistic, alpha=0.1, hidden_layer_sizes=(6, 9, 6), solver=adam;, score=0.729 total time=   5.3s\n",
      "[CV 2/5] END activation=logistic, alpha=0.01, hidden_layer_sizes=(5, 11, 7), solver=adam;, score=0.658 total time=   3.5s\n"
     ]
    },
    {
     "output_type": "stream",
     "name": "stderr",
     "text": [
      "/Users/mohamed/ZenAI-3YP/3yp_venv/lib/python3.10/site-packages/sklearn/neural_network/_multilayer_perceptron.py:679: ConvergenceWarning: Stochastic Optimizer: Maximum iterations (1000) reached and the optimization hasn't converged yet.\n",
      "  warnings.warn(\n"
     ]
    },
    {
     "output_type": "stream",
     "name": "stdout",
     "text": [
      "[CV 2/5] END activation=logistic, alpha=0.1, hidden_layer_sizes=(6, 9, 6), solver=adam;, score=0.807 total time=   7.8s\n",
      "[CV 4/5] END activation=logistic, alpha=0.01, hidden_layer_sizes=(3, 2, 8), solver=lbfgs;, score=0.203 total time=   0.0s\n",
      "[CV 4/5] END activation=logistic, alpha=0.01, hidden_layer_sizes=(5, 11, 7), solver=adam;, score=0.626 total time=   3.4s\n"
     ]
    },
    {
     "output_type": "stream",
     "name": "stderr",
     "text": [
      "/Users/mohamed/ZenAI-3YP/3yp_venv/lib/python3.10/site-packages/sklearn/neural_network/_multilayer_perceptron.py:536: ConvergenceWarning: lbfgs failed to converge (status=1):\n",
      "STOP: TOTAL NO. of ITERATIONS REACHED LIMIT.\n",
      "\n",
      "Increase the number of iterations (max_iter) or scale the data as shown in:\n",
      "    https://scikit-learn.org/stable/modules/preprocessing.html\n",
      "  self.n_iter_ = _check_optimize_result(\"lbfgs\", opt_res, self.max_iter)\n"
     ]
    },
    {
     "output_type": "stream",
     "name": "stdout",
     "text": [
      "[CV 1/5] END activation=logistic, alpha=0.01, hidden_layer_sizes=(3, 2, 8), solver=lbfgs;, score=0.471 total time=   2.8s\n",
      "[CV 3/5] END activation=logistic, alpha=0.01, hidden_layer_sizes=(5, 11, 7), solver=adam;, score=0.821 total time=   5.5s\n"
     ]
    },
    {
     "output_type": "stream",
     "name": "stderr",
     "text": [
      "/Users/mohamed/ZenAI-3YP/3yp_venv/lib/python3.10/site-packages/sklearn/neural_network/_multilayer_perceptron.py:536: ConvergenceWarning: lbfgs failed to converge (status=1):\n",
      "STOP: TOTAL NO. of ITERATIONS REACHED LIMIT.\n",
      "\n",
      "Increase the number of iterations (max_iter) or scale the data as shown in:\n",
      "    https://scikit-learn.org/stable/modules/preprocessing.html\n",
      "  self.n_iter_ = _check_optimize_result(\"lbfgs\", opt_res, self.max_iter)\n"
     ]
    },
    {
     "output_type": "stream",
     "name": "stdout",
     "text": [
      "[CV 2/5] END activation=logistic, alpha=0.01, hidden_layer_sizes=(3, 2, 8), solver=lbfgs;, score=0.468 total time=   2.9s\n"
     ]
    },
    {
     "output_type": "stream",
     "name": "stderr",
     "text": [
      "/Users/mohamed/ZenAI-3YP/3yp_venv/lib/python3.10/site-packages/sklearn/neural_network/_multilayer_perceptron.py:536: ConvergenceWarning: lbfgs failed to converge (status=1):\n",
      "STOP: TOTAL NO. of ITERATIONS REACHED LIMIT.\n",
      "\n",
      "Increase the number of iterations (max_iter) or scale the data as shown in:\n",
      "    https://scikit-learn.org/stable/modules/preprocessing.html\n",
      "  self.n_iter_ = _check_optimize_result(\"lbfgs\", opt_res, self.max_iter)\n"
     ]
    },
    {
     "output_type": "stream",
     "name": "stdout",
     "text": [
      "[CV 3/5] END activation=logistic, alpha=0.01, hidden_layer_sizes=(3, 2, 8), solver=lbfgs;, score=0.463 total time=   3.0s\n",
      "[CV 5/5] END activation=logistic, alpha=0.01, hidden_layer_sizes=(5, 11, 7), solver=adam;, score=0.592 total time=   4.7s\n",
      "[CV 1/5] END activation=logistic, alpha=0.01, hidden_layer_sizes=(5, 11, 7), solver=adam;, score=0.807 total time=   7.8s\n"
     ]
    },
    {
     "output_type": "stream",
     "name": "stderr",
     "text": [
      "/Users/mohamed/ZenAI-3YP/3yp_venv/lib/python3.10/site-packages/sklearn/neural_network/_multilayer_perceptron.py:536: ConvergenceWarning: lbfgs failed to converge (status=1):\n",
      "STOP: TOTAL NO. of ITERATIONS REACHED LIMIT.\n",
      "\n",
      "Increase the number of iterations (max_iter) or scale the data as shown in:\n",
      "    https://scikit-learn.org/stable/modules/preprocessing.html\n",
      "  self.n_iter_ = _check_optimize_result(\"lbfgs\", opt_res, self.max_iter)\n"
     ]
    },
    {
     "output_type": "stream",
     "name": "stdout",
     "text": [
      "[CV 5/5] END activation=logistic, alpha=0.01, hidden_layer_sizes=(3, 2, 8), solver=lbfgs;, score=0.458 total time=   2.7s\n",
      "[CV 1/5] END activation=logistic, alpha=0.1, hidden_layer_sizes=(9, 12, 14), solver=adam;, score=0.856 total time=   3.4s\n",
      "[CV 2/5] END activation=logistic, alpha=0.1, hidden_layer_sizes=(9, 12, 14), solver=adam;, score=0.797 total time=   3.4s\n",
      "[CV 2/5] END activation=relu, alpha=1e-05, hidden_layer_sizes=(8, 11, 7), solver=adam;, score=0.802 total time=   1.9s\n",
      "[CV 5/5] END activation=relu, alpha=1e-05, hidden_layer_sizes=(8, 11, 7), solver=adam;, score=0.845 total time=   2.2s\n",
      "[CV 1/5] END activation=relu, alpha=1e-05, hidden_layer_sizes=(8, 11, 7), solver=adam;, score=0.848 total time=   4.0s\n",
      "[CV 3/5] END activation=logistic, alpha=0.1, hidden_layer_sizes=(9, 12, 14), solver=adam;, score=0.834 total time=   5.1s\n",
      "[CV 4/5] END activation=logistic, alpha=0.1, hidden_layer_sizes=(9, 12, 14), solver=adam;, score=0.845 total time=   4.5s\n",
      "[CV 5/5] END activation=logistic, alpha=0.1, hidden_layer_sizes=(9, 12, 14), solver=adam;, score=0.877 total time=   4.8s\n",
      "[CV 3/5] END activation=relu, alpha=1e-05, hidden_layer_sizes=(8, 11, 7), solver=adam;, score=0.813 total time=   5.5s\n",
      "[CV 2/5] END activation=relu, alpha=1, hidden_layer_sizes=(6, 3, 6), solver=adam;, score=0.783 total time=   2.8s\n",
      "[CV 1/5] END activation=relu, alpha=1, hidden_layer_sizes=(6, 3, 6), solver=adam;, score=0.845 total time=   5.8s\n",
      "[CV 3/5] END activation=relu, alpha=1, hidden_layer_sizes=(6, 3, 6), solver=adam;, score=0.783 total time=   4.3s\n",
      "[CV 4/5] END activation=relu, alpha=1e-05, hidden_layer_sizes=(8, 11, 7), solver=adam;, score=0.837 total time=   7.3s\n",
      "[CV 1/5] END activation=relu, alpha=0.01, hidden_layer_sizes=(8, 14, 8), solver=adam;, score=0.872 total time=   4.0s\n",
      "[CV 4/5] END activation=relu, alpha=1, hidden_layer_sizes=(6, 3, 6), solver=adam;, score=0.832 total time=   5.4s\n",
      "[CV 5/5] END activation=relu, alpha=1, hidden_layer_sizes=(6, 3, 6), solver=adam;, score=0.839 total time=   5.9s\n",
      "[CV 2/5] END activation=relu, alpha=0.01, hidden_layer_sizes=(8, 14, 8), solver=adam;, score=0.840 total time=   4.2s\n"
     ]
    },
    {
     "output_type": "stream",
     "name": "stderr",
     "text": [
      "/Users/mohamed/ZenAI-3YP/3yp_venv/lib/python3.10/site-packages/sklearn/neural_network/_multilayer_perceptron.py:536: ConvergenceWarning: lbfgs failed to converge (status=1):\n",
      "STOP: TOTAL NO. of ITERATIONS REACHED LIMIT.\n",
      "\n",
      "Increase the number of iterations (max_iter) or scale the data as shown in:\n",
      "    https://scikit-learn.org/stable/modules/preprocessing.html\n",
      "  self.n_iter_ = _check_optimize_result(\"lbfgs\", opt_res, self.max_iter)\n",
      "/Users/mohamed/ZenAI-3YP/3yp_venv/lib/python3.10/site-packages/sklearn/neural_network/_multilayer_perceptron.py:536: ConvergenceWarning: lbfgs failed to converge (status=1):\n",
      "STOP: TOTAL NO. of ITERATIONS REACHED LIMIT.\n",
      "\n",
      "Increase the number of iterations (max_iter) or scale the data as shown in:\n",
      "    https://scikit-learn.org/stable/modules/preprocessing.html\n",
      "  self.n_iter_ = _check_optimize_result(\"lbfgs\", opt_res, self.max_iter)\n"
     ]
    },
    {
     "output_type": "stream",
     "name": "stdout",
     "text": [
      "[CV 2/5] END activation=logistic, alpha=0.001, hidden_layer_sizes=(7, 2, 10), solver=lbfgs;, score=0.553 total time=   3.5s\n",
      "[CV 3/5] END activation=relu, alpha=0.01, hidden_layer_sizes=(8, 14, 8), solver=adam;, score=0.821 total time=   5.6s\n",
      "[CV 1/5] END activation=logistic, alpha=0.001, hidden_layer_sizes=(7, 2, 10), solver=lbfgs;, score=0.642 total time=   3.8s\n",
      "[CV 5/5] END activation=relu, alpha=0.01, hidden_layer_sizes=(8, 14, 8), solver=adam;, score=0.855 total time=   4.5s\n"
     ]
    },
    {
     "output_type": "stream",
     "name": "stderr",
     "text": [
      "/Users/mohamed/ZenAI-3YP/3yp_venv/lib/python3.10/site-packages/sklearn/neural_network/_multilayer_perceptron.py:536: ConvergenceWarning: lbfgs failed to converge (status=1):\n",
      "STOP: TOTAL NO. of ITERATIONS REACHED LIMIT.\n",
      "\n",
      "Increase the number of iterations (max_iter) or scale the data as shown in:\n",
      "    https://scikit-learn.org/stable/modules/preprocessing.html\n",
      "  self.n_iter_ = _check_optimize_result(\"lbfgs\", opt_res, self.max_iter)\n"
     ]
    },
    {
     "output_type": "stream",
     "name": "stdout",
     "text": [
      "[CV 3/5] END activation=logistic, alpha=0.001, hidden_layer_sizes=(7, 2, 10), solver=lbfgs;, score=0.468 total time=   3.5s\n",
      "[CV 4/5] END activation=relu, alpha=0.01, hidden_layer_sizes=(8, 14, 8), solver=adam;, score=0.850 total time=   5.7s\n"
     ]
    },
    {
     "output_type": "stream",
     "name": "stderr",
     "text": [
      "/Users/mohamed/ZenAI-3YP/3yp_venv/lib/python3.10/site-packages/sklearn/neural_network/_multilayer_perceptron.py:536: ConvergenceWarning: lbfgs failed to converge (status=1):\n",
      "STOP: TOTAL NO. of ITERATIONS REACHED LIMIT.\n",
      "\n",
      "Increase the number of iterations (max_iter) or scale the data as shown in:\n",
      "    https://scikit-learn.org/stable/modules/preprocessing.html\n",
      "  self.n_iter_ = _check_optimize_result(\"lbfgs\", opt_res, self.max_iter)\n"
     ]
    },
    {
     "output_type": "stream",
     "name": "stdout",
     "text": [
      "[CV 4/5] END activation=logistic, alpha=0.001, hidden_layer_sizes=(7, 2, 10), solver=lbfgs;, score=0.762 total time=   3.8s\n",
      "[CV 1/5] END activation=logistic, alpha=1, hidden_layer_sizes=(1, 6, 4), solver=adam;, score=0.201 total time=   0.5s\n"
     ]
    },
    {
     "output_type": "stream",
     "name": "stderr",
     "text": [
      "/Users/mohamed/ZenAI-3YP/3yp_venv/lib/python3.10/site-packages/sklearn/neural_network/_multilayer_perceptron.py:536: ConvergenceWarning: lbfgs failed to converge (status=1):\n",
      "STOP: TOTAL NO. of ITERATIONS REACHED LIMIT.\n",
      "\n",
      "Increase the number of iterations (max_iter) or scale the data as shown in:\n",
      "    https://scikit-learn.org/stable/modules/preprocessing.html\n",
      "  self.n_iter_ = _check_optimize_result(\"lbfgs\", opt_res, self.max_iter)\n"
     ]
    },
    {
     "output_type": "stream",
     "name": "stdout",
     "text": [
      "[CV 5/5] END activation=logistic, alpha=0.001, hidden_layer_sizes=(7, 2, 10), solver=lbfgs;, score=0.469 total time=   4.1s\n",
      "[CV 2/5] END activation=logistic, alpha=1, hidden_layer_sizes=(1, 6, 4), solver=adam;, score=0.203 total time=   0.5s\n",
      "[CV 3/5] END activation=logistic, alpha=1, hidden_layer_sizes=(1, 6, 4), solver=adam;, score=0.203 total time=   0.6s\n",
      "[CV 4/5] END activation=logistic, alpha=1, hidden_layer_sizes=(1, 6, 4), solver=adam;, score=0.203 total time=   0.5s\n",
      "[CV 2/5] END activation=relu, alpha=0.0001, hidden_layer_sizes=(11, 3, 12), solver=lbfgs;, score=0.203 total time=   0.0s\n",
      "[CV 3/5] END activation=relu, alpha=0.0001, hidden_layer_sizes=(11, 3, 12), solver=lbfgs;, score=0.203 total time=   0.0s\n",
      "[CV 4/5] END activation=relu, alpha=0.0001, hidden_layer_sizes=(11, 3, 12), solver=lbfgs;, score=0.206 total time=   0.4s\n",
      "[CV 5/5] END activation=relu, alpha=0.0001, hidden_layer_sizes=(11, 3, 12), solver=lbfgs;, score=0.204 total time=   0.1s\n",
      "[CV 5/5] END activation=logistic, alpha=1, hidden_layer_sizes=(1, 6, 4), solver=adam;, score=0.204 total time=   0.9s\n",
      "[CV 1/5] END activation=logistic, alpha=0.0001, hidden_layer_sizes=(4, 14, 10), solver=adam;, score=0.596 total time=   4.0s\n",
      "[CV 2/5] END activation=logistic, alpha=0.0001, hidden_layer_sizes=(4, 14, 10), solver=adam;, score=0.709 total time=   4.3s\n"
     ]
    },
    {
     "output_type": "stream",
     "name": "stderr",
     "text": [
      "/Users/mohamed/ZenAI-3YP/3yp_venv/lib/python3.10/site-packages/sklearn/neural_network/_multilayer_perceptron.py:536: ConvergenceWarning: lbfgs failed to converge (status=1):\n",
      "STOP: TOTAL NO. of ITERATIONS REACHED LIMIT.\n",
      "\n",
      "Increase the number of iterations (max_iter) or scale the data as shown in:\n",
      "    https://scikit-learn.org/stable/modules/preprocessing.html\n",
      "  self.n_iter_ = _check_optimize_result(\"lbfgs\", opt_res, self.max_iter)\n"
     ]
    },
    {
     "output_type": "stream",
     "name": "stdout",
     "text": [
      "[CV 1/5] END activation=relu, alpha=0.0001, hidden_layer_sizes=(11, 3, 12), solver=lbfgs;, score=0.840 total time=   3.4s\n",
      "[CV 1/5] END activation=relu, alpha=1e-05, hidden_layer_sizes=(2, 5, 3), solver=adam;, score=0.821 total time=   3.1s\n",
      "[CV 3/5] END activation=logistic, alpha=0.0001, hidden_layer_sizes=(4, 14, 10), solver=adam;, score=0.618 total time=   6.6s\n",
      "[CV 2/5] END activation=relu, alpha=1e-05, hidden_layer_sizes=(2, 5, 3), solver=adam;, score=0.636 total time=   4.4s\n",
      "[CV 4/5] END activation=logistic, alpha=0.0001, hidden_layer_sizes=(4, 14, 10), solver=adam;, score=0.791 total time=   7.8s\n",
      "[CV 5/5] END activation=logistic, alpha=0.0001, hidden_layer_sizes=(4, 14, 10), solver=adam;, score=0.598 total time=   7.9s\n",
      "[CV 3/5] END activation=relu, alpha=1e-05, hidden_layer_sizes=(2, 5, 3), solver=adam;, score=0.521 total time=   5.1s\n",
      "[CV 5/5] END activation=relu, alpha=0.0001, hidden_layer_sizes=(1, 12, 3), solver=adam;, score=0.209 total time=   0.5s\n",
      "[CV 1/5] END activation=logistic, alpha=1e-05, hidden_layer_sizes=(1, 8, 4), solver=adam;, score=0.201 total time=   0.4s\n",
      "[CV 5/5] END activation=relu, alpha=1e-05, hidden_layer_sizes=(2, 5, 3), solver=adam;, score=0.378 total time=   4.5s\n",
      "[CV 4/5] END activation=logistic, alpha=1e-05, hidden_layer_sizes=(1, 8, 4), solver=adam;, score=0.203 total time=   0.4s\n",
      "[CV 2/5] END activation=logistic, alpha=1e-05, hidden_layer_sizes=(1, 8, 4), solver=adam;, score=0.316 total time=   2.4s\n",
      "[CV 2/5] END activation=relu, alpha=0.0001, hidden_layer_sizes=(1, 12, 3), solver=adam;, score=0.567 total time=   4.7s\n",
      "[CV 1/5] END activation=relu, alpha=0.0001, hidden_layer_sizes=(1, 12, 3), solver=adam;, score=0.447 total time=   5.5s\n",
      "[CV 3/5] END activation=logistic, alpha=1e-05, hidden_layer_sizes=(1, 8, 4), solver=adam;, score=0.337 total time=   2.2s\n",
      "[CV 4/5] END activation=relu, alpha=1e-05, hidden_layer_sizes=(2, 5, 3), solver=adam;, score=0.671 total time=   8.0s\n",
      "[CV 4/5] END activation=relu, alpha=0.0001, hidden_layer_sizes=(1, 12, 3), solver=adam;, score=0.516 total time=   4.4s\n",
      "[CV 5/5] END activation=logistic, alpha=1e-05, hidden_layer_sizes=(1, 8, 4), solver=adam;, score=0.338 total time=   2.3s\n",
      "[CV 2/5] END activation=logistic, alpha=0.0001, hidden_layer_sizes=(2, 2, 2), solver=lbfgs;, score=0.353 total time=   0.7s\n",
      "[CV 3/5] END activation=logistic, alpha=0.0001, hidden_layer_sizes=(2, 2, 2), solver=lbfgs;, score=0.329 total time=   0.5s\n"
     ]
    },
    {
     "output_type": "stream",
     "name": "stderr",
     "text": [
      "/Users/mohamed/ZenAI-3YP/3yp_venv/lib/python3.10/site-packages/sklearn/neural_network/_multilayer_perceptron.py:536: ConvergenceWarning: lbfgs failed to converge (status=1):\n",
      "STOP: TOTAL NO. of ITERATIONS REACHED LIMIT.\n",
      "\n",
      "Increase the number of iterations (max_iter) or scale the data as shown in:\n",
      "    https://scikit-learn.org/stable/modules/preprocessing.html\n",
      "  self.n_iter_ = _check_optimize_result(\"lbfgs\", opt_res, self.max_iter)\n"
     ]
    },
    {
     "output_type": "stream",
     "name": "stdout",
     "text": [
      "[CV 1/5] END activation=logistic, alpha=0.0001, hidden_layer_sizes=(2, 2, 2), solver=lbfgs;, score=0.340 total time=   2.8s\n"
     ]
    },
    {
     "output_type": "stream",
     "name": "stderr",
     "text": [
      "/Users/mohamed/ZenAI-3YP/3yp_venv/lib/python3.10/site-packages/sklearn/neural_network/_multilayer_perceptron.py:536: ConvergenceWarning: lbfgs failed to converge (status=1):\n",
      "STOP: TOTAL NO. of ITERATIONS REACHED LIMIT.\n",
      "\n",
      "Increase the number of iterations (max_iter) or scale the data as shown in:\n",
      "    https://scikit-learn.org/stable/modules/preprocessing.html\n",
      "  self.n_iter_ = _check_optimize_result(\"lbfgs\", opt_res, self.max_iter)\n",
      "/Users/mohamed/ZenAI-3YP/3yp_venv/lib/python3.10/site-packages/sklearn/neural_network/_multilayer_perceptron.py:536: ConvergenceWarning: lbfgs failed to converge (status=1):\n",
      "STOP: TOTAL NO. of ITERATIONS REACHED LIMIT.\n",
      "\n",
      "Increase the number of iterations (max_iter) or scale the data as shown in:\n",
      "    https://scikit-learn.org/stable/modules/preprocessing.html\n",
      "  self.n_iter_ = _check_optimize_result(\"lbfgs\", opt_res, self.max_iter)\n"
     ]
    },
    {
     "output_type": "stream",
     "name": "stdout",
     "text": [
      "[CV 3/5] END activation=logistic, alpha=0.0001, hidden_layer_sizes=(13, 3, 10), solver=lbfgs;, score=0.663 total time=   4.4s\n",
      "[CV 4/5] END activation=logistic, alpha=0.0001, hidden_layer_sizes=(13, 3, 10), solver=lbfgs;, score=0.634 total time=   4.3s\n"
     ]
    },
    {
     "output_type": "stream",
     "name": "stderr",
     "text": [
      "/Users/mohamed/ZenAI-3YP/3yp_venv/lib/python3.10/site-packages/sklearn/neural_network/_multilayer_perceptron.py:536: ConvergenceWarning: lbfgs failed to converge (status=1):\n",
      "STOP: TOTAL NO. of ITERATIONS REACHED LIMIT.\n",
      "\n",
      "Increase the number of iterations (max_iter) or scale the data as shown in:\n",
      "    https://scikit-learn.org/stable/modules/preprocessing.html\n",
      "  self.n_iter_ = _check_optimize_result(\"lbfgs\", opt_res, self.max_iter)\n",
      "/Users/mohamed/ZenAI-3YP/3yp_venv/lib/python3.10/site-packages/sklearn/neural_network/_multilayer_perceptron.py:679: ConvergenceWarning: Stochastic Optimizer: Maximum iterations (1000) reached and the optimization hasn't converged yet.\n",
      "  warnings.warn(\n"
     ]
    },
    {
     "output_type": "stream",
     "name": "stdout",
     "text": [
      "[CV 1/5] END activation=logistic, alpha=0.0001, hidden_layer_sizes=(13, 3, 10), solver=lbfgs;, score=0.551 total time=   4.7s\n",
      "[CV 3/5] END activation=relu, alpha=0.0001, hidden_layer_sizes=(1, 12, 3), solver=adam;, score=0.553 total time=   8.8s\n"
     ]
    },
    {
     "output_type": "stream",
     "name": "stderr",
     "text": [
      "/Users/mohamed/ZenAI-3YP/3yp_venv/lib/python3.10/site-packages/sklearn/neural_network/_multilayer_perceptron.py:536: ConvergenceWarning: lbfgs failed to converge (status=1):\n",
      "STOP: TOTAL NO. of ITERATIONS REACHED LIMIT.\n",
      "\n",
      "Increase the number of iterations (max_iter) or scale the data as shown in:\n",
      "    https://scikit-learn.org/stable/modules/preprocessing.html\n",
      "  self.n_iter_ = _check_optimize_result(\"lbfgs\", opt_res, self.max_iter)\n"
     ]
    },
    {
     "output_type": "stream",
     "name": "stdout",
     "text": [
      "[CV 2/5] END activation=logistic, alpha=0.0001, hidden_layer_sizes=(13, 3, 10), solver=lbfgs;, score=0.583 total time=   5.0s\n"
     ]
    },
    {
     "output_type": "stream",
     "name": "stderr",
     "text": [
      "/Users/mohamed/ZenAI-3YP/3yp_venv/lib/python3.10/site-packages/sklearn/neural_network/_multilayer_perceptron.py:536: ConvergenceWarning: lbfgs failed to converge (status=1):\n",
      "STOP: TOTAL NO. of ITERATIONS REACHED LIMIT.\n",
      "\n",
      "Increase the number of iterations (max_iter) or scale the data as shown in:\n",
      "    https://scikit-learn.org/stable/modules/preprocessing.html\n",
      "  self.n_iter_ = _check_optimize_result(\"lbfgs\", opt_res, self.max_iter)\n"
     ]
    },
    {
     "output_type": "stream",
     "name": "stdout",
     "text": [
      "[CV 5/5] END activation=logistic, alpha=0.0001, hidden_layer_sizes=(13, 3, 10), solver=lbfgs;, score=0.448 total time=   5.1s\n"
     ]
    },
    {
     "output_type": "stream",
     "name": "stderr",
     "text": [
      "/Users/mohamed/ZenAI-3YP/3yp_venv/lib/python3.10/site-packages/sklearn/neural_network/_multilayer_perceptron.py:536: ConvergenceWarning: lbfgs failed to converge (status=1):\n",
      "STOP: TOTAL NO. of ITERATIONS REACHED LIMIT.\n",
      "\n",
      "Increase the number of iterations (max_iter) or scale the data as shown in:\n",
      "    https://scikit-learn.org/stable/modules/preprocessing.html\n",
      "  self.n_iter_ = _check_optimize_result(\"lbfgs\", opt_res, self.max_iter)\n"
     ]
    },
    {
     "output_type": "stream",
     "name": "stdout",
     "text": [
      "[CV 4/5] END activation=logistic, alpha=0.0001, hidden_layer_sizes=(2, 2, 2), solver=lbfgs;, score=0.385 total time=   5.3s\n"
     ]
    },
    {
     "output_type": "stream",
     "name": "stderr",
     "text": [
      "/Users/mohamed/ZenAI-3YP/3yp_venv/lib/python3.10/site-packages/sklearn/neural_network/_multilayer_perceptron.py:536: ConvergenceWarning: lbfgs failed to converge (status=1):\n",
      "STOP: TOTAL NO. of ITERATIONS REACHED LIMIT.\n",
      "\n",
      "Increase the number of iterations (max_iter) or scale the data as shown in:\n",
      "    https://scikit-learn.org/stable/modules/preprocessing.html\n",
      "  self.n_iter_ = _check_optimize_result(\"lbfgs\", opt_res, self.max_iter)\n"
     ]
    },
    {
     "output_type": "stream",
     "name": "stdout",
     "text": [
      "[CV 5/5] END activation=logistic, alpha=0.0001, hidden_layer_sizes=(2, 2, 2), solver=lbfgs;, score=0.450 total time=   5.3s\n"
     ]
    },
    {
     "output_type": "stream",
     "name": "stderr",
     "text": [
      "/Users/mohamed/ZenAI-3YP/3yp_venv/lib/python3.10/site-packages/sklearn/neural_network/_multilayer_perceptron.py:536: ConvergenceWarning: lbfgs failed to converge (status=1):\n",
      "STOP: TOTAL NO. of ITERATIONS REACHED LIMIT.\n",
      "\n",
      "Increase the number of iterations (max_iter) or scale the data as shown in:\n",
      "    https://scikit-learn.org/stable/modules/preprocessing.html\n",
      "  self.n_iter_ = _check_optimize_result(\"lbfgs\", opt_res, self.max_iter)\n",
      "/Users/mohamed/ZenAI-3YP/3yp_venv/lib/python3.10/site-packages/sklearn/neural_network/_multilayer_perceptron.py:536: ConvergenceWarning: lbfgs failed to converge (status=1):\n",
      "STOP: TOTAL NO. of ITERATIONS REACHED LIMIT.\n",
      "\n",
      "Increase the number of iterations (max_iter) or scale the data as shown in:\n",
      "    https://scikit-learn.org/stable/modules/preprocessing.html\n",
      "  self.n_iter_ = _check_optimize_result(\"lbfgs\", opt_res, self.max_iter)\n",
      "/Users/mohamed/ZenAI-3YP/3yp_venv/lib/python3.10/site-packages/sklearn/neural_network/_multilayer_perceptron.py:536: ConvergenceWarning: lbfgs failed to converge (status=1):\n",
      "STOP: TOTAL NO. of ITERATIONS REACHED LIMIT.\n",
      "\n",
      "Increase the number of iterations (max_iter) or scale the data as shown in:\n",
      "    https://scikit-learn.org/stable/modules/preprocessing.html\n",
      "  self.n_iter_ = _check_optimize_result(\"lbfgs\", opt_res, self.max_iter)\n"
     ]
    },
    {
     "output_type": "stream",
     "name": "stdout",
     "text": [
      "[CV 2/5] END activation=logistic, alpha=0.0001, hidden_layer_sizes=(6, 2, 4), solver=lbfgs;, score=0.409 total time=   5.9s\n",
      "[CV 1/5] END activation=logistic, alpha=0.0001, hidden_layer_sizes=(6, 2, 4), solver=lbfgs;, score=0.508 total time=   6.1s\n",
      "[CV 4/5] END activation=logistic, alpha=0.0001, hidden_layer_sizes=(6, 2, 4), solver=lbfgs;, score=0.455 total time=   5.8s\n",
      "[CV 1/5] END activation=relu, alpha=0.001, hidden_layer_sizes=(1, 13, 7), solver=lbfgs;, score=0.201 total time=   0.1s\n"
     ]
    },
    {
     "output_type": "stream",
     "name": "stderr",
     "text": [
      "/Users/mohamed/ZenAI-3YP/3yp_venv/lib/python3.10/site-packages/sklearn/neural_network/_multilayer_perceptron.py:536: ConvergenceWarning: lbfgs failed to converge (status=1):\n",
      "STOP: TOTAL NO. of ITERATIONS REACHED LIMIT.\n",
      "\n",
      "Increase the number of iterations (max_iter) or scale the data as shown in:\n",
      "    https://scikit-learn.org/stable/modules/preprocessing.html\n",
      "  self.n_iter_ = _check_optimize_result(\"lbfgs\", opt_res, self.max_iter)\n",
      "/Users/mohamed/ZenAI-3YP/3yp_venv/lib/python3.10/site-packages/sklearn/neural_network/_multilayer_perceptron.py:536: ConvergenceWarning: lbfgs failed to converge (status=1):\n",
      "STOP: TOTAL NO. of ITERATIONS REACHED LIMIT.\n",
      "\n",
      "Increase the number of iterations (max_iter) or scale the data as shown in:\n",
      "    https://scikit-learn.org/stable/modules/preprocessing.html\n",
      "  self.n_iter_ = _check_optimize_result(\"lbfgs\", opt_res, self.max_iter)\n"
     ]
    },
    {
     "output_type": "stream",
     "name": "stdout",
     "text": [
      "[CV 3/5] END activation=logistic, alpha=0.0001, hidden_layer_sizes=(6, 2, 4), solver=lbfgs;, score=0.457 total time=   6.2s\n",
      "[CV 5/5] END activation=logistic, alpha=0.0001, hidden_layer_sizes=(6, 2, 4), solver=lbfgs;, score=0.338 total time=   5.9s\n",
      "[CV 4/5] END activation=relu, alpha=0.001, hidden_layer_sizes=(1, 13, 7), solver=lbfgs;, score=0.203 total time=   0.1s\n",
      "[CV 5/5] END activation=relu, alpha=0.001, hidden_layer_sizes=(1, 13, 7), solver=lbfgs;, score=0.204 total time=   0.0s\n",
      "[CV 3/5] END activation=relu, alpha=0.001, hidden_layer_sizes=(1, 13, 7), solver=lbfgs;, score=0.203 total time=   0.4s\n",
      "[CV 2/5] END activation=logistic, alpha=0.01, hidden_layer_sizes=(1, 1, 9), solver=lbfgs;, score=0.203 total time=   0.0s\n",
      "[CV 3/5] END activation=logistic, alpha=0.01, hidden_layer_sizes=(1, 1, 9), solver=lbfgs;, score=0.203 total time=   0.0s\n",
      "[CV 4/5] END activation=logistic, alpha=0.01, hidden_layer_sizes=(1, 1, 9), solver=lbfgs;, score=0.203 total time=   0.0s\n",
      "[CV 2/5] END activation=relu, alpha=0.001, hidden_layer_sizes=(1, 13, 7), solver=lbfgs;, score=0.503 total time=   3.0s\n",
      "[CV 5/5] END activation=relu, alpha=0.01, hidden_layer_sizes=(12, 12, 12), solver=adam;, score=0.893 total time=   3.7s\n"
     ]
    },
    {
     "output_type": "stream",
     "name": "stderr",
     "text": [
      "/Users/mohamed/ZenAI-3YP/3yp_venv/lib/python3.10/site-packages/sklearn/neural_network/_multilayer_perceptron.py:536: ConvergenceWarning: lbfgs failed to converge (status=1):\n",
      "STOP: TOTAL NO. of ITERATIONS REACHED LIMIT.\n",
      "\n",
      "Increase the number of iterations (max_iter) or scale the data as shown in:\n",
      "    https://scikit-learn.org/stable/modules/preprocessing.html\n",
      "  self.n_iter_ = _check_optimize_result(\"lbfgs\", opt_res, self.max_iter)\n"
     ]
    },
    {
     "output_type": "stream",
     "name": "stdout",
     "text": [
      "[CV 2/5] END activation=relu, alpha=0.01, hidden_layer_sizes=(12, 12, 12), solver=adam;, score=0.850 total time=   6.3s\n",
      "[CV 1/5] END activation=logistic, alpha=0.01, hidden_layer_sizes=(1, 1, 9), solver=lbfgs;, score=0.364 total time=   3.4s\n"
     ]
    },
    {
     "output_type": "stream",
     "name": "stderr",
     "text": [
      "/Users/mohamed/ZenAI-3YP/3yp_venv/lib/python3.10/site-packages/sklearn/neural_network/_multilayer_perceptron.py:536: ConvergenceWarning: lbfgs failed to converge (status=1):\n",
      "STOP: TOTAL NO. of ITERATIONS REACHED LIMIT.\n",
      "\n",
      "Increase the number of iterations (max_iter) or scale the data as shown in:\n",
      "    https://scikit-learn.org/stable/modules/preprocessing.html\n",
      "  self.n_iter_ = _check_optimize_result(\"lbfgs\", opt_res, self.max_iter)\n"
     ]
    },
    {
     "output_type": "stream",
     "name": "stdout",
     "text": [
      "[CV 5/5] END activation=logistic, alpha=0.01, hidden_layer_sizes=(1, 1, 9), solver=lbfgs;, score=0.338 total time=   3.4s\n",
      "[CV 3/5] END activation=relu, alpha=0.01, hidden_layer_sizes=(12, 12, 12), solver=adam;, score=0.848 total time=   6.3s\n",
      "[CV 4/5] END activation=relu, alpha=0.01, hidden_layer_sizes=(12, 12, 12), solver=adam;, score=0.882 total time=   5.3s\n",
      "[CV 3/5] END activation=relu, alpha=0.01, hidden_layer_sizes=(5, 4, 9), solver=lbfgs;, score=0.540 total time=   1.4s\n",
      "[CV 1/5] END activation=relu, alpha=0.01, hidden_layer_sizes=(12, 12, 12), solver=adam;, score=0.872 total time=  10.0s\n"
     ]
    },
    {
     "output_type": "stream",
     "name": "stderr",
     "text": [
      "/Users/mohamed/ZenAI-3YP/3yp_venv/lib/python3.10/site-packages/sklearn/neural_network/_multilayer_perceptron.py:536: ConvergenceWarning: lbfgs failed to converge (status=1):\n",
      "STOP: TOTAL NO. of ITERATIONS REACHED LIMIT.\n",
      "\n",
      "Increase the number of iterations (max_iter) or scale the data as shown in:\n",
      "    https://scikit-learn.org/stable/modules/preprocessing.html\n",
      "  self.n_iter_ = _check_optimize_result(\"lbfgs\", opt_res, self.max_iter)\n"
     ]
    },
    {
     "output_type": "stream",
     "name": "stdout",
     "text": [
      "[CV 1/5] END activation=relu, alpha=0.01, hidden_layer_sizes=(5, 4, 9), solver=lbfgs;, score=0.655 total time=   3.2s\n",
      "[CV 5/5] END activation=relu, alpha=0.01, hidden_layer_sizes=(5, 4, 9), solver=lbfgs;, score=0.595 total time=   2.1s\n",
      "[CV 4/5] END activation=relu, alpha=0.01, hidden_layer_sizes=(5, 4, 9), solver=lbfgs;, score=0.746 total time=   2.9s\n"
     ]
    },
    {
     "output_type": "stream",
     "name": "stderr",
     "text": [
      "/Users/mohamed/ZenAI-3YP/3yp_venv/lib/python3.10/site-packages/sklearn/neural_network/_multilayer_perceptron.py:536: ConvergenceWarning: lbfgs failed to converge (status=1):\n",
      "STOP: TOTAL NO. of ITERATIONS REACHED LIMIT.\n",
      "\n",
      "Increase the number of iterations (max_iter) or scale the data as shown in:\n",
      "    https://scikit-learn.org/stable/modules/preprocessing.html\n",
      "  self.n_iter_ = _check_optimize_result(\"lbfgs\", opt_res, self.max_iter)\n"
     ]
    },
    {
     "output_type": "stream",
     "name": "stdout",
     "text": [
      "[CV 2/5] END activation=relu, alpha=0.01, hidden_layer_sizes=(5, 4, 9), solver=lbfgs;, score=0.684 total time=   3.7s\n"
     ]
    },
    {
     "output_type": "stream",
     "name": "stderr",
     "text": [
      "/Users/mohamed/ZenAI-3YP/3yp_venv/lib/python3.10/site-packages/sklearn/neural_network/_multilayer_perceptron.py:536: ConvergenceWarning: lbfgs failed to converge (status=1):\n",
      "STOP: TOTAL NO. of ITERATIONS REACHED LIMIT.\n",
      "\n",
      "Increase the number of iterations (max_iter) or scale the data as shown in:\n",
      "    https://scikit-learn.org/stable/modules/preprocessing.html\n",
      "  self.n_iter_ = _check_optimize_result(\"lbfgs\", opt_res, self.max_iter)\n",
      "/Users/mohamed/ZenAI-3YP/3yp_venv/lib/python3.10/site-packages/sklearn/neural_network/_multilayer_perceptron.py:536: ConvergenceWarning: lbfgs failed to converge (status=1):\n",
      "STOP: TOTAL NO. of ITERATIONS REACHED LIMIT.\n",
      "\n",
      "Increase the number of iterations (max_iter) or scale the data as shown in:\n",
      "    https://scikit-learn.org/stable/modules/preprocessing.html\n",
      "  self.n_iter_ = _check_optimize_result(\"lbfgs\", opt_res, self.max_iter)\n"
     ]
    },
    {
     "output_type": "stream",
     "name": "stdout",
     "text": [
      "[CV 1/5] END activation=logistic, alpha=1, hidden_layer_sizes=(8, 7, 4), solver=lbfgs;, score=0.682 total time=   3.6s\n",
      "[CV 2/5] END activation=logistic, alpha=1, hidden_layer_sizes=(8, 7, 4), solver=lbfgs;, score=0.583 total time=   3.5s\n"
     ]
    },
    {
     "output_type": "stream",
     "name": "stderr",
     "text": [
      "/Users/mohamed/ZenAI-3YP/3yp_venv/lib/python3.10/site-packages/sklearn/neural_network/_multilayer_perceptron.py:536: ConvergenceWarning: lbfgs failed to converge (status=1):\n",
      "STOP: TOTAL NO. of ITERATIONS REACHED LIMIT.\n",
      "\n",
      "Increase the number of iterations (max_iter) or scale the data as shown in:\n",
      "    https://scikit-learn.org/stable/modules/preprocessing.html\n",
      "  self.n_iter_ = _check_optimize_result(\"lbfgs\", opt_res, self.max_iter)\n",
      "/Users/mohamed/ZenAI-3YP/3yp_venv/lib/python3.10/site-packages/sklearn/neural_network/_multilayer_perceptron.py:536: ConvergenceWarning: lbfgs failed to converge (status=1):\n",
      "STOP: TOTAL NO. of ITERATIONS REACHED LIMIT.\n",
      "\n",
      "Increase the number of iterations (max_iter) or scale the data as shown in:\n",
      "    https://scikit-learn.org/stable/modules/preprocessing.html\n",
      "  self.n_iter_ = _check_optimize_result(\"lbfgs\", opt_res, self.max_iter)\n"
     ]
    },
    {
     "output_type": "stream",
     "name": "stdout",
     "text": [
      "[CV 4/5] END activation=logistic, alpha=1, hidden_layer_sizes=(8, 7, 4), solver=lbfgs;, score=0.813 total time=   3.5s\n",
      "[CV 3/5] END activation=logistic, alpha=1, hidden_layer_sizes=(8, 7, 4), solver=lbfgs;, score=0.741 total time=   3.7s\n"
     ]
    },
    {
     "output_type": "stream",
     "name": "stderr",
     "text": [
      "/Users/mohamed/ZenAI-3YP/3yp_venv/lib/python3.10/site-packages/sklearn/neural_network/_multilayer_perceptron.py:536: ConvergenceWarning: lbfgs failed to converge (status=1):\n",
      "STOP: TOTAL NO. of ITERATIONS REACHED LIMIT.\n",
      "\n",
      "Increase the number of iterations (max_iter) or scale the data as shown in:\n",
      "    https://scikit-learn.org/stable/modules/preprocessing.html\n",
      "  self.n_iter_ = _check_optimize_result(\"lbfgs\", opt_res, self.max_iter)\n",
      "/Users/mohamed/ZenAI-3YP/3yp_venv/lib/python3.10/site-packages/sklearn/neural_network/_multilayer_perceptron.py:536: ConvergenceWarning: lbfgs failed to converge (status=1):\n",
      "STOP: TOTAL NO. of ITERATIONS REACHED LIMIT.\n",
      "\n",
      "Increase the number of iterations (max_iter) or scale the data as shown in:\n",
      "    https://scikit-learn.org/stable/modules/preprocessing.html\n",
      "  self.n_iter_ = _check_optimize_result(\"lbfgs\", opt_res, self.max_iter)\n"
     ]
    },
    {
     "output_type": "stream",
     "name": "stdout",
     "text": [
      "[CV 1/5] END activation=relu, alpha=1, hidden_layer_sizes=(11, 7, 3), solver=lbfgs;, score=0.767 total time=   3.2s\n",
      "[CV 5/5] END activation=logistic, alpha=1, hidden_layer_sizes=(8, 7, 4), solver=lbfgs;, score=0.826 total time=   3.4s\n"
     ]
    },
    {
     "output_type": "stream",
     "name": "stderr",
     "text": [
      "/Users/mohamed/ZenAI-3YP/3yp_venv/lib/python3.10/site-packages/sklearn/neural_network/_multilayer_perceptron.py:536: ConvergenceWarning: lbfgs failed to converge (status=1):\n",
      "STOP: TOTAL NO. of ITERATIONS REACHED LIMIT.\n",
      "\n",
      "Increase the number of iterations (max_iter) or scale the data as shown in:\n",
      "    https://scikit-learn.org/stable/modules/preprocessing.html\n",
      "  self.n_iter_ = _check_optimize_result(\"lbfgs\", opt_res, self.max_iter)\n"
     ]
    },
    {
     "output_type": "stream",
     "name": "stdout",
     "text": [
      "[CV 2/5] END activation=relu, alpha=1, hidden_layer_sizes=(11, 7, 3), solver=lbfgs;, score=0.701 total time=   3.3s\n"
     ]
    },
    {
     "output_type": "stream",
     "name": "stderr",
     "text": [
      "/Users/mohamed/ZenAI-3YP/3yp_venv/lib/python3.10/site-packages/sklearn/neural_network/_multilayer_perceptron.py:536: ConvergenceWarning: lbfgs failed to converge (status=1):\n",
      "STOP: TOTAL NO. of ITERATIONS REACHED LIMIT.\n",
      "\n",
      "Increase the number of iterations (max_iter) or scale the data as shown in:\n",
      "    https://scikit-learn.org/stable/modules/preprocessing.html\n",
      "  self.n_iter_ = _check_optimize_result(\"lbfgs\", opt_res, self.max_iter)\n"
     ]
    },
    {
     "output_type": "stream",
     "name": "stdout",
     "text": [
      "[CV 3/5] END activation=relu, alpha=1, hidden_layer_sizes=(11, 7, 3), solver=lbfgs;, score=0.832 total time=   3.2s\n",
      "[CV 4/5] END activation=relu, alpha=0.01, hidden_layer_sizes=(10, 12, 11), solver=adam;, score=0.824 total time=   1.7s\n"
     ]
    },
    {
     "output_type": "stream",
     "name": "stderr",
     "text": [
      "/Users/mohamed/ZenAI-3YP/3yp_venv/lib/python3.10/site-packages/sklearn/neural_network/_multilayer_perceptron.py:536: ConvergenceWarning: lbfgs failed to converge (status=1):\n",
      "STOP: TOTAL NO. of ITERATIONS REACHED LIMIT.\n",
      "\n",
      "Increase the number of iterations (max_iter) or scale the data as shown in:\n",
      "    https://scikit-learn.org/stable/modules/preprocessing.html\n",
      "  self.n_iter_ = _check_optimize_result(\"lbfgs\", opt_res, self.max_iter)\n"
     ]
    },
    {
     "output_type": "stream",
     "name": "stdout",
     "text": [
      "[CV 4/5] END activation=relu, alpha=1, hidden_layer_sizes=(11, 7, 3), solver=lbfgs;, score=0.762 total time=   3.1s\n"
     ]
    },
    {
     "output_type": "stream",
     "name": "stderr",
     "text": [
      "/Users/mohamed/ZenAI-3YP/3yp_venv/lib/python3.10/site-packages/sklearn/neural_network/_multilayer_perceptron.py:536: ConvergenceWarning: lbfgs failed to converge (status=1):\n",
      "STOP: TOTAL NO. of ITERATIONS REACHED LIMIT.\n",
      "\n",
      "Increase the number of iterations (max_iter) or scale the data as shown in:\n",
      "    https://scikit-learn.org/stable/modules/preprocessing.html\n",
      "  self.n_iter_ = _check_optimize_result(\"lbfgs\", opt_res, self.max_iter)\n"
     ]
    },
    {
     "output_type": "stream",
     "name": "stdout",
     "text": [
      "[CV 5/5] END activation=relu, alpha=1, hidden_layer_sizes=(11, 7, 3), solver=lbfgs;, score=0.579 total time=   3.2s\n",
      "[CV 1/5] END activation=relu, alpha=0.01, hidden_layer_sizes=(10, 12, 11), solver=adam;, score=0.829 total time=   4.3s\n",
      "[CV 2/5] END activation=relu, alpha=0.01, hidden_layer_sizes=(10, 12, 11), solver=adam;, score=0.845 total time=   5.0s\n",
      "[CV 3/5] END activation=relu, alpha=0.01, hidden_layer_sizes=(10, 12, 11), solver=adam;, score=0.842 total time=   5.3s\n",
      "[CV 1/5] END activation=logistic, alpha=1, hidden_layer_sizes=(14, 11, 4), solver=lbfgs;, score=0.816 total time=   4.3s\n"
     ]
    },
    {
     "output_type": "stream",
     "name": "stderr",
     "text": [
      "/Users/mohamed/ZenAI-3YP/3yp_venv/lib/python3.10/site-packages/sklearn/neural_network/_multilayer_perceptron.py:536: ConvergenceWarning: lbfgs failed to converge (status=1):\n",
      "STOP: TOTAL NO. of ITERATIONS REACHED LIMIT.\n",
      "\n",
      "Increase the number of iterations (max_iter) or scale the data as shown in:\n",
      "    https://scikit-learn.org/stable/modules/preprocessing.html\n",
      "  self.n_iter_ = _check_optimize_result(\"lbfgs\", opt_res, self.max_iter)\n",
      "/Users/mohamed/ZenAI-3YP/3yp_venv/lib/python3.10/site-packages/sklearn/neural_network/_multilayer_perceptron.py:536: ConvergenceWarning: lbfgs failed to converge (status=1):\n",
      "STOP: TOTAL NO. of ITERATIONS REACHED LIMIT.\n",
      "\n",
      "Increase the number of iterations (max_iter) or scale the data as shown in:\n",
      "    https://scikit-learn.org/stable/modules/preprocessing.html\n",
      "  self.n_iter_ = _check_optimize_result(\"lbfgs\", opt_res, self.max_iter)\n"
     ]
    },
    {
     "output_type": "stream",
     "name": "stdout",
     "text": [
      "[CV 2/5] END activation=logistic, alpha=1, hidden_layer_sizes=(14, 11, 4), solver=lbfgs;, score=0.773 total time=   4.4s\n"
     ]
    },
    {
     "output_type": "stream",
     "name": "stderr",
     "text": [
      "/Users/mohamed/ZenAI-3YP/3yp_venv/lib/python3.10/site-packages/sklearn/neural_network/_multilayer_perceptron.py:536: ConvergenceWarning: lbfgs failed to converge (status=1):\n",
      "STOP: TOTAL NO. of ITERATIONS REACHED LIMIT.\n",
      "\n",
      "Increase the number of iterations (max_iter) or scale the data as shown in:\n",
      "    https://scikit-learn.org/stable/modules/preprocessing.html\n",
      "  self.n_iter_ = _check_optimize_result(\"lbfgs\", opt_res, self.max_iter)\n"
     ]
    },
    {
     "output_type": "stream",
     "name": "stdout",
     "text": [
      "[CV 3/5] END activation=logistic, alpha=1, hidden_layer_sizes=(14, 11, 4), solver=lbfgs;, score=0.765 total time=   4.4s\n",
      "[CV 5/5] END activation=logistic, alpha=1e-05, hidden_layer_sizes=(4, 1, 5), solver=lbfgs;, score=0.204 total time=   0.0s\n",
      "[CV 5/5] END activation=relu, alpha=0.01, hidden_layer_sizes=(10, 12, 11), solver=adam;, score=0.863 total time=   6.1s\n",
      "[CV 4/5] END activation=logistic, alpha=1, hidden_layer_sizes=(14, 11, 4), solver=lbfgs;, score=0.821 total time=   4.4s\n"
     ]
    },
    {
     "output_type": "stream",
     "name": "stderr",
     "text": [
      "/Users/mohamed/ZenAI-3YP/3yp_venv/lib/python3.10/site-packages/sklearn/neural_network/_multilayer_perceptron.py:536: ConvergenceWarning: lbfgs failed to converge (status=1):\n",
      "STOP: TOTAL NO. of ITERATIONS REACHED LIMIT.\n",
      "\n",
      "Increase the number of iterations (max_iter) or scale the data as shown in:\n",
      "    https://scikit-learn.org/stable/modules/preprocessing.html\n",
      "  self.n_iter_ = _check_optimize_result(\"lbfgs\", opt_res, self.max_iter)\n",
      "/Users/mohamed/ZenAI-3YP/3yp_venv/lib/python3.10/site-packages/sklearn/neural_network/_multilayer_perceptron.py:536: ConvergenceWarning: lbfgs failed to converge (status=1):\n",
      "STOP: TOTAL NO. of ITERATIONS REACHED LIMIT.\n",
      "\n",
      "Increase the number of iterations (max_iter) or scale the data as shown in:\n",
      "    https://scikit-learn.org/stable/modules/preprocessing.html\n",
      "  self.n_iter_ = _check_optimize_result(\"lbfgs\", opt_res, self.max_iter)\n"
     ]
    },
    {
     "output_type": "stream",
     "name": "stdout",
     "text": [
      "[CV 1/5] END activation=logistic, alpha=1e-05, hidden_layer_sizes=(4, 1, 5), solver=lbfgs;, score=0.313 total time=   3.0s\n"
     ]
    },
    {
     "output_type": "stream",
     "name": "stderr",
     "text": [
      "/Users/mohamed/ZenAI-3YP/3yp_venv/lib/python3.10/site-packages/sklearn/neural_network/_multilayer_perceptron.py:536: ConvergenceWarning: lbfgs failed to converge (status=1):\n",
      "STOP: TOTAL NO. of ITERATIONS REACHED LIMIT.\n",
      "\n",
      "Increase the number of iterations (max_iter) or scale the data as shown in:\n",
      "    https://scikit-learn.org/stable/modules/preprocessing.html\n",
      "  self.n_iter_ = _check_optimize_result(\"lbfgs\", opt_res, self.max_iter)\n",
      "/Users/mohamed/ZenAI-3YP/3yp_venv/lib/python3.10/site-packages/sklearn/neural_network/_multilayer_perceptron.py:536: ConvergenceWarning: lbfgs failed to converge (status=1):\n",
      "STOP: TOTAL NO. of ITERATIONS REACHED LIMIT.\n",
      "\n",
      "Increase the number of iterations (max_iter) or scale the data as shown in:\n",
      "    https://scikit-learn.org/stable/modules/preprocessing.html\n",
      "  self.n_iter_ = _check_optimize_result(\"lbfgs\", opt_res, self.max_iter)\n",
      "/Users/mohamed/ZenAI-3YP/3yp_venv/lib/python3.10/site-packages/sklearn/neural_network/_multilayer_perceptron.py:536: ConvergenceWarning: lbfgs failed to converge (status=1):\n",
      "STOP: TOTAL NO. of ITERATIONS REACHED LIMIT.\n",
      "\n",
      "Increase the number of iterations (max_iter) or scale the data as shown in:\n",
      "    https://scikit-learn.org/stable/modules/preprocessing.html\n",
      "  self.n_iter_ = _check_optimize_result(\"lbfgs\", opt_res, self.max_iter)\n"
     ]
    },
    {
     "output_type": "stream",
     "name": "stdout",
     "text": [
      "[CV 3/5] END activation=logistic, alpha=1e-05, hidden_layer_sizes=(4, 1, 5), solver=lbfgs;, score=0.511 total time=   2.7s\n",
      "[CV 2/5] END activation=logistic, alpha=1e-05, hidden_layer_sizes=(4, 1, 5), solver=lbfgs;, score=0.388 total time=   2.8s\n",
      "[CV 5/5] END activation=logistic, alpha=1, hidden_layer_sizes=(14, 11, 4), solver=lbfgs;, score=0.882 total time=   4.5s\n",
      "[CV 2/5] END activation=relu, alpha=0.1, hidden_layer_sizes=(7, 6, 13), solver=adam;, score=0.783 total time=   2.1s\n",
      "[CV 4/5] END activation=logistic, alpha=1e-05, hidden_layer_sizes=(4, 1, 5), solver=lbfgs;, score=0.492 total time=   2.7s\n"
     ]
    },
    {
     "output_type": "stream",
     "name": "stderr",
     "text": [
      "/Users/mohamed/ZenAI-3YP/3yp_venv/lib/python3.10/site-packages/sklearn/neural_network/_multilayer_perceptron.py:536: ConvergenceWarning: lbfgs failed to converge (status=1):\n",
      "STOP: TOTAL NO. of ITERATIONS REACHED LIMIT.\n",
      "\n",
      "Increase the number of iterations (max_iter) or scale the data as shown in:\n",
      "    https://scikit-learn.org/stable/modules/preprocessing.html\n",
      "  self.n_iter_ = _check_optimize_result(\"lbfgs\", opt_res, self.max_iter)\n"
     ]
    },
    {
     "output_type": "stream",
     "name": "stdout",
     "text": [
      "[CV 4/5] END activation=relu, alpha=1, hidden_layer_sizes=(7, 14, 12), solver=lbfgs;, score=0.706 total time=   0.8s\n",
      "[CV 3/5] END activation=relu, alpha=0.1, hidden_layer_sizes=(7, 6, 13), solver=adam;, score=0.832 total time=   4.1s\n",
      "[CV 1/5] END activation=relu, alpha=0.1, hidden_layer_sizes=(7, 6, 13), solver=adam;, score=0.872 total time=   4.3s\n"
     ]
    },
    {
     "output_type": "stream",
     "name": "stderr",
     "text": [
      "/Users/mohamed/ZenAI-3YP/3yp_venv/lib/python3.10/site-packages/sklearn/neural_network/_multilayer_perceptron.py:536: ConvergenceWarning: lbfgs failed to converge (status=1):\n",
      "STOP: TOTAL NO. of ITERATIONS REACHED LIMIT.\n",
      "\n",
      "Increase the number of iterations (max_iter) or scale the data as shown in:\n",
      "    https://scikit-learn.org/stable/modules/preprocessing.html\n",
      "  self.n_iter_ = _check_optimize_result(\"lbfgs\", opt_res, self.max_iter)\n"
     ]
    },
    {
     "output_type": "stream",
     "name": "stdout",
     "text": [
      "[CV 2/5] END activation=relu, alpha=1, hidden_layer_sizes=(7, 14, 12), solver=lbfgs;, score=0.802 total time=   3.5s\n"
     ]
    },
    {
     "output_type": "stream",
     "name": "stderr",
     "text": [
      "/Users/mohamed/ZenAI-3YP/3yp_venv/lib/python3.10/site-packages/sklearn/neural_network/_multilayer_perceptron.py:536: ConvergenceWarning: lbfgs failed to converge (status=1):\n",
      "STOP: TOTAL NO. of ITERATIONS REACHED LIMIT.\n",
      "\n",
      "Increase the number of iterations (max_iter) or scale the data as shown in:\n",
      "    https://scikit-learn.org/stable/modules/preprocessing.html\n",
      "  self.n_iter_ = _check_optimize_result(\"lbfgs\", opt_res, self.max_iter)\n"
     ]
    },
    {
     "output_type": "stream",
     "name": "stdout",
     "text": [
      "[CV 1/5] END activation=relu, alpha=1, hidden_layer_sizes=(7, 14, 12), solver=lbfgs;, score=0.832 total time=   3.7s\n"
     ]
    },
    {
     "output_type": "stream",
     "name": "stderr",
     "text": [
      "/Users/mohamed/ZenAI-3YP/3yp_venv/lib/python3.10/site-packages/sklearn/neural_network/_multilayer_perceptron.py:536: ConvergenceWarning: lbfgs failed to converge (status=1):\n",
      "STOP: TOTAL NO. of ITERATIONS REACHED LIMIT.\n",
      "\n",
      "Increase the number of iterations (max_iter) or scale the data as shown in:\n",
      "    https://scikit-learn.org/stable/modules/preprocessing.html\n",
      "  self.n_iter_ = _check_optimize_result(\"lbfgs\", opt_res, self.max_iter)\n"
     ]
    },
    {
     "output_type": "stream",
     "name": "stdout",
     "text": [
      "[CV 3/5] END activation=relu, alpha=1, hidden_layer_sizes=(7, 14, 12), solver=lbfgs;, score=0.775 total time=   4.1s\n",
      "[CV 5/5] END activation=relu, alpha=0.1, hidden_layer_sizes=(7, 6, 13), solver=adam;, score=0.839 total time=   5.5s\n",
      "[CV 5/5] END activation=relu, alpha=1, hidden_layer_sizes=(7, 14, 12), solver=lbfgs;, score=0.847 total time=   4.0s\n"
     ]
    },
    {
     "output_type": "stream",
     "name": "stderr",
     "text": [
      "/Users/mohamed/ZenAI-3YP/3yp_venv/lib/python3.10/site-packages/sklearn/neural_network/_multilayer_perceptron.py:536: ConvergenceWarning: lbfgs failed to converge (status=1):\n",
      "STOP: TOTAL NO. of ITERATIONS REACHED LIMIT.\n",
      "\n",
      "Increase the number of iterations (max_iter) or scale the data as shown in:\n",
      "    https://scikit-learn.org/stable/modules/preprocessing.html\n",
      "  self.n_iter_ = _check_optimize_result(\"lbfgs\", opt_res, self.max_iter)\n"
     ]
    },
    {
     "output_type": "stream",
     "name": "stdout",
     "text": [
      "[CV 4/5] END activation=relu, alpha=0.1, hidden_layer_sizes=(7, 6, 13), solver=adam;, score=0.853 total time=   6.1s\n",
      "[CV 3/5] END activation=relu, alpha=0.01, hidden_layer_sizes=(11, 3, 3), solver=adam;, score=0.203 total time=   0.8s\n",
      "[CV 2/5] END activation=relu, alpha=0.01, hidden_layer_sizes=(11, 3, 3), solver=adam;, score=0.203 total time=   1.1s\n"
     ]
    },
    {
     "output_type": "stream",
     "name": "stderr",
     "text": [
      "/Users/mohamed/ZenAI-3YP/3yp_venv/lib/python3.10/site-packages/sklearn/neural_network/_multilayer_perceptron.py:536: ConvergenceWarning: lbfgs failed to converge (status=1):\n",
      "STOP: TOTAL NO. of ITERATIONS REACHED LIMIT.\n",
      "\n",
      "Increase the number of iterations (max_iter) or scale the data as shown in:\n",
      "    https://scikit-learn.org/stable/modules/preprocessing.html\n",
      "  self.n_iter_ = _check_optimize_result(\"lbfgs\", opt_res, self.max_iter)\n",
      "/Users/mohamed/ZenAI-3YP/3yp_venv/lib/python3.10/site-packages/sklearn/neural_network/_multilayer_perceptron.py:536: ConvergenceWarning: lbfgs failed to converge (status=1):\n",
      "STOP: TOTAL NO. of ITERATIONS REACHED LIMIT.\n",
      "\n",
      "Increase the number of iterations (max_iter) or scale the data as shown in:\n",
      "    https://scikit-learn.org/stable/modules/preprocessing.html\n",
      "  self.n_iter_ = _check_optimize_result(\"lbfgs\", opt_res, self.max_iter)\n"
     ]
    },
    {
     "output_type": "stream",
     "name": "stdout",
     "text": [
      "[CV 1/5] END activation=logistic, alpha=0.1, hidden_layer_sizes=(11, 12, 7), solver=lbfgs;, score=0.610 total time=   4.6s\n",
      "[CV 2/5] END activation=logistic, alpha=0.1, hidden_layer_sizes=(11, 12, 7), solver=lbfgs;, score=0.652 total time=   4.6s\n",
      "[CV 4/5] END activation=relu, alpha=0.01, hidden_layer_sizes=(11, 3, 3), solver=adam;, score=0.209 total time=   1.2s\n"
     ]
    },
    {
     "output_type": "stream",
     "name": "stderr",
     "text": [
      "/Users/mohamed/ZenAI-3YP/3yp_venv/lib/python3.10/site-packages/sklearn/neural_network/_multilayer_perceptron.py:536: ConvergenceWarning: lbfgs failed to converge (status=1):\n",
      "STOP: TOTAL NO. of ITERATIONS REACHED LIMIT.\n",
      "\n",
      "Increase the number of iterations (max_iter) or scale the data as shown in:\n",
      "    https://scikit-learn.org/stable/modules/preprocessing.html\n",
      "  self.n_iter_ = _check_optimize_result(\"lbfgs\", opt_res, self.max_iter)\n"
     ]
    },
    {
     "output_type": "stream",
     "name": "stdout",
     "text": [
      "[CV 3/5] END activation=logistic, alpha=0.1, hidden_layer_sizes=(11, 12, 7), solver=lbfgs;, score=0.436 total time=   4.5s\n"
     ]
    },
    {
     "output_type": "stream",
     "name": "stderr",
     "text": [
      "/Users/mohamed/ZenAI-3YP/3yp_venv/lib/python3.10/site-packages/sklearn/neural_network/_multilayer_perceptron.py:536: ConvergenceWarning: lbfgs failed to converge (status=1):\n",
      "STOP: TOTAL NO. of ITERATIONS REACHED LIMIT.\n",
      "\n",
      "Increase the number of iterations (max_iter) or scale the data as shown in:\n",
      "    https://scikit-learn.org/stable/modules/preprocessing.html\n",
      "  self.n_iter_ = _check_optimize_result(\"lbfgs\", opt_res, self.max_iter)\n"
     ]
    },
    {
     "output_type": "stream",
     "name": "stdout",
     "text": [
      "[CV 4/5] END activation=logistic, alpha=0.1, hidden_layer_sizes=(11, 12, 7), solver=lbfgs;, score=0.773 total time=   4.7s\n",
      "[CV 3/5] END activation=relu, alpha=0.01, hidden_layer_sizes=(2, 14, 10), solver=lbfgs;, score=0.332 total time=   1.7s\n",
      "[CV 5/5] END activation=logistic, alpha=0.1, hidden_layer_sizes=(11, 12, 7), solver=lbfgs;, score=0.692 total time=   4.7s\n"
     ]
    },
    {
     "output_type": "stream",
     "name": "stderr",
     "text": [
      "/Users/mohamed/ZenAI-3YP/3yp_venv/lib/python3.10/site-packages/sklearn/neural_network/_multilayer_perceptron.py:536: ConvergenceWarning: lbfgs failed to converge (status=1):\n",
      "STOP: TOTAL NO. of ITERATIONS REACHED LIMIT.\n",
      "\n",
      "Increase the number of iterations (max_iter) or scale the data as shown in:\n",
      "    https://scikit-learn.org/stable/modules/preprocessing.html\n",
      "  self.n_iter_ = _check_optimize_result(\"lbfgs\", opt_res, self.max_iter)\n"
     ]
    },
    {
     "output_type": "stream",
     "name": "stdout",
     "text": [
      "[CV 1/5] END activation=relu, alpha=0.01, hidden_layer_sizes=(2, 14, 10), solver=lbfgs;, score=0.604 total time=   2.2s\n",
      "[CV 2/5] END activation=relu, alpha=0.01, hidden_layer_sizes=(2, 14, 10), solver=lbfgs;, score=0.636 total time=   2.8s\n"
     ]
    },
    {
     "output_type": "stream",
     "name": "stderr",
     "text": [
      "/Users/mohamed/ZenAI-3YP/3yp_venv/lib/python3.10/site-packages/sklearn/neural_network/_multilayer_perceptron.py:536: ConvergenceWarning: lbfgs failed to converge (status=1):\n",
      "STOP: TOTAL NO. of ITERATIONS REACHED LIMIT.\n",
      "\n",
      "Increase the number of iterations (max_iter) or scale the data as shown in:\n",
      "    https://scikit-learn.org/stable/modules/preprocessing.html\n",
      "  self.n_iter_ = _check_optimize_result(\"lbfgs\", opt_res, self.max_iter)\n"
     ]
    },
    {
     "output_type": "stream",
     "name": "stdout",
     "text": [
      "[CV 4/5] END activation=relu, alpha=0.01, hidden_layer_sizes=(2, 14, 10), solver=lbfgs;, score=0.599 total time=   3.7s\n",
      "[CV 1/5] END activation=relu, alpha=0.01, hidden_layer_sizes=(11, 3, 3), solver=adam;, score=0.791 total time=   6.4s\n",
      "[CV 5/5] END activation=logistic, alpha=1, hidden_layer_sizes=(1, 2, 13), solver=lbfgs;, score=0.204 total time=   0.1s\n",
      "[CV 4/5] END activation=logistic, alpha=1, hidden_layer_sizes=(1, 2, 13), solver=lbfgs;, score=0.340 total time=   1.7s\n"
     ]
    },
    {
     "output_type": "stream",
     "name": "stderr",
     "text": [
      "/Users/mohamed/ZenAI-3YP/3yp_venv/lib/python3.10/site-packages/sklearn/neural_network/_multilayer_perceptron.py:536: ConvergenceWarning: lbfgs failed to converge (status=1):\n",
      "STOP: TOTAL NO. of ITERATIONS REACHED LIMIT.\n",
      "\n",
      "Increase the number of iterations (max_iter) or scale the data as shown in:\n",
      "    https://scikit-learn.org/stable/modules/preprocessing.html\n",
      "  self.n_iter_ = _check_optimize_result(\"lbfgs\", opt_res, self.max_iter)\n"
     ]
    },
    {
     "output_type": "stream",
     "name": "stdout",
     "text": [
      "[CV 5/5] END activation=relu, alpha=0.01, hidden_layer_sizes=(2, 14, 10), solver=lbfgs;, score=0.692 total time=   3.8s\n"
     ]
    },
    {
     "output_type": "stream",
     "name": "stderr",
     "text": [
      "/Users/mohamed/ZenAI-3YP/3yp_venv/lib/python3.10/site-packages/sklearn/neural_network/_multilayer_perceptron.py:536: ConvergenceWarning: lbfgs failed to converge (status=1):\n",
      "STOP: TOTAL NO. of ITERATIONS REACHED LIMIT.\n",
      "\n",
      "Increase the number of iterations (max_iter) or scale the data as shown in:\n",
      "    https://scikit-learn.org/stable/modules/preprocessing.html\n",
      "  self.n_iter_ = _check_optimize_result(\"lbfgs\", opt_res, self.max_iter)\n",
      "/Users/mohamed/ZenAI-3YP/3yp_venv/lib/python3.10/site-packages/sklearn/neural_network/_multilayer_perceptron.py:536: ConvergenceWarning: lbfgs failed to converge (status=1):\n",
      "STOP: TOTAL NO. of ITERATIONS REACHED LIMIT.\n",
      "\n",
      "Increase the number of iterations (max_iter) or scale the data as shown in:\n",
      "    https://scikit-learn.org/stable/modules/preprocessing.html\n",
      "  self.n_iter_ = _check_optimize_result(\"lbfgs\", opt_res, self.max_iter)\n"
     ]
    },
    {
     "output_type": "stream",
     "name": "stdout",
     "text": [
      "[CV 1/5] END activation=logistic, alpha=1, hidden_layer_sizes=(1, 2, 13), solver=lbfgs;, score=0.465 total time=   3.2s\n",
      "[CV 2/5] END activation=logistic, alpha=1, hidden_layer_sizes=(1, 2, 13), solver=lbfgs;, score=0.473 total time=   3.1s\n"
     ]
    },
    {
     "output_type": "stream",
     "name": "stderr",
     "text": [
      "/Users/mohamed/ZenAI-3YP/3yp_venv/lib/python3.10/site-packages/sklearn/neural_network/_multilayer_perceptron.py:536: ConvergenceWarning: lbfgs failed to converge (status=1):\n",
      "STOP: TOTAL NO. of ITERATIONS REACHED LIMIT.\n",
      "\n",
      "Increase the number of iterations (max_iter) or scale the data as shown in:\n",
      "    https://scikit-learn.org/stable/modules/preprocessing.html\n",
      "  self.n_iter_ = _check_optimize_result(\"lbfgs\", opt_res, self.max_iter)\n"
     ]
    },
    {
     "output_type": "stream",
     "name": "stdout",
     "text": [
      "[CV 3/5] END activation=logistic, alpha=1, hidden_layer_sizes=(1, 2, 13), solver=lbfgs;, score=0.540 total time=   3.4s\n"
     ]
    },
    {
     "output_type": "stream",
     "name": "stderr",
     "text": [
      "/Users/mohamed/ZenAI-3YP/3yp_venv/lib/python3.10/site-packages/sklearn/neural_network/_multilayer_perceptron.py:679: ConvergenceWarning: Stochastic Optimizer: Maximum iterations (1000) reached and the optimization hasn't converged yet.\n",
      "  warnings.warn(\n"
     ]
    },
    {
     "output_type": "stream",
     "name": "stdout",
     "text": [
      "[CV 5/5] END activation=relu, alpha=0.01, hidden_layer_sizes=(11, 3, 3), solver=adam;, score=0.740 total time=   8.6s\n",
      "[CV 2/5] END activation=relu, alpha=1, hidden_layer_sizes=(6, 4, 13), solver=adam;, score=0.802 total time=   3.7s\n",
      "[CV 1/5] END activation=relu, alpha=1, hidden_layer_sizes=(6, 4, 13), solver=adam;, score=0.826 total time=   4.4s\n",
      "[CV 1/5] END activation=relu, alpha=0.1, hidden_layer_sizes=(13, 13, 9), solver=adam;, score=0.858 total time=   3.6s\n",
      "[CV 4/5] END activation=relu, alpha=1, hidden_layer_sizes=(6, 4, 13), solver=adam;, score=0.834 total time=   5.1s\n",
      "[CV 2/5] END activation=relu, alpha=0.1, hidden_layer_sizes=(13, 13, 9), solver=adam;, score=0.858 total time=   4.3s\n",
      "[CV 3/5] END activation=relu, alpha=1, hidden_layer_sizes=(6, 4, 13), solver=adam;, score=0.845 total time=   6.3s\n",
      "[CV 3/5] END activation=relu, alpha=0.1, hidden_layer_sizes=(13, 13, 9), solver=adam;, score=0.864 total time=   3.8s\n",
      "[CV 4/5] END activation=relu, alpha=0.1, hidden_layer_sizes=(13, 13, 9), solver=adam;, score=0.880 total time=   4.5s\n",
      "[CV 1/5] END activation=relu, alpha=1e-05, hidden_layer_sizes=(14, 14, 13), solver=lbfgs;, score=0.858 total time=   3.8s\n"
     ]
    },
    {
     "output_type": "stream",
     "name": "stderr",
     "text": [
      "/Users/mohamed/ZenAI-3YP/3yp_venv/lib/python3.10/site-packages/sklearn/neural_network/_multilayer_perceptron.py:536: ConvergenceWarning: lbfgs failed to converge (status=1):\n",
      "STOP: TOTAL NO. of ITERATIONS REACHED LIMIT.\n",
      "\n",
      "Increase the number of iterations (max_iter) or scale the data as shown in:\n",
      "    https://scikit-learn.org/stable/modules/preprocessing.html\n",
      "  self.n_iter_ = _check_optimize_result(\"lbfgs\", opt_res, self.max_iter)\n"
     ]
    },
    {
     "output_type": "stream",
     "name": "stdout",
     "text": [
      "[CV 5/5] END activation=relu, alpha=1, hidden_layer_sizes=(6, 4, 13), solver=adam;, score=0.879 total time=   8.3s\n",
      "[CV 5/5] END activation=relu, alpha=0.1, hidden_layer_sizes=(13, 13, 9), solver=adam;, score=0.874 total time=   4.9s\n"
     ]
    },
    {
     "output_type": "stream",
     "name": "stderr",
     "text": [
      "/Users/mohamed/ZenAI-3YP/3yp_venv/lib/python3.10/site-packages/sklearn/neural_network/_multilayer_perceptron.py:536: ConvergenceWarning: lbfgs failed to converge (status=1):\n",
      "STOP: TOTAL NO. of ITERATIONS REACHED LIMIT.\n",
      "\n",
      "Increase the number of iterations (max_iter) or scale the data as shown in:\n",
      "    https://scikit-learn.org/stable/modules/preprocessing.html\n",
      "  self.n_iter_ = _check_optimize_result(\"lbfgs\", opt_res, self.max_iter)\n",
      "/Users/mohamed/ZenAI-3YP/3yp_venv/lib/python3.10/site-packages/sklearn/neural_network/_multilayer_perceptron.py:536: ConvergenceWarning: lbfgs failed to converge (status=1):\n",
      "STOP: TOTAL NO. of ITERATIONS REACHED LIMIT.\n",
      "\n",
      "Increase the number of iterations (max_iter) or scale the data as shown in:\n",
      "    https://scikit-learn.org/stable/modules/preprocessing.html\n",
      "  self.n_iter_ = _check_optimize_result(\"lbfgs\", opt_res, self.max_iter)\n"
     ]
    },
    {
     "output_type": "stream",
     "name": "stdout",
     "text": [
      "[CV 2/5] END activation=relu, alpha=1e-05, hidden_layer_sizes=(14, 14, 13), solver=lbfgs;, score=0.885 total time=   4.0s\n",
      "[CV 3/5] END activation=relu, alpha=1e-05, hidden_layer_sizes=(14, 14, 13), solver=lbfgs;, score=0.767 total time=   4.1s\n"
     ]
    },
    {
     "output_type": "stream",
     "name": "stderr",
     "text": [
      "/Users/mohamed/ZenAI-3YP/3yp_venv/lib/python3.10/site-packages/sklearn/neural_network/_multilayer_perceptron.py:536: ConvergenceWarning: lbfgs failed to converge (status=1):\n",
      "STOP: TOTAL NO. of ITERATIONS REACHED LIMIT.\n",
      "\n",
      "Increase the number of iterations (max_iter) or scale the data as shown in:\n",
      "    https://scikit-learn.org/stable/modules/preprocessing.html\n",
      "  self.n_iter_ = _check_optimize_result(\"lbfgs\", opt_res, self.max_iter)\n"
     ]
    },
    {
     "output_type": "stream",
     "name": "stdout",
     "text": [
      "[CV 4/5] END activation=relu, alpha=1e-05, hidden_layer_sizes=(14, 14, 13), solver=lbfgs;, score=0.864 total time=   4.1s\n"
     ]
    },
    {
     "output_type": "stream",
     "name": "stderr",
     "text": [
      "/Users/mohamed/ZenAI-3YP/3yp_venv/lib/python3.10/site-packages/sklearn/neural_network/_multilayer_perceptron.py:536: ConvergenceWarning: lbfgs failed to converge (status=1):\n",
      "STOP: TOTAL NO. of ITERATIONS REACHED LIMIT.\n",
      "\n",
      "Increase the number of iterations (max_iter) or scale the data as shown in:\n",
      "    https://scikit-learn.org/stable/modules/preprocessing.html\n",
      "  self.n_iter_ = _check_optimize_result(\"lbfgs\", opt_res, self.max_iter)\n"
     ]
    },
    {
     "output_type": "stream",
     "name": "stdout",
     "text": [
      "[CV 5/5] END activation=relu, alpha=1e-05, hidden_layer_sizes=(14, 14, 13), solver=lbfgs;, score=0.887 total time=   3.8s\n"
     ]
    },
    {
     "output_type": "stream",
     "name": "stderr",
     "text": [
      "/Users/mohamed/ZenAI-3YP/3yp_venv/lib/python3.10/site-packages/sklearn/neural_network/_multilayer_perceptron.py:536: ConvergenceWarning: lbfgs failed to converge (status=1):\n",
      "STOP: TOTAL NO. of ITERATIONS REACHED LIMIT.\n",
      "\n",
      "Increase the number of iterations (max_iter) or scale the data as shown in:\n",
      "    https://scikit-learn.org/stable/modules/preprocessing.html\n",
      "  self.n_iter_ = _check_optimize_result(\"lbfgs\", opt_res, self.max_iter)\n"
     ]
    },
    {
     "output_type": "stream",
     "name": "stdout",
     "text": [
      "[CV 1/5] END activation=logistic, alpha=0.01, hidden_layer_sizes=(12, 3, 5), solver=lbfgs;, score=0.465 total time=   3.5s\n",
      "[CV 5/5] END activation=relu, alpha=0.001, hidden_layer_sizes=(5, 4, 5), solver=adam;, score=0.399 total time=   4.0s\n",
      "[CV 2/5] END activation=relu, alpha=0.001, hidden_layer_sizes=(5, 4, 5), solver=adam;, score=0.660 total time=   6.1s\n",
      "[CV 1/5] END activation=logistic, alpha=0.01, hidden_layer_sizes=(1, 14, 14), solver=lbfgs;, score=0.201 total time=   0.1s\n",
      "[CV 2/5] END activation=logistic, alpha=0.01, hidden_layer_sizes=(12, 3, 5), solver=lbfgs;, score=0.553 total time=   4.0s\n",
      "[CV 2/5] END activation=logistic, alpha=0.01, hidden_layer_sizes=(1, 14, 14), solver=lbfgs;, score=0.203 total time=   0.0s\n",
      "[CV 4/5] END activation=logistic, alpha=0.01, hidden_layer_sizes=(1, 14, 14), solver=lbfgs;, score=0.203 total time=   0.0s\n"
     ]
    },
    {
     "output_type": "stream",
     "name": "stderr",
     "text": [
      "/Users/mohamed/ZenAI-3YP/3yp_venv/lib/python3.10/site-packages/sklearn/neural_network/_multilayer_perceptron.py:536: ConvergenceWarning: lbfgs failed to converge (status=1):\n",
      "STOP: TOTAL NO. of ITERATIONS REACHED LIMIT.\n",
      "\n",
      "Increase the number of iterations (max_iter) or scale the data as shown in:\n",
      "    https://scikit-learn.org/stable/modules/preprocessing.html\n",
      "  self.n_iter_ = _check_optimize_result(\"lbfgs\", opt_res, self.max_iter)\n",
      "/Users/mohamed/ZenAI-3YP/3yp_venv/lib/python3.10/site-packages/sklearn/neural_network/_multilayer_perceptron.py:536: ConvergenceWarning: lbfgs failed to converge (status=1):\n",
      "STOP: TOTAL NO. of ITERATIONS REACHED LIMIT.\n",
      "\n",
      "Increase the number of iterations (max_iter) or scale the data as shown in:\n",
      "    https://scikit-learn.org/stable/modules/preprocessing.html\n",
      "  self.n_iter_ = _check_optimize_result(\"lbfgs\", opt_res, self.max_iter)\n"
     ]
    },
    {
     "output_type": "stream",
     "name": "stdout",
     "text": [
      "[CV 3/5] END activation=logistic, alpha=0.01, hidden_layer_sizes=(12, 3, 5), solver=lbfgs;, score=0.655 total time=   3.7s\n",
      "[CV 4/5] END activation=relu, alpha=0.001, hidden_layer_sizes=(5, 4, 5), solver=adam;, score=0.674 total time=   5.6s\n",
      "[CV 1/5] END activation=relu, alpha=0.001, hidden_layer_sizes=(5, 4, 5), solver=adam;, score=0.701 total time=   7.1s\n",
      "[CV 3/5] END activation=relu, alpha=0.001, hidden_layer_sizes=(5, 4, 5), solver=adam;, score=0.813 total time=   7.3s\n"
     ]
    },
    {
     "output_type": "stream",
     "name": "stderr",
     "text": [
      "/Users/mohamed/ZenAI-3YP/3yp_venv/lib/python3.10/site-packages/sklearn/neural_network/_multilayer_perceptron.py:536: ConvergenceWarning: lbfgs failed to converge (status=1):\n",
      "STOP: TOTAL NO. of ITERATIONS REACHED LIMIT.\n",
      "\n",
      "Increase the number of iterations (max_iter) or scale the data as shown in:\n",
      "    https://scikit-learn.org/stable/modules/preprocessing.html\n",
      "  self.n_iter_ = _check_optimize_result(\"lbfgs\", opt_res, self.max_iter)\n"
     ]
    },
    {
     "output_type": "stream",
     "name": "stdout",
     "text": [
      "[CV 4/5] END activation=logistic, alpha=0.01, hidden_layer_sizes=(12, 3, 5), solver=lbfgs;, score=0.473 total time=   3.6s\n"
     ]
    },
    {
     "output_type": "stream",
     "name": "stderr",
     "text": [
      "/Users/mohamed/ZenAI-3YP/3yp_venv/lib/python3.10/site-packages/sklearn/neural_network/_multilayer_perceptron.py:536: ConvergenceWarning: lbfgs failed to converge (status=1):\n",
      "STOP: TOTAL NO. of ITERATIONS REACHED LIMIT.\n",
      "\n",
      "Increase the number of iterations (max_iter) or scale the data as shown in:\n",
      "    https://scikit-learn.org/stable/modules/preprocessing.html\n",
      "  self.n_iter_ = _check_optimize_result(\"lbfgs\", opt_res, self.max_iter)\n"
     ]
    },
    {
     "output_type": "stream",
     "name": "stdout",
     "text": [
      "[CV 5/5] END activation=logistic, alpha=0.01, hidden_layer_sizes=(12, 3, 5), solver=lbfgs;, score=0.807 total time=   3.7s\n"
     ]
    },
    {
     "output_type": "stream",
     "name": "stderr",
     "text": [
      "/Users/mohamed/ZenAI-3YP/3yp_venv/lib/python3.10/site-packages/sklearn/neural_network/_multilayer_perceptron.py:536: ConvergenceWarning: lbfgs failed to converge (status=1):\n",
      "STOP: TOTAL NO. of ITERATIONS REACHED LIMIT.\n",
      "\n",
      "Increase the number of iterations (max_iter) or scale the data as shown in:\n",
      "    https://scikit-learn.org/stable/modules/preprocessing.html\n",
      "  self.n_iter_ = _check_optimize_result(\"lbfgs\", opt_res, self.max_iter)\n",
      "/Users/mohamed/ZenAI-3YP/3yp_venv/lib/python3.10/site-packages/sklearn/neural_network/_multilayer_perceptron.py:536: ConvergenceWarning: lbfgs failed to converge (status=1):\n",
      "STOP: TOTAL NO. of ITERATIONS REACHED LIMIT.\n",
      "\n",
      "Increase the number of iterations (max_iter) or scale the data as shown in:\n",
      "    https://scikit-learn.org/stable/modules/preprocessing.html\n",
      "  self.n_iter_ = _check_optimize_result(\"lbfgs\", opt_res, self.max_iter)\n"
     ]
    },
    {
     "output_type": "stream",
     "name": "stdout",
     "text": [
      "[CV 1/5] END activation=logistic, alpha=0.001, hidden_layer_sizes=(8, 8, 8), solver=lbfgs;, score=0.602 total time=   3.6s\n",
      "[CV 5/5] END activation=logistic, alpha=0.01, hidden_layer_sizes=(1, 14, 14), solver=lbfgs;, score=0.343 total time=   4.1s\n"
     ]
    },
    {
     "output_type": "stream",
     "name": "stderr",
     "text": [
      "/Users/mohamed/ZenAI-3YP/3yp_venv/lib/python3.10/site-packages/sklearn/neural_network/_multilayer_perceptron.py:536: ConvergenceWarning: lbfgs failed to converge (status=1):\n",
      "STOP: TOTAL NO. of ITERATIONS REACHED LIMIT.\n",
      "\n",
      "Increase the number of iterations (max_iter) or scale the data as shown in:\n",
      "    https://scikit-learn.org/stable/modules/preprocessing.html\n",
      "  self.n_iter_ = _check_optimize_result(\"lbfgs\", opt_res, self.max_iter)\n",
      "/Users/mohamed/ZenAI-3YP/3yp_venv/lib/python3.10/site-packages/sklearn/neural_network/_multilayer_perceptron.py:536: ConvergenceWarning: lbfgs failed to converge (status=1):\n",
      "STOP: TOTAL NO. of ITERATIONS REACHED LIMIT.\n",
      "\n",
      "Increase the number of iterations (max_iter) or scale the data as shown in:\n",
      "    https://scikit-learn.org/stable/modules/preprocessing.html\n",
      "  self.n_iter_ = _check_optimize_result(\"lbfgs\", opt_res, self.max_iter)\n"
     ]
    },
    {
     "output_type": "stream",
     "name": "stdout",
     "text": [
      "[CV 3/5] END activation=logistic, alpha=0.01, hidden_layer_sizes=(1, 14, 14), solver=lbfgs;, score=0.340 total time=   4.2s\n",
      "[CV 2/5] END activation=logistic, alpha=0.001, hidden_layer_sizes=(8, 8, 8), solver=lbfgs;, score=0.674 total time=   3.9s\n",
      "[CV 3/5] END activation=relu, alpha=1e-05, hidden_layer_sizes=(10, 1, 12), solver=adam;, score=0.203 total time=   0.4s\n",
      "[CV 5/5] END activation=relu, alpha=1e-05, hidden_layer_sizes=(10, 1, 12), solver=adam;, score=0.204 total time=   0.3s\n",
      "[CV 1/5] END activation=relu, alpha=1e-05, hidden_layer_sizes=(10, 1, 12), solver=adam;, score=0.428 total time=   2.0s\n",
      "[CV 3/5] END activation=logistic, alpha=0.001, hidden_layer_sizes=(8, 8, 8), solver=lbfgs;, score=0.709 total time=   4.0s\n"
     ]
    },
    {
     "output_type": "stream",
     "name": "stderr",
     "text": [
      "/Users/mohamed/ZenAI-3YP/3yp_venv/lib/python3.10/site-packages/sklearn/neural_network/_multilayer_perceptron.py:536: ConvergenceWarning: lbfgs failed to converge (status=1):\n",
      "STOP: TOTAL NO. of ITERATIONS REACHED LIMIT.\n",
      "\n",
      "Increase the number of iterations (max_iter) or scale the data as shown in:\n",
      "    https://scikit-learn.org/stable/modules/preprocessing.html\n",
      "  self.n_iter_ = _check_optimize_result(\"lbfgs\", opt_res, self.max_iter)\n",
      "/Users/mohamed/ZenAI-3YP/3yp_venv/lib/python3.10/site-packages/sklearn/neural_network/_multilayer_perceptron.py:536: ConvergenceWarning: lbfgs failed to converge (status=1):\n",
      "STOP: TOTAL NO. of ITERATIONS REACHED LIMIT.\n",
      "\n",
      "Increase the number of iterations (max_iter) or scale the data as shown in:\n",
      "    https://scikit-learn.org/stable/modules/preprocessing.html\n",
      "  self.n_iter_ = _check_optimize_result(\"lbfgs\", opt_res, self.max_iter)\n",
      "/Users/mohamed/ZenAI-3YP/3yp_venv/lib/python3.10/site-packages/sklearn/neural_network/_multilayer_perceptron.py:536: ConvergenceWarning: lbfgs failed to converge (status=1):\n",
      "STOP: TOTAL NO. of ITERATIONS REACHED LIMIT.\n",
      "\n",
      "Increase the number of iterations (max_iter) or scale the data as shown in:\n",
      "    https://scikit-learn.org/stable/modules/preprocessing.html\n",
      "  self.n_iter_ = _check_optimize_result(\"lbfgs\", opt_res, self.max_iter)\n"
     ]
    },
    {
     "output_type": "stream",
     "name": "stdout",
     "text": [
      "[CV 4/5] END activation=logistic, alpha=0.001, hidden_layer_sizes=(8, 8, 8), solver=lbfgs;, score=0.818 total time=   4.0s\n",
      "[CV 4/5] END activation=relu, alpha=1e-05, hidden_layer_sizes=(10, 1, 12), solver=adam;, score=0.275 total time=   1.8s\n",
      "[CV 5/5] END activation=logistic, alpha=0.001, hidden_layer_sizes=(8, 8, 8), solver=lbfgs;, score=0.456 total time=   3.8s\n",
      "[CV 2/5] END activation=relu, alpha=1e-05, hidden_layer_sizes=(10, 1, 12), solver=adam;, score=0.233 total time=   2.7s\n"
     ]
    },
    {
     "output_type": "stream",
     "name": "stderr",
     "text": [
      "/Users/mohamed/ZenAI-3YP/3yp_venv/lib/python3.10/site-packages/sklearn/neural_network/_multilayer_perceptron.py:536: ConvergenceWarning: lbfgs failed to converge (status=1):\n",
      "STOP: TOTAL NO. of ITERATIONS REACHED LIMIT.\n",
      "\n",
      "Increase the number of iterations (max_iter) or scale the data as shown in:\n",
      "    https://scikit-learn.org/stable/modules/preprocessing.html\n",
      "  self.n_iter_ = _check_optimize_result(\"lbfgs\", opt_res, self.max_iter)\n",
      "/Users/mohamed/ZenAI-3YP/3yp_venv/lib/python3.10/site-packages/sklearn/neural_network/_multilayer_perceptron.py:536: ConvergenceWarning: lbfgs failed to converge (status=1):\n",
      "STOP: TOTAL NO. of ITERATIONS REACHED LIMIT.\n",
      "\n",
      "Increase the number of iterations (max_iter) or scale the data as shown in:\n",
      "    https://scikit-learn.org/stable/modules/preprocessing.html\n",
      "  self.n_iter_ = _check_optimize_result(\"lbfgs\", opt_res, self.max_iter)\n"
     ]
    },
    {
     "output_type": "stream",
     "name": "stdout",
     "text": [
      "[CV 1/5] END activation=logistic, alpha=1, hidden_layer_sizes=(5, 4, 13), solver=lbfgs;, score=0.695 total time=   3.5s\n",
      "[CV 2/5] END activation=logistic, alpha=1, hidden_layer_sizes=(5, 4, 13), solver=lbfgs;, score=0.570 total time=   3.5s\n",
      "[CV 5/5] END activation=logistic, alpha=1, hidden_layer_sizes=(5, 4, 13), solver=lbfgs;, score=0.204 total time=   0.1s\n",
      "[CV 1/5] END activation=relu, alpha=1e-05, hidden_layer_sizes=(11, 7, 1), solver=lbfgs;, score=0.201 total time=   0.0s\n",
      "[CV 2/5] END activation=relu, alpha=1e-05, hidden_layer_sizes=(11, 7, 1), solver=lbfgs;, score=0.203 total time=   0.1s\n"
     ]
    },
    {
     "output_type": "stream",
     "name": "stderr",
     "text": [
      "/Users/mohamed/ZenAI-3YP/3yp_venv/lib/python3.10/site-packages/sklearn/neural_network/_multilayer_perceptron.py:536: ConvergenceWarning: lbfgs failed to converge (status=1):\n",
      "STOP: TOTAL NO. of ITERATIONS REACHED LIMIT.\n",
      "\n",
      "Increase the number of iterations (max_iter) or scale the data as shown in:\n",
      "    https://scikit-learn.org/stable/modules/preprocessing.html\n",
      "  self.n_iter_ = _check_optimize_result(\"lbfgs\", opt_res, self.max_iter)\n"
     ]
    },
    {
     "output_type": "stream",
     "name": "stdout",
     "text": [
      "[CV 3/5] END activation=logistic, alpha=1, hidden_layer_sizes=(5, 4, 13), solver=lbfgs;, score=0.759 total time=   3.6s\n",
      "[CV 4/5] END activation=relu, alpha=1e-05, hidden_layer_sizes=(11, 7, 1), solver=lbfgs;, score=0.203 total time=   0.0s\n",
      "[CV 3/5] END activation=logistic, alpha=1e-05, hidden_layer_sizes=(13, 7, 9), solver=adam;, score=0.864 total time=   6.0s\n",
      "[CV 4/5] END activation=logistic, alpha=1e-05, hidden_layer_sizes=(13, 7, 9), solver=adam;, score=0.842 total time=   7.9s\n",
      "[CV 5/5] END activation=relu, alpha=1e-05, hidden_layer_sizes=(11, 7, 1), solver=lbfgs;, score=0.625 total time=   2.6s\n",
      "[CV 3/5] END activation=relu, alpha=1e-05, hidden_layer_sizes=(11, 7, 1), solver=lbfgs;, score=0.529 total time=   3.1s\n"
     ]
    },
    {
     "output_type": "stream",
     "name": "stderr",
     "text": [
      "/Users/mohamed/ZenAI-3YP/3yp_venv/lib/python3.10/site-packages/sklearn/neural_network/_multilayer_perceptron.py:536: ConvergenceWarning: lbfgs failed to converge (status=1):\n",
      "STOP: TOTAL NO. of ITERATIONS REACHED LIMIT.\n",
      "\n",
      "Increase the number of iterations (max_iter) or scale the data as shown in:\n",
      "    https://scikit-learn.org/stable/modules/preprocessing.html\n",
      "  self.n_iter_ = _check_optimize_result(\"lbfgs\", opt_res, self.max_iter)\n"
     ]
    },
    {
     "output_type": "stream",
     "name": "stdout",
     "text": [
      "[CV 2/5] END activation=logistic, alpha=1e-05, hidden_layer_sizes=(13, 7, 9), solver=adam;, score=0.805 total time=   8.6s\n",
      "[CV 4/5] END activation=logistic, alpha=1, hidden_layer_sizes=(5, 4, 13), solver=lbfgs;, score=0.690 total time=   3.7s\n"
     ]
    },
    {
     "output_type": "stream",
     "name": "stderr",
     "text": [
      "/Users/mohamed/ZenAI-3YP/3yp_venv/lib/python3.10/site-packages/sklearn/neural_network/_multilayer_perceptron.py:536: ConvergenceWarning: lbfgs failed to converge (status=1):\n",
      "STOP: TOTAL NO. of ITERATIONS REACHED LIMIT.\n",
      "\n",
      "Increase the number of iterations (max_iter) or scale the data as shown in:\n",
      "    https://scikit-learn.org/stable/modules/preprocessing.html\n",
      "  self.n_iter_ = _check_optimize_result(\"lbfgs\", opt_res, self.max_iter)\n"
     ]
    },
    {
     "output_type": "stream",
     "name": "stdout",
     "text": [
      "[CV 1/5] END activation=logistic, alpha=1e-05, hidden_layer_sizes=(13, 7, 9), solver=adam;, score=0.832 total time=   9.1s\n",
      "[CV 5/5] END activation=logistic, alpha=1e-05, hidden_layer_sizes=(13, 7, 9), solver=adam;, score=0.866 total time=   7.9s\n",
      "[CV 2/5] END activation=logistic, alpha=0.01, hidden_layer_sizes=(8, 8, 3), solver=adam;, score=0.644 total time=   5.3s\n",
      "[CV 1/5] END activation=logistic, alpha=0.01, hidden_layer_sizes=(8, 8, 3), solver=adam;, score=0.829 total time=   7.8s\n",
      "[CV 5/5] END activation=logistic, alpha=0.01, hidden_layer_sizes=(8, 8, 3), solver=adam;, score=0.657 total time=   5.7s\n",
      "[CV 2/5] END activation=relu, alpha=0.01, hidden_layer_sizes=(4, 7, 9), solver=adam;, score=0.781 total time=   5.5s\n",
      "[CV 1/5] END activation=relu, alpha=0.001, hidden_layer_sizes=(2, 11, 9), solver=adam;, score=0.246 total time=   0.5s\n",
      "[CV 1/5] END activation=relu, alpha=0.01, hidden_layer_sizes=(4, 7, 9), solver=adam;, score=0.802 total time=   6.6s\n",
      "[CV 3/5] END activation=relu, alpha=0.01, hidden_layer_sizes=(4, 7, 9), solver=adam;, score=0.807 total time=   6.6s\n",
      "[CV 4/5] END activation=logistic, alpha=0.01, hidden_layer_sizes=(8, 8, 3), solver=adam;, score=0.818 total time=   8.0s\n",
      "[CV 3/5] END activation=logistic, alpha=0.01, hidden_layer_sizes=(8, 8, 3), solver=adam;, score=0.810 total time=   8.1s\n",
      "[CV 5/5] END activation=relu, alpha=0.01, hidden_layer_sizes=(4, 7, 9), solver=adam;, score=0.571 total time=   2.7s\n",
      "[CV 4/5] END activation=relu, alpha=0.001, hidden_layer_sizes=(2, 11, 9), solver=adam;, score=0.623 total time=   1.9s\n",
      "[CV 4/5] END activation=relu, alpha=0.01, hidden_layer_sizes=(4, 7, 9), solver=adam;, score=0.848 total time=   4.0s\n",
      "[CV 5/5] END activation=relu, alpha=0.001, hidden_layer_sizes=(2, 11, 9), solver=adam;, score=0.434 total time=   1.7s\n",
      "[CV 3/5] END activation=relu, alpha=0.001, hidden_layer_sizes=(2, 11, 9), solver=adam;, score=0.725 total time=   5.7s\n",
      "[CV 2/5] END activation=relu, alpha=0.001, hidden_layer_sizes=(2, 11, 9), solver=adam;, score=0.762 total time=   7.5s\n",
      "[CV 1/5] END activation=logistic, alpha=0.1, hidden_layer_sizes=(3, 1, 3), solver=adam;, score=0.369 total time=   5.4s\n",
      "[CV 4/5] END activation=logistic, alpha=0.1, hidden_layer_sizes=(3, 1, 3), solver=adam;, score=0.203 total time=   0.5s\n",
      "[CV 1/5] END activation=logistic, alpha=0.001, hidden_layer_sizes=(14, 2, 2), solver=adam;, score=0.733 total time=   7.1s\n",
      "[CV 2/5] END activation=logistic, alpha=0.001, hidden_layer_sizes=(14, 2, 2), solver=adam;, score=0.545 total time=   7.7s\n"
     ]
    },
    {
     "output_type": "stream",
     "name": "stderr",
     "text": [
      "/Users/mohamed/ZenAI-3YP/3yp_venv/lib/python3.10/site-packages/sklearn/neural_network/_multilayer_perceptron.py:679: ConvergenceWarning: Stochastic Optimizer: Maximum iterations (1000) reached and the optimization hasn't converged yet.\n",
      "  warnings.warn(\n"
     ]
    },
    {
     "output_type": "stream",
     "name": "stdout",
     "text": [
      "[CV 3/5] END activation=logistic, alpha=0.001, hidden_layer_sizes=(14, 2, 2), solver=adam;, score=0.623 total time=   7.9s\n"
     ]
    },
    {
     "output_type": "stream",
     "name": "stderr",
     "text": [
      "/Users/mohamed/ZenAI-3YP/3yp_venv/lib/python3.10/site-packages/sklearn/neural_network/_multilayer_perceptron.py:679: ConvergenceWarning: Stochastic Optimizer: Maximum iterations (1000) reached and the optimization hasn't converged yet.\n",
      "  warnings.warn(\n"
     ]
    },
    {
     "output_type": "stream",
     "name": "stdout",
     "text": [
      "[CV 4/5] END activation=logistic, alpha=0.001, hidden_layer_sizes=(14, 2, 2), solver=adam;, score=0.671 total time=   8.0s\n",
      "[CV 2/5] END activation=logistic, alpha=0.1, hidden_layer_sizes=(3, 1, 3), solver=adam;, score=0.457 total time=   4.7s\n"
     ]
    },
    {
     "output_type": "stream",
     "name": "stderr",
     "text": [
      "/Users/mohamed/ZenAI-3YP/3yp_venv/lib/python3.10/site-packages/sklearn/neural_network/_multilayer_perceptron.py:679: ConvergenceWarning: Stochastic Optimizer: Maximum iterations (1000) reached and the optimization hasn't converged yet.\n",
      "  warnings.warn(\n"
     ]
    },
    {
     "output_type": "stream",
     "name": "stdout",
     "text": [
      "[CV 5/5] END activation=logistic, alpha=0.001, hidden_layer_sizes=(14, 2, 2), solver=adam;, score=0.834 total time=   8.0s\n",
      "[CV 3/5] END activation=logistic, alpha=0.1, hidden_layer_sizes=(3, 1, 3), solver=adam;, score=0.468 total time=   4.8s\n",
      "[CV 1/5] END activation=logistic, alpha=0.001, hidden_layer_sizes=(8, 6, 7), solver=adam;, score=0.837 total time=   4.9s\n",
      "[CV 1/5] END activation=logistic, alpha=1e-05, hidden_layer_sizes=(2, 4, 4), solver=lbfgs;, score=0.492 total time=   3.0s\n"
     ]
    },
    {
     "output_type": "stream",
     "name": "stderr",
     "text": [
      "/Users/mohamed/ZenAI-3YP/3yp_venv/lib/python3.10/site-packages/sklearn/neural_network/_multilayer_perceptron.py:536: ConvergenceWarning: lbfgs failed to converge (status=1):\n",
      "STOP: TOTAL NO. of ITERATIONS REACHED LIMIT.\n",
      "\n",
      "Increase the number of iterations (max_iter) or scale the data as shown in:\n",
      "    https://scikit-learn.org/stable/modules/preprocessing.html\n",
      "  self.n_iter_ = _check_optimize_result(\"lbfgs\", opt_res, self.max_iter)\n"
     ]
    },
    {
     "output_type": "stream",
     "name": "stdout",
     "text": [
      "[CV 4/5] END activation=logistic, alpha=1e-05, hidden_layer_sizes=(2, 4, 4), solver=lbfgs;, score=0.324 total time=   0.5s\n",
      "[CV 5/5] END activation=logistic, alpha=1e-05, hidden_layer_sizes=(2, 4, 4), solver=lbfgs;, score=0.204 total time=   0.0s\n",
      "[CV 5/5] END activation=logistic, alpha=0.1, hidden_layer_sizes=(3, 1, 3), solver=adam;, score=0.464 total time=   5.7s\n"
     ]
    },
    {
     "output_type": "stream",
     "name": "stderr",
     "text": [
      "/Users/mohamed/ZenAI-3YP/3yp_venv/lib/python3.10/site-packages/sklearn/neural_network/_multilayer_perceptron.py:536: ConvergenceWarning: lbfgs failed to converge (status=1):\n",
      "STOP: TOTAL NO. of ITERATIONS REACHED LIMIT.\n",
      "\n",
      "Increase the number of iterations (max_iter) or scale the data as shown in:\n",
      "    https://scikit-learn.org/stable/modules/preprocessing.html\n",
      "  self.n_iter_ = _check_optimize_result(\"lbfgs\", opt_res, self.max_iter)\n"
     ]
    },
    {
     "output_type": "stream",
     "name": "stdout",
     "text": [
      "[CV 2/5] END activation=logistic, alpha=1e-05, hidden_layer_sizes=(2, 4, 4), solver=lbfgs;, score=0.337 total time=   2.6s\n",
      "[CV 1/5] END activation=relu, alpha=0.1, hidden_layer_sizes=(1, 5, 10), solver=adam;, score=0.217 total time=   0.5s\n",
      "[CV 3/5] END activation=relu, alpha=0.1, hidden_layer_sizes=(1, 5, 10), solver=adam;, score=0.211 total time=   0.7s\n",
      "[CV 2/5] END activation=logistic, alpha=0.001, hidden_layer_sizes=(8, 6, 7), solver=adam;, score=0.826 total time=   6.6s\n"
     ]
    },
    {
     "output_type": "stream",
     "name": "stderr",
     "text": [
      "/Users/mohamed/ZenAI-3YP/3yp_venv/lib/python3.10/site-packages/sklearn/neural_network/_multilayer_perceptron.py:536: ConvergenceWarning: lbfgs failed to converge (status=1):\n",
      "STOP: TOTAL NO. of ITERATIONS REACHED LIMIT.\n",
      "\n",
      "Increase the number of iterations (max_iter) or scale the data as shown in:\n",
      "    https://scikit-learn.org/stable/modules/preprocessing.html\n",
      "  self.n_iter_ = _check_optimize_result(\"lbfgs\", opt_res, self.max_iter)\n"
     ]
    },
    {
     "output_type": "stream",
     "name": "stdout",
     "text": [
      "[CV 3/5] END activation=logistic, alpha=1e-05, hidden_layer_sizes=(2, 4, 4), solver=lbfgs;, score=0.332 total time=   2.7s\n",
      "[CV 3/5] END activation=logistic, alpha=0.001, hidden_layer_sizes=(8, 6, 7), solver=adam;, score=0.775 total time=   6.7s\n",
      "[CV 5/5] END activation=logistic, alpha=0.001, hidden_layer_sizes=(8, 6, 7), solver=adam;, score=0.855 total time=   6.4s\n",
      "[CV 4/5] END activation=logistic, alpha=0.001, hidden_layer_sizes=(8, 6, 7), solver=adam;, score=0.807 total time=   7.1s\n",
      "[CV 4/5] END activation=relu, alpha=0.1, hidden_layer_sizes=(1, 5, 10), solver=adam;, score=0.516 total time=   3.1s\n",
      "[CV 2/5] END activation=relu, alpha=0.1, hidden_layer_sizes=(1, 5, 10), solver=adam;, score=0.626 total time=   3.9s\n",
      "[CV 1/5] END activation=relu, alpha=0.01, hidden_layer_sizes=(5, 11, 12), solver=adam;, score=0.765 total time=   3.2s\n",
      "[CV 2/5] END activation=relu, alpha=0.01, hidden_layer_sizes=(5, 11, 12), solver=adam;, score=0.767 total time=   3.0s\n",
      "[CV 3/5] END activation=relu, alpha=0.01, hidden_layer_sizes=(5, 11, 12), solver=adam;, score=0.826 total time=   3.2s\n",
      "[CV 4/5] END activation=relu, alpha=0.1, hidden_layer_sizes=(9, 4, 8), solver=adam;, score=0.647 total time=   1.4s\n",
      "[CV 1/5] END activation=relu, alpha=0.0001, hidden_layer_sizes=(3, 11, 1), solver=lbfgs;, score=0.201 total time=   0.0s\n",
      "[CV 2/5] END activation=relu, alpha=0.0001, hidden_layer_sizes=(3, 11, 1), solver=lbfgs;, score=0.203 total time=   0.0s\n",
      "[CV 3/5] END activation=relu, alpha=0.0001, hidden_layer_sizes=(3, 11, 1), solver=lbfgs;, score=0.203 total time=   0.0s\n",
      "[CV 4/5] END activation=relu, alpha=0.0001, hidden_layer_sizes=(3, 11, 1), solver=lbfgs;, score=0.203 total time=   0.0s\n",
      "[CV 5/5] END activation=relu, alpha=0.01, hidden_layer_sizes=(5, 11, 12), solver=adam;, score=0.834 total time=   3.8s\n",
      "[CV 1/5] END activation=relu, alpha=0.1, hidden_layer_sizes=(9, 4, 8), solver=adam;, score=0.864 total time=   3.7s\n",
      "[CV 5/5] END activation=relu, alpha=0.0001, hidden_layer_sizes=(3, 11, 1), solver=lbfgs;, score=0.445 total time=   1.0s\n",
      "[CV 2/5] END activation=relu, alpha=0.1, hidden_layer_sizes=(9, 4, 8), solver=adam;, score=0.591 total time=   3.5s\n",
      "[CV 5/5] END activation=relu, alpha=0.1, hidden_layer_sizes=(1, 5, 10), solver=adam;, score=0.563 total time=   6.5s\n",
      "[CV 4/5] END activation=relu, alpha=0.01, hidden_layer_sizes=(5, 11, 12), solver=adam;, score=0.807 total time=   6.9s\n",
      "[CV 3/5] END activation=relu, alpha=0.1, hidden_layer_sizes=(9, 4, 8), solver=adam;, score=0.829 total time=   5.0s\n"
     ]
    },
    {
     "output_type": "stream",
     "name": "stderr",
     "text": [
      "/Users/mohamed/ZenAI-3YP/3yp_venv/lib/python3.10/site-packages/sklearn/neural_network/_multilayer_perceptron.py:536: ConvergenceWarning: lbfgs failed to converge (status=1):\n",
      "STOP: TOTAL NO. of ITERATIONS REACHED LIMIT.\n",
      "\n",
      "Increase the number of iterations (max_iter) or scale the data as shown in:\n",
      "    https://scikit-learn.org/stable/modules/preprocessing.html\n",
      "  self.n_iter_ = _check_optimize_result(\"lbfgs\", opt_res, self.max_iter)\n",
      "/Users/mohamed/ZenAI-3YP/3yp_venv/lib/python3.10/site-packages/sklearn/neural_network/_multilayer_perceptron.py:536: ConvergenceWarning: lbfgs failed to converge (status=1):\n",
      "STOP: TOTAL NO. of ITERATIONS REACHED LIMIT.\n",
      "\n",
      "Increase the number of iterations (max_iter) or scale the data as shown in:\n",
      "    https://scikit-learn.org/stable/modules/preprocessing.html\n",
      "  self.n_iter_ = _check_optimize_result(\"lbfgs\", opt_res, self.max_iter)\n"
     ]
    },
    {
     "output_type": "stream",
     "name": "stdout",
     "text": [
      "[CV 1/5] END activation=logistic, alpha=0.01, hidden_layer_sizes=(5, 4, 8), solver=lbfgs;, score=0.503 total time=   3.3s\n",
      "[CV 2/5] END activation=logistic, alpha=0.01, hidden_layer_sizes=(5, 4, 8), solver=lbfgs;, score=0.594 total time=   3.2s\n"
     ]
    },
    {
     "output_type": "stream",
     "name": "stderr",
     "text": [
      "/Users/mohamed/ZenAI-3YP/3yp_venv/lib/python3.10/site-packages/sklearn/neural_network/_multilayer_perceptron.py:536: ConvergenceWarning: lbfgs failed to converge (status=1):\n",
      "STOP: TOTAL NO. of ITERATIONS REACHED LIMIT.\n",
      "\n",
      "Increase the number of iterations (max_iter) or scale the data as shown in:\n",
      "    https://scikit-learn.org/stable/modules/preprocessing.html\n",
      "  self.n_iter_ = _check_optimize_result(\"lbfgs\", opt_res, self.max_iter)\n",
      "/Users/mohamed/ZenAI-3YP/3yp_venv/lib/python3.10/site-packages/sklearn/neural_network/_multilayer_perceptron.py:536: ConvergenceWarning: lbfgs failed to converge (status=1):\n",
      "STOP: TOTAL NO. of ITERATIONS REACHED LIMIT.\n",
      "\n",
      "Increase the number of iterations (max_iter) or scale the data as shown in:\n",
      "    https://scikit-learn.org/stable/modules/preprocessing.html\n",
      "  self.n_iter_ = _check_optimize_result(\"lbfgs\", opt_res, self.max_iter)\n",
      "/Users/mohamed/ZenAI-3YP/3yp_venv/lib/python3.10/site-packages/sklearn/neural_network/_multilayer_perceptron.py:536: ConvergenceWarning: lbfgs failed to converge (status=1):\n",
      "STOP: TOTAL NO. of ITERATIONS REACHED LIMIT.\n",
      "\n",
      "Increase the number of iterations (max_iter) or scale the data as shown in:\n",
      "    https://scikit-learn.org/stable/modules/preprocessing.html\n",
      "  self.n_iter_ = _check_optimize_result(\"lbfgs\", opt_res, self.max_iter)\n"
     ]
    },
    {
     "output_type": "stream",
     "name": "stdout",
     "text": [
      "[CV 5/5] END activation=logistic, alpha=0.01, hidden_layer_sizes=(5, 4, 8), solver=lbfgs;, score=0.461 total time=   3.1s\n",
      "[CV 4/5] END activation=logistic, alpha=0.01, hidden_layer_sizes=(5, 4, 8), solver=lbfgs;, score=0.345 total time=   3.2s\n",
      "[CV 3/5] END activation=logistic, alpha=0.01, hidden_layer_sizes=(5, 4, 8), solver=lbfgs;, score=0.487 total time=   3.3s\n",
      "[CV 3/5] END activation=relu, alpha=0.1, hidden_layer_sizes=(12, 2, 13), solver=adam;, score=0.209 total time=   0.9s\n",
      "[CV 1/5] END activation=relu, alpha=0.1, hidden_layer_sizes=(12, 2, 13), solver=adam;, score=0.832 total time=   3.1s\n",
      "[CV 2/5] END activation=relu, alpha=0.1, hidden_layer_sizes=(12, 2, 13), solver=adam;, score=0.767 total time=   3.3s\n"
     ]
    },
    {
     "output_type": "stream",
     "name": "stderr",
     "text": [
      "/Users/mohamed/ZenAI-3YP/3yp_venv/lib/python3.10/site-packages/sklearn/neural_network/_multilayer_perceptron.py:679: ConvergenceWarning: Stochastic Optimizer: Maximum iterations (1000) reached and the optimization hasn't converged yet.\n",
      "  warnings.warn(\n"
     ]
    },
    {
     "output_type": "stream",
     "name": "stdout",
     "text": [
      "[CV 5/5] END activation=relu, alpha=0.1, hidden_layer_sizes=(9, 4, 8), solver=adam;, score=0.842 total time=   8.2s\n"
     ]
    },
    {
     "output_type": "stream",
     "name": "stderr",
     "text": [
      "/Users/mohamed/ZenAI-3YP/3yp_venv/lib/python3.10/site-packages/sklearn/neural_network/_multilayer_perceptron.py:536: ConvergenceWarning: lbfgs failed to converge (status=1):\n",
      "STOP: TOTAL NO. of ITERATIONS REACHED LIMIT.\n",
      "\n",
      "Increase the number of iterations (max_iter) or scale the data as shown in:\n",
      "    https://scikit-learn.org/stable/modules/preprocessing.html\n",
      "  self.n_iter_ = _check_optimize_result(\"lbfgs\", opt_res, self.max_iter)\n"
     ]
    },
    {
     "output_type": "stream",
     "name": "stdout",
     "text": [
      "[CV 1/5] END activation=logistic, alpha=0.1, hidden_layer_sizes=(12, 2, 6), solver=lbfgs;, score=0.586 total time=   3.5s\n"
     ]
    },
    {
     "output_type": "stream",
     "name": "stderr",
     "text": [
      "/Users/mohamed/ZenAI-3YP/3yp_venv/lib/python3.10/site-packages/sklearn/neural_network/_multilayer_perceptron.py:536: ConvergenceWarning: lbfgs failed to converge (status=1):\n",
      "STOP: TOTAL NO. of ITERATIONS REACHED LIMIT.\n",
      "\n",
      "Increase the number of iterations (max_iter) or scale the data as shown in:\n",
      "    https://scikit-learn.org/stable/modules/preprocessing.html\n",
      "  self.n_iter_ = _check_optimize_result(\"lbfgs\", opt_res, self.max_iter)\n"
     ]
    },
    {
     "output_type": "stream",
     "name": "stdout",
     "text": [
      "[CV 2/5] END activation=logistic, alpha=0.1, hidden_layer_sizes=(12, 2, 6), solver=lbfgs;, score=0.578 total time=   3.7s\n"
     ]
    },
    {
     "output_type": "stream",
     "name": "stderr",
     "text": [
      "/Users/mohamed/ZenAI-3YP/3yp_venv/lib/python3.10/site-packages/sklearn/neural_network/_multilayer_perceptron.py:536: ConvergenceWarning: lbfgs failed to converge (status=1):\n",
      "STOP: TOTAL NO. of ITERATIONS REACHED LIMIT.\n",
      "\n",
      "Increase the number of iterations (max_iter) or scale the data as shown in:\n",
      "    https://scikit-learn.org/stable/modules/preprocessing.html\n",
      "  self.n_iter_ = _check_optimize_result(\"lbfgs\", opt_res, self.max_iter)\n"
     ]
    },
    {
     "output_type": "stream",
     "name": "stdout",
     "text": [
      "[CV 3/5] END activation=logistic, alpha=0.1, hidden_layer_sizes=(12, 2, 6), solver=lbfgs;, score=0.743 total time=   3.6s\n",
      "[CV 5/5] END activation=relu, alpha=0.1, hidden_layer_sizes=(12, 2, 13), solver=adam;, score=0.753 total time=   4.7s\n"
     ]
    },
    {
     "output_type": "stream",
     "name": "stderr",
     "text": [
      "/Users/mohamed/ZenAI-3YP/3yp_venv/lib/python3.10/site-packages/sklearn/neural_network/_multilayer_perceptron.py:536: ConvergenceWarning: lbfgs failed to converge (status=1):\n",
      "STOP: TOTAL NO. of ITERATIONS REACHED LIMIT.\n",
      "\n",
      "Increase the number of iterations (max_iter) or scale the data as shown in:\n",
      "    https://scikit-learn.org/stable/modules/preprocessing.html\n",
      "  self.n_iter_ = _check_optimize_result(\"lbfgs\", opt_res, self.max_iter)\n"
     ]
    },
    {
     "output_type": "stream",
     "name": "stdout",
     "text": [
      "[CV 4/5] END activation=logistic, alpha=0.1, hidden_layer_sizes=(12, 2, 6), solver=lbfgs;, score=0.717 total time=   3.7s\n"
     ]
    },
    {
     "output_type": "stream",
     "name": "stderr",
     "text": [
      "/Users/mohamed/ZenAI-3YP/3yp_venv/lib/python3.10/site-packages/sklearn/neural_network/_multilayer_perceptron.py:536: ConvergenceWarning: lbfgs failed to converge (status=1):\n",
      "STOP: TOTAL NO. of ITERATIONS REACHED LIMIT.\n",
      "\n",
      "Increase the number of iterations (max_iter) or scale the data as shown in:\n",
      "    https://scikit-learn.org/stable/modules/preprocessing.html\n",
      "  self.n_iter_ = _check_optimize_result(\"lbfgs\", opt_res, self.max_iter)\n"
     ]
    },
    {
     "output_type": "stream",
     "name": "stdout",
     "text": [
      "[CV 5/5] END activation=logistic, alpha=0.1, hidden_layer_sizes=(12, 2, 6), solver=lbfgs;, score=0.499 total time=   3.7s\n"
     ]
    },
    {
     "output_type": "stream",
     "name": "stderr",
     "text": [
      "/Users/mohamed/ZenAI-3YP/3yp_venv/lib/python3.10/site-packages/sklearn/neural_network/_multilayer_perceptron.py:536: ConvergenceWarning: lbfgs failed to converge (status=1):\n",
      "STOP: TOTAL NO. of ITERATIONS REACHED LIMIT.\n",
      "\n",
      "Increase the number of iterations (max_iter) or scale the data as shown in:\n",
      "    https://scikit-learn.org/stable/modules/preprocessing.html\n",
      "  self.n_iter_ = _check_optimize_result(\"lbfgs\", opt_res, self.max_iter)\n"
     ]
    },
    {
     "output_type": "stream",
     "name": "stdout",
     "text": [
      "[CV 1/5] END activation=logistic, alpha=1e-05, hidden_layer_sizes=(5, 7, 9), solver=lbfgs;, score=0.604 total time=   3.9s\n"
     ]
    },
    {
     "output_type": "stream",
     "name": "stderr",
     "text": [
      "/Users/mohamed/ZenAI-3YP/3yp_venv/lib/python3.10/site-packages/sklearn/neural_network/_multilayer_perceptron.py:536: ConvergenceWarning: lbfgs failed to converge (status=1):\n",
      "STOP: TOTAL NO. of ITERATIONS REACHED LIMIT.\n",
      "\n",
      "Increase the number of iterations (max_iter) or scale the data as shown in:\n",
      "    https://scikit-learn.org/stable/modules/preprocessing.html\n",
      "  self.n_iter_ = _check_optimize_result(\"lbfgs\", opt_res, self.max_iter)\n",
      "/Users/mohamed/ZenAI-3YP/3yp_venv/lib/python3.10/site-packages/sklearn/neural_network/_multilayer_perceptron.py:536: ConvergenceWarning: lbfgs failed to converge (status=1):\n",
      "STOP: TOTAL NO. of ITERATIONS REACHED LIMIT.\n",
      "\n",
      "Increase the number of iterations (max_iter) or scale the data as shown in:\n",
      "    https://scikit-learn.org/stable/modules/preprocessing.html\n",
      "  self.n_iter_ = _check_optimize_result(\"lbfgs\", opt_res, self.max_iter)\n",
      "/Users/mohamed/ZenAI-3YP/3yp_venv/lib/python3.10/site-packages/sklearn/neural_network/_multilayer_perceptron.py:536: ConvergenceWarning: lbfgs failed to converge (status=1):\n",
      "STOP: TOTAL NO. of ITERATIONS REACHED LIMIT.\n",
      "\n",
      "Increase the number of iterations (max_iter) or scale the data as shown in:\n",
      "    https://scikit-learn.org/stable/modules/preprocessing.html\n",
      "  self.n_iter_ = _check_optimize_result(\"lbfgs\", opt_res, self.max_iter)\n"
     ]
    },
    {
     "output_type": "stream",
     "name": "stdout",
     "text": [
      "[CV 3/5] END activation=logistic, alpha=1e-05, hidden_layer_sizes=(5, 7, 9), solver=lbfgs;, score=0.313 total time=   3.7s\n",
      "[CV 2/5] END activation=logistic, alpha=1e-05, hidden_layer_sizes=(5, 7, 9), solver=lbfgs;, score=0.393 total time=   4.0s\n",
      "[CV 4/5] END activation=logistic, alpha=1e-05, hidden_layer_sizes=(5, 7, 9), solver=lbfgs;, score=0.436 total time=   3.5s\n"
     ]
    },
    {
     "output_type": "stream",
     "name": "stderr",
     "text": [
      "/Users/mohamed/ZenAI-3YP/3yp_venv/lib/python3.10/site-packages/sklearn/neural_network/_multilayer_perceptron.py:536: ConvergenceWarning: lbfgs failed to converge (status=1):\n",
      "STOP: TOTAL NO. of ITERATIONS REACHED LIMIT.\n",
      "\n",
      "Increase the number of iterations (max_iter) or scale the data as shown in:\n",
      "    https://scikit-learn.org/stable/modules/preprocessing.html\n",
      "  self.n_iter_ = _check_optimize_result(\"lbfgs\", opt_res, self.max_iter)\n"
     ]
    },
    {
     "output_type": "stream",
     "name": "stdout",
     "text": [
      "[CV 5/5] END activation=logistic, alpha=1e-05, hidden_layer_sizes=(5, 7, 9), solver=lbfgs;, score=0.692 total time=   3.5s\n"
     ]
    },
    {
     "output_type": "stream",
     "name": "stderr",
     "text": [
      "/Users/mohamed/ZenAI-3YP/3yp_venv/lib/python3.10/site-packages/sklearn/neural_network/_multilayer_perceptron.py:679: ConvergenceWarning: Stochastic Optimizer: Maximum iterations (1000) reached and the optimization hasn't converged yet.\n",
      "  warnings.warn(\n"
     ]
    },
    {
     "output_type": "stream",
     "name": "stdout",
     "text": [
      "[CV 4/5] END activation=relu, alpha=0.1, hidden_layer_sizes=(12, 2, 13), solver=adam;, score=0.786 total time=   8.7s\n",
      "[CV 1/5] END activation=logistic, alpha=0.1, hidden_layer_sizes=(8, 11, 9), solver=adam;, score=0.872 total time=   6.2s\n",
      "[CV 2/5] END activation=logistic, alpha=0.1, hidden_layer_sizes=(8, 11, 9), solver=adam;, score=0.824 total time=   5.8s\n",
      "[CV 5/5] END activation=logistic, alpha=0.1, hidden_layer_sizes=(8, 11, 9), solver=adam;, score=0.740 total time=   5.9s\n",
      "[CV 3/5] END activation=logistic, alpha=0.1, hidden_layer_sizes=(8, 11, 9), solver=adam;, score=0.829 total time=   7.0s\n",
      "[CV 4/5] END activation=logistic, alpha=0.1, hidden_layer_sizes=(8, 11, 9), solver=adam;, score=0.824 total time=   6.7s\n",
      "[CV 2/5] END activation=relu, alpha=0.1, hidden_layer_sizes=(4, 9, 14), solver=lbfgs;, score=0.249 total time=   0.6s\n",
      "[CV 3/5] END activation=relu, alpha=0.1, hidden_layer_sizes=(4, 9, 14), solver=lbfgs;, score=0.468 total time=   1.2s\n"
     ]
    },
    {
     "output_type": "stream",
     "name": "stderr",
     "text": [
      "/Users/mohamed/ZenAI-3YP/3yp_venv/lib/python3.10/site-packages/sklearn/neural_network/_multilayer_perceptron.py:679: ConvergenceWarning: Stochastic Optimizer: Maximum iterations (1000) reached and the optimization hasn't converged yet.\n",
      "  warnings.warn(\n"
     ]
    },
    {
     "output_type": "stream",
     "name": "stdout",
     "text": [
      "[CV 1/5] END activation=logistic, alpha=0.01, hidden_layer_sizes=(14, 2, 4), solver=adam;, score=0.652 total time=   8.4s\n"
     ]
    },
    {
     "output_type": "stream",
     "name": "stderr",
     "text": [
      "/Users/mohamed/ZenAI-3YP/3yp_venv/lib/python3.10/site-packages/sklearn/neural_network/_multilayer_perceptron.py:679: ConvergenceWarning: Stochastic Optimizer: Maximum iterations (1000) reached and the optimization hasn't converged yet.\n",
      "  warnings.warn(\n",
      "/Users/mohamed/ZenAI-3YP/3yp_venv/lib/python3.10/site-packages/sklearn/neural_network/_multilayer_perceptron.py:536: ConvergenceWarning: lbfgs failed to converge (status=1):\n",
      "STOP: TOTAL NO. of ITERATIONS REACHED LIMIT.\n",
      "\n",
      "Increase the number of iterations (max_iter) or scale the data as shown in:\n",
      "    https://scikit-learn.org/stable/modules/preprocessing.html\n",
      "  self.n_iter_ = _check_optimize_result(\"lbfgs\", opt_res, self.max_iter)\n"
     ]
    },
    {
     "output_type": "stream",
     "name": "stdout",
     "text": [
      "[CV 2/5] END activation=logistic, alpha=0.01, hidden_layer_sizes=(14, 2, 4), solver=adam;, score=0.717 total time=   8.4s\n",
      "[CV 1/5] END activation=relu, alpha=0.1, hidden_layer_sizes=(4, 9, 14), solver=lbfgs;, score=0.807 total time=   3.2s\n"
     ]
    },
    {
     "output_type": "stream",
     "name": "stderr",
     "text": [
      "/Users/mohamed/ZenAI-3YP/3yp_venv/lib/python3.10/site-packages/sklearn/neural_network/_multilayer_perceptron.py:679: ConvergenceWarning: Stochastic Optimizer: Maximum iterations (1000) reached and the optimization hasn't converged yet.\n",
      "  warnings.warn(\n"
     ]
    },
    {
     "output_type": "stream",
     "name": "stdout",
     "text": [
      "[CV 3/5] END activation=logistic, alpha=0.01, hidden_layer_sizes=(14, 2, 4), solver=adam;, score=0.767 total time=   8.6s\n",
      "[CV 2/5] END activation=logistic, alpha=1, hidden_layer_sizes=(4, 11, 6), solver=adam;, score=0.203 total time=   0.7s\n"
     ]
    },
    {
     "output_type": "stream",
     "name": "stderr",
     "text": [
      "/Users/mohamed/ZenAI-3YP/3yp_venv/lib/python3.10/site-packages/sklearn/neural_network/_multilayer_perceptron.py:536: ConvergenceWarning: lbfgs failed to converge (status=1):\n",
      "STOP: TOTAL NO. of ITERATIONS REACHED LIMIT.\n",
      "\n",
      "Increase the number of iterations (max_iter) or scale the data as shown in:\n",
      "    https://scikit-learn.org/stable/modules/preprocessing.html\n",
      "  self.n_iter_ = _check_optimize_result(\"lbfgs\", opt_res, self.max_iter)\n"
     ]
    },
    {
     "output_type": "stream",
     "name": "stdout",
     "text": [
      "[CV 4/5] END activation=relu, alpha=0.1, hidden_layer_sizes=(4, 9, 14), solver=lbfgs;, score=0.821 total time=   3.5s\n"
     ]
    },
    {
     "output_type": "stream",
     "name": "stderr",
     "text": [
      "/Users/mohamed/ZenAI-3YP/3yp_venv/lib/python3.10/site-packages/sklearn/neural_network/_multilayer_perceptron.py:536: ConvergenceWarning: lbfgs failed to converge (status=1):\n",
      "STOP: TOTAL NO. of ITERATIONS REACHED LIMIT.\n",
      "\n",
      "Increase the number of iterations (max_iter) or scale the data as shown in:\n",
      "    https://scikit-learn.org/stable/modules/preprocessing.html\n",
      "  self.n_iter_ = _check_optimize_result(\"lbfgs\", opt_res, self.max_iter)\n"
     ]
    },
    {
     "output_type": "stream",
     "name": "stdout",
     "text": [
      "[CV 5/5] END activation=relu, alpha=0.1, hidden_layer_sizes=(4, 9, 14), solver=lbfgs;, score=0.582 total time=   3.4s\n",
      "[CV 1/5] END activation=logistic, alpha=1, hidden_layer_sizes=(4, 11, 6), solver=adam;, score=0.356 total time=   2.8s\n",
      "[CV 4/5] END activation=logistic, alpha=1, hidden_layer_sizes=(4, 11, 6), solver=adam;, score=0.364 total time=   2.7s\n",
      "[CV 3/5] END activation=logistic, alpha=1, hidden_layer_sizes=(4, 11, 6), solver=adam;, score=0.436 total time=   3.9s\n",
      "[CV 5/5] END activation=logistic, alpha=0.01, hidden_layer_sizes=(14, 2, 4), solver=adam;, score=0.735 total time=   8.7s\n"
     ]
    },
    {
     "output_type": "stream",
     "name": "stderr",
     "text": [
      "/Users/mohamed/ZenAI-3YP/3yp_venv/lib/python3.10/site-packages/sklearn/neural_network/_multilayer_perceptron.py:679: ConvergenceWarning: Stochastic Optimizer: Maximum iterations (1000) reached and the optimization hasn't converged yet.\n",
      "  warnings.warn(\n",
      "/Users/mohamed/ZenAI-3YP/3yp_venv/lib/python3.10/site-packages/sklearn/neural_network/_multilayer_perceptron.py:679: ConvergenceWarning: Stochastic Optimizer: Maximum iterations (1000) reached and the optimization hasn't converged yet.\n",
      "  warnings.warn(\n"
     ]
    },
    {
     "output_type": "stream",
     "name": "stdout",
     "text": [
      "[CV 4/5] END activation=logistic, alpha=0.01, hidden_layer_sizes=(14, 2, 4), solver=adam;, score=0.751 total time=   8.9s\n",
      "[CV 1/5] END activation=logistic, alpha=0.001, hidden_layer_sizes=(6, 11, 9), solver=adam;, score=0.615 total time=   4.3s\n",
      "[CV 2/5] END activation=logistic, alpha=0.001, hidden_layer_sizes=(6, 11, 9), solver=adam;, score=0.674 total time=   4.2s\n",
      "[CV 5/5] END activation=logistic, alpha=1, hidden_layer_sizes=(4, 11, 6), solver=adam;, score=0.638 total time=   6.7s\n",
      "[CV 1/5] END activation=logistic, alpha=0.01, hidden_layer_sizes=(13, 3, 4), solver=lbfgs;, score=0.596 total time=   3.5s\n"
     ]
    },
    {
     "output_type": "stream",
     "name": "stderr",
     "text": [
      "/Users/mohamed/ZenAI-3YP/3yp_venv/lib/python3.10/site-packages/sklearn/neural_network/_multilayer_perceptron.py:536: ConvergenceWarning: lbfgs failed to converge (status=1):\n",
      "STOP: TOTAL NO. of ITERATIONS REACHED LIMIT.\n",
      "\n",
      "Increase the number of iterations (max_iter) or scale the data as shown in:\n",
      "    https://scikit-learn.org/stable/modules/preprocessing.html\n",
      "  self.n_iter_ = _check_optimize_result(\"lbfgs\", opt_res, self.max_iter)\n",
      "/Users/mohamed/ZenAI-3YP/3yp_venv/lib/python3.10/site-packages/sklearn/neural_network/_multilayer_perceptron.py:536: ConvergenceWarning: lbfgs failed to converge (status=1):\n",
      "STOP: TOTAL NO. of ITERATIONS REACHED LIMIT.\n",
      "\n",
      "Increase the number of iterations (max_iter) or scale the data as shown in:\n",
      "    https://scikit-learn.org/stable/modules/preprocessing.html\n",
      "  self.n_iter_ = _check_optimize_result(\"lbfgs\", opt_res, self.max_iter)\n"
     ]
    },
    {
     "output_type": "stream",
     "name": "stdout",
     "text": [
      "[CV 1/5] END activation=relu, alpha=1e-05, hidden_layer_sizes=(10, 9, 3), solver=lbfgs;, score=0.203 total time=   0.1s\n",
      "[CV 2/5] END activation=logistic, alpha=0.01, hidden_layer_sizes=(13, 3, 4), solver=lbfgs;, score=0.527 total time=   3.6s\n",
      "[CV 2/5] END activation=relu, alpha=1e-05, hidden_layer_sizes=(10, 9, 3), solver=lbfgs;, score=0.203 total time=   0.0s\n",
      "[CV 3/5] END activation=relu, alpha=1e-05, hidden_layer_sizes=(10, 9, 3), solver=lbfgs;, score=0.203 total time=   0.0s\n",
      "[CV 5/5] END activation=logistic, alpha=0.001, hidden_layer_sizes=(6, 11, 9), solver=adam;, score=0.812 total time=   4.5s\n",
      "[CV 4/5] END activation=relu, alpha=1e-05, hidden_layer_sizes=(10, 9, 3), solver=lbfgs;, score=0.345 total time=   1.1s\n"
     ]
    },
    {
     "output_type": "stream",
     "name": "stderr",
     "text": [
      "/Users/mohamed/ZenAI-3YP/3yp_venv/lib/python3.10/site-packages/sklearn/neural_network/_multilayer_perceptron.py:536: ConvergenceWarning: lbfgs failed to converge (status=1):\n",
      "STOP: TOTAL NO. of ITERATIONS REACHED LIMIT.\n",
      "\n",
      "Increase the number of iterations (max_iter) or scale the data as shown in:\n",
      "    https://scikit-learn.org/stable/modules/preprocessing.html\n",
      "  self.n_iter_ = _check_optimize_result(\"lbfgs\", opt_res, self.max_iter)\n",
      "/Users/mohamed/ZenAI-3YP/3yp_venv/lib/python3.10/site-packages/sklearn/neural_network/_multilayer_perceptron.py:536: ConvergenceWarning: lbfgs failed to converge (status=2):\n",
      "ABNORMAL_TERMINATION_IN_LNSRCH.\n",
      "\n",
      "Increase the number of iterations (max_iter) or scale the data as shown in:\n",
      "    https://scikit-learn.org/stable/modules/preprocessing.html\n",
      "  self.n_iter_ = _check_optimize_result(\"lbfgs\", opt_res, self.max_iter)\n"
     ]
    },
    {
     "output_type": "stream",
     "name": "stdout",
     "text": [
      "[CV 3/5] END activation=logistic, alpha=0.01, hidden_layer_sizes=(13, 3, 4), solver=lbfgs;, score=0.647 total time=   3.5s\n",
      "[CV 5/5] END activation=relu, alpha=1e-05, hidden_layer_sizes=(10, 9, 3), solver=lbfgs;, score=0.665 total time=   1.5s\n"
     ]
    },
    {
     "output_type": "stream",
     "name": "stderr",
     "text": [
      "/Users/mohamed/ZenAI-3YP/3yp_venv/lib/python3.10/site-packages/sklearn/neural_network/_multilayer_perceptron.py:536: ConvergenceWarning: lbfgs failed to converge (status=1):\n",
      "STOP: TOTAL NO. of ITERATIONS REACHED LIMIT.\n",
      "\n",
      "Increase the number of iterations (max_iter) or scale the data as shown in:\n",
      "    https://scikit-learn.org/stable/modules/preprocessing.html\n",
      "  self.n_iter_ = _check_optimize_result(\"lbfgs\", opt_res, self.max_iter)\n"
     ]
    },
    {
     "output_type": "stream",
     "name": "stdout",
     "text": [
      "[CV 4/5] END activation=logistic, alpha=0.01, hidden_layer_sizes=(13, 3, 4), solver=lbfgs;, score=0.497 total time=   3.6s\n",
      "[CV 4/5] END activation=logistic, alpha=0.001, hidden_layer_sizes=(6, 11, 9), solver=adam;, score=0.829 total time=   7.4s\n"
     ]
    },
    {
     "output_type": "stream",
     "name": "stderr",
     "text": [
      "/Users/mohamed/ZenAI-3YP/3yp_venv/lib/python3.10/site-packages/sklearn/neural_network/_multilayer_perceptron.py:536: ConvergenceWarning: lbfgs failed to converge (status=1):\n",
      "STOP: TOTAL NO. of ITERATIONS REACHED LIMIT.\n",
      "\n",
      "Increase the number of iterations (max_iter) or scale the data as shown in:\n",
      "    https://scikit-learn.org/stable/modules/preprocessing.html\n",
      "  self.n_iter_ = _check_optimize_result(\"lbfgs\", opt_res, self.max_iter)\n"
     ]
    },
    {
     "output_type": "stream",
     "name": "stdout",
     "text": [
      "[CV 5/5] END activation=logistic, alpha=0.01, hidden_layer_sizes=(13, 3, 4), solver=lbfgs;, score=0.405 total time=   3.4s\n",
      "[CV 3/5] END activation=logistic, alpha=0.001, hidden_layer_sizes=(6, 11, 9), solver=adam;, score=0.821 total time=   8.7s\n",
      "[CV 2/5] END activation=relu, alpha=0.01, hidden_layer_sizes=(4, 2, 5), solver=adam;, score=0.198 total time=   1.2s\n",
      "[CV 1/5] END activation=relu, alpha=0.001, hidden_layer_sizes=(13, 13, 4), solver=lbfgs;, score=0.679 total time=   3.6s\n"
     ]
    },
    {
     "output_type": "stream",
     "name": "stderr",
     "text": [
      "/Users/mohamed/ZenAI-3YP/3yp_venv/lib/python3.10/site-packages/sklearn/neural_network/_multilayer_perceptron.py:536: ConvergenceWarning: lbfgs failed to converge (status=1):\n",
      "STOP: TOTAL NO. of ITERATIONS REACHED LIMIT.\n",
      "\n",
      "Increase the number of iterations (max_iter) or scale the data as shown in:\n",
      "    https://scikit-learn.org/stable/modules/preprocessing.html\n",
      "  self.n_iter_ = _check_optimize_result(\"lbfgs\", opt_res, self.max_iter)\n",
      "/Users/mohamed/ZenAI-3YP/3yp_venv/lib/python3.10/site-packages/sklearn/neural_network/_multilayer_perceptron.py:536: ConvergenceWarning: lbfgs failed to converge (status=1):\n",
      "STOP: TOTAL NO. of ITERATIONS REACHED LIMIT.\n",
      "\n",
      "Increase the number of iterations (max_iter) or scale the data as shown in:\n",
      "    https://scikit-learn.org/stable/modules/preprocessing.html\n",
      "  self.n_iter_ = _check_optimize_result(\"lbfgs\", opt_res, self.max_iter)\n",
      "/Users/mohamed/ZenAI-3YP/3yp_venv/lib/python3.10/site-packages/sklearn/neural_network/_multilayer_perceptron.py:536: ConvergenceWarning: lbfgs failed to converge (status=1):\n",
      "STOP: TOTAL NO. of ITERATIONS REACHED LIMIT.\n",
      "\n",
      "Increase the number of iterations (max_iter) or scale the data as shown in:\n",
      "    https://scikit-learn.org/stable/modules/preprocessing.html\n",
      "  self.n_iter_ = _check_optimize_result(\"lbfgs\", opt_res, self.max_iter)\n"
     ]
    },
    {
     "output_type": "stream",
     "name": "stdout",
     "text": [
      "[CV 2/5] END activation=relu, alpha=0.001, hidden_layer_sizes=(13, 13, 4), solver=lbfgs;, score=0.487 total time=   3.8s\n",
      "[CV 4/5] END activation=relu, alpha=0.001, hidden_layer_sizes=(13, 13, 4), solver=lbfgs;, score=0.711 total time=   3.5s\n"
     ]
    },
    {
     "output_type": "stream",
     "name": "stderr",
     "text": [
      "/Users/mohamed/ZenAI-3YP/3yp_venv/lib/python3.10/site-packages/sklearn/neural_network/_multilayer_perceptron.py:536: ConvergenceWarning: lbfgs failed to converge (status=1):\n",
      "STOP: TOTAL NO. of ITERATIONS REACHED LIMIT.\n",
      "\n",
      "Increase the number of iterations (max_iter) or scale the data as shown in:\n",
      "    https://scikit-learn.org/stable/modules/preprocessing.html\n",
      "  self.n_iter_ = _check_optimize_result(\"lbfgs\", opt_res, self.max_iter)\n"
     ]
    },
    {
     "output_type": "stream",
     "name": "stdout",
     "text": [
      "[CV 3/5] END activation=relu, alpha=0.001, hidden_layer_sizes=(13, 13, 4), solver=lbfgs;, score=0.799 total time=   3.7s\n"
     ]
    },
    {
     "output_type": "stream",
     "name": "stderr",
     "text": [
      "/Users/mohamed/ZenAI-3YP/3yp_venv/lib/python3.10/site-packages/sklearn/neural_network/_multilayer_perceptron.py:536: ConvergenceWarning: lbfgs failed to converge (status=1):\n",
      "STOP: TOTAL NO. of ITERATIONS REACHED LIMIT.\n",
      "\n",
      "Increase the number of iterations (max_iter) or scale the data as shown in:\n",
      "    https://scikit-learn.org/stable/modules/preprocessing.html\n",
      "  self.n_iter_ = _check_optimize_result(\"lbfgs\", opt_res, self.max_iter)\n"
     ]
    },
    {
     "output_type": "stream",
     "name": "stdout",
     "text": [
      "[CV 5/5] END activation=relu, alpha=0.001, hidden_layer_sizes=(13, 13, 4), solver=lbfgs;, score=0.448 total time=   3.6s\n",
      "[CV 3/5] END activation=relu, alpha=0.01, hidden_layer_sizes=(4, 2, 5), solver=adam;, score=0.767 total time=   4.8s\n",
      "[CV 3/5] END activation=logistic, alpha=1, hidden_layer_sizes=(11, 4, 4), solver=adam;, score=0.447 total time=   3.4s\n",
      "[CV 4/5] END activation=logistic, alpha=1, hidden_layer_sizes=(11, 4, 4), solver=adam;, score=0.406 total time=   3.1s\n",
      "[CV 1/5] END activation=relu, alpha=0.01, hidden_layer_sizes=(4, 2, 5), solver=adam;, score=0.807 total time=   6.0s\n",
      "[CV 1/5] END activation=logistic, alpha=1, hidden_layer_sizes=(11, 4, 4), solver=adam;, score=0.505 total time=   3.9s\n",
      "[CV 4/5] END activation=relu, alpha=0.01, hidden_layer_sizes=(4, 2, 5), solver=adam;, score=0.436 total time=   5.1s\n",
      "[CV 2/5] END activation=logistic, alpha=1, hidden_layer_sizes=(11, 4, 4), solver=adam;, score=0.481 total time=   5.5s\n",
      "[CV 1/5] END activation=relu, alpha=0.0001, hidden_layer_sizes=(1, 2, 7), solver=adam;, score=0.201 total time=   0.6s\n",
      "[CV 2/5] END activation=relu, alpha=0.0001, hidden_layer_sizes=(1, 2, 7), solver=adam;, score=0.203 total time=   0.4s\n",
      "[CV 5/5] END activation=relu, alpha=0.01, hidden_layer_sizes=(4, 2, 5), solver=adam;, score=0.815 total time=   7.3s\n",
      "[CV 4/5] END activation=relu, alpha=0.0001, hidden_layer_sizes=(1, 2, 7), solver=adam;, score=0.203 total time=   0.3s\n",
      "[CV 5/5] END activation=logistic, alpha=1, hidden_layer_sizes=(11, 4, 4), solver=adam;, score=0.437 total time=   4.2s\n",
      "[CV 3/5] END activation=relu, alpha=0.0001, hidden_layer_sizes=(1, 2, 7), solver=adam;, score=0.366 total time=   1.1s\n",
      "[CV 2/5] END activation=logistic, alpha=0.01, hidden_layer_sizes=(7, 6, 11), solver=lbfgs;, score=0.602 total time=   4.0s\n",
      "[CV 1/5] END activation=logistic, alpha=0.01, hidden_layer_sizes=(7, 6, 11), solver=lbfgs;, score=0.519 total time=   4.1s\n",
      "[CV 3/5] END activation=logistic, alpha=0.0001, hidden_layer_sizes=(3, 6, 3), solver=lbfgs;, score=0.203 total time=   0.0s\n",
      "[CV 3/5] END activation=logistic, alpha=0.01, hidden_layer_sizes=(7, 6, 11), solver=lbfgs;, score=0.543 total time=   4.0s\n",
      "[CV 4/5] END activation=logistic, alpha=0.01, hidden_layer_sizes=(7, 6, 11), solver=lbfgs;, score=0.340 total time=   4.0s\n"
     ]
    },
    {
     "output_type": "stream",
     "name": "stderr",
     "text": [
      "/Users/mohamed/ZenAI-3YP/3yp_venv/lib/python3.10/site-packages/sklearn/neural_network/_multilayer_perceptron.py:536: ConvergenceWarning: lbfgs failed to converge (status=1):\n",
      "STOP: TOTAL NO. of ITERATIONS REACHED LIMIT.\n",
      "\n",
      "Increase the number of iterations (max_iter) or scale the data as shown in:\n",
      "    https://scikit-learn.org/stable/modules/preprocessing.html\n",
      "  self.n_iter_ = _check_optimize_result(\"lbfgs\", opt_res, self.max_iter)\n",
      "/Users/mohamed/ZenAI-3YP/3yp_venv/lib/python3.10/site-packages/sklearn/neural_network/_multilayer_perceptron.py:536: ConvergenceWarning: lbfgs failed to converge (status=1):\n",
      "STOP: TOTAL NO. of ITERATIONS REACHED LIMIT.\n",
      "\n",
      "Increase the number of iterations (max_iter) or scale the data as shown in:\n",
      "    https://scikit-learn.org/stable/modules/preprocessing.html\n",
      "  self.n_iter_ = _check_optimize_result(\"lbfgs\", opt_res, self.max_iter)\n",
      "/Users/mohamed/ZenAI-3YP/3yp_venv/lib/python3.10/site-packages/sklearn/neural_network/_multilayer_perceptron.py:536: ConvergenceWarning: lbfgs failed to converge (status=1):\n",
      "STOP: TOTAL NO. of ITERATIONS REACHED LIMIT.\n",
      "\n",
      "Increase the number of iterations (max_iter) or scale the data as shown in:\n",
      "    https://scikit-learn.org/stable/modules/preprocessing.html\n",
      "  self.n_iter_ = _check_optimize_result(\"lbfgs\", opt_res, self.max_iter)\n",
      "/Users/mohamed/ZenAI-3YP/3yp_venv/lib/python3.10/site-packages/sklearn/neural_network/_multilayer_perceptron.py:536: ConvergenceWarning: lbfgs failed to converge (status=1):\n",
      "STOP: TOTAL NO. of ITERATIONS REACHED LIMIT.\n",
      "\n",
      "Increase the number of iterations (max_iter) or scale the data as shown in:\n",
      "    https://scikit-learn.org/stable/modules/preprocessing.html\n",
      "  self.n_iter_ = _check_optimize_result(\"lbfgs\", opt_res, self.max_iter)\n"
     ]
    },
    {
     "output_type": "stream",
     "name": "stdout",
     "text": [
      "[CV 1/5] END activation=relu, alpha=0.0001, hidden_layer_sizes=(14, 1, 10), solver=lbfgs;, score=0.201 total time=   0.0s\n",
      "[CV 2/5] END activation=relu, alpha=0.0001, hidden_layer_sizes=(14, 1, 10), solver=lbfgs;, score=0.203 total time=   0.0s\n",
      "[CV 3/5] END activation=relu, alpha=0.0001, hidden_layer_sizes=(14, 1, 10), solver=lbfgs;, score=0.206 total time=   0.0s\n",
      "[CV 4/5] END activation=relu, alpha=0.0001, hidden_layer_sizes=(14, 1, 10), solver=lbfgs;, score=0.203 total time=   0.0s\n",
      "[CV 5/5] END activation=relu, alpha=0.0001, hidden_layer_sizes=(14, 1, 10), solver=lbfgs;, score=0.204 total time=   0.0s\n"
     ]
    },
    {
     "output_type": "stream",
     "name": "stderr",
     "text": [
      "/Users/mohamed/ZenAI-3YP/3yp_venv/lib/python3.10/site-packages/sklearn/neural_network/_multilayer_perceptron.py:536: ConvergenceWarning: lbfgs failed to converge (status=1):\n",
      "STOP: TOTAL NO. of ITERATIONS REACHED LIMIT.\n",
      "\n",
      "Increase the number of iterations (max_iter) or scale the data as shown in:\n",
      "    https://scikit-learn.org/stable/modules/preprocessing.html\n",
      "  self.n_iter_ = _check_optimize_result(\"lbfgs\", opt_res, self.max_iter)\n"
     ]
    },
    {
     "output_type": "stream",
     "name": "stdout",
     "text": [
      "[CV 5/5] END activation=logistic, alpha=0.01, hidden_layer_sizes=(7, 6, 11), solver=lbfgs;, score=0.322 total time=   3.9s\n",
      "[CV 1/5] END activation=relu, alpha=0.001, hidden_layer_sizes=(14, 3, 6), solver=adam;, score=0.198 total time=   1.2s\n",
      "[CV 2/5] END activation=logistic, alpha=0.0001, hidden_layer_sizes=(3, 6, 3), solver=lbfgs;, score=0.340 total time=   1.5s\n"
     ]
    },
    {
     "output_type": "stream",
     "name": "stderr",
     "text": [
      "/Users/mohamed/ZenAI-3YP/3yp_venv/lib/python3.10/site-packages/sklearn/neural_network/_multilayer_perceptron.py:536: ConvergenceWarning: lbfgs failed to converge (status=1):\n",
      "STOP: TOTAL NO. of ITERATIONS REACHED LIMIT.\n",
      "\n",
      "Increase the number of iterations (max_iter) or scale the data as shown in:\n",
      "    https://scikit-learn.org/stable/modules/preprocessing.html\n",
      "  self.n_iter_ = _check_optimize_result(\"lbfgs\", opt_res, self.max_iter)\n"
     ]
    },
    {
     "output_type": "stream",
     "name": "stdout",
     "text": [
      "[CV 1/5] END activation=logistic, alpha=0.0001, hidden_layer_sizes=(3, 6, 3), solver=lbfgs;, score=0.516 total time=   2.9s\n"
     ]
    },
    {
     "output_type": "stream",
     "name": "stderr",
     "text": [
      "/Users/mohamed/ZenAI-3YP/3yp_venv/lib/python3.10/site-packages/sklearn/neural_network/_multilayer_perceptron.py:536: ConvergenceWarning: lbfgs failed to converge (status=1):\n",
      "STOP: TOTAL NO. of ITERATIONS REACHED LIMIT.\n",
      "\n",
      "Increase the number of iterations (max_iter) or scale the data as shown in:\n",
      "    https://scikit-learn.org/stable/modules/preprocessing.html\n",
      "  self.n_iter_ = _check_optimize_result(\"lbfgs\", opt_res, self.max_iter)\n",
      "/Users/mohamed/ZenAI-3YP/3yp_venv/lib/python3.10/site-packages/sklearn/neural_network/_multilayer_perceptron.py:536: ConvergenceWarning: lbfgs failed to converge (status=1):\n",
      "STOP: TOTAL NO. of ITERATIONS REACHED LIMIT.\n",
      "\n",
      "Increase the number of iterations (max_iter) or scale the data as shown in:\n",
      "    https://scikit-learn.org/stable/modules/preprocessing.html\n",
      "  self.n_iter_ = _check_optimize_result(\"lbfgs\", opt_res, self.max_iter)\n"
     ]
    },
    {
     "output_type": "stream",
     "name": "stdout",
     "text": [
      "[CV 4/5] END activation=logistic, alpha=0.0001, hidden_layer_sizes=(3, 6, 3), solver=lbfgs;, score=0.500 total time=   2.9s\n",
      "[CV 5/5] END activation=logistic, alpha=0.0001, hidden_layer_sizes=(3, 6, 3), solver=lbfgs;, score=0.322 total time=   3.0s\n",
      "[CV 5/5] END activation=relu, alpha=0.001, hidden_layer_sizes=(14, 3, 6), solver=adam;, score=0.767 total time=   2.3s\n",
      "[CV 2/5] END activation=relu, alpha=0.001, hidden_layer_sizes=(14, 3, 6), solver=adam;, score=0.567 total time=   3.7s\n",
      "[CV 4/5] END activation=relu, alpha=0.001, hidden_layer_sizes=(14, 3, 6), solver=adam;, score=0.730 total time=   2.9s\n",
      "[CV 1/5] END activation=relu, alpha=0.1, hidden_layer_sizes=(1, 12, 14), solver=lbfgs;, score=0.201 total time=   0.0s\n",
      "[CV 3/5] END activation=relu, alpha=0.001, hidden_layer_sizes=(14, 3, 6), solver=adam;, score=0.610 total time=   3.8s\n",
      "[CV 3/5] END activation=relu, alpha=0.1, hidden_layer_sizes=(1, 12, 14), solver=lbfgs;, score=0.310 total time=   0.7s\n",
      "[CV 4/5] END activation=relu, alpha=0.1, hidden_layer_sizes=(1, 12, 14), solver=lbfgs;, score=0.203 total time=   0.0s\n"
     ]
    },
    {
     "output_type": "stream",
     "name": "stderr",
     "text": [
      "/Users/mohamed/ZenAI-3YP/3yp_venv/lib/python3.10/site-packages/sklearn/neural_network/_multilayer_perceptron.py:679: ConvergenceWarning: Stochastic Optimizer: Maximum iterations (1000) reached and the optimization hasn't converged yet.\n",
      "  warnings.warn(\n"
     ]
    },
    {
     "output_type": "stream",
     "name": "stdout",
     "text": [
      "[CV 5/5] END activation=relu, alpha=0.0001, hidden_layer_sizes=(1, 2, 7), solver=adam;, score=0.488 total time=   7.7s\n",
      "[CV 1/5] END activation=logistic, alpha=1e-05, hidden_layer_sizes=(9, 3, 9), solver=adam;, score=0.762 total time=   5.1s\n",
      "[CV 2/5] END activation=relu, alpha=0.1, hidden_layer_sizes=(1, 12, 14), solver=lbfgs;, score=0.610 total time=   3.2s\n",
      "[CV 3/5] END activation=logistic, alpha=0.001, hidden_layer_sizes=(1, 10, 6), solver=lbfgs;, score=0.203 total time=   0.0s\n"
     ]
    },
    {
     "output_type": "stream",
     "name": "stderr",
     "text": [
      "/Users/mohamed/ZenAI-3YP/3yp_venv/lib/python3.10/site-packages/sklearn/neural_network/_multilayer_perceptron.py:536: ConvergenceWarning: lbfgs failed to converge (status=1):\n",
      "STOP: TOTAL NO. of ITERATIONS REACHED LIMIT.\n",
      "\n",
      "Increase the number of iterations (max_iter) or scale the data as shown in:\n",
      "    https://scikit-learn.org/stable/modules/preprocessing.html\n",
      "  self.n_iter_ = _check_optimize_result(\"lbfgs\", opt_res, self.max_iter)\n"
     ]
    },
    {
     "output_type": "stream",
     "name": "stdout",
     "text": [
      "[CV 4/5] END activation=logistic, alpha=0.001, hidden_layer_sizes=(1, 10, 6), solver=lbfgs;, score=0.332 total time=   0.2s\n",
      "[CV 2/5] END activation=logistic, alpha=1e-05, hidden_layer_sizes=(9, 3, 9), solver=adam;, score=0.770 total time=   5.4s\n"
     ]
    },
    {
     "output_type": "stream",
     "name": "stderr",
     "text": [
      "/Users/mohamed/ZenAI-3YP/3yp_venv/lib/python3.10/site-packages/sklearn/neural_network/_multilayer_perceptron.py:536: ConvergenceWarning: lbfgs failed to converge (status=1):\n",
      "STOP: TOTAL NO. of ITERATIONS REACHED LIMIT.\n",
      "\n",
      "Increase the number of iterations (max_iter) or scale the data as shown in:\n",
      "    https://scikit-learn.org/stable/modules/preprocessing.html\n",
      "  self.n_iter_ = _check_optimize_result(\"lbfgs\", opt_res, self.max_iter)\n"
     ]
    },
    {
     "output_type": "stream",
     "name": "stdout",
     "text": [
      "[CV 5/5] END activation=relu, alpha=0.1, hidden_layer_sizes=(1, 12, 14), solver=lbfgs;, score=0.544 total time=   3.5s\n",
      "[CV 4/5] END activation=logistic, alpha=1e-05, hidden_layer_sizes=(9, 3, 9), solver=adam;, score=0.807 total time=   5.0s\n",
      "[CV 3/5] END activation=logistic, alpha=1e-05, hidden_layer_sizes=(9, 3, 9), solver=adam;, score=0.821 total time=   6.0s\n",
      "[CV 2/5] END activation=relu, alpha=1, hidden_layer_sizes=(8, 7, 2), solver=adam;, score=0.211 total time=   1.3s\n",
      "[CV 1/5] END activation=logistic, alpha=0.001, hidden_layer_sizes=(1, 10, 6), solver=lbfgs;, score=0.289 total time=   3.0s\n"
     ]
    },
    {
     "output_type": "stream",
     "name": "stderr",
     "text": [
      "/Users/mohamed/ZenAI-3YP/3yp_venv/lib/python3.10/site-packages/sklearn/neural_network/_multilayer_perceptron.py:536: ConvergenceWarning: lbfgs failed to converge (status=1):\n",
      "STOP: TOTAL NO. of ITERATIONS REACHED LIMIT.\n",
      "\n",
      "Increase the number of iterations (max_iter) or scale the data as shown in:\n",
      "    https://scikit-learn.org/stable/modules/preprocessing.html\n",
      "  self.n_iter_ = _check_optimize_result(\"lbfgs\", opt_res, self.max_iter)\n",
      "/Users/mohamed/ZenAI-3YP/3yp_venv/lib/python3.10/site-packages/sklearn/neural_network/_multilayer_perceptron.py:536: ConvergenceWarning: lbfgs failed to converge (status=1):\n",
      "STOP: TOTAL NO. of ITERATIONS REACHED LIMIT.\n",
      "\n",
      "Increase the number of iterations (max_iter) or scale the data as shown in:\n",
      "    https://scikit-learn.org/stable/modules/preprocessing.html\n",
      "  self.n_iter_ = _check_optimize_result(\"lbfgs\", opt_res, self.max_iter)\n"
     ]
    },
    {
     "output_type": "stream",
     "name": "stdout",
     "text": [
      "[CV 2/5] END activation=logistic, alpha=0.001, hidden_layer_sizes=(1, 10, 6), solver=lbfgs;, score=0.340 total time=   3.1s\n"
     ]
    },
    {
     "output_type": "stream",
     "name": "stderr",
     "text": [
      "/Users/mohamed/ZenAI-3YP/3yp_venv/lib/python3.10/site-packages/sklearn/neural_network/_multilayer_perceptron.py:536: ConvergenceWarning: lbfgs failed to converge (status=1):\n",
      "STOP: TOTAL NO. of ITERATIONS REACHED LIMIT.\n",
      "\n",
      "Increase the number of iterations (max_iter) or scale the data as shown in:\n",
      "    https://scikit-learn.org/stable/modules/preprocessing.html\n",
      "  self.n_iter_ = _check_optimize_result(\"lbfgs\", opt_res, self.max_iter)\n"
     ]
    },
    {
     "output_type": "stream",
     "name": "stdout",
     "text": [
      "[CV 5/5] END activation=logistic, alpha=0.001, hidden_layer_sizes=(1, 10, 6), solver=lbfgs;, score=0.343 total time=   3.0s\n",
      "[CV 3/5] END activation=relu, alpha=0.0001, hidden_layer_sizes=(5, 12, 8), solver=lbfgs;, score=0.246 total time=   0.5s\n",
      "[CV 5/5] END activation=logistic, alpha=1e-05, hidden_layer_sizes=(9, 3, 9), solver=adam;, score=0.772 total time=   8.1s\n",
      "[CV 4/5] END activation=relu, alpha=0.0001, hidden_layer_sizes=(5, 12, 8), solver=lbfgs;, score=0.281 total time=   0.8s\n",
      "[CV 1/5] END activation=relu, alpha=0.001, hidden_layer_sizes=(14, 10, 1), solver=adam;, score=0.201 total time=   0.4s\n",
      "[CV 4/5] END activation=relu, alpha=1, hidden_layer_sizes=(8, 7, 2), solver=adam;, score=0.572 total time=   3.9s\n",
      "[CV 1/5] END activation=relu, alpha=0.0001, hidden_layer_sizes=(5, 12, 8), solver=lbfgs;, score=0.848 total time=   3.0s\n"
     ]
    },
    {
     "output_type": "stream",
     "name": "stderr",
     "text": [
      "/Users/mohamed/ZenAI-3YP/3yp_venv/lib/python3.10/site-packages/sklearn/neural_network/_multilayer_perceptron.py:536: ConvergenceWarning: lbfgs failed to converge (status=1):\n",
      "STOP: TOTAL NO. of ITERATIONS REACHED LIMIT.\n",
      "\n",
      "Increase the number of iterations (max_iter) or scale the data as shown in:\n",
      "    https://scikit-learn.org/stable/modules/preprocessing.html\n",
      "  self.n_iter_ = _check_optimize_result(\"lbfgs\", opt_res, self.max_iter)\n",
      "/Users/mohamed/ZenAI-3YP/3yp_venv/lib/python3.10/site-packages/sklearn/neural_network/_multilayer_perceptron.py:536: ConvergenceWarning: lbfgs failed to converge (status=1):\n",
      "STOP: TOTAL NO. of ITERATIONS REACHED LIMIT.\n",
      "\n",
      "Increase the number of iterations (max_iter) or scale the data as shown in:\n",
      "    https://scikit-learn.org/stable/modules/preprocessing.html\n",
      "  self.n_iter_ = _check_optimize_result(\"lbfgs\", opt_res, self.max_iter)\n"
     ]
    },
    {
     "output_type": "stream",
     "name": "stdout",
     "text": [
      "[CV 2/5] END activation=relu, alpha=0.0001, hidden_layer_sizes=(5, 12, 8), solver=lbfgs;, score=0.810 total time=   3.1s\n",
      "[CV 2/5] END activation=relu, alpha=0.001, hidden_layer_sizes=(14, 10, 1), solver=adam;, score=0.251 total time=   1.3s\n",
      "[CV 3/5] END activation=relu, alpha=0.001, hidden_layer_sizes=(14, 10, 1), solver=adam;, score=0.203 total time=   0.9s\n",
      "[CV 5/5] END activation=relu, alpha=0.001, hidden_layer_sizes=(14, 10, 1), solver=adam;, score=0.204 total time=   0.8s\n",
      "[CV 5/5] END activation=relu, alpha=1, hidden_layer_sizes=(8, 7, 2), solver=adam;, score=0.812 total time=   4.9s\n"
     ]
    },
    {
     "output_type": "stream",
     "name": "stderr",
     "text": [
      "/Users/mohamed/ZenAI-3YP/3yp_venv/lib/python3.10/site-packages/sklearn/neural_network/_multilayer_perceptron.py:536: ConvergenceWarning: lbfgs failed to converge (status=1):\n",
      "STOP: TOTAL NO. of ITERATIONS REACHED LIMIT.\n",
      "\n",
      "Increase the number of iterations (max_iter) or scale the data as shown in:\n",
      "    https://scikit-learn.org/stable/modules/preprocessing.html\n",
      "  self.n_iter_ = _check_optimize_result(\"lbfgs\", opt_res, self.max_iter)\n"
     ]
    },
    {
     "output_type": "stream",
     "name": "stdout",
     "text": [
      "[CV 5/5] END activation=relu, alpha=0.0001, hidden_layer_sizes=(5, 12, 8), solver=lbfgs;, score=0.788 total time=   3.1s\n",
      "[CV 4/5] END activation=relu, alpha=0.001, hidden_layer_sizes=(14, 10, 1), solver=adam;, score=0.281 total time=   2.4s\n",
      "[CV 3/5] END activation=relu, alpha=1, hidden_layer_sizes=(8, 7, 2), solver=adam;, score=0.832 total time=   6.7s\n",
      "[CV 1/5] END activation=relu, alpha=1, hidden_layer_sizes=(8, 7, 2), solver=adam;, score=0.647 total time=   7.3s\n"
     ]
    },
    {
     "output_type": "stream",
     "name": "stderr",
     "text": [
      "/Users/mohamed/ZenAI-3YP/3yp_venv/lib/python3.10/site-packages/sklearn/neural_network/_multilayer_perceptron.py:679: ConvergenceWarning: Stochastic Optimizer: Maximum iterations (1000) reached and the optimization hasn't converged yet.\n",
      "  warnings.warn(\n"
     ]
    },
    {
     "output_type": "stream",
     "name": "stdout",
     "text": [
      "Best solver:  adam\n",
      "Best activation:  relu\n",
      "Layers:  (12, 12, 12)\n",
      "Alpha:  0.01\n",
      "              precision    recall  f1-score   support\n",
      "\n",
      "           0       0.97      0.97      0.97       106\n",
      "           1       0.95      0.87      0.91       122\n",
      "           2       0.93      0.89      0.91       141\n",
      "           3       0.97      0.98      0.98       104\n",
      "           4       0.91      0.98      0.95       133\n",
      "           5       0.74      0.80      0.76        49\n",
      "\n",
      "    accuracy                           0.93       655\n",
      "   macro avg       0.91      0.92      0.91       655\n",
      "weighted avg       0.93      0.93      0.93       655\n",
      "\n"
     ]
    },
    {
     "output_type": "display_data",
     "data": {
      "image/png": "[encoded data removed]",
      "text/plain": [
       "<Figure size 640x480 with 2 Axes>"
      ]
     },
     "metadata": {}
    }
   ],
   "metadata": {}
  },
  {
   "cell_type": "code",
   "execution_count": null,
   "source": [],
   "outputs": [],
   "metadata": {}
  },
  {
   "cell_type": "code",
   "execution_count": 158,
   "source": [
    "print(\"Best solver: \", best_params['solver'])\n",
    "print(\"Best activation: \", best_params['activation'])\n",
    "print(\"Layers: \", best_params['hidden_layer_sizes'] )\n",
    "print(\"Alpha: \", best_params['alpha'])\n",
    "\n",
    "#  Dumping pre-trained model \n",
    "with open('/Users/mohamed/ZenAI-3YP/AppSite/backend/models/nn_93.pkl', 'wb') as f:\n",
    "    pickle.dump(best_mlp, f)"
   ],
   "outputs": [
    {
     "output_type": "stream",
     "name": "stdout",
     "text": [
      "Best solver:  adam\n",
      "Best activation:  relu\n",
      "Layers:  (12, 12, 12)\n",
      "Alpha:  0.01\n"
     ]
    }
   ],
   "metadata": {}
  },
  {
   "cell_type": "code",
   "execution_count": 157,
   "source": [
    "# # Use the best hyperparameters to initialize the MLPClassifier\n",
    "# best_mlp = MLPClassifier(solver=best_params['solver'], activation=best_params['activation'], alpha=best_params['alpha'], hidden_layer_sizes=best_params['hidden_layer_sizes'], max_iter=1000)\n",
    "\n",
    "# # Train the MLPClassifier on the training data\n",
    "# best_mlp.fit(X_train, y_train)\n"
   ],
   "outputs": [],
   "metadata": {}
  },
  {
   "cell_type": "markdown",
   "source": [
    "# SVC Grid Search Classifer\n",
    "## Consistent 90% Sometimes 91%\n",
    "## After replacing Warrior3 for Warrior2 (Is a hard pose to do, and W3 had too much overlap with the other classes + fixing a 20degree error in the pre-processing the accuracy gained went up by 5% !!)"
   ],
   "metadata": {}
  },
  {
   "cell_type": "code",
   "execution_count": 159,
   "source": [
    "if TRAIN_SVM:\n",
    "    RANDOM_ORDER_DATA = True \n",
    "    RANDOM_CV = False\n",
    "\n",
    "    '''Shuffle data for better resuliting'''\n",
    "    if RANDOM_ORDER_DATA:\n",
    "        mutated_train = combined_train.sample(frac=1)\n",
    "    else:\n",
    "        mutated_train = combined_train\n",
    "\n",
    "    X_train, y_train = split_features_labels(mutated_train)\n",
    "    X_test, y_test = split_features_labels(combined_test)\n",
    "\n",
    "    svm = SVC(kernel='rbf') \n",
    "\n",
    "\n",
    "    '''Tried search for gamma manually but it appears using scale is just better''' \n",
    "    n_features = X_train.shape[1]\n",
    "    gamma_start = 1 / (n_features * max(X_train.var()))\n",
    "    gamma_step = 0.005\n",
    "    gamma_end = gamma_start + (10 * gamma_step)\n",
    "\n",
    "    ### Doing Grid Search Now ###\n",
    "\n",
    "    gamma_range = np.arange(gamma_start, gamma_end, gamma_step)\n",
    "    C_range = [0.1, 1, 2, 3, 4, 5, 6, 7, 8, 9, 10, 11, 12, 13, 14, 15]\n",
    "    # set the parameter grid for grid search\n",
    "    param_grid = {\n",
    "            'C': C_range,\n",
    "            'gamma' : ['scale', 'auto']\n",
    "        }\n",
    "\n",
    "    # perform grid search\n",
    "    if RANDOM_CV:\n",
    "        grid = RandomizedSearchCV(svm, cv=5, param_distributions=param_grid, verbose=1)\n",
    "    else:\n",
    "        grid = GridSearchCV(svm, cv=5, param_grid=param_grid, verbose=1)\n",
    "    grid.fit(X_train, y_train)\n",
    "\n",
    "    # best parameters and score\n",
    "    print(\"Best parameters:\", grid.best_params_)\n",
    "    print(\"Best Score: \", grid.best_score_)\n",
    "\n",
    "    best_svc = SVC(kernel='rbf', C=grid.best_params_['C'], gamma=grid.best_params_['gamma'], probability=True)\n",
    "\n",
    "    best_svc.fit(X_train, y_train)\n",
    "\n",
    "    ''' Plotting '''\n",
    "    pred = best_svc.predict(X_test)\n",
    "    cm = confusion_matrix(y_test, pred)\n",
    "    display_confusion_matrix = ConfusionMatrixDisplay(confusion_matrix=cm, display_labels=classes)\n",
    "    display_confusion_matrix.plot()\n",
    "    print(classification_report(y_test, pred))"
   ],
   "outputs": [
    {
     "output_type": "stream",
     "name": "stdout",
     "text": [
      "Fitting 5 folds for each of 32 candidates, totalling 160 fits\n",
      "Best parameters: {'C': 13, 'gamma': 'scale'}\n",
      "Best Score:  0.9069117288641024\n",
      "              precision    recall  f1-score   support\n",
      "\n",
      "           0       0.97      0.91      0.94       106\n",
      "           1       0.94      0.93      0.93       122\n",
      "           2       0.94      0.92      0.93       141\n",
      "           3       0.98      0.97      0.98       104\n",
      "           4       0.94      0.98      0.96       133\n",
      "           5       0.70      0.80      0.74        49\n",
      "\n",
      "    accuracy                           0.93       655\n",
      "   macro avg       0.91      0.92      0.91       655\n",
      "weighted avg       0.93      0.93      0.93       655\n",
      "\n"
     ]
    },
    {
     "output_type": "display_data",
     "data": {
      "image/png": "[encoded data removed]",
      "text/plain": [
       "<Figure size 640x480 with 2 Axes>"
      ]
     },
     "metadata": {}
    }
   ],
   "metadata": {}
  },
  {
   "cell_type": "code",
   "execution_count": 161,
   "source": [
    "#  Dumping pre-trained model \n",
    "with open('/Users/mohamed/ZenAI-3YP/AppSite/backend/models/svm_93.pkl', 'wb') as f:\n",
    "    pickle.dump(best_svc, f)"
   ],
   "outputs": [],
   "metadata": {}
  },
  {
   "cell_type": "markdown",
   "source": [
    "# Video & Classifer Integration"
   ],
   "metadata": {}
  },
  {
   "cell_type": "code",
   "execution_count": null,
   "source": [
    "mp_drawing = mp.solutions.drawing_utils\n",
    "mp_pose = mp.solutions.pose\n",
    "\n",
    "MIN_DETECTION_CONFIDENCE = 0.5\n",
    "MIN_TRACKING_CONFIDENCE = 0.5\n",
    "\n",
    "# All landmark except for hand and face specific\n",
    "RelevantLandmarks = list(mp_pose.PoseLandmark)[11:17] + list(mp_pose.PoseLandmark)[23:29]\n",
    "\n",
    "l_hip_landmark_angle_idx = (11,23,25)\n",
    "r_hip_landmark_angle_idx = (12,24,26)\n",
    "\n",
    "l_shoulder_landmark_angle_idx = (13,11,23)\n",
    "r_shoulder_landmark_angle_idx = (14,12,24)\n",
    "\n",
    "l_arm_landmark_angle_idx = (15,13,11)\n",
    "r_arm_landmark_angle_idx = (16,14,12)\n",
    "\n",
    "l_knee_landmark_angle_idx = (23,25,27)\n",
    "r_knee_landmark_angle_idx = (24,26,28)\n",
    "\n",
    "#Match idx of RelevantLandmarks \n",
    "angle_idxs_required = [\n",
    "    l_shoulder_landmark_angle_idx,\n",
    "    r_shoulder_landmark_angle_idx,\n",
    "    \n",
    "    l_arm_landmark_angle_idx,\n",
    "    r_arm_landmark_angle_idx,\n",
    "    \n",
    "    l_hip_landmark_angle_idx,\n",
    "    r_hip_landmark_angle_idx,\n",
    "    \n",
    "    l_knee_landmark_angle_idx,\n",
    "    r_knee_landmark_angle_idx\n",
    "]\n",
    "\n",
    "skip_landmark = {\n",
    "    mp_pose.PoseLandmark.RIGHT_ANKLE,\n",
    "    mp_pose.PoseLandmark.LEFT_ANKLE,\n",
    "    mp_pose.PoseLandmark.RIGHT_WRIST,\n",
    "    mp_pose.PoseLandmark.LEFT_WRIST\n",
    "}\n",
    "\n",
    "landmarkStr = {\n",
    "    mp_pose.PoseLandmark.NOSE : \"NOSE\",\n",
    "    mp_pose.PoseLandmark.LEFT_EYE_INNER : \"LEFT_EYE_INNER\",\n",
    "    mp_pose.PoseLandmark.LEFT_EYE : \"LEFT_EYE\",\n",
    "    mp_pose.PoseLandmark.LEFT_EYE_OUTER : \"LEFT_EYE_OUTER\",\n",
    "    mp_pose.PoseLandmark.RIGHT_EYE_INNER : \"RIGHT_EYE_INNER\",\n",
    "    mp_pose.PoseLandmark.RIGHT_EYE : \"RIGHT_EYE\",\n",
    "    mp_pose.PoseLandmark.RIGHT_EYE_OUTER : \"RIGHT_EYE_OUTER\",\n",
    "    mp_pose.PoseLandmark.LEFT_EAR : \"LEFT_EAR\",\n",
    "    mp_pose.PoseLandmark.RIGHT_EAR : \"RIGHT_EAR\",\n",
    "    mp_pose.PoseLandmark.MOUTH_LEFT : \"MOUTH_LEFT\",\n",
    "    mp_pose.PoseLandmark.MOUTH_RIGHT : \"MOUTH_RIGHT\",\n",
    "    mp_pose.PoseLandmark.LEFT_SHOULDER : \"LEFT_SHOULDER\",\n",
    "    mp_pose.PoseLandmark.RIGHT_SHOULDER : \"RIGHT_SHOULDER\",\n",
    "    mp_pose.PoseLandmark.LEFT_ELBOW : \"LEFT_ELBOW\",\n",
    "    mp_pose.PoseLandmark.RIGHT_ELBOW : \"RIGHT_ELBOW\",\n",
    "    mp_pose.PoseLandmark.LEFT_WRIST : \"LEFT_WRIST\",\n",
    "    mp_pose.PoseLandmark.RIGHT_WRIST : \"RIGHT_WRIST\",\n",
    "    mp_pose.PoseLandmark.LEFT_PINKY : \"LEFT_PINKY\",\n",
    "    mp_pose.PoseLandmark.RIGHT_PINKY : \"RIGHT_PINKY\",\n",
    "    mp_pose.PoseLandmark.LEFT_INDEX : \"LEFT_INDEX\",\n",
    "    mp_pose.PoseLandmark.RIGHT_INDEX : \"RIGHT_INDEX\",\n",
    "    mp_pose.PoseLandmark.LEFT_THUMB : \"LEFT_THUMB\",\n",
    "    mp_pose.PoseLandmark.RIGHT_THUMB : \"RIGHT_THUMB\",\n",
    "    mp_pose.PoseLandmark.LEFT_HIP : \"LEFT_HIP\",\n",
    "    mp_pose.PoseLandmark.RIGHT_HIP : \"RIGHT_HIP\",\n",
    "    mp_pose.PoseLandmark.LEFT_KNEE : \"LEFT_KNEE\",\n",
    "    mp_pose.PoseLandmark.RIGHT_KNEE : \"RIGHT_KNEE\",\n",
    "    mp_pose.PoseLandmark.LEFT_ANKLE : \"LEFT_ANKLE\",\n",
    "    mp_pose.PoseLandmark.RIGHT_ANKLE : \"RIGHT_ANKLE\",\n",
    "    mp_pose.PoseLandmark.LEFT_HEEL : \"LEFT_HEEL\",\n",
    "    mp_pose.PoseLandmark.RIGHT_HEEL : \"RIGHT_HEEL\",\n",
    "    mp_pose.PoseLandmark.LEFT_FOOT_INDEX : \"LEFT_FOOT_INDEX\",\n",
    "    mp_pose.PoseLandmark.RIGHT_FOOT_INDEX : \"RIGHT_FOOT_INDEX\"\n",
    "}\n",
    "\n",
    "def calc_angle(a, b, c):\n",
    "    a = np.array(a)\n",
    "    b = np.array(b)    \n",
    "    c = np.array(c)   \n",
    "    \n",
    "    radians = np.arctan2(c[1]-b[1], c[0]-b[0]) - np.arctan2(a[1]-b[1], a[0]-b[0])\n",
    "    angle = np.abs(radians*180.0/np.pi)\n",
    "    \n",
    "    if angle > 180.0:\n",
    "        angle = 360-angle\n",
    "    \n",
    "    return angle "
   ],
   "outputs": [],
   "metadata": {}
  },
  {
   "cell_type": "code",
   "execution_count": null,
   "source": [
    "def classify_pose(example, classifer):\n",
    "    example = pd.DataFrame(np.array(example).reshape(1, -1), columns=columns[1:])\n",
    "\n",
    "    if classifer == 'KNN':\n",
    "        probabilty_classes = best_KNN.predict_proba(example)\n",
    "    elif classifer == 'Forest':\n",
    "        probabilty_classes = best_forest.predict_proba(example)\n",
    "    elif classifer == 'SVM':\n",
    "        probabilty_classes = best_svc.predict_proba(example)\n",
    "    elif classifer == 'NN':\n",
    "        probabilty_classes = best_mlp.predict_proba(example)\n",
    "    else:\n",
    "        raise Exception(\"Please enter valid classifer. Currently only ('KNN' | 'Forest' | 'NN' | 'SVM')\")\n",
    "\n",
    "    \n",
    "    prob_predicted_classes = [] \n",
    "    for class_idx, prob in enumerate(probabilty_classes[0]):\n",
    "        prob_predicted_classes.append((classes[class_idx], prob))\n",
    "        \n",
    "    prob_predicted_classes.sort(key = lambda x: x[1], reverse=True)\n",
    "    \n",
    "    # Get the highest predicted class \n",
    "    predicted_class = prob_predicted_classes[0]\n",
    "    \n",
    "    return (predicted_class[0], predicted_class[1], sorted(prob_predicted_classes, key = lambda x: x[1], reverse=True))\n",
    "\n",
    "# Sanity test classification \n",
    "classify_pose([8.390697637127042, 13.364568331384618, 16.49759248897499, 153.50000646379374, 173.20291493738577, 199.52935190007366, 179.00845878279233, 198.25172013734928], classifer='SVM')"
   ],
   "outputs": [],
   "metadata": {}
  },
  {
   "cell_type": "code",
   "execution_count": null,
   "source": [
    "pca = PCA(n_components = 2)\n",
    "X_train_pca = pca.fit_transform(X_train)\n",
    "\n",
    "def extract_pca_2d(example):\n",
    "    example = pd.DataFrame(np.array(example).reshape(1, -1), columns=columns[1:])\n",
    "    return pca.transform(example)\n",
    "\n",
    "def unnormalize_cords(x, y, fw, fh):\n",
    "    return tuple(np.multiply([x, y], [fw, fh]).astype(int))"
   ],
   "outputs": [],
   "metadata": {}
  },
  {
   "cell_type": "markdown",
   "source": [
    "# Getting the ideal angles into a dataframe\n",
    "## Currently the method just gets the ideal images and finds the angles in those images and uses that as the ideal example.\n",
    "## A more sophisiticated method may be getting a large amount of ideal examples and averaging over all of their angles to get a mean ideal angle for each key point. Ideal\n",
    "\n",
    "# Edits: \n",
    "## There are now two ways of calculating the ideal angle - one is more sophisticated and splits up WarriorII and Tree into 2 different 'subclasses' one for facing left and one for facing right. This was done as the score someone would recieve for doign these exercises wouldn't be accurate as we previously didn't take into account which variation they did it\n",
    "\n",
    "## The old way of getting the average angles still exist and we simply just need to the toggle the `OLD_IDEAL_ANGLES` variable."
   ],
   "metadata": {}
  },
  {
   "cell_type": "code",
   "execution_count": 78,
   "source": [
    "OLD_IDEAL_ANGLES = False \n",
    "\n",
    "if OLD_IDEAL_ANGLES:\n",
    "    # Depricated since we're now differentiate left and right warrior \n",
    "    ''' Might end up going back to this'''\n",
    "    ideal_angles = pd.read_csv('../DemoImages/Ideal_Angles.csv', header=None)\n",
    "    ideal_angles.columns = columns \n",
    "\n",
    "    ideal_angles_map_single = {pose : ideal_angles[ideal_angles['class'] == pose].values.tolist()[0][1:] for pose in classes}\n",
    "\n",
    "    ''' Finding the average for all poses'''\n",
    "    ideal_angles_map_average = {pose : combined_train[combined_train['class'] == pose_idx].mean(axis=0).tolist()[1:] for pose_idx, pose in enumerate(classes) }\n",
    "\n",
    "else:\n",
    "    ideal_angles = pd.read_csv('../DemoImages/joint_angles.csv', header=None)\n",
    "    ideal_angles.columns = columns\n",
    "    ideal_angles_map_single = {pose : ideal_angles[ideal_angles['class'] == pose].values.tolist()[0][1:] for pose in feedback_classes}\n",
    "\n",
    "    ''' Finding the average for all poses except WarriorII and Tree. These need to be dealt in a special case explained in the next section'''\n",
    "    ideal_angles_map_average = {pose : combined_train[combined_train['class'] == pose_idx].mean(axis=0).tolist()[1:] for pose_idx, pose in enumerate(classes) if pose not in {'WarriorII', 'Tree'}}\n",
    "\n",
    "    ''' Splitting Warrior into Warrior L and Warrior R -- Setting the threshold to 170 gives the most equal 5050 split (180:196) and makes sense'''\n",
    "    w2index = classes.index('WarriorII')\n",
    "    Right_WarriorII = combined_train[(combined_train['class'] == w2index) & (combined_train['l_knee'] > 170)]\n",
    "    Left_WarriorII = combined_train[(combined_train['class'] == w2index) & (combined_train['l_knee'] <= 170)]\n",
    "    \n",
    "\n",
    "    ideal_angles_map_average['WarriorII_R'] = Right_WarriorII.mean(axis=0).tolist()[1:]\n",
    "    ideal_angles_map_average['WarriorII_L'] = Left_WarriorII.mean(axis=0).tolist()[1:]\n",
    "\n",
    "    ''' Splitting Tree into Tree L and Tree R -> The split of is 100:250 (L:R) even while changing the degree threshold this value doesn't change much.'''\n",
    "    ''' Potentially gonna have to split into Arms-Up Tree and Arms-Down Tree since the training data may include both poses with arms up and poses with arms down'''\n",
    "    tree_idx = classes.index('Tree')\n",
    "\n",
    "    Left_Tree_Down = combined_train[(combined_train['class'] == tree_idx) & (combined_train['l_knee'] <= 90) & (combined_train['l_shoulder'] <= 90) ]\n",
    "    Right_Tree_Down = combined_train[(combined_train['class'] == tree_idx) & (combined_train['l_knee'] > 90) & (combined_train['l_shoulder'] <= 90) ]\n",
    "    Left_Tree_Up = combined_train[(combined_train['class'] == tree_idx) & (combined_train['l_knee'] <= 90) & (combined_train['l_shoulder'] > 90) ]\n",
    "    Right_Tree_Up = combined_train[(combined_train['class'] == tree_idx) & (combined_train['l_knee'] > 90) & (combined_train['l_shoulder'] > 90) ]\n",
    "\n",
    "\n",
    "    # min_shoulder = combined_train[(combined_train['class'] == tree_idx) & (combined_train['l_knee'] > 120)]['l_shoulder'].min()\n",
    "    # max_shoulder = combined_train[(combined_train['class'] == tree_idx) & (combined_train['l_knee'] > 120)]['l_shoulder'].max()\n",
    "\n",
    "    # print(min_shoulder, max_shoulder)\n",
    "    \n",
    "    ideal_angles_map_average['Tree_R_D'] = Right_Tree_Down.mean(axis=0).tolist()[1:]\n",
    "    ideal_angles_map_average['Tree_L_D'] = Left_Tree_Down.mean(axis=0).tolist()[1:]\n",
    "    ideal_angles_map_average['Tree_R_U'] = Right_Tree_Up.mean(axis=0).tolist()[1:]\n",
    "    ideal_angles_map_average['Tree_L_U'] = Left_Tree_Up.mean(axis=0).tolist()[1:]\n",
    "    \n",
    "ideal_angles_map = ideal_angles_map_average\n",
    "ideal_angles_map['Tree_L_D']"
   ],
   "outputs": [
    {
     "output_type": "execute_result",
     "data": {
      "text/plain": [
       "[30.578280952380947,\n",
       " 52.65850404761905,\n",
       " 58.95707761904762,\n",
       " 64.52029119047617,\n",
       " 121.68810500000002,\n",
       " 172.24592190476193,\n",
       " 34.283422142857134,\n",
       " 167.86447357142856]"
      ]
     },
     "metadata": {},
     "execution_count": 78
    }
   ],
   "metadata": {}
  },
  {
   "cell_type": "code",
   "execution_count": 77,
   "source": [
    "def cosine_similarity(angle1, angle2, difficulty):\n",
    "    \"\"\"\n",
    "    Calculates the cosine similarity between two angles in degrees.\n",
    "    \"\"\"\n",
    "    angle1_rad = np.deg2rad(angle1)\n",
    "    angle2_rad = np.deg2rad(angle2)\n",
    "    cos_sim = np.cos(angle1_rad - angle2_rad)\n",
    "\n",
    "    # Rescale the cosine similarity to be between 0 and 1, with values closer to 0 indicating a worse match\n",
    "    sim_rescaled = (cos_sim + 1) / 2\n",
    "    \n",
    "    ''' Returing the score raised to the n'th power, where n determines how sensitive the score is.'''\n",
    "    return sim_rescaled**difficulty\n",
    "\n",
    "# Define the x-axis values (the angle indexes)\n",
    "x = joint_idx_map.values()\n",
    "\n",
    "# Set up the figure and axis for the plot\n",
    "fig, ax = plt.subplots()\n",
    "\n",
    "# Plot the cosine similarity values for each pose (excluding 'Neutral')\n",
    "if OLD_IDEAL_ANGLES:\n",
    "    poses = classes\n",
    "else:\n",
    "    poses = feedback_classes\n",
    "\n",
    "for pose in poses:\n",
    "    if pose == 'Neutral':\n",
    "        continue\n",
    "    \n",
    "    cosine_similarities = [cosine_similarity(single, avg, 1) for single, avg in zip(ideal_angles_map_single[pose], ideal_angles_map_average[pose])]\n",
    "    ax.plot(x, cosine_similarities, label=pose)\n",
    "\n",
    "# Set the plot title and labels for the x- and y-axes\n",
    "ax.set_title('Cosine Similarity between Single and Average Ideal Angles for Each Pose (W2 & Tree Split)')\n",
    "ax.set_xlabel('Joint')\n",
    "ax.set_ylabel('Cosine Similarity')\n",
    "\n",
    "# Set the y-axis limits to be between 0 and 1\n",
    "ax.set_ylim([0.4, 1])\n",
    "ax.legend()\n",
    "plt.show()"
   ],
   "outputs": [
    {
     "output_type": "display_data",
     "data": {
      "image/png": "[encoded data removed]",
      "text/plain": [
       "<Figure size 640x480 with 1 Axes>"
      ]
     },
     "metadata": {}
    }
   ],
   "metadata": {}
  },
  {
   "cell_type": "code",
   "execution_count": 60,
   "source": [
    "if OLD_IDEAL_ANGLES:\n",
    "    poses = classes\n",
    "else:\n",
    "    poses = feedback_classes\n",
    "print(list(joint_idx_map.values()))\n",
    "for pose in poses:\n",
    "    \n",
    "    cosine_similarities = [cosine_similarity(single, avg, 1) for single, avg in zip(ideal_angles_map_single[pose], ideal_angles_map_average[pose])]\n",
    "    print(pose)\n",
    "    print(f'Single Example Angles: {ideal_angles_map_single[pose]}')\n",
    "    print(f'Average over training set: {ideal_angles_map_average[pose]}')\n",
    "    print(f'Cosine Similarities: {cosine_similarities}')\n",
    "    print()"
   ],
   "outputs": [
    {
     "output_type": "stream",
     "name": "stdout",
     "text": [
      "['Left Shoulder', 'Right Shoulder', 'Left Arm', 'Right Arm', 'Left Hip', 'Right Hip', 'Left Knee', 'Right Knee']\n",
      "Cobra\n",
      "Single Example Angles: [10.61945547274164, 5.194255493236426, 151.21999330831113, 139.77911924943177, 124.96859674521366, 123.00461585465686, 173.39860978441524, 171.9159725072726]\n",
      "Average over training set: [27.245766677419354, 26.256589419354835, 142.31605867741933, 139.075374, 122.2498750967742, 120.93249167741935, 158.20463493548388, 156.68716054838708]\n",
      "Cosine Similarities: [(False, 0.9581912804256458), (False, 0.9331899940344612), (False, 0.9879492391273694), (False, 0.999924568936308), (False, 0.9988744293969344), (False, 0.9993461035805159), (False, 0.965044060616005), (False, 0.9648845270849418)]\n",
      "\n",
      "Chair\n",
      "Single Example Angles: [172.20262779788357, 170.926950357259, 170.52675167515667, 169.1144317619259, 127.0647873154224, 125.65128150628443, 141.9588268198319, 139.07559917412507]\n",
      "Average over training set: [132.8415213650794, 134.72776174603175, 146.5635425079365, 146.64475977777778, 107.53720568253969, 105.61597968253967, 112.5547295873016, 110.9780049206349]\n",
      "Cosine Similarities: [(False, 0.7731642637055383), (False, 0.8069686758692933), (False, 0.913806443496048), (False, 0.9240819664965528), (False, 0.9424806904897018), (False, 0.9394817125199924), (False, 0.8711787042680947), (False, 0.8821466421799874)]\n",
      "\n",
      "DownDog\n",
      "Single Example Angles: [168.96304197415785, 167.04530019465167, 172.2271033760377, 169.4099535521439, 46.632549014518894, 45.09783754690082, 178.08820269321865, 177.4583175113875]\n",
      "Average over training set: [160.99886492907802, 161.347980070922, 164.10028414893617, 166.13419397163122, 59.33681581560285, 60.581695425531905, 162.23426964539007, 159.79612570921984]\n",
      "Cosine Similarities: [(False, 0.9903548901734254), (False, 0.9950602143221213), (False, 0.9899575956743684), (False, 0.9983660811737319), (False, 0.9755181693539237), (False, 0.9637057048780371), (False, 0.9619612673563053), (False, 0.9528618984135896)]\n",
      "\n",
      "WarriorII_L\n",
      "Single Example Angles: [101.86697713991046, 99.97202986585256, 177.2073779617816, 179.32891864633194, 117.01815251205028, 95.27291440055984, 170.277211611016, 106.49340294186506]\n",
      "Average over training set: [106.10100331491712, 99.98161613259668, 167.64084801104974, 167.3128340331492, 113.4345744198895, 132.8565027071823, 117.41419508287294, 158.46226127071822]\n",
      "Cosine Similarities: [(False, 0.9972708074813208), (False, 0.9999999860033612), (False, 0.9860932888895166), (False, 0.9780891952546688), (False, 0.9980446842248359), (False, 0.7924643796628774), (False, 0.6037226891950622), (False, 0.6160896876708606)]\n",
      "\n",
      "WarriorII_R\n",
      "Single Example Angles: [96.20649578939602, 87.20622837251268, 166.84143989109563, 170.09938810622586, 102.97432434898884, 143.72721142068784, 113.24154979062196, 169.86072294226042]\n",
      "Average over training set: [91.11427502512562, 105.90556728643215, 166.11242221105525, 169.97286452261307, 135.13024371859296, 107.03508834170854, 176.28805331658293, 116.34954683417087]\n",
      "Cosine Similarities: [(False, 0.9960531257000032), (False, 0.947213976956941), (False, 0.9999190540727845), (False, 0.9999975618100798), (False, 0.8466028851567438), (False, 0.8018577971001155), (False, 0.45326717406767314), (False, 0.5946659752105599)]\n",
      "\n",
      "Tree_L_D\n",
      "Single Example Angles: [21.14121071813091, 13.809744995805158, 42.3987972224871, 44.14068532816334, 177.58017235784214, 146.15903191790693, 179.22685833286175, 27.712926550592208]\n",
      "Average over training set: [30.578280952380947, 52.65850404761905, 58.95707761904762, 64.52029119047617, 121.68810500000002, 172.24592190476193, 34.283422142857134, 167.86447357142856]\n",
      "Cosine Similarities: [(False, 0.9864662836093891), (False, 0.7788044391936881), (False, 0.9585303427952194), (False, 0.9374060025393457), (False, 0.5607536347424178), (False, 0.8981282160062647), (True, 0.8185853963651697), (True, 0.7677419311990457)]\n",
      "\n",
      "Tree_R_D\n",
      "Single Example Angles: [11.60477986099238, 16.318277028528883, 31.738719008798288, 32.419664276734686, 130.53068607071847, 177.58393886696754, 48.30735574812036, 179.3469550075096]\n",
      "Average over training set: [35.0547587195122, 37.923369756097564, 59.09644573170732, 47.996544146341456, 172.97014951219512, 121.6465818292683, 173.0062095731707, 36.344875914634144]\n",
      "Cosine Similarities: [(False, 0.9174078461958696), (False, 0.9297437615146428), (False, 0.8881546824831887), (False, 0.9632710035497903), (False, 0.737990728276565), (False, 0.560098977359076), (True, 0.5692630767145378), (True, 0.7986573475929407)]\n",
      "\n",
      "Tree_L_U\n",
      "Single Example Angles: [179.45506630990732, 172.84411188765964, 149.3624016271228, 147.42383394794007, 178.89663724680975, 134.51534634886235, 179.16627762673127, 29.380442458417107]\n",
      "Average over training set: [162.61182156862745, 163.39565117647058, 144.33248098039215, 144.89136254901962, 121.89696686274509, 173.92646529411766, 34.48939980392157, 170.1092325490196]\n",
      "Cosine Similarities: [(False, 0.9571010743352553), (False, 0.9864336678081606), (False, 0.9961490483274651), (False, 0.9990233406044096), (False, 0.5446438597799516), (False, 0.7726103817451249), (True, 0.8159043244909552), (True, 0.7741583744275948)]\n",
      "\n",
      "Tree_R_U\n",
      "Single Example Angles: [168.2788709615793, 169.86089879986392, 118.4116335201501, 117.82875389798606, 107.22852192974064, 175.54283080533443, 22.098538275288888, 169.91384882001557]\n",
      "Average over training set: [158.55110774774778, 155.9155617117117, 150.24356738738737, 143.9201365765766, 175.7387637837838, 128.91047288288286, 173.74053801801804, 47.00992909909909]\n",
      "Cosine Similarities: [(False, 0.9856217102432786), (False, 0.9705260897059085), (False, 0.8495988615905523), (False, 0.898093732732396), (False, 0.36633490493845167), (False, 0.6866770665483287), (True, 0.8799969851201218), (True, 0.5432318887837322)]\n",
      "\n"
     ]
    }
   ],
   "metadata": {}
  },
  {
   "cell_type": "markdown",
   "source": [
    "# Some extra data post-processing\n",
    "## WarriorII and Tree are unique in the sense that the ideal angles are different if you're doing the left or right variation of the exercise\n",
    "### My method of fixing this is, for each example we detect if it's the left variation or right variation and create a seperate entry in the map depending on that."
   ],
   "metadata": {}
  },
  {
   "cell_type": "code",
   "execution_count": null,
   "source": [
    "''' Suprisngly using the same angle of 120 as a rough mid point between allowing 30degrees away from a 90degree is reasonable for both W2 and Tree\n",
    "But I will leave the explicit code in to add to the readabilty.'''\n",
    "def is_left_pose(pose, angles):\n",
    "\n",
    "    ''' The standard index of left knee in the angles'''\n",
    "    l_knee = 6 \n",
    "  \n",
    "    if pose == 'WarriorII':\n",
    "        return angles[l_knee] <= 170 \n",
    "    elif pose == 'Tree':\n",
    "        return angles[l_knee] <= 90\n",
    "    else:\n",
    "        raise Exception(\"Only poses supported are 'WarriorII' and 'Tree'\")\n",
    "    \n",
    "def is_down_tree(angles):\n",
    "    l_shoulder = 0\n",
    "    return angles[l_shoulder] <= 90"
   ],
   "outputs": [],
   "metadata": {}
  },
  {
   "cell_type": "markdown",
   "source": [
    "# Caluclate the total score of a users score. Currently using trivial MSE -- will get more sophisitcated as development continues "
   ],
   "metadata": {}
  },
  {
   "cell_type": "code",
   "execution_count": 81,
   "source": [
    "''' This didn't work haha'''\n",
    "def calculate_pose_score(ideal_example, user_example):\n",
    "\n",
    "    tot = 0 \n",
    "    for x in zip(ideal_example, user_example):\n",
    "\n",
    "        tmp_score = 100 * (1 - (np.abs((x[0] - x[1]))/360))\n",
    "        tot += tmp_score\n",
    "        # print(tmp_score)\n",
    "    \n",
    "    # print(tot//len(ideal_example))\n",
    "\n",
    "''' Using Cosine Similarty Method --- Not exactly the best implementation\n",
    "\n",
    "Convert the two lists of angles into numpy arrays, and then we calculate the dot product of the two arrays and divide it by the product of their norms. \n",
    "This gives us the cosine similarity. Finally, we return a score between 0 and 100 by adding 1 to the cosine similarity and multiplying it by 50. \n",
    "The result will be a number between 0 and 100, where 100 indicates that the vectors are identical and 0 indicates that the vectors are completely dissimilar.'''\n",
    "def calculate_pose_score(current_ideal_angles, pose_relevant_landmark_angles):\n",
    "    current_ideal_angles = np.array(current_ideal_angles)\n",
    "    pose_relevant_landmark_angles = np.array(pose_relevant_landmark_angles)\n",
    "\n",
    "    cos_sim = np.dot(current_ideal_angles, pose_relevant_landmark_angles) / (np.linalg.norm(current_ideal_angles) * np.linalg.norm(pose_relevant_landmark_angles))\n",
    "\n",
    "    return ((cos_sim + 1) * 50)/100\n",
    "\n",
    "\n",
    "def cosine_similarity(angle1, angle2, difficulty):\n",
    "    \"\"\"\n",
    "    Calculates the cosine similarity between two angles in degrees.\n",
    "    \"\"\"\n",
    "    angle1_rad = np.deg2rad(angle1)\n",
    "    angle2_rad = np.deg2rad(angle2)\n",
    "    cos_sim = np.cos(angle1_rad - angle2_rad)\n",
    "\n",
    "    ''' Returing the score raised to the n'th power, where n determines how sensitive the score is.'''\n",
    "    sim_rescaled = abs(cos_sim) ** difficulty\n",
    "    \n",
    "    ''' Returning weather the original cosine similarity was positive or negative to indicate which direction to turn'''\n",
    "    return (cos_sim < 0, sim_rescaled)"
   ],
   "outputs": [],
   "metadata": {}
  },
  {
   "cell_type": "markdown",
   "source": [
    "### Helper Functions"
   ],
   "metadata": {}
  },
  {
   "cell_type": "code",
   "execution_count": 138,
   "source": [
    "''' Doesn't work as intended'''\n",
    "def display_error_image(frame_width, frame_height):\n",
    "    # Create a black image to use as the background\n",
    "    image = np.zeros((frame_height, frame_width, 3), np.uint8)\n",
    "\n",
    "    # Add text to the image\n",
    "    text = \"Cannot detect user, please get in frame\"\n",
    "    font = FONT\n",
    "    font_scale = 2\n",
    "    font_thickness = 5\n",
    "    text_size, _ = cv2.getTextSize(text, font, font_scale, font_thickness)\n",
    "    text_x = int((frame_width - text_size[0]) / 2)\n",
    "    text_y = int((frame_height + text_size[1]) / 2)\n",
    "    cv2.putText(image, text, (text_x, text_y), font, font_scale, WHITE_TEXT, font_thickness, LINE)\n",
    "\n",
    "    # Display the image\n",
    "    cv2.imshow(\"ZenAI\", image)\n",
    "    time.sleep(1)\n",
    "\n",
    "''' Render pose estimated from mediapipe'''\n",
    "def render_skeleton(image, landmarks):\n",
    "    mp_drawing.draw_landmarks(\n",
    "        image, \n",
    "        landmarks,\n",
    "        mp_pose.POSE_CONNECTIONS,                \n",
    "        mp_drawing.DrawingSpec(color=(50, 145, 168), circle_radius=2, thickness=2),\n",
    "        mp_drawing.DrawingSpec(color=(209, 192, 42), circle_radius=2, thickness=2)\n",
    "    )\n",
    "\n",
    "''' Extracting the angles for each of the relevant joints in the frame'''\n",
    "def extract_joint_angles(image, pose):\n",
    "    # Make detections \n",
    "    results = pose.process(image=image)\n",
    "    pose_landmarks = results.pose_landmarks\n",
    "\n",
    "    ''' Converting landmarks into angles'''\n",
    "    pose_relevant_landmark_angles = []\n",
    "    # Going through all relevant landmarks, extracting their key angles\n",
    "    # Calculating the angle then adding to array \n",
    "    for i1, i2, i3 in angle_idxs_required:\n",
    "        \n",
    "        fst = (pose_landmarks.landmark[i1].x, pose_landmarks.landmark[i1].y)\n",
    "        snd = (pose_landmarks.landmark[i2].x, pose_landmarks.landmark[i2].y)\n",
    "        thrd = (pose_landmarks.landmark[i3].x, pose_landmarks.landmark[i3].y)\n",
    "        \n",
    "        pose_relevant_landmark_angles.append(calc_angle(fst, snd, thrd))\n",
    "\n",
    "    pose_relevant_landmark_angles_visual = np.around(pose_relevant_landmark_angles, 2).astype(str).tolist()\n",
    "\n",
    "    return pose_relevant_landmark_angles, pose_relevant_landmark_angles_visual\n",
    "\n",
    "''' Extracting the x, y cords of each joint'''\n",
    "def extract_joint_cords(pose_landmarks):\n",
    "    # Getting cords of the landmarks FOR ANGLES WE CALC'D CORDS FOR. \n",
    "    # If any any of this landamrks have a visbility < MIN_DETECTION_CONFIDENCE. \n",
    "    # Display an error / throw an error saying you need the whole body in the frame\n",
    "    pose_relevant_landmark_cords = [] \n",
    "    for _, idx, _ in angle_idxs_required:\n",
    "        if idx in skip_landmark:\n",
    "            continue\n",
    "        \n",
    "        current_landmark = pose_landmarks.landmark[idx]\n",
    "        \n",
    "        pose_relevant_landmark_cords.append([current_landmark.x, current_landmark.y])\n",
    "\n",
    "    return pose_relevant_landmark_cords\n",
    "\n",
    "def create_live_video_display(image, pose_landmarks, classified_pose, classified_pose_confidence, frame_width, frame_height):\n",
    "    #Revert image color \n",
    "    image.flags.writeable = True \n",
    "    image = cv2.cvtColor(image, cv2.COLOR_RGB2BGR)\n",
    "\n",
    "    render_skeleton(image, pose_landmarks)\n",
    "    \n",
    "    display_text = 'Neutral' if classified_pose == 'Neutral' else f'Confidence: {classified_pose} {classified_pose_confidence*100:.2f}%'\n",
    "    \n",
    "    cv2.putText(image, display_text, unnormalize_cords(0.1, 0.1, frame_width, frame_height), FONT, 2, (125, 0, 0), 2, LINE) \n",
    "\n",
    "    return image\n",
    "\n",
    "    \n",
    "def gradient(score):\n",
    "\n",
    "    \"\"\"Converts a score between 0 and 1 to an RGB value that is a gradient between red and green.\"\"\"\n",
    "    r = int(max(0, min(255, (1 - score*3) * 255)))\n",
    "    g = int(max(0, min(255, score * 255)))\n",
    "    b = 0\n",
    "    return (b, g, r)\n",
    "\n",
    "\n",
    "\n",
    "def generate_user_pose_feedback(joint, user_angle, ideal_angle, score, is_greater_than_90, joint_idx, pose):\n",
    "    \"\"\"\n",
    "    Generates feedback for the user's pose based on the joint, score, and angle difference.\n",
    "    \"\"\"\n",
    "    if score >= 0.95:\n",
    "        return f\"Great job! Your {joint} is in the ideal position.\"\n",
    "    else:\n",
    "        rough_ideal_angle = min([0, 20, 45, 60, 90, 120, 135, 160, 180], key=lambda x: abs(x-int(ideal_angle)))\n",
    "        rough_angle = round(float(user_angle), -1)\n",
    "\n",
    "\n",
    "        if score <= 0.3:\n",
    "            severity = 'a lot'\n",
    "        elif 0.3 < score <= 0.6:\n",
    "            severity = 'a fair bit'\n",
    "        else:\n",
    "            severity = 'a little'\n",
    "\n",
    "\n",
    "        action = vocab_dict[pose][joint_idx][0] if is_greater_than_90 else vocab_dict[pose][joint_idx][1]\n",
    "        common_error, common_fix = vocab_dict[pose][joint_idx][2].split(',')\n",
    "\n",
    "        feedback_suggestion = {\n",
    "            'raw' : f\"{joint} | U: {rough_angle} / {user_angle} | G: {rough_ideal_angle} / {ideal_angle:.2f} | S: {score:.2f} | P: {pose}\",\n",
    "            'formatted' : [f'Your {joint} is out of place.', \n",
    "                           f'You should aim to get your {joint} to roughly {rough_ideal_angle}',\n",
    "                           f'and it\\'s currently around a {rough_angle}',\n",
    "                           f'You can do this by {action} your {joint} {severity} | S: {score:.2f}',\n",
    "                           f'A common error here is: {common_error}',\n",
    "                           f'{common_fix}'\n",
    "                           ]\n",
    "        }\n",
    "\n",
    "        return feedback_suggestion\n",
    "\n",
    "\n",
    "def calculate_center_of_gravity(pose_landmarks, fw, fh):\n",
    "    left_hip = pose_landmarks.landmark[mp_pose.PoseLandmark.LEFT_HIP]\n",
    "    right_hip = pose_landmarks.landmark[mp_pose.PoseLandmark.RIGHT_HIP]\n",
    "    center_hip = (left_hip.x + right_hip.x) / 2, (left_hip.y + right_hip.y) / 2\n",
    "\n",
    "    left_shoulder = pose_landmarks.landmark[mp_pose.PoseLandmark.LEFT_SHOULDER]\n",
    "    right_shoulder = pose_landmarks.landmark[mp_pose.PoseLandmark.RIGHT_SHOULDER]\n",
    "    center_shoulder = (left_shoulder.x + right_shoulder.x) / 2, (left_shoulder.y + right_shoulder.y) / 2\n",
    "\n",
    "    center_of_gravity = ((center_hip[0] + center_shoulder[0]) / 2, (center_hip[1] + center_shoulder[1]) / 2)\n",
    "\n",
    "\n",
    "    arrow_start = (int(center_of_gravity[0] * fw), int(center_of_gravity[1] * fh))\n",
    "    arrow_end = (arrow_start[0], int(fh * 0.8))\n",
    "\n",
    "\n",
    "    return (arrow_start, arrow_end)\n",
    "\n",
    "\n",
    "def create_skeleton_video_display(pose_landmarks, classified_pose, classified_pose_confidence, joint_angles_rounded, joint_cords, joint_scores, elapsed_time, reference_image, ideal_angles, feedback_pose, frame_width, frame_height):\n",
    "    DISPLAY_ANGLE_SCORE = True\n",
    "\n",
    "    ''' Creating the window that displays the feedback'''\n",
    "    feedback_window = np.zeros((frame_height, frame_width, 3), np.uint8)\n",
    "\n",
    "    ''' Create a black image to use as the background'''\n",
    "    black_image = np.zeros((frame_height, frame_width, 3), np.uint8)\n",
    "\n",
    "    ''' Render the skeleton on the black image ''' \n",
    "    render_skeleton(black_image, pose_landmarks)\n",
    "    \n",
    "    ''' Calculate center of gravity\n",
    "        and draw an arrow from the center of gravity to the floor '''\n",
    "    arrow_start, arrow_end = calculate_center_of_gravity(pose_landmarks, frame_width, frame_height)\n",
    "    cv2.arrowedLine(black_image, arrow_start, arrow_end, (0, 255, 0), 5)\n",
    "    \n",
    "    \n",
    "    ''' Only display the score information of a pose if it's not a Neutral pose'''\n",
    "    if classified_pose != 'Neutral':\n",
    "        ''' \n",
    "        Calculating the best, worst and average scores\n",
    "    \n",
    "        Calculation of the overall score may be changed to include a weighted mean\n",
    "        where there will be a pre-defined weight vector of joints for each pose.\n",
    "        '''\n",
    "        scores_list = [score[1] for score in joint_scores]\n",
    "        total_pose_score = np.average(scores_list)\n",
    "        best_joint_idx = np.argmax(scores_list)\n",
    "        worst_joint_idx = np.argmin(scores_list)\n",
    "\n",
    "        improvement_suggestions = dict()\n",
    "        ''' Draw red circles on the joints with size proportional to the joint score ''' \n",
    "        for i, (x, y) in enumerate(joint_cords):\n",
    "            diff_over_90, score = joint_scores[i]\n",
    "            joint = joint_idx_map[i]\n",
    "            \n",
    "            radius = int((100 * (1 - score)) * 0.5)\n",
    "\n",
    "            black_image = cv2.circle(black_image, unnormalize_cords(x, y, frame_width, frame_height), radius, (0, 0, 255), -1)\n",
    "\n",
    "            ''' Highlighting the worst and best joint in the users pose\n",
    "                & Display the joint score for each joint on the right side of the frame'''\n",
    "\n",
    "            if DISPLAY_ANGLE_SCORE:\n",
    "                if i == best_joint_idx:\n",
    "                    cv2.putText(black_image, f'Best: {joint}: {score*100:.2f}% {joint_angles_rounded[i]} ', unnormalize_cords(0.53, 0.2 + (i / (1.25 * len(joint_cords))), frame_width, frame_height), FONT, 1, (0, 255, 0), 2, LINE)\n",
    "                elif i == worst_joint_idx:\n",
    "                    cv2.putText(black_image, f'Worst: {joint}: {score*100:.2f}% {joint_angles_rounded[i]} ', unnormalize_cords(0.53, 0.2 + (i / (1.25 * len(joint_cords))), frame_width, frame_height), FONT, 1, (0, 0, 255), 2, LINE)\n",
    "                else:\n",
    "                    cv2.putText(black_image, f'{joint}: {score*100:.2f}% {joint_angles_rounded[i]}', unnormalize_cords(0.60, 0.2 + (i / (1.25 * len(joint_cords))), frame_width, frame_height), FONT, 1, WHITE_TEXT, 2, LINE)\n",
    "\n",
    "            improvement_suggestions[i] = generate_user_pose_feedback(joint, joint_angles_rounded[i], ideal_angles[i], score, diff_over_90, i, feedback_pose)\n",
    "\n",
    "\n",
    "        ''' Draw the rectangle on the left side of the screen '''\n",
    "        rect_x, rect_y = unnormalize_cords(0.05, 1, frame_width, frame_height)\n",
    "        rect_width, rect_height = int(frame_width * 0.05), int(total_pose_score * frame_height)\n",
    "        cv2.rectangle(black_image, (rect_x, rect_y - rect_height), (rect_x + rect_width, rect_y), gradient(total_pose_score), -1)\n",
    "\n",
    "        ''' Displaying the average of all the users scores individual angles'''\n",
    "        cv2.putText(black_image, f'Pose Score: {total_pose_score*100:.2f}%', unnormalize_cords(0.42, 0.1, frame_width, frame_height), FONT, 2, WHITE_TEXT, 2, LINE)\n",
    "        \n",
    "        ''' Displaying how long the user has held the pose'''\n",
    "        cv2.putText(black_image, f'Time held: {elapsed_time:.2f} seconds', unnormalize_cords(0.1, 0.1, frame_width, frame_height), FONT, 1, WHITE_TEXT, 2, LINE)\n",
    "    \n",
    "        ''' \n",
    "        Generate Imrpovements\n",
    "        '''\n",
    "        # for i, suggestion in enumerate(improvement_suggestions.values()):\n",
    "        #     y_placement = 0.2 + (i / (1.25 * len(improvement_suggestions)))\n",
    "        #     cv2.putText(feedback_window, suggestion, unnormalize_cords(0.05, y_placement, frame_width, frame_height), FONT, 1, WHITE_TEXT, 2, LINE)\n",
    "        formatted_suggestion = improvement_suggestions[worst_joint_idx]['formatted']\n",
    "\n",
    "        ''' Generate the improvement suggestion for the worst joint'''\n",
    "        cv2.putText(feedback_window, improvement_suggestions[worst_joint_idx]['raw'], unnormalize_cords(0.05, 0.1, frame_width, frame_height), FONT, 1, WHITE_TEXT, 2, LINE)\n",
    "\n",
    "        cv2.putText(feedback_window, formatted_suggestion[0], unnormalize_cords(0.05, 0.2, frame_width, frame_height), FONT, 1, WHITE_TEXT, 2, LINE)\n",
    "\n",
    "        cv2.putText(feedback_window, formatted_suggestion[1], unnormalize_cords(0.05, 0.3, frame_width, frame_height), FONT, 1, WHITE_TEXT, 2, LINE)\n",
    "        cv2.putText(feedback_window, formatted_suggestion[2], unnormalize_cords(0.05, 0.35, frame_width, frame_height), FONT, 1, WHITE_TEXT, 2, LINE)\n",
    "        \n",
    "        cv2.putText(feedback_window, formatted_suggestion[3], unnormalize_cords(0.05, 0.45, frame_width, frame_height), FONT, 1, WHITE_TEXT, 2, LINE)\n",
    "\n",
    "        cv2.putText(feedback_window, formatted_suggestion[4], unnormalize_cords(0.05, 0.55, frame_width, frame_height), FONT, 1, WHITE_TEXT, 2, LINE)\n",
    "        cv2.putText(feedback_window, formatted_suggestion[5], unnormalize_cords(0.05, 0.6, frame_width, frame_height), FONT, 1, WHITE_TEXT, 2, LINE)\n",
    "\n",
    "        ''' Pie Chart indiciating how well the joint is'''\n",
    "        score_angle = int(joint_scores[worst_joint_idx][1] * 360)\n",
    "        pie_center = unnormalize_cords(0.1, 0.8, frame_width, frame_height)\n",
    "        cv2.ellipse(feedback_window, pie_center, (50, 50), 0, 0, score_angle, (0, 255, 0), -1)\n",
    "        cv2.ellipse(feedback_window, pie_center, (50, 50), 0, score_angle, 360, (0, 0, 255), -1)\n",
    "        cv2.putText(feedback_window, f'{joint_idx_map[worst_joint_idx]} Score: {joint_scores[worst_joint_idx][1]*100:.0f}%', unnormalize_cords(0.1+0.05, 0.8+0.05, frame_width, frame_height), FONT, 1, WHITE_TEXT, 2, LINE)\n",
    "\n",
    "\n",
    "        ''' uncommoent '''\n",
    "        # with open('test_output.txt', 'a') as f:\n",
    "        #     f.write(formatted[0])\n",
    "        #     f.write(formatted[1])\n",
    "        #     f.write(formatted[2])\n",
    "        #     f.write(formatted[3])\n",
    "        ''' '''\n",
    "        # diff_over_90, score = joint_scores[worst_joint_idx]\n",
    "        # improvement_suggestion = generate_user_pose_feedback(joint_idx_map[worst_joint_idx], score, diff_over_90)\n",
    "        \n",
    "    ''' Displaying the reference image in low opacity'''\n",
    "    reference_image = cv2.resize(reference_image, (frame_width, frame_height))\n",
    "    blended_image = cv2.addWeighted(black_image, 0.9, reference_image, 0.1, 0)\n",
    "\n",
    "    ''' Write the joint angles on the black image ''' \n",
    "    for i, angle in enumerate(joint_angles_rounded):\n",
    "        x, y = joint_cords[i]\n",
    "        cv2.putText(blended_image, angle, unnormalize_cords(x, y, frame_width, frame_height), FONT, 0.5, WHITE_TEXT, 2, LINE)\n",
    "\n",
    "    return feedback_window, blended_image\n"
   ],
   "outputs": [],
   "metadata": {}
  },
  {
   "cell_type": "code",
   "execution_count": null,
   "source": [
    "''' Plotting 2D Projection'''\n",
    "def plot_live_data(points, ax):\n",
    "    cords = [(extract_pca_2d(x[0]), x[1]) for x in points]\n",
    "\n",
    "    class_labels = [point[1] for point in cords]\n",
    "\n",
    "    unique_classes = set(class_labels)\n",
    "    colors = {class_label: index for index, class_label in enumerate(unique_classes)}\n",
    "    mat_colors = ['b', 'r', 'g', 'c', 'm', 'y']\n",
    "\n",
    "    ax.clear()\n",
    "\n",
    "    for class_label in unique_classes:\n",
    "        x_v = [point[0][0][0] for idx, point in enumerate(cords) if class_labels[idx] == class_label]\n",
    "        y_v = [point[0][0][1] for idx, point in enumerate(cords) if class_labels[idx] == class_label]\n",
    "\n",
    "        c_ = [mat_colors[colors[class_label]] for _ in range(len(x_v))]\n",
    "        ax.scatter(x_v, y_v, c=c_, label=class_label, s=3)\n",
    "\n",
    "    ax.legend()"
   ],
   "outputs": [],
   "metadata": {}
  },
  {
   "cell_type": "markdown",
   "source": [
    "# Main video / classification loop"
   ],
   "metadata": {}
  },
  {
   "cell_type": "code",
   "execution_count": 141,
   "source": [
    "last_pose = 'Neutral'\n",
    "start_time = 0\n",
    "\n",
    "PLAY_FEED = True\n",
    "\n",
    "''' CV2 PutText globals'''\n",
    "FONT = cv2.FONT_HERSHEY_SIMPLEX\n",
    "LINE = cv2.LINE_AA\n",
    "WHITE_TEXT = (255, 255, 255)\n",
    "BLACK_TEXT = (0, 0, 0)\n",
    "\n",
    "CLASSIFIER = 'SVM'\n",
    "\n",
    "MIN_DETECTION_CONFIDENCE = 0.5\n",
    "MIN_TRACKING_CONFIDENCE = 0.5\n",
    "\n",
    "VERBOSE = False\n",
    "PLOT_2D = True\n",
    "\n",
    "EXAMPLE_POSE_IMAGE = {i.replace('.jpeg', '') : cv2.imread(f\"../DemoImages/{i}\", 1) for i in os.listdir(\"../DemoImages\")}\n",
    "DEMO_POSE_VIDEOS = {f.replace('.mp4', '') : '../demo_videos/' + f  for f in os.listdir('../demo_videos')}\n",
    "DISPLAY_DEMO = False\n",
    "SCORE_DIFFICULTY = 10\n",
    "\n",
    "frame_width = 1280\n",
    "frame_height = 720\n",
    "\n",
    "# This is just storing each frame in a real life demonstration as a projected point in 2D using pca \n",
    "# Which then decision boundaries will be plotted of the SVM model used to determin how someone moves around in a real life example\n",
    "PCA_2D_POINTS = [] \n"
   ],
   "outputs": [],
   "metadata": {}
  },
  {
   "cell_type": "code",
   "execution_count": 142,
   "source": [
    "if PLAY_FEED:\n",
    "    with mp_pose.Pose(min_detection_confidence=MIN_DETECTION_CONFIDENCE, min_tracking_confidence=MIN_TRACKING_CONFIDENCE, static_image_mode=False) as pose:\n",
    "    \n",
    "        if DISPLAY_DEMO:\n",
    "            cap = cv2.VideoCapture(DEMO_POSE_VIDEOS['Downdog'])\n",
    "        else:\n",
    "            cap = cv2.VideoCapture(0) # Captures live video feed \n",
    "\n",
    "        cap.set(cv2.CAP_PROP_FRAME_WIDTH, frame_width)\n",
    "        cap.set(cv2.CAP_PROP_FRAME_HEIGHT, frame_height)\n",
    "        \n",
    "        while cap.isOpened():\n",
    "            suc, frame = cap.read() \n",
    "            if not suc: \n",
    "                print(\"Frame empty..\")\n",
    "                continue \n",
    "            \n",
    "            #Recolor image \n",
    "            image = cv2.cvtColor(frame, cv2.COLOR_BGR2RGB)\n",
    "            image.flags.writeable = False\n",
    "            \n",
    "            try: \n",
    "                ''' Detect pose and extract angles / cords ''' \n",
    "                result = pose.process(image=image) \n",
    "\n",
    "                ''' If media pipe libray can't detect any poses, just display the normal image back.'''\n",
    "                if not result.pose_landmarks:\n",
    "                    image.flags.writeable = True \n",
    "                    image = cv2.cvtColor(image, cv2.COLOR_RGB2BGR)\n",
    "\n",
    "                    correct_example_image = cv2.resize(EXAMPLE_POSE_IMAGE[classified_pose], (frame_width, frame_height))   \n",
    "                    black_image = np.zeros((frame_height, frame_width, 3), np.uint8)\n",
    "                    cv2.putText(black_image, \"User not detected.\", unnormalize_cords(0.1, 0.5, frame_width, frame_height), FONT, 3, WHITE_TEXT, 4, LINE)\n",
    "                    cv2.putText(black_image, \"Please get in frame.\", unnormalize_cords(0.1, 0.6, frame_width, frame_height), FONT, 3, WHITE_TEXT, 4, LINE)\n",
    "                    \n",
    "                else:                    \n",
    "                    pose_landmarks = result.pose_landmarks\n",
    "\n",
    "                    joint_angles, joint_angles_rounded = extract_joint_angles(image, pose)\n",
    "                    joint_cords = extract_joint_cords(pose_landmarks)\n",
    "                    \n",
    "                    ''' Classification of Pose''' \n",
    "                    classified_pose, classified_pose_confidence, prediction_probabilites = classify_pose(joint_angles, CLASSIFIER)\n",
    "\n",
    "                    ''' We take the pose the user is doing to be neutral if either it's classified as a neutral pose or the confidence of the classified pose is < 70%'''\n",
    "                    classified_pose = classified_pose if classified_pose_confidence >= 0.70 else 'Neutral'\n",
    "\n",
    "                    # Get the current time and if the pose has changed, update the start time to be the current time\n",
    "                    current_time = time.time()\n",
    "                    if classified_pose != last_pose:\n",
    "                        start_time = current_time\n",
    "                        last_pose = classified_pose\n",
    "\n",
    "                    # If the pose did just change, then this value will be 0 \n",
    "                    elapsed_time = current_time - start_time\n",
    "\n",
    "                    feedback_pose = classified_pose\n",
    "                    \n",
    "                    ''' \n",
    "                        It was a waste of computation to calculate the angle score for a neutral pose\n",
    "\n",
    "                        and if the pose is Warrior or Tree we need to add another layer of detail when scoring angles \n",
    "                        as the ideal angles of someone doing a Left Tree or Right Tree are different. \n",
    "                        This makes the feedback dynamic and even allows for variation in the tree pose specifically\n",
    "                    '''\n",
    "\n",
    "                    if classified_pose == 'Neutral':\n",
    "                        angles_score = []\n",
    "                    elif classified_pose in {'WarriorII', 'Tree'}:\n",
    "                        left = is_left_pose(classified_pose, joint_angles)\n",
    "                        right = not left\n",
    "\n",
    "                        if classified_pose == 'WarriorII':\n",
    "                            if left:\n",
    "                                feedback_pose = 'WarriorII_L'\n",
    "                            else:\n",
    "                                feedback_pose = 'WarriorII_R'\n",
    "                            \n",
    "\n",
    "                        elif classified_pose == 'Tree':\n",
    "                            down = is_down_tree(joint_angles) \n",
    "                            up = not down \n",
    "\n",
    "                            if left and down:\n",
    "                                feedback_pose = 'Tree_L_D'\n",
    "                            elif left and up:\n",
    "                                feedback_pose = 'Tree_L_U'\n",
    "                            elif right and down:\n",
    "                                feedback_pose =  'Tree_R_D'\n",
    "                            elif right and up:\n",
    "                                feedback_pose = 'Tree_R_U'              \n",
    "\n",
    "                        cv2.putText(image, f'FbP: {feedback_pose}', unnormalize_cords(0.1, 0.9, frame_width, frame_height), FONT, 2, WHITE_TEXT, 4, LINE)\n",
    "\n",
    "                    ideal_angles = ideal_angles_map[feedback_pose]\n",
    "                    ''' Calculate score for current frame given the expected exercise'''\n",
    "                    angles_score = [cosine_similarity(cur_angle, ideal_angle, SCORE_DIFFICULTY) for cur_angle, ideal_angle in zip(joint_angles, ideal_angles)]\n",
    "\n",
    "                    ''' First Window '''\n",
    "                    image = create_live_video_display(image, pose_landmarks, classified_pose, classified_pose_confidence, frame_width, frame_height)\n",
    "\n",
    "                    ''' Second Window'''\n",
    "                    feedback_window, black_image = create_skeleton_video_display(pose_landmarks, classified_pose, classified_pose_confidence, joint_angles_rounded, joint_cords, angles_score, elapsed_time, EXAMPLE_POSE_IMAGE[classified_pose], ideal_angles, feedback_pose, frame_width, frame_height)\n",
    "                    \n",
    "                    ''' Third Window -- Not used anymore'''\n",
    "                    # correct_example_image = cv2.resize(EXAMPLE_POSE_IMAGE[classified_pose], (frame_width, frame_height))            \n",
    "                                \n",
    "                    \n",
    "                    if PLOT_2D:\n",
    "                        ''' Extracting 2D PCA Points -- and plotting a new point on each frame to show how the users pose change over time,'''\n",
    "                        top_pc, second_pc = extract_pca_2d(joint_angles)[0]\n",
    "                        PCA_2D_POINTS.append((top_pc, second_pc))\n",
    "                \n",
    "                # Display the three windows side by side\n",
    "                # combined_videos = np.concatenate((image, black_image, correct_example_image), axis=1)\n",
    "                combined_videos = np.concatenate((image, black_image), axis=1)\n",
    "                combined_videos = np.concatenate((image, black_image, feedback_window), axis=1)\n",
    "                # cv2.imshow(\"ZenAI\", image)\n",
    "                # cv2.imshow(\"ZenAI\", black_image)\n",
    "                # cv2.imshow(\"ZenAI\", correct_example_image)\n",
    "                cv2.imshow(\"ZenAI\", combined_videos)\n",
    "\n",
    "            except Exception:\n",
    "                traceback.print_exc()\n",
    "                continue\n",
    "\n",
    "            # Closing the video capture  w\n",
    "            if cv2.waitKey(1) & 0xFF == ord('w'):\n",
    "                break\n",
    "        \n",
    "    cap.release() \n",
    "    cv2.destroyAllWindows()"
   ],
   "outputs": [],
   "metadata": {}
  },
  {
   "cell_type": "markdown",
   "source": [
    "## Attempted multi-threading to increase FPS as analyisng each frame takes some ms which can result in the video looking like it's in slow motion"
   ],
   "metadata": {}
  },
  {
   "cell_type": "code",
   "execution_count": null,
   "source": [
    "# import threading\n",
    "# import queue\n",
    "\n",
    "\n",
    "# # Define functions for each thread\n",
    "# def capture_thread(cap):\n",
    "#     while cap.isOpened():\n",
    "#         suc, frame = cap.read()\n",
    "#         if not suc:\n",
    "#             print(\"Frame empty..\")\n",
    "#             continue\n",
    "#         image_queue.put(frame)\n",
    "\n",
    "# def process_thread():\n",
    "#     pose = mp_pose.Pose(min_detection_confidence=MIN_DETECTION_CONFIDENCE, min_tracking_confidence=MIN_TRACKING_CONFIDENCE, static_image_mode=False)\n",
    "#     while True:\n",
    "#         frame = image_queue.get()\n",
    "#         #Recolor image \n",
    "#         image = cv2.cvtColor(frame, cv2.COLOR_BGR2RGB)\n",
    "#         image.flags.writeable = False\n",
    "#         try:\n",
    "#             ''' Detect pose and extract angles / cords '''\n",
    "#             pose_landmarks = pose.process(image=image).pose_landmarks\n",
    "#             joint_angles, joint_angles_rounded = extract_joint_angles(image, pose)\n",
    "#             joint_cords = extract_joint_cords(pose_landmarks)\n",
    "#             ''' Classification of Pose'''\n",
    "#             classified_pose, classified_pose_confidence, prediction_probabilites = classify_pose(joint_angles, CLASSIFIER)\n",
    "#             ideal_angles = ideal_angles_map[classified_pose]\n",
    "#             ''' Calculate score for current frame given the expected exercise'''\n",
    "#             angles_score = [cosine_similarity(cur_angle, ideal_angle, 5) for cur_angle, ideal_angle in zip(joint_angles, ideal_angles)]\n",
    "#             ''' Extracting 2D PCA Points -- and plotting a new point on each frame to show how the users pose change over time,'''\n",
    "#             PCA_2D_POINTS.append((joint_angles, classified_pose))\n",
    "#             ''' We take the pose the user is doing to be neutral if either it's classified as a neutral pose or the confidence of the classified pose is < 70%'''\n",
    "#             classified_pose = classified_pose if classified_pose_confidence >= 0.80 else 'Neutral'\n",
    "#             ''' First Window '''\n",
    "#             image = create_live_video_display(image, pose_landmarks, classified_pose, classified_pose_confidence, frame_width, frame_height)\n",
    "#             ''' Second Window'''\n",
    "#             black_image = create_skeleton_video_display(pose_landmarks, classified_pose, classified_pose_confidence, joint_angles_rounded, joint_cords, angles_score, frame_width, frame_height)\n",
    "#             ''' Third Window '''\n",
    "#             correct_example_image = cv2.resize(EXAMPLE_POSE_IMAGE[classified_pose], (frame_width, frame_height))\n",
    "#             display_queue.put((image, black_image, correct_example_image))\n",
    "#         except Exception:\n",
    "#             # display_error_image(frame_width, frame_height)\n",
    "#             traceback.print_exc()\n",
    "#             continue\n",
    "\n",
    "# def display_thread():\n",
    "#     while True:\n",
    "#         images = display_queue.get()\n",
    "#         # Display the three windows side by side\n",
    "#         combined_videos = np.concatenate(images, axis=1)\n",
    "#         cv2.imshow(\"ZenAI\", combined_videos)\n",
    "#         if cv2.waitKey(1) & 0xFF == ord('w'):\n",
    "#             break\n",
    "\n",
    "# # Set up queues for passing data between threads\n",
    "# image_queue = queue.Queue()\n",
    "# display_queue = queue.Queue()\n",
    "\n",
    "# # Start threads for each task\n",
    "# cap = cv2.VideoCapture(DEMO_POSE_VIDEOS['Cobra']) # Captures live video feed\n",
    "# capture_thread = threading.Thread(target=capture_thread, args=(cap,))\n",
    "# process_thread = threading.Thread(target=process_thread)\n",
    "# display_thread = threading.Thread(target=display_thread)\n",
    "# capture_thread.start()\n",
    "# process_thread.start()\n",
    "# display_thread.start()\n",
    "\n",
    "# # Wait for all threads to finish\n",
    "# capture_thread.join()\n",
    "# process_thread.join()\n",
    "# display_thread.join()"
   ],
   "outputs": [],
   "metadata": {}
  },
  {
   "cell_type": "code",
   "execution_count": null,
   "source": [
    "fig, ax = plt.subplots()\n",
    "ax.set_xlabel(\"Top PC\", size=14)\n",
    "ax.set_ylabel(\"Second PC\", size=14)\n",
    "ax.set_title('Projecting real life example of application onto 2D', size=16)\n",
    "plot_live_data(PCA_2D_POINTS, ax)"
   ],
   "outputs": [],
   "metadata": {}
  },
  {
   "cell_type": "code",
   "execution_count": null,
   "source": [
    "PCA_2D_POINTS #Keep this here for testing. Don't change this variable"
   ],
   "outputs": [],
   "metadata": {}
  },
  {
   "cell_type": "markdown",
   "source": [
    "# Plotting the scatter plot of the last ran test on a real person using the application"
   ],
   "metadata": {}
  },
  {
   "cell_type": "markdown",
   "source": [],
   "metadata": {}
  },
  {
   "cell_type": "code",
   "execution_count": null,
   "source": [
    "import matplotlib.pyplot as plt \n",
    "\n",
    "def plot_2d_projection(points, real):\n",
    "    cords = [(extract_pca_2d(x[0]), x[1]) for x in points]\n",
    "\n",
    "    class_labels = [point[1] for point in cords]\n",
    "\n",
    "    unique_classes = set(class_labels)\n",
    "    colors = {class_label: index for index, class_label in enumerate(unique_classes)}\n",
    "    mat_colors = ['b', 'r', 'g', 'c', 'm', 'y']\n",
    "\n",
    "\n",
    "    fig, ax = plt.subplots()\n",
    "\n",
    "    for class_label in unique_classes:\n",
    "        x_v = [point[0][0][0] for idx, point in enumerate(cords) if class_labels[idx] == class_label]\n",
    "        y_v = [point[0][0][1] for idx, point in enumerate(cords) if class_labels[idx] == class_label]\n",
    "\n",
    "        c_ = [mat_colors[colors[class_label]] for _ in range(len(x_v))]\n",
    "        ax.scatter(x_v, y_v, c=c_, label=class_label, s=3)\n",
    "\n",
    "    ax.legend()\n",
    "    plt.xlabel(\"Top PC\", size=14)\n",
    "    plt.ylabel(\"Second PC\", size=14)   \n",
    "\n",
    "    ''' and plotting how the different classified pose of a human looks like '''\n",
    "    if real:\n",
    "        plt.title('Projecting real life example of application onto 2D', size=16)\n",
    "    else:\n",
    "        plt.title('Projecting training data onto 2d', size=16)\n",
    "    plt.show()\n",
    "\n",
    "training_data = [(X_train.iloc[i].to_list(), classes[y_train.iloc[i]]) for i in range(len(X_train))]\n",
    "\n",
    "plot_2d_projection(PCA_2D_POINTS, real=True)\n",
    "plot_2d_projection(training_data, real=False)"
   ],
   "outputs": [],
   "metadata": {}
  },
  {
   "cell_type": "code",
   "execution_count": null,
   "source": [
    "import matplotlib.pyplot as plt \n",
    "\n",
    "def plot_2d_projection(points, color, real):\n",
    "    cords = [(extract_pca_2d(x[0]), x[1]) for x in points]\n",
    "\n",
    "    class_labels = [point[1] for point in cords]\n",
    "\n",
    "    unique_classes = set(class_labels)\n",
    "    colors = {class_label: index for index, class_label in enumerate(unique_classes)}\n",
    "    mat_colors = ['b', 'r', 'g', 'c', 'm', 'y']\n",
    "\n",
    "    for class_label in unique_classes:\n",
    "        x_v = [point[0][0][0] for idx, point in enumerate(cords) if class_labels[idx] == class_label]\n",
    "        y_v = [point[0][0][1] for idx, point in enumerate(cords) if class_labels[idx] == class_label]\n",
    "\n",
    "        c_ = [color for _ in range(len(x_v))]\n",
    "        ax.scatter(x_v, y_v, c=c_, label=class_label, s=3)\n",
    "\n",
    "fig, ax = plt.subplots()\n",
    "\n",
    "plot_2d_projection(PCA_2D_POINTS, 'b', real=True)\n",
    "combined_testing_data = [(X_test.iloc[i].to_list(), classes[y_test.iloc[i]]) for i in range(len(X_test))]\n",
    "plot_2d_projection(combined_testing_data, 'r', real=False)\n",
    "\n",
    "ax.legend()\n",
    "plt.xlabel(\"Top PC\", size=14)\n",
    "plt.ylabel(\"Second PC\", size=14)\n",
    "plt.title('Projecting real life and test data onto 2D', size=16)\n",
    "# plt.show()\n"
   ],
   "outputs": [],
   "metadata": {}
  },
  {
   "cell_type": "code",
   "execution_count": null,
   "source": [],
   "outputs": [],
   "metadata": {}
  },
  {
   "cell_type": "code",
   "execution_count": null,
   "source": [],
   "outputs": [],
   "metadata": {}
  }
 ],
 "metadata": {
  "interpreter": {
   "hash": "863f67b31f24466e0883f69032a69c124c9bc374896dddab98911f54145fcab2"
  },
  "kernelspec": {
   "name": "python3",
   "display_name": "Python 3.10.9 64-bit ('3yp_venv': venv)"
  },
  "language_info": {
   "codemirror_mode": {
    "name": "ipython",
    "version": 3
   },
   "file_extension": ".py",
   "mimetype": "text/x-python",
   "name": "python",
   "nbconvert_exporter": "python",
   "pygments_lexer": "ipython3",
   "version": "3.10.9"
  },
  "vscode": {
   "interpreter": {
    "hash": "c03d7ca79527c43668de5fef191e6a32e993596d47f3147d82e5050d734e1650"
   }
  }
 },
 "nbformat": 4,
 "nbformat_minor": 2
}