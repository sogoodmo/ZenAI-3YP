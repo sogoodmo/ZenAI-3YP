{
 "cells": [
  {
   "cell_type": "code",
   "execution_count": 3,
   "source": [
    "import pandas as pd \n",
    "from sklearn.neighbors import KNeighborsClassifier as KNN \n",
    "from sklearn.model_selection import KFold\n",
    "from sklearn.model_selection import cross_val_score\n",
    "import matplotlib.pyplot as plt\n",
    "import numpy as np\n",
    "import os \n",
    "\n",
    "os.chdir('../Dataset')\n",
    "path = os.getcwd()\n",
    "\n",
    "\n",
    "columns = ['class','l_shoulder','r_shoulder','l_arm','r_arm','l_hip','r_hip','l_knee','r_knee']\n",
    "\n",
    "y82_test = pd.read_csv(os.path.join(path,'y82_testing.csv'), header=None)\n",
    "y82_train = pd.read_csv(os.path.join(path,'y82_training.csv'), header=None)\n",
    "L_test = pd.read_csv(os.path.join(path,'L_testing.csv'), header=None)\n",
    "L_train = pd.read_csv(os.path.join(path,'L_training.csv'), header=None)\n",
    "\n",
    "combined_test = pd.concat([L_test, y82_test])\n",
    "combined_train = pd.concat([L_train, y82_train])\n",
    "\n",
    "combined_test.columns = columns \n",
    "combined_train.columns = columns \n",
    "\n",
    "combined_test['class'], classes = pd.factorize(combined_test['class'])\n",
    "combined_train['class'], _ = pd.factorize(combined_train['class'])\n",
    "\n",
    "classes = list(classes)\n",
    "\n",
    "all_combined_df = pd.concat([y82_train, y82_test, L_test, L_train])\n",
    "all_combined = pd.concat([combined_test, combined_train])\n",
    "\n",
    "def split_features_labels(df):\n",
    "    return df.drop('class', axis=1), df['class']\n",
    "\n",
    "X_train, y_train = split_features_labels(combined_train)\n",
    "X_test, y_test = split_features_labels(combined_test)"
   ],
   "outputs": [],
   "metadata": {}
  },
  {
   "cell_type": "code",
   "execution_count": 28,
   "source": [
    "from sklearn.neural_network import MLPClassifier\n",
    "from sklearn.model_selection import RandomizedSearchCV\n",
    "\n",
    "# Define the parameter distributions to sample from\n",
    "param_dist = {\n",
    "    'hidden_layer_sizes' : [(i, j) for i in range(1, 15) for j in range(1, 15)],\n",
    "    'solver': ['adam', 'lbfgs'],\n",
    "    'activation': ['relu', 'logistic'],\n",
    "    'alpha' : [0.0001, 0.0001, 0.00005]\n",
    "}\n",
    "\n",
    "# Initialize MLPClassifier with default values\n",
    "mlp = MLPClassifier(max_iter=10000)\n",
    "\n",
    "random_search = RandomizedSearchCV(mlp, param_distributions=param_dist, n_iter=100, cv=5, n_jobs=-1, verbose=3)\n",
    "\n",
    "# Train the classifier on your data\n",
    "random_search.fit(X_train, y_train)\n",
    "\n",
    "# Get the best hyperparameters from the search\n",
    "best_params = random_search.best_params_\n",
    "print(\"Best solver: \", best_params['solver'])\n",
    "print(\"Best activation: \", best_params['activation'])\n",
    "print(\"Layers: \", best_params['hidden_layer_sizes'] )\n",
    "print(\"Alpha: \", best_params['alpha'])\n",
    "\n",
    "# Use the best hyperparameters to initialize the MLPClassifier\n",
    "mlp = MLPClassifier(solver=best_params['solver'], activation=best_params['activation'], alpha=best_params['alpha'], hidden_layer_sizes=best_params['hidden_layer_sizes'], max_iter=1000)\n",
    "\n",
    "\n",
    "# Train the MLPClassifier on the training data\n",
    "mlp.fit(X_train, y_train)\n",
    "\n",
    "# Evaluate the performance of the MLPClassifier on the test data\n",
    "print(\"Accuracy: \", mlp.score(X_test, y_test))"
   ],
   "outputs": [
    {
     "output_type": "stream",
     "name": "stdout",
     "text": [
      "Fitting 5 folds for each of 100 candidates, totalling 500 fits\n",
      "[CV 1/5] END activation=relu, alpha=0.0001, hidden_layer_sizes=(3, 6), solver=lbfgs;, score=0.225 total time=   0.0s\n",
      "[CV 2/5] END activation=relu, alpha=0.0001, hidden_layer_sizes=(3, 6), solver=lbfgs;, score=0.225 total time=   0.0s\n",
      "[CV 5/5] END activation=relu, alpha=0.0001, hidden_layer_sizes=(3, 6), solver=lbfgs;, score=0.226 total time=   0.0s\n",
      "[CV 4/5] END activation=relu, alpha=0.0001, hidden_layer_sizes=(3, 6), solver=lbfgs;, score=0.276 total time=   0.3s\n",
      "[CV 3/5] END activation=relu, alpha=0.0001, hidden_layer_sizes=(3, 6), solver=lbfgs;, score=0.270 total time=   0.7s\n",
      "[CV 1/5] END activation=relu, alpha=0.0001, hidden_layer_sizes=(5, 13), solver=lbfgs;, score=0.508 total time=   1.1s\n",
      "[CV 2/5] END activation=logistic, alpha=5e-05, hidden_layer_sizes=(11, 13), solver=adam;, score=0.689 total time=   2.0s\n",
      "[CV 5/5] END activation=logistic, alpha=5e-05, hidden_layer_sizes=(11, 13), solver=adam;, score=0.794 total time=   2.0s\n",
      "[CV 3/5] END activation=relu, alpha=0.0001, hidden_layer_sizes=(5, 13), solver=lbfgs;, score=0.487 total time=   1.3s\n",
      "[CV 2/5] END activation=relu, alpha=0.0001, hidden_layer_sizes=(5, 13), solver=lbfgs;, score=0.475 total time=   1.8s\n",
      "[CV 5/5] END activation=relu, alpha=0.0001, hidden_layer_sizes=(5, 13), solver=lbfgs;, score=0.226 total time=   0.2s\n",
      "[CV 4/5] END activation=logistic, alpha=5e-05, hidden_layer_sizes=(11, 13), solver=adam;, score=0.822 total time=   2.4s\n",
      "[CV 3/5] END activation=logistic, alpha=5e-05, hidden_layer_sizes=(11, 13), solver=adam;, score=0.816 total time=   2.8s\n",
      "[CV 1/5] END activation=logistic, alpha=5e-05, hidden_layer_sizes=(11, 13), solver=adam;, score=0.694 total time=   2.9s\n",
      "[CV 4/5] END activation=logistic, alpha=5e-05, hidden_layer_sizes=(14, 10), solver=adam;, score=0.811 total time=   1.6s\n",
      "[CV 2/5] END activation=logistic, alpha=5e-05, hidden_layer_sizes=(14, 10), solver=adam;, score=0.656 total time=   2.0s\n",
      "[CV 2/5] END activation=logistic, alpha=5e-05, hidden_layer_sizes=(13, 9), solver=adam;, score=0.750 total time=   1.5s\n",
      "[CV 3/5] END activation=logistic, alpha=5e-05, hidden_layer_sizes=(14, 10), solver=adam;, score=0.799 total time=   2.4s\n",
      "[CV 5/5] END activation=logistic, alpha=5e-05, hidden_layer_sizes=(14, 10), solver=adam;, score=0.833 total time=   2.1s\n",
      "[CV 1/5] END activation=logistic, alpha=5e-05, hidden_layer_sizes=(14, 10), solver=adam;, score=0.739 total time=   2.6s\n",
      "[CV 4/5] END activation=relu, alpha=0.0001, hidden_layer_sizes=(5, 13), solver=lbfgs;, score=0.783 total time=   3.7s\n",
      "[CV 1/5] END activation=logistic, alpha=5e-05, hidden_layer_sizes=(13, 9), solver=adam;, score=0.742 total time=   2.6s\n",
      "[CV 1/5] END activation=logistic, alpha=5e-05, hidden_layer_sizes=(2, 14), solver=adam;, score=0.322 total time=   1.0s\n",
      "[CV 2/5] END activation=logistic, alpha=5e-05, hidden_layer_sizes=(2, 14), solver=adam;, score=0.403 total time=   1.1s\n",
      "[CV 4/5] END activation=logistic, alpha=5e-05, hidden_layer_sizes=(2, 14), solver=adam;, score=0.443 total time=   1.2s\n",
      "[CV 3/5] END activation=logistic, alpha=5e-05, hidden_layer_sizes=(13, 9), solver=adam;, score=0.794 total time=   2.6s\n",
      "[CV 4/5] END activation=logistic, alpha=5e-05, hidden_layer_sizes=(13, 9), solver=adam;, score=0.797 total time=   2.4s\n",
      "[CV 5/5] END activation=logistic, alpha=5e-05, hidden_layer_sizes=(2, 14), solver=adam;, score=0.320 total time=   1.1s\n",
      "[CV 5/5] END activation=logistic, alpha=5e-05, hidden_layer_sizes=(13, 9), solver=adam;, score=0.883 total time=   2.5s\n",
      "[CV 2/5] END activation=relu, alpha=0.0001, hidden_layer_sizes=(9, 14), solver=adam;, score=0.728 total time=   2.0s\n",
      "[CV 4/5] END activation=relu, alpha=0.0001, hidden_layer_sizes=(9, 14), solver=adam;, score=0.811 total time=   1.4s\n",
      "[CV 3/5] END activation=logistic, alpha=5e-05, hidden_layer_sizes=(2, 14), solver=adam;, score=0.563 total time=   3.2s\n",
      "[CV 3/5] END activation=relu, alpha=0.0001, hidden_layer_sizes=(9, 14), solver=adam;, score=0.783 total time=   1.7s\n",
      "[CV 1/5] END activation=relu, alpha=0.0001, hidden_layer_sizes=(9, 14), solver=adam;, score=0.747 total time=   2.5s\n",
      "[CV 5/5] END activation=relu, alpha=0.0001, hidden_layer_sizes=(8, 7), solver=adam;, score=0.738 total time=   0.8s\n",
      "[CV 5/5] END activation=relu, alpha=0.0001, hidden_layer_sizes=(9, 14), solver=adam;, score=0.850 total time=   2.2s\n",
      "[CV 2/5] END activation=relu, alpha=0.0001, hidden_layer_sizes=(8, 7), solver=adam;, score=0.681 total time=   1.9s\n",
      "[CV 2/5] END activation=relu, alpha=5e-05, hidden_layer_sizes=(8, 14), solver=adam;, score=0.650 total time=   0.9s\n",
      "[CV 1/5] END activation=relu, alpha=5e-05, hidden_layer_sizes=(2, 14), solver=lbfgs;, score=0.242 total time=   0.1s\n",
      "[CV 2/5] END activation=relu, alpha=5e-05, hidden_layer_sizes=(2, 14), solver=lbfgs;, score=0.342 total time=   0.2s\n",
      "[CV 3/5] END activation=relu, alpha=0.0001, hidden_layer_sizes=(8, 7), solver=adam;, score=0.799 total time=   1.6s\n",
      "[CV 4/5] END activation=relu, alpha=5e-05, hidden_layer_sizes=(2, 14), solver=lbfgs;, score=0.259 total time=   0.3s\n",
      "[CV 1/5] END activation=relu, alpha=5e-05, hidden_layer_sizes=(8, 14), solver=adam;, score=0.650 total time=   1.7s\n",
      "[CV 5/5] END activation=relu, alpha=5e-05, hidden_layer_sizes=(2, 14), solver=lbfgs;, score=0.226 total time=   0.0s\n",
      "[CV 1/5] END activation=relu, alpha=0.0001, hidden_layer_sizes=(8, 7), solver=adam;, score=0.458 total time=   3.2s\n",
      "[CV 3/5] END activation=relu, alpha=5e-05, hidden_layer_sizes=(8, 14), solver=adam;, score=0.738 total time=   1.2s\n",
      "[CV 3/5] END activation=relu, alpha=5e-05, hidden_layer_sizes=(2, 14), solver=lbfgs;, score=0.568 total time=   0.6s\n",
      "[CV 5/5] END activation=relu, alpha=5e-05, hidden_layer_sizes=(8, 14), solver=adam;, score=0.883 total time=   1.8s\n",
      "[CV 1/5] END activation=relu, alpha=5e-05, hidden_layer_sizes=(8, 6), solver=lbfgs;, score=0.225 total time=   0.0s\n",
      "[CV 3/5] END activation=logistic, alpha=0.0001, hidden_layer_sizes=(3, 6), solver=lbfgs;, score=0.398 total time=   1.1s\n",
      "[CV 4/5] END activation=relu, alpha=0.0001, hidden_layer_sizes=(8, 7), solver=adam;, score=0.788 total time=   3.1s\n",
      "[CV 4/5] END activation=relu, alpha=5e-05, hidden_layer_sizes=(8, 14), solver=adam;, score=0.830 total time=   2.3s\n",
      "[CV 5/5] END activation=logistic, alpha=0.0001, hidden_layer_sizes=(3, 6), solver=lbfgs;, score=0.510 total time=   1.7s\n",
      "[CV 2/5] END activation=relu, alpha=5e-05, hidden_layer_sizes=(8, 6), solver=lbfgs;, score=0.658 total time=   1.2s\n",
      "[CV 2/5] END activation=relu, alpha=5e-05, hidden_layer_sizes=(1, 14), solver=lbfgs;, score=0.225 total time=   0.0s\n",
      "[CV 3/5] END activation=relu, alpha=5e-05, hidden_layer_sizes=(1, 14), solver=lbfgs;, score=0.228 total time=   0.0s\n",
      "[CV 4/5] END activation=relu, alpha=5e-05, hidden_layer_sizes=(1, 14), solver=lbfgs;, score=0.234 total time=   0.1s\n",
      "[CV 5/5] END activation=relu, alpha=5e-05, hidden_layer_sizes=(1, 14), solver=lbfgs;, score=0.223 total time=   0.0s\n",
      "[CV 1/5] END activation=relu, alpha=0.0001, hidden_layer_sizes=(8, 7), solver=lbfgs;, score=0.225 total time=   0.0s\n",
      "[CV 4/5] END activation=relu, alpha=5e-05, hidden_layer_sizes=(8, 6), solver=lbfgs;, score=0.641 total time=   1.3s\n",
      "[CV 2/5] END activation=relu, alpha=0.0001, hidden_layer_sizes=(8, 7), solver=lbfgs;, score=0.569 total time=   0.3s\n",
      "[CV 3/5] END activation=relu, alpha=5e-05, hidden_layer_sizes=(8, 6), solver=lbfgs;, score=0.721 total time=   1.8s\n",
      "[CV 5/5] END activation=relu, alpha=5e-05, hidden_layer_sizes=(8, 6), solver=lbfgs;, score=0.733 total time=   1.6s\n",
      "[CV 5/5] END activation=relu, alpha=0.0001, hidden_layer_sizes=(8, 7), solver=lbfgs;, score=0.607 total time=   0.5s\n",
      "[CV 1/5] END activation=relu, alpha=5e-05, hidden_layer_sizes=(1, 14), solver=lbfgs;, score=0.444 total time=   1.6s\n",
      "[CV 1/5] END activation=logistic, alpha=0.0001, hidden_layer_sizes=(6, 12), solver=adam;, score=0.597 total time=   1.6s\n",
      "[CV 2/5] END activation=logistic, alpha=0.0001, hidden_layer_sizes=(3, 6), solver=lbfgs;, score=0.478 total time=   4.6s\n",
      "[CV 4/5] END activation=logistic, alpha=0.0001, hidden_layer_sizes=(3, 6), solver=lbfgs;, score=0.462 total time=   4.8s\n",
      "[CV 4/5] END activation=relu, alpha=0.0001, hidden_layer_sizes=(8, 7), solver=lbfgs;, score=0.727 total time=   2.8s\n",
      "[CV 2/5] END activation=logistic, alpha=0.0001, hidden_layer_sizes=(6, 12), solver=adam;, score=0.708 total time=   2.2s\n",
      "[CV 3/5] END activation=logistic, alpha=0.0001, hidden_layer_sizes=(6, 12), solver=adam;, score=0.783 total time=   2.8s\n",
      "[CV 5/5] END activation=logistic, alpha=0.0001, hidden_layer_sizes=(6, 12), solver=adam;, score=0.799 total time=   1.8s\n",
      "[CV 4/5] END activation=logistic, alpha=0.0001, hidden_layer_sizes=(6, 12), solver=adam;, score=0.786 total time=   2.8s\n",
      "[CV 1/5] END activation=logistic, alpha=0.0001, hidden_layer_sizes=(11, 14), solver=adam;, score=0.683 total time=   2.4s\n",
      "[CV 2/5] END activation=logistic, alpha=0.0001, hidden_layer_sizes=(11, 14), solver=adam;, score=0.711 total time=   2.1s\n",
      "[CV 4/5] END activation=logistic, alpha=0.0001, hidden_layer_sizes=(11, 14), solver=adam;, score=0.830 total time=   1.3s\n",
      "[CV 3/5] END activation=relu, alpha=0.0001, hidden_layer_sizes=(8, 7), solver=lbfgs;, score=0.780 total time=   5.5s\n",
      "[CV 3/5] END activation=logistic, alpha=0.0001, hidden_layer_sizes=(11, 14), solver=adam;, score=0.822 total time=   3.5s\n",
      "[CV 5/5] END activation=logistic, alpha=0.0001, hidden_layer_sizes=(11, 14), solver=adam;, score=0.838 total time=   2.9s\n",
      "[CV 2/5] END activation=logistic, alpha=0.0001, hidden_layer_sizes=(10, 14), solver=adam;, score=0.722 total time=   2.0s\n",
      "[CV 1/5] END activation=logistic, alpha=0.0001, hidden_layer_sizes=(10, 14), solver=adam;, score=0.711 total time=   2.3s\n",
      "[CV 4/5] END activation=logistic, alpha=0.0001, hidden_layer_sizes=(10, 14), solver=adam;, score=0.769 total time=   2.1s\n",
      "[CV 3/5] END activation=logistic, alpha=0.0001, hidden_layer_sizes=(10, 14), solver=adam;, score=0.819 total time=   2.6s\n",
      "[CV 5/5] END activation=logistic, alpha=0.0001, hidden_layer_sizes=(10, 14), solver=adam;, score=0.783 total time=   2.4s\n",
      "[CV 1/5] END activation=logistic, alpha=5e-05, hidden_layer_sizes=(12, 12), solver=adam;, score=0.708 total time=   2.2s\n",
      "[CV 2/5] END activation=logistic, alpha=5e-05, hidden_layer_sizes=(12, 12), solver=adam;, score=0.639 total time=   2.7s\n"
     ]
    },
    {
     "output_type": "stream",
     "name": "stderr",
     "text": [
      "/Users/mohamed/ZenAI-3YP/3yp_venv/lib/python3.10/site-packages/sklearn/neural_network/_multilayer_perceptron.py:536: ConvergenceWarning: lbfgs failed to converge (status=1):\n",
      "STOP: TOTAL NO. of ITERATIONS REACHED LIMIT.\n",
      "\n",
      "Increase the number of iterations (max_iter) or scale the data as shown in:\n",
      "    https://scikit-learn.org/stable/modules/preprocessing.html\n",
      "  self.n_iter_ = _check_optimize_result(\"lbfgs\", opt_res, self.max_iter)\n"
     ]
    },
    {
     "output_type": "stream",
     "name": "stdout",
     "text": [
      "[CV 1/5] END activation=logistic, alpha=0.0001, hidden_layer_sizes=(3, 6), solver=lbfgs;, score=0.653 total time=  14.5s\n",
      "[CV 4/5] END activation=logistic, alpha=5e-05, hidden_layer_sizes=(12, 12), solver=adam;, score=0.780 total time=   2.3s\n",
      "[CV 3/5] END activation=logistic, alpha=5e-05, hidden_layer_sizes=(12, 12), solver=adam;, score=0.813 total time=   3.9s\n",
      "[CV 5/5] END activation=logistic, alpha=5e-05, hidden_layer_sizes=(12, 12), solver=adam;, score=0.838 total time=   3.0s\n",
      "[CV 1/5] END activation=relu, alpha=0.0001, hidden_layer_sizes=(2, 7), solver=adam;, score=0.372 total time=   2.8s\n",
      "[CV 4/5] END activation=relu, alpha=0.0001, hidden_layer_sizes=(2, 7), solver=adam;, score=0.460 total time=   0.9s\n",
      "[CV 2/5] END activation=relu, alpha=0.0001, hidden_layer_sizes=(2, 7), solver=adam;, score=0.644 total time=   4.8s\n",
      "[CV 5/5] END activation=relu, alpha=0.0001, hidden_layer_sizes=(2, 7), solver=adam;, score=0.474 total time=   2.1s\n",
      "[CV 1/5] END activation=relu, alpha=5e-05, hidden_layer_sizes=(1, 5), solver=adam;, score=0.225 total time=   0.6s\n",
      "[CV 3/5] END activation=relu, alpha=5e-05, hidden_layer_sizes=(1, 5), solver=adam;, score=0.228 total time=   0.3s\n",
      "[CV 3/5] END activation=relu, alpha=0.0001, hidden_layer_sizes=(2, 7), solver=adam;, score=0.529 total time=   4.9s\n",
      "[CV 4/5] END activation=relu, alpha=5e-05, hidden_layer_sizes=(1, 5), solver=adam;, score=0.226 total time=   0.5s\n",
      "[CV 2/5] END activation=logistic, alpha=0.0001, hidden_layer_sizes=(6, 10), solver=lbfgs;, score=0.531 total time=  13.3s\n",
      "[CV 1/5] END activation=relu, alpha=0.0001, hidden_layer_sizes=(14, 8), solver=lbfgs;, score=0.256 total time=   0.3s\n",
      "[CV 2/5] END activation=relu, alpha=5e-05, hidden_layer_sizes=(1, 5), solver=adam;, score=0.436 total time=   2.1s\n",
      "[CV 3/5] END activation=relu, alpha=0.0001, hidden_layer_sizes=(14, 8), solver=lbfgs;, score=0.733 total time=   1.1s\n",
      "[CV 2/5] END activation=relu, alpha=0.0001, hidden_layer_sizes=(14, 8), solver=lbfgs;, score=0.692 total time=   2.2s\n",
      "[CV 5/5] END activation=relu, alpha=5e-05, hidden_layer_sizes=(1, 5), solver=adam;, score=0.396 total time=   3.4s\n",
      "[CV 4/5] END activation=relu, alpha=0.0001, hidden_layer_sizes=(14, 8), solver=lbfgs;, score=0.763 total time=   2.9s\n",
      "[CV 2/5] END activation=logistic, alpha=5e-05, hidden_layer_sizes=(3, 12), solver=lbfgs;, score=0.369 total time=   1.1s\n"
     ]
    },
    {
     "output_type": "stream",
     "name": "stderr",
     "text": [
      "/Users/mohamed/ZenAI-3YP/3yp_venv/lib/python3.10/site-packages/sklearn/neural_network/_multilayer_perceptron.py:536: ConvergenceWarning: lbfgs failed to converge (status=1):\n",
      "STOP: TOTAL NO. of ITERATIONS REACHED LIMIT.\n",
      "\n",
      "Increase the number of iterations (max_iter) or scale the data as shown in:\n",
      "    https://scikit-learn.org/stable/modules/preprocessing.html\n",
      "  self.n_iter_ = _check_optimize_result(\"lbfgs\", opt_res, self.max_iter)\n"
     ]
    },
    {
     "output_type": "stream",
     "name": "stdout",
     "text": [
      "[CV 3/5] END activation=logistic, alpha=0.0001, hidden_layer_sizes=(6, 10), solver=lbfgs;, score=0.565 total time=  18.6s\n",
      "[CV 5/5] END activation=relu, alpha=0.0001, hidden_layer_sizes=(14, 8), solver=lbfgs;, score=0.852 total time=   4.6s\n"
     ]
    },
    {
     "output_type": "stream",
     "name": "stderr",
     "text": [
      "/Users/mohamed/ZenAI-3YP/3yp_venv/lib/python3.10/site-packages/sklearn/neural_network/_multilayer_perceptron.py:536: ConvergenceWarning: lbfgs failed to converge (status=1):\n",
      "STOP: TOTAL NO. of ITERATIONS REACHED LIMIT.\n",
      "\n",
      "Increase the number of iterations (max_iter) or scale the data as shown in:\n",
      "    https://scikit-learn.org/stable/modules/preprocessing.html\n",
      "  self.n_iter_ = _check_optimize_result(\"lbfgs\", opt_res, self.max_iter)\n",
      "/Users/mohamed/ZenAI-3YP/3yp_venv/lib/python3.10/site-packages/sklearn/neural_network/_multilayer_perceptron.py:536: ConvergenceWarning: lbfgs failed to converge (status=1):\n",
      "STOP: TOTAL NO. of ITERATIONS REACHED LIMIT.\n",
      "\n",
      "Increase the number of iterations (max_iter) or scale the data as shown in:\n",
      "    https://scikit-learn.org/stable/modules/preprocessing.html\n",
      "  self.n_iter_ = _check_optimize_result(\"lbfgs\", opt_res, self.max_iter)\n"
     ]
    },
    {
     "output_type": "stream",
     "name": "stdout",
     "text": [
      "[CV 5/5] END activation=logistic, alpha=0.0001, hidden_layer_sizes=(6, 10), solver=lbfgs;, score=0.630 total time=  20.1s\n",
      "[CV 1/5] END activation=logistic, alpha=0.0001, hidden_layer_sizes=(6, 10), solver=lbfgs;, score=0.664 total time=  20.7s\n",
      "[CV 5/5] END activation=logistic, alpha=5e-05, hidden_layer_sizes=(3, 12), solver=lbfgs;, score=0.396 total time=   1.9s\n"
     ]
    },
    {
     "output_type": "stream",
     "name": "stderr",
     "text": [
      "/Users/mohamed/ZenAI-3YP/3yp_venv/lib/python3.10/site-packages/sklearn/neural_network/_multilayer_perceptron.py:536: ConvergenceWarning: lbfgs failed to converge (status=1):\n",
      "STOP: TOTAL NO. of ITERATIONS REACHED LIMIT.\n",
      "\n",
      "Increase the number of iterations (max_iter) or scale the data as shown in:\n",
      "    https://scikit-learn.org/stable/modules/preprocessing.html\n",
      "  self.n_iter_ = _check_optimize_result(\"lbfgs\", opt_res, self.max_iter)\n"
     ]
    },
    {
     "output_type": "stream",
     "name": "stdout",
     "text": [
      "[CV 4/5] END activation=logistic, alpha=0.0001, hidden_layer_sizes=(6, 10), solver=lbfgs;, score=0.724 total time=  20.5s\n",
      "[CV 1/5] END activation=logistic, alpha=5e-05, hidden_layer_sizes=(3, 12), solver=lbfgs;, score=0.417 total time=   6.1s\n",
      "[CV 5/5] END activation=relu, alpha=0.0001, hidden_layer_sizes=(13, 14), solver=lbfgs;, score=0.861 total time=   3.9s\n",
      "[CV 1/5] END activation=relu, alpha=0.0001, hidden_layer_sizes=(13, 14), solver=lbfgs;, score=0.708 total time=   5.7s\n",
      "[CV 4/5] END activation=relu, alpha=0.0001, hidden_layer_sizes=(13, 14), solver=lbfgs;, score=0.627 total time=   4.3s\n",
      "[CV 3/5] END activation=logistic, alpha=5e-05, hidden_layer_sizes=(3, 12), solver=lbfgs;, score=0.518 total time=   9.0s\n",
      "[CV 2/5] END activation=relu, alpha=0.0001, hidden_layer_sizes=(13, 14), solver=lbfgs;, score=0.714 total time=  11.9s\n",
      "[CV 3/5] END activation=relu, alpha=0.0001, hidden_layer_sizes=(13, 14), solver=lbfgs;, score=0.852 total time=  12.2s\n",
      "[CV 2/5] END activation=relu, alpha=0.0001, hidden_layer_sizes=(12, 5), solver=lbfgs;, score=0.225 total time=   0.0s\n",
      "[CV 1/5] END activation=relu, alpha=0.0001, hidden_layer_sizes=(12, 5), solver=lbfgs;, score=0.547 total time=   0.7s\n",
      "[CV 4/5] END activation=relu, alpha=0.0001, hidden_layer_sizes=(12, 5), solver=lbfgs;, score=0.226 total time=   0.2s\n"
     ]
    },
    {
     "output_type": "stream",
     "name": "stderr",
     "text": [
      "/Users/mohamed/ZenAI-3YP/3yp_venv/lib/python3.10/site-packages/sklearn/neural_network/_multilayer_perceptron.py:536: ConvergenceWarning: lbfgs failed to converge (status=2):\n",
      "ABNORMAL_TERMINATION_IN_LNSRCH.\n",
      "\n",
      "Increase the number of iterations (max_iter) or scale the data as shown in:\n",
      "    https://scikit-learn.org/stable/modules/preprocessing.html\n",
      "  self.n_iter_ = _check_optimize_result(\"lbfgs\", opt_res, self.max_iter)\n"
     ]
    },
    {
     "output_type": "stream",
     "name": "stdout",
     "text": [
      "[CV 5/5] END activation=relu, alpha=0.0001, hidden_layer_sizes=(12, 5), solver=lbfgs;, score=0.838 total time=   3.3s\n",
      "[CV 3/5] END activation=relu, alpha=0.0001, hidden_layer_sizes=(12, 5), solver=lbfgs;, score=0.744 total time=   4.1s\n"
     ]
    },
    {
     "output_type": "stream",
     "name": "stderr",
     "text": [
      "/Users/mohamed/ZenAI-3YP/3yp_venv/lib/python3.10/site-packages/sklearn/neural_network/_multilayer_perceptron.py:536: ConvergenceWarning: lbfgs failed to converge (status=1):\n",
      "STOP: TOTAL NO. of ITERATIONS REACHED LIMIT.\n",
      "\n",
      "Increase the number of iterations (max_iter) or scale the data as shown in:\n",
      "    https://scikit-learn.org/stable/modules/preprocessing.html\n",
      "  self.n_iter_ = _check_optimize_result(\"lbfgs\", opt_res, self.max_iter)\n"
     ]
    },
    {
     "output_type": "stream",
     "name": "stdout",
     "text": [
      "[CV 4/5] END activation=logistic, alpha=5e-05, hidden_layer_sizes=(3, 12), solver=lbfgs;, score=0.538 total time=  20.3s\n",
      "[CV 2/5] END activation=logistic, alpha=5e-05, hidden_layer_sizes=(3, 2), solver=lbfgs;, score=0.386 total time=   3.3s\n",
      "[CV 1/5] END activation=logistic, alpha=5e-05, hidden_layer_sizes=(3, 2), solver=lbfgs;, score=0.414 total time=   5.4s\n",
      "[CV 5/5] END activation=logistic, alpha=5e-05, hidden_layer_sizes=(3, 2), solver=lbfgs;, score=0.387 total time=   1.3s\n"
     ]
    },
    {
     "output_type": "stream",
     "name": "stderr",
     "text": [
      "/Users/mohamed/ZenAI-3YP/3yp_venv/lib/python3.10/site-packages/sklearn/neural_network/_multilayer_perceptron.py:536: ConvergenceWarning: lbfgs failed to converge (status=1):\n",
      "STOP: TOTAL NO. of ITERATIONS REACHED LIMIT.\n",
      "\n",
      "Increase the number of iterations (max_iter) or scale the data as shown in:\n",
      "    https://scikit-learn.org/stable/modules/preprocessing.html\n",
      "  self.n_iter_ = _check_optimize_result(\"lbfgs\", opt_res, self.max_iter)\n"
     ]
    },
    {
     "output_type": "stream",
     "name": "stdout",
     "text": [
      "[CV 1/5] END activation=logistic, alpha=5e-05, hidden_layer_sizes=(12, 11), solver=lbfgs;, score=0.603 total time=  23.3s\n",
      "[CV 3/5] END activation=logistic, alpha=5e-05, hidden_layer_sizes=(3, 2), solver=lbfgs;, score=0.646 total time=   7.4s\n",
      "[CV 1/5] END activation=logistic, alpha=0.0001, hidden_layer_sizes=(5, 6), solver=adam;, score=0.625 total time=   2.6s\n"
     ]
    },
    {
     "output_type": "stream",
     "name": "stderr",
     "text": [
      "/Users/mohamed/ZenAI-3YP/3yp_venv/lib/python3.10/site-packages/sklearn/neural_network/_multilayer_perceptron.py:536: ConvergenceWarning: lbfgs failed to converge (status=1):\n",
      "STOP: TOTAL NO. of ITERATIONS REACHED LIMIT.\n",
      "\n",
      "Increase the number of iterations (max_iter) or scale the data as shown in:\n",
      "    https://scikit-learn.org/stable/modules/preprocessing.html\n",
      "  self.n_iter_ = _check_optimize_result(\"lbfgs\", opt_res, self.max_iter)\n"
     ]
    },
    {
     "output_type": "stream",
     "name": "stdout",
     "text": [
      "[CV 2/5] END activation=logistic, alpha=5e-05, hidden_layer_sizes=(12, 11), solver=lbfgs;, score=0.708 total time=  22.5s\n"
     ]
    },
    {
     "output_type": "stream",
     "name": "stderr",
     "text": [
      "/Users/mohamed/ZenAI-3YP/3yp_venv/lib/python3.10/site-packages/sklearn/neural_network/_multilayer_perceptron.py:536: ConvergenceWarning: lbfgs failed to converge (status=1):\n",
      "STOP: TOTAL NO. of ITERATIONS REACHED LIMIT.\n",
      "\n",
      "Increase the number of iterations (max_iter) or scale the data as shown in:\n",
      "    https://scikit-learn.org/stable/modules/preprocessing.html\n",
      "  self.n_iter_ = _check_optimize_result(\"lbfgs\", opt_res, self.max_iter)\n"
     ]
    },
    {
     "output_type": "stream",
     "name": "stdout",
     "text": [
      "[CV 4/5] END activation=logistic, alpha=5e-05, hidden_layer_sizes=(12, 11), solver=lbfgs;, score=0.752 total time=  22.8s\n",
      "[CV 2/5] END activation=logistic, alpha=0.0001, hidden_layer_sizes=(5, 6), solver=adam;, score=0.589 total time=   2.9s\n",
      "[CV 1/5] END activation=relu, alpha=0.0001, hidden_layer_sizes=(6, 14), solver=lbfgs;, score=0.233 total time=   0.8s\n"
     ]
    },
    {
     "output_type": "stream",
     "name": "stderr",
     "text": [
      "/Users/mohamed/ZenAI-3YP/3yp_venv/lib/python3.10/site-packages/sklearn/neural_network/_multilayer_perceptron.py:536: ConvergenceWarning: lbfgs failed to converge (status=1):\n",
      "STOP: TOTAL NO. of ITERATIONS REACHED LIMIT.\n",
      "\n",
      "Increase the number of iterations (max_iter) or scale the data as shown in:\n",
      "    https://scikit-learn.org/stable/modules/preprocessing.html\n",
      "  self.n_iter_ = _check_optimize_result(\"lbfgs\", opt_res, self.max_iter)\n"
     ]
    },
    {
     "output_type": "stream",
     "name": "stdout",
     "text": [
      "[CV 3/5] END activation=logistic, alpha=5e-05, hidden_layer_sizes=(12, 11), solver=lbfgs;, score=0.705 total time=  24.2s\n"
     ]
    },
    {
     "output_type": "stream",
     "name": "stderr",
     "text": [
      "/Users/mohamed/ZenAI-3YP/3yp_venv/lib/python3.10/site-packages/sklearn/neural_network/_multilayer_perceptron.py:536: ConvergenceWarning: lbfgs failed to converge (status=1):\n",
      "STOP: TOTAL NO. of ITERATIONS REACHED LIMIT.\n",
      "\n",
      "Increase the number of iterations (max_iter) or scale the data as shown in:\n",
      "    https://scikit-learn.org/stable/modules/preprocessing.html\n",
      "  self.n_iter_ = _check_optimize_result(\"lbfgs\", opt_res, self.max_iter)\n"
     ]
    },
    {
     "output_type": "stream",
     "name": "stdout",
     "text": [
      "[CV 5/5] END activation=logistic, alpha=5e-05, hidden_layer_sizes=(12, 11), solver=lbfgs;, score=0.780 total time=  23.5s\n",
      "[CV 3/5] END activation=logistic, alpha=0.0001, hidden_layer_sizes=(5, 6), solver=adam;, score=0.777 total time=   4.4s\n",
      "[CV 3/5] END activation=relu, alpha=0.0001, hidden_layer_sizes=(6, 14), solver=lbfgs;, score=0.256 total time=   1.7s\n",
      "[CV 4/5] END activation=logistic, alpha=0.0001, hidden_layer_sizes=(5, 6), solver=adam;, score=0.763 total time=   4.5s\n",
      "[CV 2/5] END activation=relu, alpha=0.0001, hidden_layer_sizes=(6, 14), solver=lbfgs;, score=0.650 total time=   2.7s\n",
      "[CV 5/5] END activation=logistic, alpha=0.0001, hidden_layer_sizes=(5, 6), solver=adam;, score=0.755 total time=   3.3s\n",
      "[CV 1/5] END activation=relu, alpha=0.0001, hidden_layer_sizes=(14, 12), solver=adam;, score=0.753 total time=   1.8s\n",
      "[CV 3/5] END activation=relu, alpha=0.0001, hidden_layer_sizes=(14, 12), solver=adam;, score=0.805 total time=   1.7s\n",
      "[CV 5/5] END activation=relu, alpha=0.0001, hidden_layer_sizes=(14, 12), solver=adam;, score=0.797 total time=   2.3s\n",
      "[CV 2/5] END activation=relu, alpha=0.0001, hidden_layer_sizes=(14, 12), solver=adam;, score=0.669 total time=   2.7s\n",
      "[CV 4/5] END activation=relu, alpha=0.0001, hidden_layer_sizes=(14, 12), solver=adam;, score=0.791 total time=   2.8s\n",
      "[CV 4/5] END activation=logistic, alpha=5e-05, hidden_layer_sizes=(3, 2), solver=lbfgs;, score=0.632 total time=  14.2s\n",
      "[CV 2/5] END activation=logistic, alpha=5e-05, hidden_layer_sizes=(9, 4), solver=adam;, score=0.606 total time=   4.0s\n",
      "[CV 5/5] END activation=logistic, alpha=5e-05, hidden_layer_sizes=(9, 4), solver=adam;, score=0.760 total time=   3.3s\n",
      "[CV 1/5] END activation=relu, alpha=0.0001, hidden_layer_sizes=(10, 8), solver=lbfgs;, score=0.703 total time=   2.1s\n",
      "[CV 1/5] END activation=logistic, alpha=5e-05, hidden_layer_sizes=(9, 4), solver=adam;, score=0.661 total time=   6.0s\n",
      "[CV 3/5] END activation=logistic, alpha=5e-05, hidden_layer_sizes=(9, 4), solver=adam;, score=0.819 total time=   4.9s\n",
      "[CV 5/5] END activation=relu, alpha=0.0001, hidden_layer_sizes=(6, 14), solver=lbfgs;, score=0.827 total time=   8.3s\n",
      "[CV 4/5] END activation=logistic, alpha=5e-05, hidden_layer_sizes=(9, 4), solver=adam;, score=0.696 total time=   4.9s\n",
      "[CV 4/5] END activation=relu, alpha=0.0001, hidden_layer_sizes=(6, 14), solver=lbfgs;, score=0.783 total time=   9.2s\n",
      "[CV 3/5] END activation=relu, alpha=0.0001, hidden_layer_sizes=(10, 8), solver=lbfgs;, score=0.571 total time=   2.3s\n",
      "[CV 2/5] END activation=relu, alpha=0.0001, hidden_layer_sizes=(10, 8), solver=lbfgs;, score=0.703 total time=   3.2s\n",
      "[CV 3/5] END activation=logistic, alpha=0.0001, hidden_layer_sizes=(5, 11), solver=adam;, score=0.747 total time=   2.5s\n",
      "[CV 5/5] END activation=relu, alpha=0.0001, hidden_layer_sizes=(10, 8), solver=lbfgs;, score=0.741 total time=   3.2s\n",
      "[CV 1/5] END activation=logistic, alpha=0.0001, hidden_layer_sizes=(5, 11), solver=adam;, score=0.664 total time=   2.9s\n",
      "[CV 4/5] END activation=relu, alpha=0.0001, hidden_layer_sizes=(10, 8), solver=lbfgs;, score=0.677 total time=   4.4s\n",
      "[CV 2/5] END activation=logistic, alpha=0.0001, hidden_layer_sizes=(5, 11), solver=adam;, score=0.697 total time=   3.2s\n",
      "[CV 3/5] END activation=relu, alpha=5e-05, hidden_layer_sizes=(10, 4), solver=adam;, score=0.203 total time=   0.7s\n",
      "[CV 2/5] END activation=relu, alpha=0.0001, hidden_layer_sizes=(9, 3), solver=lbfgs;, score=0.225 total time=   0.0s\n",
      "[CV 4/5] END activation=logistic, alpha=0.0001, hidden_layer_sizes=(5, 11), solver=adam;, score=0.749 total time=   3.0s\n",
      "[CV 4/5] END activation=relu, alpha=5e-05, hidden_layer_sizes=(10, 4), solver=adam;, score=0.226 total time=   0.8s\n",
      "[CV 5/5] END activation=relu, alpha=0.0001, hidden_layer_sizes=(9, 3), solver=lbfgs;, score=0.680 total time=   0.9s\n",
      "[CV 1/5] END activation=relu, alpha=5e-05, hidden_layer_sizes=(10, 4), solver=adam;, score=0.703 total time=   4.1s\n",
      "[CV 2/5] END activation=relu, alpha=0.0001, hidden_layer_sizes=(7, 1), solver=lbfgs;, score=0.225 total time=   0.0s\n",
      "[CV 5/5] END activation=logistic, alpha=0.0001, hidden_layer_sizes=(5, 11), solver=adam;, score=0.763 total time=   4.6s\n",
      "[CV 3/5] END activation=relu, alpha=0.0001, hidden_layer_sizes=(7, 1), solver=lbfgs;, score=0.228 total time=   0.0s\n",
      "[CV 5/5] END activation=relu, alpha=0.0001, hidden_layer_sizes=(7, 1), solver=lbfgs;, score=0.226 total time=   0.0s\n",
      "[CV 1/5] END activation=relu, alpha=0.0001, hidden_layer_sizes=(9, 3), solver=lbfgs;, score=0.494 total time=   2.6s\n",
      "[CV 4/5] END activation=relu, alpha=0.0001, hidden_layer_sizes=(9, 3), solver=lbfgs;, score=0.663 total time=   2.8s\n",
      "[CV 4/5] END activation=relu, alpha=0.0001, hidden_layer_sizes=(7, 1), solver=lbfgs;, score=0.524 total time=   1.2s\n",
      "[CV 1/5] END activation=relu, alpha=0.0001, hidden_layer_sizes=(7, 1), solver=lbfgs;, score=0.475 total time=   2.5s\n",
      "[CV 3/5] END activation=relu, alpha=0.0001, hidden_layer_sizes=(9, 3), solver=lbfgs;, score=0.747 total time=   4.5s\n",
      "[CV 5/5] END activation=relu, alpha=5e-05, hidden_layer_sizes=(10, 4), solver=adam;, score=0.749 total time=   5.3s\n",
      "[CV 2/5] END activation=relu, alpha=0.0001, hidden_layer_sizes=(5, 5), solver=adam;, score=0.478 total time=   3.4s\n",
      "[CV 2/5] END activation=relu, alpha=5e-05, hidden_layer_sizes=(10, 4), solver=adam;, score=0.694 total time=   6.7s\n",
      "[CV 3/5] END activation=relu, alpha=0.0001, hidden_layer_sizes=(5, 5), solver=adam;, score=0.560 total time=   3.5s\n",
      "[CV 1/5] END activation=relu, alpha=0.0001, hidden_layer_sizes=(5, 5), solver=adam;, score=0.653 total time=   4.5s\n",
      "[CV 5/5] END activation=relu, alpha=0.0001, hidden_layer_sizes=(5, 5), solver=adam;, score=0.680 total time=   3.4s\n",
      "[CV 4/5] END activation=relu, alpha=0.0001, hidden_layer_sizes=(5, 5), solver=adam;, score=0.738 total time=   4.1s\n"
     ]
    },
    {
     "output_type": "stream",
     "name": "stderr",
     "text": [
      "/Users/mohamed/ZenAI-3YP/3yp_venv/lib/python3.10/site-packages/sklearn/neural_network/_multilayer_perceptron.py:536: ConvergenceWarning: lbfgs failed to converge (status=1):\n",
      "STOP: TOTAL NO. of ITERATIONS REACHED LIMIT.\n",
      "\n",
      "Increase the number of iterations (max_iter) or scale the data as shown in:\n",
      "    https://scikit-learn.org/stable/modules/preprocessing.html\n",
      "  self.n_iter_ = _check_optimize_result(\"lbfgs\", opt_res, self.max_iter)\n",
      "/Users/mohamed/ZenAI-3YP/3yp_venv/lib/python3.10/site-packages/sklearn/neural_network/_multilayer_perceptron.py:536: ConvergenceWarning: lbfgs failed to converge (status=1):\n",
      "STOP: TOTAL NO. of ITERATIONS REACHED LIMIT.\n",
      "\n",
      "Increase the number of iterations (max_iter) or scale the data as shown in:\n",
      "    https://scikit-learn.org/stable/modules/preprocessing.html\n",
      "  self.n_iter_ = _check_optimize_result(\"lbfgs\", opt_res, self.max_iter)\n"
     ]
    },
    {
     "output_type": "stream",
     "name": "stdout",
     "text": [
      "[CV 2/5] END activation=logistic, alpha=0.0001, hidden_layer_sizes=(8, 7), solver=lbfgs;, score=0.611 total time=  24.8s\n",
      "[CV 3/5] END activation=logistic, alpha=0.0001, hidden_layer_sizes=(9, 6), solver=lbfgs;, score=0.716 total time=  22.5s\n",
      "[CV 1/5] END activation=logistic, alpha=0.0001, hidden_layer_sizes=(8, 7), solver=lbfgs;, score=0.656 total time=  25.4s\n"
     ]
    },
    {
     "output_type": "stream",
     "name": "stderr",
     "text": [
      "/Users/mohamed/ZenAI-3YP/3yp_venv/lib/python3.10/site-packages/sklearn/neural_network/_multilayer_perceptron.py:536: ConvergenceWarning: lbfgs failed to converge (status=1):\n",
      "STOP: TOTAL NO. of ITERATIONS REACHED LIMIT.\n",
      "\n",
      "Increase the number of iterations (max_iter) or scale the data as shown in:\n",
      "    https://scikit-learn.org/stable/modules/preprocessing.html\n",
      "  self.n_iter_ = _check_optimize_result(\"lbfgs\", opt_res, self.max_iter)\n"
     ]
    },
    {
     "output_type": "stream",
     "name": "stdout",
     "text": [
      "[CV 5/5] END activation=logistic, alpha=0.0001, hidden_layer_sizes=(8, 7), solver=lbfgs;, score=0.777 total time=  24.4s\n",
      "[CV 1/5] END activation=relu, alpha=0.0001, hidden_layer_sizes=(2, 13), solver=adam;, score=0.322 total time=   1.1s\n"
     ]
    },
    {
     "output_type": "stream",
     "name": "stderr",
     "text": [
      "/Users/mohamed/ZenAI-3YP/3yp_venv/lib/python3.10/site-packages/sklearn/neural_network/_multilayer_perceptron.py:536: ConvergenceWarning: lbfgs failed to converge (status=1):\n",
      "STOP: TOTAL NO. of ITERATIONS REACHED LIMIT.\n",
      "\n",
      "Increase the number of iterations (max_iter) or scale the data as shown in:\n",
      "    https://scikit-learn.org/stable/modules/preprocessing.html\n",
      "  self.n_iter_ = _check_optimize_result(\"lbfgs\", opt_res, self.max_iter)\n"
     ]
    },
    {
     "output_type": "stream",
     "name": "stdout",
     "text": [
      "[CV 3/5] END activation=logistic, alpha=0.0001, hidden_layer_sizes=(8, 7), solver=lbfgs;, score=0.752 total time=  25.6s\n"
     ]
    },
    {
     "output_type": "stream",
     "name": "stderr",
     "text": [
      "/Users/mohamed/ZenAI-3YP/3yp_venv/lib/python3.10/site-packages/sklearn/neural_network/_multilayer_perceptron.py:536: ConvergenceWarning: lbfgs failed to converge (status=1):\n",
      "STOP: TOTAL NO. of ITERATIONS REACHED LIMIT.\n",
      "\n",
      "Increase the number of iterations (max_iter) or scale the data as shown in:\n",
      "    https://scikit-learn.org/stable/modules/preprocessing.html\n",
      "  self.n_iter_ = _check_optimize_result(\"lbfgs\", opt_res, self.max_iter)\n",
      "/Users/mohamed/ZenAI-3YP/3yp_venv/lib/python3.10/site-packages/sklearn/neural_network/_multilayer_perceptron.py:536: ConvergenceWarning: lbfgs failed to converge (status=1):\n",
      "STOP: TOTAL NO. of ITERATIONS REACHED LIMIT.\n",
      "\n",
      "Increase the number of iterations (max_iter) or scale the data as shown in:\n",
      "    https://scikit-learn.org/stable/modules/preprocessing.html\n",
      "  self.n_iter_ = _check_optimize_result(\"lbfgs\", opt_res, self.max_iter)\n"
     ]
    },
    {
     "output_type": "stream",
     "name": "stdout",
     "text": [
      "[CV 1/5] END activation=logistic, alpha=0.0001, hidden_layer_sizes=(9, 6), solver=lbfgs;, score=0.650 total time=  25.4s\n",
      "[CV 4/5] END activation=logistic, alpha=0.0001, hidden_layer_sizes=(8, 7), solver=lbfgs;, score=0.755 total time=  26.3s\n"
     ]
    },
    {
     "output_type": "stream",
     "name": "stderr",
     "text": [
      "/Users/mohamed/ZenAI-3YP/3yp_venv/lib/python3.10/site-packages/sklearn/neural_network/_multilayer_perceptron.py:536: ConvergenceWarning: lbfgs failed to converge (status=1):\n",
      "STOP: TOTAL NO. of ITERATIONS REACHED LIMIT.\n",
      "\n",
      "Increase the number of iterations (max_iter) or scale the data as shown in:\n",
      "    https://scikit-learn.org/stable/modules/preprocessing.html\n",
      "  self.n_iter_ = _check_optimize_result(\"lbfgs\", opt_res, self.max_iter)\n"
     ]
    },
    {
     "output_type": "stream",
     "name": "stdout",
     "text": [
      "[CV 2/5] END activation=logistic, alpha=0.0001, hidden_layer_sizes=(9, 6), solver=lbfgs;, score=0.564 total time=  25.5s\n",
      "[CV 3/5] END activation=relu, alpha=0.0001, hidden_layer_sizes=(2, 13), solver=adam;, score=0.320 total time=   1.8s\n",
      "[CV 4/5] END activation=relu, alpha=0.0001, hidden_layer_sizes=(2, 13), solver=adam;, score=0.526 total time=   2.9s\n",
      "[CV 5/5] END activation=relu, alpha=0.0001, hidden_layer_sizes=(2, 13), solver=adam;, score=0.563 total time=   2.4s\n",
      "[CV 2/5] END activation=relu, alpha=0.0001, hidden_layer_sizes=(2, 13), solver=adam;, score=0.408 total time=   4.2s\n",
      "[CV 1/5] END activation=relu, alpha=5e-05, hidden_layer_sizes=(1, 14), solver=adam;, score=0.297 total time=   1.6s\n",
      "[CV 2/5] END activation=relu, alpha=5e-05, hidden_layer_sizes=(1, 14), solver=adam;, score=0.467 total time=   2.3s\n",
      "[CV 3/5] END activation=relu, alpha=5e-05, hidden_layer_sizes=(1, 14), solver=adam;, score=0.231 total time=   0.7s\n",
      "[CV 4/5] END activation=relu, alpha=5e-05, hidden_layer_sizes=(1, 14), solver=adam;, score=0.226 total time=   0.4s\n",
      "[CV 5/5] END activation=relu, alpha=5e-05, hidden_layer_sizes=(1, 14), solver=adam;, score=0.318 total time=   1.3s\n",
      "[CV 1/5] END activation=relu, alpha=0.0001, hidden_layer_sizes=(6, 13), solver=adam;, score=0.697 total time=   3.8s\n",
      "[CV 2/5] END activation=relu, alpha=0.0001, hidden_layer_sizes=(6, 13), solver=adam;, score=0.717 total time=   1.2s\n",
      "[CV 3/5] END activation=relu, alpha=0.0001, hidden_layer_sizes=(6, 13), solver=adam;, score=0.699 total time=   2.0s\n",
      "[CV 4/5] END activation=relu, alpha=0.0001, hidden_layer_sizes=(6, 13), solver=adam;, score=0.643 total time=   6.1s\n"
     ]
    },
    {
     "output_type": "stream",
     "name": "stderr",
     "text": [
      "/Users/mohamed/ZenAI-3YP/3yp_venv/lib/python3.10/site-packages/sklearn/neural_network/_multilayer_perceptron.py:536: ConvergenceWarning: lbfgs failed to converge (status=1):\n",
      "STOP: TOTAL NO. of ITERATIONS REACHED LIMIT.\n",
      "\n",
      "Increase the number of iterations (max_iter) or scale the data as shown in:\n",
      "    https://scikit-learn.org/stable/modules/preprocessing.html\n",
      "  self.n_iter_ = _check_optimize_result(\"lbfgs\", opt_res, self.max_iter)\n"
     ]
    },
    {
     "output_type": "stream",
     "name": "stdout",
     "text": [
      "[CV 4/5] END activation=logistic, alpha=0.0001, hidden_layer_sizes=(9, 6), solver=lbfgs;, score=0.747 total time=  25.8s\n"
     ]
    },
    {
     "output_type": "stream",
     "name": "stderr",
     "text": [
      "/Users/mohamed/ZenAI-3YP/3yp_venv/lib/python3.10/site-packages/sklearn/neural_network/_multilayer_perceptron.py:536: ConvergenceWarning: lbfgs failed to converge (status=1):\n",
      "STOP: TOTAL NO. of ITERATIONS REACHED LIMIT.\n",
      "\n",
      "Increase the number of iterations (max_iter) or scale the data as shown in:\n",
      "    https://scikit-learn.org/stable/modules/preprocessing.html\n",
      "  self.n_iter_ = _check_optimize_result(\"lbfgs\", opt_res, self.max_iter)\n"
     ]
    },
    {
     "output_type": "stream",
     "name": "stdout",
     "text": [
      "[CV 5/5] END activation=logistic, alpha=0.0001, hidden_layer_sizes=(9, 6), solver=lbfgs;, score=0.733 total time=  26.7s\n",
      "[CV 2/5] END activation=relu, alpha=0.0001, hidden_layer_sizes=(3, 14), solver=lbfgs;, score=0.225 total time=   0.4s\n",
      "[CV 1/5] END activation=relu, alpha=0.0001, hidden_layer_sizes=(3, 14), solver=lbfgs;, score=0.400 total time=   1.6s\n",
      "[CV 4/5] END activation=relu, alpha=0.0001, hidden_layer_sizes=(3, 14), solver=lbfgs;, score=0.226 total time=   0.0s\n",
      "[CV 3/5] END activation=relu, alpha=0.0001, hidden_layer_sizes=(3, 14), solver=lbfgs;, score=0.710 total time=   1.5s\n",
      "[CV 5/5] END activation=relu, alpha=0.0001, hidden_layer_sizes=(6, 13), solver=adam;, score=0.752 total time=   4.4s\n",
      "[CV 4/5] END activation=logistic, alpha=0.0001, hidden_layer_sizes=(11, 11), solver=lbfgs;, score=0.786 total time=  24.9s\n",
      "[CV 5/5] END activation=relu, alpha=0.0001, hidden_layer_sizes=(3, 14), solver=lbfgs;, score=0.621 total time=   2.0s\n",
      "[CV 1/5] END activation=relu, alpha=5e-05, hidden_layer_sizes=(14, 13), solver=adam;, score=0.725 total time=   1.8s\n",
      "[CV 3/5] END activation=relu, alpha=5e-05, hidden_layer_sizes=(14, 13), solver=adam;, score=0.777 total time=   1.5s\n",
      "[CV 2/5] END activation=relu, alpha=5e-05, hidden_layer_sizes=(14, 13), solver=adam;, score=0.683 total time=   2.4s\n",
      "[CV 4/5] END activation=relu, alpha=5e-05, hidden_layer_sizes=(14, 13), solver=adam;, score=0.805 total time=   2.1s\n",
      "[CV 1/5] END activation=logistic, alpha=0.0001, hidden_layer_sizes=(6, 1), solver=lbfgs;, score=0.392 total time=   1.2s\n",
      "[CV 1/5] END activation=logistic, alpha=0.0001, hidden_layer_sizes=(11, 11), solver=lbfgs;, score=0.683 total time=  29.9s\n"
     ]
    },
    {
     "output_type": "stream",
     "name": "stderr",
     "text": [
      "/Users/mohamed/ZenAI-3YP/3yp_venv/lib/python3.10/site-packages/sklearn/neural_network/_multilayer_perceptron.py:536: ConvergenceWarning: lbfgs failed to converge (status=1):\n",
      "STOP: TOTAL NO. of ITERATIONS REACHED LIMIT.\n",
      "\n",
      "Increase the number of iterations (max_iter) or scale the data as shown in:\n",
      "    https://scikit-learn.org/stable/modules/preprocessing.html\n",
      "  self.n_iter_ = _check_optimize_result(\"lbfgs\", opt_res, self.max_iter)\n"
     ]
    },
    {
     "output_type": "stream",
     "name": "stdout",
     "text": [
      "[CV 5/5] END activation=relu, alpha=5e-05, hidden_layer_sizes=(14, 13), solver=adam;, score=0.841 total time=   2.1s\n",
      "[CV 3/5] END activation=logistic, alpha=0.0001, hidden_layer_sizes=(11, 11), solver=lbfgs;, score=0.769 total time=  29.7s\n",
      "[CV 2/5] END activation=relu, alpha=0.0001, hidden_layer_sizes=(3, 4), solver=lbfgs;, score=0.225 total time=   0.0s\n",
      "[CV 1/5] END activation=relu, alpha=0.0001, hidden_layer_sizes=(3, 4), solver=lbfgs;, score=0.225 total time=   0.0s\n",
      "[CV 4/5] END activation=relu, alpha=0.0001, hidden_layer_sizes=(3, 4), solver=lbfgs;, score=0.226 total time=   0.0s\n"
     ]
    },
    {
     "output_type": "stream",
     "name": "stderr",
     "text": [
      "/Users/mohamed/ZenAI-3YP/3yp_venv/lib/python3.10/site-packages/sklearn/neural_network/_multilayer_perceptron.py:536: ConvergenceWarning: lbfgs failed to converge (status=1):\n",
      "STOP: TOTAL NO. of ITERATIONS REACHED LIMIT.\n",
      "\n",
      "Increase the number of iterations (max_iter) or scale the data as shown in:\n",
      "    https://scikit-learn.org/stable/modules/preprocessing.html\n",
      "  self.n_iter_ = _check_optimize_result(\"lbfgs\", opt_res, self.max_iter)\n"
     ]
    },
    {
     "output_type": "stream",
     "name": "stdout",
     "text": [
      "[CV 3/5] END activation=relu, alpha=0.0001, hidden_layer_sizes=(3, 4), solver=lbfgs;, score=0.373 total time=   0.2s\n",
      "[CV 2/5] END activation=logistic, alpha=0.0001, hidden_layer_sizes=(6, 1), solver=lbfgs;, score=0.392 total time=   1.6s\n",
      "[CV 5/5] END activation=relu, alpha=0.0001, hidden_layer_sizes=(3, 4), solver=lbfgs;, score=0.259 total time=   0.2s\n",
      "[CV 5/5] END activation=logistic, alpha=0.0001, hidden_layer_sizes=(11, 11), solver=lbfgs;, score=0.643 total time=  29.1s\n",
      "[CV 2/5] END activation=logistic, alpha=0.0001, hidden_layer_sizes=(11, 11), solver=lbfgs;, score=0.689 total time=  30.9s\n"
     ]
    },
    {
     "output_type": "stream",
     "name": "stderr",
     "text": [
      "/Users/mohamed/ZenAI-3YP/3yp_venv/lib/python3.10/site-packages/sklearn/neural_network/_multilayer_perceptron.py:536: ConvergenceWarning: lbfgs failed to converge (status=1):\n",
      "STOP: TOTAL NO. of ITERATIONS REACHED LIMIT.\n",
      "\n",
      "Increase the number of iterations (max_iter) or scale the data as shown in:\n",
      "    https://scikit-learn.org/stable/modules/preprocessing.html\n",
      "  self.n_iter_ = _check_optimize_result(\"lbfgs\", opt_res, self.max_iter)\n"
     ]
    },
    {
     "output_type": "stream",
     "name": "stdout",
     "text": [
      "[CV 4/5] END activation=logistic, alpha=0.0001, hidden_layer_sizes=(6, 1), solver=lbfgs;, score=0.485 total time=   2.2s\n",
      "[CV 3/5] END activation=logistic, alpha=0.0001, hidden_layer_sizes=(10, 1), solver=adam;, score=0.393 total time=   3.4s\n",
      "[CV 3/5] END activation=logistic, alpha=0.0001, hidden_layer_sizes=(6, 1), solver=lbfgs;, score=0.616 total time=   5.1s\n",
      "[CV 5/5] END activation=logistic, alpha=0.0001, hidden_layer_sizes=(10, 1), solver=adam;, score=0.465 total time=   3.0s\n",
      "[CV 2/5] END activation=logistic, alpha=0.0001, hidden_layer_sizes=(10, 1), solver=adam;, score=0.469 total time=   4.5s\n",
      "[CV 4/5] END activation=logistic, alpha=0.0001, hidden_layer_sizes=(10, 1), solver=adam;, score=0.373 total time=   4.2s\n",
      "[CV 1/5] END activation=logistic, alpha=0.0001, hidden_layer_sizes=(10, 1), solver=adam;, score=0.494 total time=   7.4s\n",
      "[CV 1/5] END activation=logistic, alpha=5e-05, hidden_layer_sizes=(14, 12), solver=adam;, score=0.711 total time=   4.3s\n",
      "[CV 2/5] END activation=logistic, alpha=5e-05, hidden_layer_sizes=(14, 12), solver=adam;, score=0.664 total time=   3.3s\n",
      "[CV 3/5] END activation=logistic, alpha=5e-05, hidden_layer_sizes=(14, 12), solver=adam;, score=0.813 total time=   3.8s\n",
      "[CV 4/5] END activation=logistic, alpha=5e-05, hidden_layer_sizes=(14, 12), solver=adam;, score=0.825 total time=   4.7s\n",
      "[CV 5/5] END activation=logistic, alpha=0.0001, hidden_layer_sizes=(6, 1), solver=lbfgs;, score=0.565 total time=  18.8s\n",
      "[CV 2/5] END activation=relu, alpha=5e-05, hidden_layer_sizes=(3, 6), solver=lbfgs;, score=0.225 total time=   0.0s\n",
      "[CV 3/5] END activation=relu, alpha=5e-05, hidden_layer_sizes=(3, 6), solver=lbfgs;, score=0.228 total time=   0.1s\n",
      "[CV 4/5] END activation=relu, alpha=5e-05, hidden_layer_sizes=(3, 6), solver=lbfgs;, score=0.312 total time=   0.3s\n",
      "[CV 5/5] END activation=logistic, alpha=5e-05, hidden_layer_sizes=(14, 12), solver=adam;, score=0.850 total time=   5.9s\n",
      "[CV 1/5] END activation=relu, alpha=5e-05, hidden_layer_sizes=(3, 6), solver=lbfgs;, score=0.647 total time=   4.1s\n",
      "[CV 5/5] END activation=relu, alpha=5e-05, hidden_layer_sizes=(3, 6), solver=lbfgs;, score=0.451 total time=   1.7s\n",
      "[CV 4/5] END activation=logistic, alpha=0.0001, hidden_layer_sizes=(11, 7), solver=lbfgs;, score=0.618 total time=  18.2s\n",
      "[CV 4/5] END activation=relu, alpha=0.0001, hidden_layer_sizes=(2, 3), solver=adam;, score=0.240 total time=   0.2s\n",
      "[CV 1/5] END activation=relu, alpha=0.0001, hidden_layer_sizes=(2, 3), solver=adam;, score=0.356 total time=   3.7s\n",
      "[CV 2/5] END activation=relu, alpha=0.0001, hidden_layer_sizes=(2, 3), solver=adam;, score=0.417 total time=   3.2s\n",
      "[CV 3/5] END activation=relu, alpha=0.0001, hidden_layer_sizes=(2, 3), solver=adam;, score=0.635 total time=   5.7s\n",
      "[CV 5/5] END activation=relu, alpha=0.0001, hidden_layer_sizes=(2, 3), solver=adam;, score=0.479 total time=   4.9s\n",
      "[CV 2/5] END activation=logistic, alpha=0.0001, hidden_layer_sizes=(13, 5), solver=adam;, score=0.650 total time=   5.3s\n",
      "[CV 1/5] END activation=logistic, alpha=0.0001, hidden_layer_sizes=(13, 5), solver=adam;, score=0.742 total time=   6.1s\n"
     ]
    },
    {
     "output_type": "stream",
     "name": "stderr",
     "text": [
      "/Users/mohamed/ZenAI-3YP/3yp_venv/lib/python3.10/site-packages/sklearn/neural_network/_multilayer_perceptron.py:536: ConvergenceWarning: lbfgs failed to converge (status=1):\n",
      "STOP: TOTAL NO. of ITERATIONS REACHED LIMIT.\n",
      "\n",
      "Increase the number of iterations (max_iter) or scale the data as shown in:\n",
      "    https://scikit-learn.org/stable/modules/preprocessing.html\n",
      "  self.n_iter_ = _check_optimize_result(\"lbfgs\", opt_res, self.max_iter)\n"
     ]
    },
    {
     "output_type": "stream",
     "name": "stdout",
     "text": [
      "[CV 1/5] END activation=logistic, alpha=0.0001, hidden_layer_sizes=(11, 7), solver=lbfgs;, score=0.639 total time=  28.4s\n",
      "[CV 3/5] END activation=logistic, alpha=0.0001, hidden_layer_sizes=(13, 5), solver=adam;, score=0.830 total time=   3.8s\n",
      "[CV 1/5] END activation=relu, alpha=0.0001, hidden_layer_sizes=(6, 7), solver=adam;, score=0.639 total time=   2.6s\n",
      "[CV 4/5] END activation=logistic, alpha=0.0001, hidden_layer_sizes=(13, 5), solver=adam;, score=0.827 total time=   4.2s\n",
      "[CV 5/5] END activation=logistic, alpha=0.0001, hidden_layer_sizes=(13, 5), solver=adam;, score=0.819 total time=   4.9s\n",
      "[CV 2/5] END activation=logistic, alpha=0.0001, hidden_layer_sizes=(11, 7), solver=lbfgs;, score=0.672 total time=  29.8s\n",
      "[CV 3/5] END activation=logistic, alpha=0.0001, hidden_layer_sizes=(11, 7), solver=lbfgs;, score=0.733 total time=  29.6s\n"
     ]
    },
    {
     "output_type": "stream",
     "name": "stderr",
     "text": [
      "/Users/mohamed/ZenAI-3YP/3yp_venv/lib/python3.10/site-packages/sklearn/neural_network/_multilayer_perceptron.py:536: ConvergenceWarning: lbfgs failed to converge (status=1):\n",
      "STOP: TOTAL NO. of ITERATIONS REACHED LIMIT.\n",
      "\n",
      "Increase the number of iterations (max_iter) or scale the data as shown in:\n",
      "    https://scikit-learn.org/stable/modules/preprocessing.html\n",
      "  self.n_iter_ = _check_optimize_result(\"lbfgs\", opt_res, self.max_iter)\n",
      "/Users/mohamed/ZenAI-3YP/3yp_venv/lib/python3.10/site-packages/sklearn/neural_network/_multilayer_perceptron.py:536: ConvergenceWarning: lbfgs failed to converge (status=1):\n",
      "STOP: TOTAL NO. of ITERATIONS REACHED LIMIT.\n",
      "\n",
      "Increase the number of iterations (max_iter) or scale the data as shown in:\n",
      "    https://scikit-learn.org/stable/modules/preprocessing.html\n",
      "  self.n_iter_ = _check_optimize_result(\"lbfgs\", opt_res, self.max_iter)\n",
      "/Users/mohamed/ZenAI-3YP/3yp_venv/lib/python3.10/site-packages/sklearn/neural_network/_multilayer_perceptron.py:536: ConvergenceWarning: lbfgs failed to converge (status=1):\n",
      "STOP: TOTAL NO. of ITERATIONS REACHED LIMIT.\n",
      "\n",
      "Increase the number of iterations (max_iter) or scale the data as shown in:\n",
      "    https://scikit-learn.org/stable/modules/preprocessing.html\n",
      "  self.n_iter_ = _check_optimize_result(\"lbfgs\", opt_res, self.max_iter)\n"
     ]
    },
    {
     "output_type": "stream",
     "name": "stdout",
     "text": [
      "[CV 5/5] END activation=logistic, alpha=0.0001, hidden_layer_sizes=(11, 7), solver=lbfgs;, score=0.744 total time=  30.3s\n",
      "[CV 3/5] END activation=relu, alpha=0.0001, hidden_layer_sizes=(6, 7), solver=adam;, score=0.476 total time=   5.4s\n",
      "[CV 2/5] END activation=relu, alpha=0.0001, hidden_layer_sizes=(6, 7), solver=adam;, score=0.631 total time=   6.0s\n",
      "[CV 5/5] END activation=relu, alpha=0.0001, hidden_layer_sizes=(6, 7), solver=adam;, score=0.744 total time=   4.7s\n",
      "[CV 4/5] END activation=relu, alpha=0.0001, hidden_layer_sizes=(6, 7), solver=adam;, score=0.758 total time=   5.6s\n",
      "[CV 2/5] END activation=logistic, alpha=0.0001, hidden_layer_sizes=(3, 1), solver=adam;, score=0.514 total time=   5.1s\n",
      "[CV 3/5] END activation=logistic, alpha=0.0001, hidden_layer_sizes=(3, 1), solver=adam;, score=0.535 total time=   5.8s\n",
      "[CV 1/5] END activation=relu, alpha=5e-05, hidden_layer_sizes=(11, 12), solver=adam;, score=0.744 total time=   3.7s\n",
      "[CV 2/5] END activation=relu, alpha=5e-05, hidden_layer_sizes=(11, 12), solver=adam;, score=0.653 total time=   3.4s\n",
      "[CV 3/5] END activation=relu, alpha=5e-05, hidden_layer_sizes=(11, 12), solver=adam;, score=0.830 total time=   2.8s\n",
      "[CV 4/5] END activation=relu, alpha=5e-05, hidden_layer_sizes=(11, 12), solver=adam;, score=0.816 total time=   1.5s\n",
      "[CV 4/5] END activation=logistic, alpha=0.0001, hidden_layer_sizes=(3, 1), solver=adam;, score=0.432 total time=   5.1s\n",
      "[CV 1/5] END activation=logistic, alpha=0.0001, hidden_layer_sizes=(3, 1), solver=adam;, score=0.461 total time=   7.0s\n",
      "[CV 1/5] END activation=relu, alpha=5e-05, hidden_layer_sizes=(3, 2), solver=adam;, score=0.344 total time=   0.9s\n",
      "[CV 5/5] END activation=logistic, alpha=0.0001, hidden_layer_sizes=(3, 1), solver=adam;, score=0.485 total time=   5.5s\n",
      "[CV 3/5] END activation=relu, alpha=0.0001, hidden_layer_sizes=(5, 12), solver=lbfgs;, score=0.228 total time=   0.0s\n",
      "[CV 3/5] END activation=relu, alpha=5e-05, hidden_layer_sizes=(3, 2), solver=adam;, score=0.228 total time=   1.0s\n",
      "[CV 5/5] END activation=relu, alpha=5e-05, hidden_layer_sizes=(11, 12), solver=adam;, score=0.791 total time=   1.8s\n",
      "[CV 1/5] END activation=relu, alpha=5e-05, hidden_layer_sizes=(1, 7), solver=lbfgs;, score=0.225 total time=   0.0s\n",
      "[CV 2/5] END activation=relu, alpha=5e-05, hidden_layer_sizes=(1, 7), solver=lbfgs;, score=0.450 total time=   0.3s\n",
      "[CV 3/5] END activation=relu, alpha=5e-05, hidden_layer_sizes=(1, 7), solver=lbfgs;, score=0.228 total time=   0.0s\n",
      "[CV 4/5] END activation=relu, alpha=5e-05, hidden_layer_sizes=(1, 7), solver=lbfgs;, score=0.226 total time=   0.0s\n",
      "[CV 5/5] END activation=relu, alpha=5e-05, hidden_layer_sizes=(1, 7), solver=lbfgs;, score=0.226 total time=   0.0s\n",
      "[CV 2/5] END activation=relu, alpha=0.0001, hidden_layer_sizes=(5, 12), solver=lbfgs;, score=0.636 total time=   1.8s\n",
      "[CV 4/5] END activation=relu, alpha=0.0001, hidden_layer_sizes=(5, 12), solver=lbfgs;, score=0.568 total time=   2.9s\n",
      "[CV 5/5] END activation=relu, alpha=5e-05, hidden_layer_sizes=(3, 2), solver=adam;, score=0.526 total time=   4.0s\n",
      "[CV 5/5] END activation=relu, alpha=0.0001, hidden_layer_sizes=(5, 12), solver=lbfgs;, score=0.680 total time=   4.6s\n",
      "[CV 1/5] END activation=relu, alpha=0.0001, hidden_layer_sizes=(8, 9), solver=adam;, score=0.633 total time=   4.4s\n",
      "[CV 2/5] END activation=relu, alpha=5e-05, hidden_layer_sizes=(3, 2), solver=adam;, score=0.564 total time=   6.8s\n",
      "[CV 4/5] END activation=relu, alpha=5e-05, hidden_layer_sizes=(3, 2), solver=adam;, score=0.713 total time=   6.5s\n",
      "[CV 2/5] END activation=relu, alpha=0.0001, hidden_layer_sizes=(8, 9), solver=adam;, score=0.675 total time=   4.5s\n",
      "[CV 3/5] END activation=relu, alpha=0.0001, hidden_layer_sizes=(8, 9), solver=adam;, score=0.730 total time=   3.0s\n",
      "[CV 4/5] END activation=relu, alpha=0.0001, hidden_layer_sizes=(8, 9), solver=adam;, score=0.733 total time=   3.2s\n",
      "[CV 2/5] END activation=logistic, alpha=0.0001, hidden_layer_sizes=(7, 2), solver=lbfgs;, score=0.381 total time=   1.7s\n",
      "[CV 5/5] END activation=relu, alpha=0.0001, hidden_layer_sizes=(8, 9), solver=adam;, score=0.769 total time=   3.0s\n",
      "[CV 3/5] END activation=logistic, alpha=5e-05, hidden_layer_sizes=(2, 5), solver=lbfgs;, score=0.401 total time=   1.0s\n",
      "[CV 1/5] END activation=relu, alpha=0.0001, hidden_layer_sizes=(5, 12), solver=lbfgs;, score=0.706 total time=   9.6s\n",
      "[CV 5/5] END activation=logistic, alpha=5e-05, hidden_layer_sizes=(2, 5), solver=lbfgs;, score=0.357 total time=   2.0s\n",
      "[CV 4/5] END activation=logistic, alpha=5e-05, hidden_layer_sizes=(2, 5), solver=lbfgs;, score=0.471 total time=   4.5s\n",
      "[CV 2/5] END activation=logistic, alpha=5e-05, hidden_layer_sizes=(2, 5), solver=lbfgs;, score=0.508 total time=   6.4s\n",
      "[CV 5/5] END activation=logistic, alpha=0.0001, hidden_layer_sizes=(7, 2), solver=lbfgs;, score=0.396 total time=   8.1s\n",
      "[CV 3/5] END activation=logistic, alpha=0.0001, hidden_layer_sizes=(7, 2), solver=lbfgs;, score=0.666 total time=  11.1s\n",
      "[CV 4/5] END activation=logistic, alpha=0.0001, hidden_layer_sizes=(7, 2), solver=lbfgs;, score=0.627 total time=  12.0s\n",
      "[CV 1/5] END activation=logistic, alpha=0.0001, hidden_layer_sizes=(7, 2), solver=lbfgs;, score=0.719 total time=  13.3s\n",
      "[CV 1/5] END activation=logistic, alpha=5e-05, hidden_layer_sizes=(2, 5), solver=lbfgs;, score=0.525 total time=  14.6s\n",
      "[CV 1/5] END activation=logistic, alpha=0.0001, hidden_layer_sizes=(9, 5), solver=adam;, score=0.717 total time=   4.7s\n",
      "[CV 2/5] END activation=logistic, alpha=0.0001, hidden_layer_sizes=(9, 5), solver=adam;, score=0.700 total time=   4.5s\n",
      "[CV 3/5] END activation=logistic, alpha=0.0001, hidden_layer_sizes=(9, 5), solver=adam;, score=0.813 total time=   3.9s\n",
      "[CV 5/5] END activation=logistic, alpha=0.0001, hidden_layer_sizes=(9, 5), solver=adam;, score=0.811 total time=   4.2s\n",
      "[CV 4/5] END activation=logistic, alpha=0.0001, hidden_layer_sizes=(9, 5), solver=adam;, score=0.735 total time=   7.7s\n",
      "[CV 2/5] END activation=logistic, alpha=0.0001, hidden_layer_sizes=(3, 13), solver=lbfgs;, score=0.503 total time=   6.2s\n",
      "[CV 4/5] END activation=logistic, alpha=0.0001, hidden_layer_sizes=(3, 13), solver=lbfgs;, score=0.226 total time=   0.2s\n",
      "[CV 1/5] END activation=logistic, alpha=0.0001, hidden_layer_sizes=(3, 13), solver=lbfgs;, score=0.367 total time=   8.7s\n",
      "[CV 1/5] END activation=logistic, alpha=0.0001, hidden_layer_sizes=(2, 9), solver=lbfgs;, score=0.236 total time=   2.9s\n"
     ]
    },
    {
     "output_type": "stream",
     "name": "stderr",
     "text": [
      "/Users/mohamed/ZenAI-3YP/3yp_venv/lib/python3.10/site-packages/sklearn/neural_network/_multilayer_perceptron.py:536: ConvergenceWarning: lbfgs failed to converge (status=1):\n",
      "STOP: TOTAL NO. of ITERATIONS REACHED LIMIT.\n",
      "\n",
      "Increase the number of iterations (max_iter) or scale the data as shown in:\n",
      "    https://scikit-learn.org/stable/modules/preprocessing.html\n",
      "  self.n_iter_ = _check_optimize_result(\"lbfgs\", opt_res, self.max_iter)\n"
     ]
    },
    {
     "output_type": "stream",
     "name": "stdout",
     "text": [
      "[CV 1/5] END activation=logistic, alpha=0.0001, hidden_layer_sizes=(12, 11), solver=lbfgs;, score=0.667 total time=  34.3s\n"
     ]
    },
    {
     "output_type": "stream",
     "name": "stderr",
     "text": [
      "/Users/mohamed/ZenAI-3YP/3yp_venv/lib/python3.10/site-packages/sklearn/neural_network/_multilayer_perceptron.py:536: ConvergenceWarning: lbfgs failed to converge (status=1):\n",
      "STOP: TOTAL NO. of ITERATIONS REACHED LIMIT.\n",
      "\n",
      "Increase the number of iterations (max_iter) or scale the data as shown in:\n",
      "    https://scikit-learn.org/stable/modules/preprocessing.html\n",
      "  self.n_iter_ = _check_optimize_result(\"lbfgs\", opt_res, self.max_iter)\n"
     ]
    },
    {
     "output_type": "stream",
     "name": "stdout",
     "text": [
      "[CV 2/5] END activation=logistic, alpha=0.0001, hidden_layer_sizes=(12, 11), solver=lbfgs;, score=0.669 total time=  33.8s\n",
      "[CV 4/5] END activation=logistic, alpha=0.0001, hidden_layer_sizes=(2, 9), solver=lbfgs;, score=0.226 total time=   0.0s\n"
     ]
    },
    {
     "output_type": "stream",
     "name": "stderr",
     "text": [
      "/Users/mohamed/ZenAI-3YP/3yp_venv/lib/python3.10/site-packages/sklearn/neural_network/_multilayer_perceptron.py:536: ConvergenceWarning: lbfgs failed to converge (status=1):\n",
      "STOP: TOTAL NO. of ITERATIONS REACHED LIMIT.\n",
      "\n",
      "Increase the number of iterations (max_iter) or scale the data as shown in:\n",
      "    https://scikit-learn.org/stable/modules/preprocessing.html\n",
      "  self.n_iter_ = _check_optimize_result(\"lbfgs\", opt_res, self.max_iter)\n"
     ]
    },
    {
     "output_type": "stream",
     "name": "stdout",
     "text": [
      "[CV 4/5] END activation=logistic, alpha=0.0001, hidden_layer_sizes=(12, 11), solver=lbfgs;, score=0.677 total time=  34.4s\n"
     ]
    },
    {
     "output_type": "stream",
     "name": "stderr",
     "text": [
      "/Users/mohamed/ZenAI-3YP/3yp_venv/lib/python3.10/site-packages/sklearn/neural_network/_multilayer_perceptron.py:536: ConvergenceWarning: lbfgs failed to converge (status=1):\n",
      "STOP: TOTAL NO. of ITERATIONS REACHED LIMIT.\n",
      "\n",
      "Increase the number of iterations (max_iter) or scale the data as shown in:\n",
      "    https://scikit-learn.org/stable/modules/preprocessing.html\n",
      "  self.n_iter_ = _check_optimize_result(\"lbfgs\", opt_res, self.max_iter)\n"
     ]
    },
    {
     "output_type": "stream",
     "name": "stdout",
     "text": [
      "[CV 3/5] END activation=logistic, alpha=0.0001, hidden_layer_sizes=(12, 11), solver=lbfgs;, score=0.811 total time=  35.1s\n",
      "[CV 5/5] END activation=logistic, alpha=0.0001, hidden_layer_sizes=(2, 9), solver=lbfgs;, score=0.370 total time=   2.1s\n",
      "[CV 3/5] END activation=logistic, alpha=0.0001, hidden_layer_sizes=(3, 13), solver=lbfgs;, score=0.685 total time=  20.0s\n",
      "[CV 4/5] END activation=logistic, alpha=0.0001, hidden_layer_sizes=(2, 14), solver=adam;, score=0.226 total time=   0.2s\n",
      "[CV 2/5] END activation=logistic, alpha=0.0001, hidden_layer_sizes=(2, 9), solver=lbfgs;, score=0.217 total time=  13.9s\n",
      "[CV 1/5] END activation=relu, alpha=5e-05, hidden_layer_sizes=(2, 9), solver=lbfgs;, score=0.225 total time=   0.0s\n",
      "[CV 2/5] END activation=relu, alpha=5e-05, hidden_layer_sizes=(2, 9), solver=lbfgs;, score=0.225 total time=   0.0s\n",
      "[CV 3/5] END activation=relu, alpha=5e-05, hidden_layer_sizes=(2, 9), solver=lbfgs;, score=0.228 total time=   0.0s\n"
     ]
    },
    {
     "output_type": "stream",
     "name": "stderr",
     "text": [
      "/Users/mohamed/ZenAI-3YP/3yp_venv/lib/python3.10/site-packages/sklearn/neural_network/_multilayer_perceptron.py:536: ConvergenceWarning: lbfgs failed to converge (status=1):\n",
      "STOP: TOTAL NO. of ITERATIONS REACHED LIMIT.\n",
      "\n",
      "Increase the number of iterations (max_iter) or scale the data as shown in:\n",
      "    https://scikit-learn.org/stable/modules/preprocessing.html\n",
      "  self.n_iter_ = _check_optimize_result(\"lbfgs\", opt_res, self.max_iter)\n"
     ]
    },
    {
     "output_type": "stream",
     "name": "stdout",
     "text": [
      "[CV 5/5] END activation=logistic, alpha=0.0001, hidden_layer_sizes=(12, 11), solver=lbfgs;, score=0.786 total time=  34.3s\n",
      "[CV 5/5] END activation=relu, alpha=5e-05, hidden_layer_sizes=(2, 9), solver=lbfgs;, score=0.226 total time=   0.0s\n",
      "[CV 2/5] END activation=logistic, alpha=0.0001, hidden_layer_sizes=(2, 14), solver=adam;, score=0.475 total time=   3.1s\n",
      "[CV 4/5] END activation=relu, alpha=5e-05, hidden_layer_sizes=(2, 9), solver=lbfgs;, score=0.568 total time=   1.8s\n",
      "[CV 5/5] END activation=logistic, alpha=0.0001, hidden_layer_sizes=(2, 14), solver=adam;, score=0.443 total time=   2.5s\n",
      "[CV 3/5] END activation=logistic, alpha=0.0001, hidden_layer_sizes=(2, 14), solver=adam;, score=0.599 total time=   4.0s\n",
      "[CV 1/5] END activation=logistic, alpha=0.0001, hidden_layer_sizes=(2, 14), solver=adam;, score=0.472 total time=   4.7s\n",
      "[CV 1/5] END activation=relu, alpha=0.0001, hidden_layer_sizes=(11, 6), solver=lbfgs;, score=0.567 total time=   4.9s\n",
      "[CV 2/5] END activation=relu, alpha=0.0001, hidden_layer_sizes=(11, 6), solver=lbfgs;, score=0.661 total time=   2.3s\n"
     ]
    },
    {
     "output_type": "stream",
     "name": "stderr",
     "text": [
      "/Users/mohamed/ZenAI-3YP/3yp_venv/lib/python3.10/site-packages/sklearn/neural_network/_multilayer_perceptron.py:536: ConvergenceWarning: lbfgs failed to converge (status=1):\n",
      "STOP: TOTAL NO. of ITERATIONS REACHED LIMIT.\n",
      "\n",
      "Increase the number of iterations (max_iter) or scale the data as shown in:\n",
      "    https://scikit-learn.org/stable/modules/preprocessing.html\n",
      "  self.n_iter_ = _check_optimize_result(\"lbfgs\", opt_res, self.max_iter)\n"
     ]
    },
    {
     "output_type": "stream",
     "name": "stdout",
     "text": [
      "[CV 5/5] END activation=logistic, alpha=0.0001, hidden_layer_sizes=(3, 13), solver=lbfgs;, score=0.493 total time=  29.0s\n",
      "[CV 3/5] END activation=relu, alpha=0.0001, hidden_layer_sizes=(11, 6), solver=lbfgs;, score=0.819 total time=   3.8s\n",
      "[CV 4/5] END activation=relu, alpha=0.0001, hidden_layer_sizes=(11, 6), solver=lbfgs;, score=0.752 total time=   3.1s\n",
      "[CV 5/5] END activation=relu, alpha=0.0001, hidden_layer_sizes=(11, 6), solver=lbfgs;, score=0.772 total time=   3.3s\n"
     ]
    },
    {
     "output_type": "stream",
     "name": "stderr",
     "text": [
      "/Users/mohamed/ZenAI-3YP/3yp_venv/lib/python3.10/site-packages/sklearn/neural_network/_multilayer_perceptron.py:536: ConvergenceWarning: lbfgs failed to converge (status=1):\n",
      "STOP: TOTAL NO. of ITERATIONS REACHED LIMIT.\n",
      "\n",
      "Increase the number of iterations (max_iter) or scale the data as shown in:\n",
      "    https://scikit-learn.org/stable/modules/preprocessing.html\n",
      "  self.n_iter_ = _check_optimize_result(\"lbfgs\", opt_res, self.max_iter)\n"
     ]
    },
    {
     "output_type": "stream",
     "name": "stdout",
     "text": [
      "[CV 3/5] END activation=logistic, alpha=0.0001, hidden_layer_sizes=(2, 9), solver=lbfgs;, score=0.635 total time=  25.9s\n"
     ]
    },
    {
     "output_type": "stream",
     "name": "stderr",
     "text": [
      "/Users/mohamed/ZenAI-3YP/3yp_venv/lib/python3.10/site-packages/sklearn/neural_network/_multilayer_perceptron.py:536: ConvergenceWarning: lbfgs failed to converge (status=1):\n",
      "STOP: TOTAL NO. of ITERATIONS REACHED LIMIT.\n",
      "\n",
      "Increase the number of iterations (max_iter) or scale the data as shown in:\n",
      "    https://scikit-learn.org/stable/modules/preprocessing.html\n",
      "  self.n_iter_ = _check_optimize_result(\"lbfgs\", opt_res, self.max_iter)\n"
     ]
    },
    {
     "output_type": "stream",
     "name": "stdout",
     "text": [
      "[CV 1/5] END activation=logistic, alpha=0.0001, hidden_layer_sizes=(12, 13), solver=lbfgs;, score=0.731 total time=  35.9s\n"
     ]
    },
    {
     "output_type": "stream",
     "name": "stderr",
     "text": [
      "/Users/mohamed/ZenAI-3YP/3yp_venv/lib/python3.10/site-packages/sklearn/neural_network/_multilayer_perceptron.py:536: ConvergenceWarning: lbfgs failed to converge (status=1):\n",
      "STOP: TOTAL NO. of ITERATIONS REACHED LIMIT.\n",
      "\n",
      "Increase the number of iterations (max_iter) or scale the data as shown in:\n",
      "    https://scikit-learn.org/stable/modules/preprocessing.html\n",
      "  self.n_iter_ = _check_optimize_result(\"lbfgs\", opt_res, self.max_iter)\n"
     ]
    },
    {
     "output_type": "stream",
     "name": "stdout",
     "text": [
      "[CV 3/5] END activation=logistic, alpha=0.0001, hidden_layer_sizes=(12, 13), solver=lbfgs;, score=0.735 total time=  36.1s\n",
      "[CV 3/5] END activation=logistic, alpha=0.0001, hidden_layer_sizes=(7, 8), solver=lbfgs;, score=0.680 total time=  17.4s\n"
     ]
    },
    {
     "output_type": "stream",
     "name": "stderr",
     "text": [
      "/Users/mohamed/ZenAI-3YP/3yp_venv/lib/python3.10/site-packages/sklearn/neural_network/_multilayer_perceptron.py:536: ConvergenceWarning: lbfgs failed to converge (status=1):\n",
      "STOP: TOTAL NO. of ITERATIONS REACHED LIMIT.\n",
      "\n",
      "Increase the number of iterations (max_iter) or scale the data as shown in:\n",
      "    https://scikit-learn.org/stable/modules/preprocessing.html\n",
      "  self.n_iter_ = _check_optimize_result(\"lbfgs\", opt_res, self.max_iter)\n"
     ]
    },
    {
     "output_type": "stream",
     "name": "stdout",
     "text": [
      "[CV 2/5] END activation=logistic, alpha=0.0001, hidden_layer_sizes=(12, 13), solver=lbfgs;, score=0.700 total time=  38.1s\n"
     ]
    },
    {
     "output_type": "stream",
     "name": "stderr",
     "text": [
      "/Users/mohamed/ZenAI-3YP/3yp_venv/lib/python3.10/site-packages/sklearn/neural_network/_multilayer_perceptron.py:536: ConvergenceWarning: lbfgs failed to converge (status=1):\n",
      "STOP: TOTAL NO. of ITERATIONS REACHED LIMIT.\n",
      "\n",
      "Increase the number of iterations (max_iter) or scale the data as shown in:\n",
      "    https://scikit-learn.org/stable/modules/preprocessing.html\n",
      "  self.n_iter_ = _check_optimize_result(\"lbfgs\", opt_res, self.max_iter)\n"
     ]
    },
    {
     "output_type": "stream",
     "name": "stdout",
     "text": [
      "[CV 5/5] END activation=logistic, alpha=0.0001, hidden_layer_sizes=(12, 13), solver=lbfgs;, score=0.741 total time=  37.2s\n"
     ]
    },
    {
     "output_type": "stream",
     "name": "stderr",
     "text": [
      "/Users/mohamed/ZenAI-3YP/3yp_venv/lib/python3.10/site-packages/sklearn/neural_network/_multilayer_perceptron.py:536: ConvergenceWarning: lbfgs failed to converge (status=1):\n",
      "STOP: TOTAL NO. of ITERATIONS REACHED LIMIT.\n",
      "\n",
      "Increase the number of iterations (max_iter) or scale the data as shown in:\n",
      "    https://scikit-learn.org/stable/modules/preprocessing.html\n",
      "  self.n_iter_ = _check_optimize_result(\"lbfgs\", opt_res, self.max_iter)\n"
     ]
    },
    {
     "output_type": "stream",
     "name": "stdout",
     "text": [
      "[CV 4/5] END activation=logistic, alpha=0.0001, hidden_layer_sizes=(12, 13), solver=lbfgs;, score=0.680 total time=  37.8s\n",
      "[CV 1/5] END activation=relu, alpha=0.0001, hidden_layer_sizes=(8, 12), solver=lbfgs;, score=0.581 total time=   2.9s\n",
      "[CV 4/5] END activation=relu, alpha=0.0001, hidden_layer_sizes=(8, 12), solver=lbfgs;, score=0.591 total time=   3.2s\n",
      "[CV 2/5] END activation=relu, alpha=0.0001, hidden_layer_sizes=(8, 12), solver=lbfgs;, score=0.556 total time=   4.3s\n"
     ]
    },
    {
     "output_type": "stream",
     "name": "stderr",
     "text": [
      "/Users/mohamed/ZenAI-3YP/3yp_venv/lib/python3.10/site-packages/sklearn/neural_network/_multilayer_perceptron.py:536: ConvergenceWarning: lbfgs failed to converge (status=1):\n",
      "STOP: TOTAL NO. of ITERATIONS REACHED LIMIT.\n",
      "\n",
      "Increase the number of iterations (max_iter) or scale the data as shown in:\n",
      "    https://scikit-learn.org/stable/modules/preprocessing.html\n",
      "  self.n_iter_ = _check_optimize_result(\"lbfgs\", opt_res, self.max_iter)\n"
     ]
    },
    {
     "output_type": "stream",
     "name": "stdout",
     "text": [
      "[CV 1/5] END activation=logistic, alpha=0.0001, hidden_layer_sizes=(7, 8), solver=lbfgs;, score=0.597 total time=  29.8s\n",
      "[CV 5/5] END activation=relu, alpha=0.0001, hidden_layer_sizes=(8, 12), solver=lbfgs;, score=0.872 total time=   4.6s\n"
     ]
    },
    {
     "output_type": "stream",
     "name": "stderr",
     "text": [
      "/Users/mohamed/ZenAI-3YP/3yp_venv/lib/python3.10/site-packages/sklearn/neural_network/_multilayer_perceptron.py:536: ConvergenceWarning: lbfgs failed to converge (status=1):\n",
      "STOP: TOTAL NO. of ITERATIONS REACHED LIMIT.\n",
      "\n",
      "Increase the number of iterations (max_iter) or scale the data as shown in:\n",
      "    https://scikit-learn.org/stable/modules/preprocessing.html\n",
      "  self.n_iter_ = _check_optimize_result(\"lbfgs\", opt_res, self.max_iter)\n"
     ]
    },
    {
     "output_type": "stream",
     "name": "stdout",
     "text": [
      "[CV 2/5] END activation=logistic, alpha=0.0001, hidden_layer_sizes=(7, 8), solver=lbfgs;, score=0.672 total time=  29.6s\n",
      "[CV 3/5] END activation=relu, alpha=0.0001, hidden_layer_sizes=(8, 12), solver=lbfgs;, score=0.671 total time=   7.1s\n",
      "[CV 1/5] END activation=relu, alpha=0.0001, hidden_layer_sizes=(7, 5), solver=lbfgs;, score=0.619 total time=   4.4s\n",
      "[CV 2/5] END activation=relu, alpha=0.0001, hidden_layer_sizes=(7, 5), solver=lbfgs;, score=0.517 total time=   1.4s\n",
      "[CV 2/5] END activation=logistic, alpha=5e-05, hidden_layer_sizes=(7, 10), solver=lbfgs;, score=0.433 total time=   9.5s\n",
      "[CV 5/5] END activation=logistic, alpha=0.0001, hidden_layer_sizes=(7, 8), solver=lbfgs;, score=0.730 total time=  15.9s\n",
      "[CV 5/5] END activation=relu, alpha=0.0001, hidden_layer_sizes=(7, 5), solver=lbfgs;, score=0.318 total time=   0.9s\n",
      "[CV 4/5] END activation=relu, alpha=0.0001, hidden_layer_sizes=(7, 5), solver=lbfgs;, score=0.443 total time=   2.0s\n",
      "[CV 3/5] END activation=relu, alpha=0.0001, hidden_layer_sizes=(7, 5), solver=lbfgs;, score=0.560 total time=   2.8s\n",
      "[CV 3/5] END activation=logistic, alpha=0.0001, hidden_layer_sizes=(11, 8), solver=adam;, score=0.816 total time=   2.8s\n",
      "[CV 1/5] END activation=logistic, alpha=0.0001, hidden_layer_sizes=(11, 8), solver=adam;, score=0.733 total time=   3.7s\n",
      "[CV 2/5] END activation=logistic, alpha=0.0001, hidden_layer_sizes=(11, 8), solver=adam;, score=0.697 total time=   3.2s\n",
      "[CV 4/5] END activation=logistic, alpha=0.0001, hidden_layer_sizes=(7, 8), solver=lbfgs;, score=0.546 total time=  24.1s\n",
      "[CV 5/5] END activation=logistic, alpha=0.0001, hidden_layer_sizes=(11, 8), solver=adam;, score=0.844 total time=   3.0s\n",
      "[CV 1/5] END activation=logistic, alpha=5e-05, hidden_layer_sizes=(13, 14), solver=adam;, score=0.672 total time=   3.3s\n",
      "[CV 4/5] END activation=logistic, alpha=0.0001, hidden_layer_sizes=(11, 8), solver=adam;, score=0.774 total time=   3.8s\n",
      "[CV 2/5] END activation=logistic, alpha=5e-05, hidden_layer_sizes=(13, 14), solver=adam;, score=0.708 total time=   2.7s\n",
      "[CV 3/5] END activation=logistic, alpha=5e-05, hidden_layer_sizes=(13, 14), solver=adam;, score=0.822 total time=   2.7s\n",
      "[CV 5/5] END activation=logistic, alpha=5e-05, hidden_layer_sizes=(13, 14), solver=adam;, score=0.819 total time=   2.8s\n",
      "[CV 5/5] END activation=logistic, alpha=5e-05, hidden_layer_sizes=(7, 10), solver=lbfgs;, score=0.568 total time=  18.7s\n",
      "[CV 4/5] END activation=logistic, alpha=5e-05, hidden_layer_sizes=(13, 14), solver=adam;, score=0.752 total time=   3.7s\n"
     ]
    },
    {
     "output_type": "stream",
     "name": "stderr",
     "text": [
      "/Users/mohamed/ZenAI-3YP/3yp_venv/lib/python3.10/site-packages/sklearn/neural_network/_multilayer_perceptron.py:536: ConvergenceWarning: lbfgs failed to converge (status=1):\n",
      "STOP: TOTAL NO. of ITERATIONS REACHED LIMIT.\n",
      "\n",
      "Increase the number of iterations (max_iter) or scale the data as shown in:\n",
      "    https://scikit-learn.org/stable/modules/preprocessing.html\n",
      "  self.n_iter_ = _check_optimize_result(\"lbfgs\", opt_res, self.max_iter)\n"
     ]
    },
    {
     "output_type": "stream",
     "name": "stdout",
     "text": [
      "[CV 1/5] END activation=logistic, alpha=5e-05, hidden_layer_sizes=(7, 10), solver=lbfgs;, score=0.578 total time=  26.8s\n"
     ]
    },
    {
     "output_type": "stream",
     "name": "stderr",
     "text": [
      "/Users/mohamed/ZenAI-3YP/3yp_venv/lib/python3.10/site-packages/sklearn/neural_network/_multilayer_perceptron.py:536: ConvergenceWarning: lbfgs failed to converge (status=1):\n",
      "STOP: TOTAL NO. of ITERATIONS REACHED LIMIT.\n",
      "\n",
      "Increase the number of iterations (max_iter) or scale the data as shown in:\n",
      "    https://scikit-learn.org/stable/modules/preprocessing.html\n",
      "  self.n_iter_ = _check_optimize_result(\"lbfgs\", opt_res, self.max_iter)\n"
     ]
    },
    {
     "output_type": "stream",
     "name": "stdout",
     "text": [
      "[CV 3/5] END activation=logistic, alpha=5e-05, hidden_layer_sizes=(7, 10), solver=lbfgs;, score=0.730 total time=  26.7s\n"
     ]
    },
    {
     "output_type": "stream",
     "name": "stderr",
     "text": [
      "/Users/mohamed/ZenAI-3YP/3yp_venv/lib/python3.10/site-packages/sklearn/neural_network/_multilayer_perceptron.py:536: ConvergenceWarning: lbfgs failed to converge (status=1):\n",
      "STOP: TOTAL NO. of ITERATIONS REACHED LIMIT.\n",
      "\n",
      "Increase the number of iterations (max_iter) or scale the data as shown in:\n",
      "    https://scikit-learn.org/stable/modules/preprocessing.html\n",
      "  self.n_iter_ = _check_optimize_result(\"lbfgs\", opt_res, self.max_iter)\n"
     ]
    },
    {
     "output_type": "stream",
     "name": "stdout",
     "text": [
      "[CV 4/5] END activation=logistic, alpha=5e-05, hidden_layer_sizes=(7, 10), solver=lbfgs;, score=0.783 total time=  26.3s\n"
     ]
    },
    {
     "output_type": "stream",
     "name": "stderr",
     "text": [
      "/Users/mohamed/ZenAI-3YP/3yp_venv/lib/python3.10/site-packages/sklearn/neural_network/_multilayer_perceptron.py:536: ConvergenceWarning: lbfgs failed to converge (status=1):\n",
      "STOP: TOTAL NO. of ITERATIONS REACHED LIMIT.\n",
      "\n",
      "Increase the number of iterations (max_iter) or scale the data as shown in:\n",
      "    https://scikit-learn.org/stable/modules/preprocessing.html\n",
      "  self.n_iter_ = _check_optimize_result(\"lbfgs\", opt_res, self.max_iter)\n"
     ]
    },
    {
     "output_type": "stream",
     "name": "stdout",
     "text": [
      "[CV 3/5] END activation=logistic, alpha=0.0001, hidden_layer_sizes=(9, 7), solver=lbfgs;, score=0.811 total time=  21.2s\n"
     ]
    },
    {
     "output_type": "stream",
     "name": "stderr",
     "text": [
      "/Users/mohamed/ZenAI-3YP/3yp_venv/lib/python3.10/site-packages/sklearn/neural_network/_multilayer_perceptron.py:536: ConvergenceWarning: lbfgs failed to converge (status=1):\n",
      "STOP: TOTAL NO. of ITERATIONS REACHED LIMIT.\n",
      "\n",
      "Increase the number of iterations (max_iter) or scale the data as shown in:\n",
      "    https://scikit-learn.org/stable/modules/preprocessing.html\n",
      "  self.n_iter_ = _check_optimize_result(\"lbfgs\", opt_res, self.max_iter)\n",
      "/Users/mohamed/ZenAI-3YP/3yp_venv/lib/python3.10/site-packages/sklearn/neural_network/_multilayer_perceptron.py:536: ConvergenceWarning: lbfgs failed to converge (status=1):\n",
      "STOP: TOTAL NO. of ITERATIONS REACHED LIMIT.\n",
      "\n",
      "Increase the number of iterations (max_iter) or scale the data as shown in:\n",
      "    https://scikit-learn.org/stable/modules/preprocessing.html\n",
      "  self.n_iter_ = _check_optimize_result(\"lbfgs\", opt_res, self.max_iter)\n"
     ]
    },
    {
     "output_type": "stream",
     "name": "stdout",
     "text": [
      "[CV 1/5] END activation=logistic, alpha=0.0001, hidden_layer_sizes=(9, 7), solver=lbfgs;, score=0.622 total time=  23.3s\n",
      "[CV 2/5] END activation=logistic, alpha=0.0001, hidden_layer_sizes=(9, 7), solver=lbfgs;, score=0.703 total time=  22.4s\n"
     ]
    },
    {
     "output_type": "stream",
     "name": "stderr",
     "text": [
      "/Users/mohamed/ZenAI-3YP/3yp_venv/lib/python3.10/site-packages/sklearn/neural_network/_multilayer_perceptron.py:536: ConvergenceWarning: lbfgs failed to converge (status=1):\n",
      "STOP: TOTAL NO. of ITERATIONS REACHED LIMIT.\n",
      "\n",
      "Increase the number of iterations (max_iter) or scale the data as shown in:\n",
      "    https://scikit-learn.org/stable/modules/preprocessing.html\n",
      "  self.n_iter_ = _check_optimize_result(\"lbfgs\", opt_res, self.max_iter)\n"
     ]
    },
    {
     "output_type": "stream",
     "name": "stdout",
     "text": [
      "[CV 4/5] END activation=logistic, alpha=0.0001, hidden_layer_sizes=(9, 7), solver=lbfgs;, score=0.774 total time=  21.5s\n"
     ]
    },
    {
     "output_type": "stream",
     "name": "stderr",
     "text": [
      "/Users/mohamed/ZenAI-3YP/3yp_venv/lib/python3.10/site-packages/sklearn/neural_network/_multilayer_perceptron.py:536: ConvergenceWarning: lbfgs failed to converge (status=1):\n",
      "STOP: TOTAL NO. of ITERATIONS REACHED LIMIT.\n",
      "\n",
      "Increase the number of iterations (max_iter) or scale the data as shown in:\n",
      "    https://scikit-learn.org/stable/modules/preprocessing.html\n",
      "  self.n_iter_ = _check_optimize_result(\"lbfgs\", opt_res, self.max_iter)\n"
     ]
    },
    {
     "output_type": "stream",
     "name": "stdout",
     "text": [
      "[CV 5/5] END activation=logistic, alpha=0.0001, hidden_layer_sizes=(9, 7), solver=lbfgs;, score=0.752 total time=  22.7s\n",
      "[CV 1/5] END activation=relu, alpha=0.0001, hidden_layer_sizes=(9, 6), solver=adam;, score=0.703 total time=   3.7s\n",
      "[CV 3/5] END activation=logistic, alpha=0.0001, hidden_layer_sizes=(13, 3), solver=lbfgs;, score=0.699 total time=  19.3s\n"
     ]
    },
    {
     "output_type": "stream",
     "name": "stderr",
     "text": [
      "/Users/mohamed/ZenAI-3YP/3yp_venv/lib/python3.10/site-packages/sklearn/neural_network/_multilayer_perceptron.py:536: ConvergenceWarning: lbfgs failed to converge (status=1):\n",
      "STOP: TOTAL NO. of ITERATIONS REACHED LIMIT.\n",
      "\n",
      "Increase the number of iterations (max_iter) or scale the data as shown in:\n",
      "    https://scikit-learn.org/stable/modules/preprocessing.html\n",
      "  self.n_iter_ = _check_optimize_result(\"lbfgs\", opt_res, self.max_iter)\n"
     ]
    },
    {
     "output_type": "stream",
     "name": "stdout",
     "text": [
      "[CV 1/5] END activation=logistic, alpha=0.0001, hidden_layer_sizes=(13, 3), solver=lbfgs;, score=0.564 total time=  21.7s\n"
     ]
    },
    {
     "output_type": "stream",
     "name": "stderr",
     "text": [
      "/Users/mohamed/ZenAI-3YP/3yp_venv/lib/python3.10/site-packages/sklearn/neural_network/_multilayer_perceptron.py:536: ConvergenceWarning: lbfgs failed to converge (status=1):\n",
      "STOP: TOTAL NO. of ITERATIONS REACHED LIMIT.\n",
      "\n",
      "Increase the number of iterations (max_iter) or scale the data as shown in:\n",
      "    https://scikit-learn.org/stable/modules/preprocessing.html\n",
      "  self.n_iter_ = _check_optimize_result(\"lbfgs\", opt_res, self.max_iter)\n"
     ]
    },
    {
     "output_type": "stream",
     "name": "stdout",
     "text": [
      "[CV 2/5] END activation=logistic, alpha=0.0001, hidden_layer_sizes=(13, 3), solver=lbfgs;, score=0.622 total time=  21.4s\n",
      "[CV 2/5] END activation=relu, alpha=0.0001, hidden_layer_sizes=(9, 6), solver=adam;, score=0.756 total time=   6.8s\n",
      "[CV 4/5] END activation=relu, alpha=0.0001, hidden_layer_sizes=(9, 6), solver=adam;, score=0.763 total time=   4.1s\n",
      "[CV 3/5] END activation=relu, alpha=0.0001, hidden_layer_sizes=(9, 6), solver=adam;, score=0.735 total time=   6.4s\n",
      "[CV 5/5] END activation=relu, alpha=0.0001, hidden_layer_sizes=(9, 6), solver=adam;, score=0.794 total time=   4.8s\n",
      "[CV 1/5] END activation=logistic, alpha=5e-05, hidden_layer_sizes=(14, 9), solver=adam;, score=0.706 total time=   3.2s\n",
      "[CV 2/5] END activation=logistic, alpha=5e-05, hidden_layer_sizes=(14, 9), solver=adam;, score=0.667 total time=   2.8s\n",
      "[CV 3/5] END activation=logistic, alpha=5e-05, hidden_layer_sizes=(14, 9), solver=adam;, score=0.799 total time=   4.3s\n"
     ]
    },
    {
     "output_type": "stream",
     "name": "stderr",
     "text": [
      "/Users/mohamed/ZenAI-3YP/3yp_venv/lib/python3.10/site-packages/sklearn/neural_network/_multilayer_perceptron.py:536: ConvergenceWarning: lbfgs failed to converge (status=1):\n",
      "STOP: TOTAL NO. of ITERATIONS REACHED LIMIT.\n",
      "\n",
      "Increase the number of iterations (max_iter) or scale the data as shown in:\n",
      "    https://scikit-learn.org/stable/modules/preprocessing.html\n",
      "  self.n_iter_ = _check_optimize_result(\"lbfgs\", opt_res, self.max_iter)\n"
     ]
    },
    {
     "output_type": "stream",
     "name": "stdout",
     "text": [
      "[CV 4/5] END activation=logistic, alpha=0.0001, hidden_layer_sizes=(13, 3), solver=lbfgs;, score=0.635 total time=  22.7s\n",
      "[CV 4/5] END activation=logistic, alpha=5e-05, hidden_layer_sizes=(14, 9), solver=adam;, score=0.811 total time=   3.5s\n"
     ]
    },
    {
     "output_type": "stream",
     "name": "stderr",
     "text": [
      "/Users/mohamed/ZenAI-3YP/3yp_venv/lib/python3.10/site-packages/sklearn/neural_network/_multilayer_perceptron.py:536: ConvergenceWarning: lbfgs failed to converge (status=1):\n",
      "STOP: TOTAL NO. of ITERATIONS REACHED LIMIT.\n",
      "\n",
      "Increase the number of iterations (max_iter) or scale the data as shown in:\n",
      "    https://scikit-learn.org/stable/modules/preprocessing.html\n",
      "  self.n_iter_ = _check_optimize_result(\"lbfgs\", opt_res, self.max_iter)\n"
     ]
    },
    {
     "output_type": "stream",
     "name": "stdout",
     "text": [
      "[CV 5/5] END activation=logistic, alpha=0.0001, hidden_layer_sizes=(13, 3), solver=lbfgs;, score=0.699 total time=  24.4s\n",
      "[CV 2/5] END activation=relu, alpha=0.0001, hidden_layer_sizes=(12, 8), solver=adam;, score=0.244 total time=   1.1s\n",
      "[CV 5/5] END activation=logistic, alpha=5e-05, hidden_layer_sizes=(14, 9), solver=adam;, score=0.852 total time=   3.5s\n",
      "[CV 1/5] END activation=relu, alpha=0.0001, hidden_layer_sizes=(12, 8), solver=adam;, score=0.756 total time=   3.5s\n",
      "[CV 3/5] END activation=relu, alpha=0.0001, hidden_layer_sizes=(12, 8), solver=adam;, score=0.805 total time=   3.1s\n",
      "[CV 1/5] END activation=relu, alpha=0.0001, hidden_layer_sizes=(4, 7), solver=adam;, score=0.214 total time=   1.0s\n",
      "[CV 5/5] END activation=relu, alpha=0.0001, hidden_layer_sizes=(12, 8), solver=adam;, score=0.774 total time=   2.9s\n",
      "[CV 4/5] END activation=relu, alpha=0.0001, hidden_layer_sizes=(12, 8), solver=adam;, score=0.766 total time=   5.9s\n",
      "[CV 3/5] END activation=relu, alpha=0.0001, hidden_layer_sizes=(4, 7), solver=adam;, score=0.760 total time=   2.5s\n",
      "[CV 2/5] END activation=relu, alpha=0.0001, hidden_layer_sizes=(4, 7), solver=adam;, score=0.772 total time=   4.7s\n",
      "[CV 4/5] END activation=relu, alpha=0.0001, hidden_layer_sizes=(4, 7), solver=adam;, score=0.691 total time=   2.8s\n",
      "[CV 2/5] END activation=relu, alpha=5e-05, hidden_layer_sizes=(14, 3), solver=adam;, score=0.225 total time=   0.5s\n",
      "[CV 2/5] END activation=logistic, alpha=5e-05, hidden_layer_sizes=(14, 7), solver=lbfgs;, score=0.656 total time=  28.8s\n"
     ]
    },
    {
     "output_type": "stream",
     "name": "stderr",
     "text": [
      "/Users/mohamed/ZenAI-3YP/3yp_venv/lib/python3.10/site-packages/sklearn/neural_network/_multilayer_perceptron.py:536: ConvergenceWarning: lbfgs failed to converge (status=1):\n",
      "STOP: TOTAL NO. of ITERATIONS REACHED LIMIT.\n",
      "\n",
      "Increase the number of iterations (max_iter) or scale the data as shown in:\n",
      "    https://scikit-learn.org/stable/modules/preprocessing.html\n",
      "  self.n_iter_ = _check_optimize_result(\"lbfgs\", opt_res, self.max_iter)\n"
     ]
    },
    {
     "output_type": "stream",
     "name": "stdout",
     "text": [
      "[CV 5/5] END activation=relu, alpha=0.0001, hidden_layer_sizes=(4, 7), solver=adam;, score=0.499 total time=   3.5s\n",
      "[CV 3/5] END activation=logistic, alpha=5e-05, hidden_layer_sizes=(14, 7), solver=lbfgs;, score=0.833 total time=  28.8s\n"
     ]
    },
    {
     "output_type": "stream",
     "name": "stderr",
     "text": [
      "/Users/mohamed/ZenAI-3YP/3yp_venv/lib/python3.10/site-packages/sklearn/neural_network/_multilayer_perceptron.py:536: ConvergenceWarning: lbfgs failed to converge (status=1):\n",
      "STOP: TOTAL NO. of ITERATIONS REACHED LIMIT.\n",
      "\n",
      "Increase the number of iterations (max_iter) or scale the data as shown in:\n",
      "    https://scikit-learn.org/stable/modules/preprocessing.html\n",
      "  self.n_iter_ = _check_optimize_result(\"lbfgs\", opt_res, self.max_iter)\n",
      "/Users/mohamed/ZenAI-3YP/3yp_venv/lib/python3.10/site-packages/sklearn/neural_network/_multilayer_perceptron.py:536: ConvergenceWarning: lbfgs failed to converge (status=1):\n",
      "STOP: TOTAL NO. of ITERATIONS REACHED LIMIT.\n",
      "\n",
      "Increase the number of iterations (max_iter) or scale the data as shown in:\n",
      "    https://scikit-learn.org/stable/modules/preprocessing.html\n",
      "  self.n_iter_ = _check_optimize_result(\"lbfgs\", opt_res, self.max_iter)\n"
     ]
    },
    {
     "output_type": "stream",
     "name": "stdout",
     "text": [
      "[CV 1/5] END activation=logistic, alpha=5e-05, hidden_layer_sizes=(14, 7), solver=lbfgs;, score=0.578 total time=  30.4s\n"
     ]
    },
    {
     "output_type": "stream",
     "name": "stderr",
     "text": [
      "/Users/mohamed/ZenAI-3YP/3yp_venv/lib/python3.10/site-packages/sklearn/neural_network/_multilayer_perceptron.py:536: ConvergenceWarning: lbfgs failed to converge (status=1):\n",
      "STOP: TOTAL NO. of ITERATIONS REACHED LIMIT.\n",
      "\n",
      "Increase the number of iterations (max_iter) or scale the data as shown in:\n",
      "    https://scikit-learn.org/stable/modules/preprocessing.html\n",
      "  self.n_iter_ = _check_optimize_result(\"lbfgs\", opt_res, self.max_iter)\n"
     ]
    },
    {
     "output_type": "stream",
     "name": "stdout",
     "text": [
      "[CV 4/5] END activation=logistic, alpha=5e-05, hidden_layer_sizes=(14, 7), solver=lbfgs;, score=0.733 total time=  28.3s\n",
      "[CV 4/5] END activation=relu, alpha=5e-05, hidden_layer_sizes=(14, 3), solver=adam;, score=0.203 total time=   1.0s\n",
      "[CV 3/5] END activation=relu, alpha=5e-05, hidden_layer_sizes=(14, 3), solver=adam;, score=0.237 total time=   1.7s\n"
     ]
    },
    {
     "output_type": "stream",
     "name": "stderr",
     "text": [
      "/Users/mohamed/ZenAI-3YP/3yp_venv/lib/python3.10/site-packages/sklearn/neural_network/_multilayer_perceptron.py:536: ConvergenceWarning: lbfgs failed to converge (status=1):\n",
      "STOP: TOTAL NO. of ITERATIONS REACHED LIMIT.\n",
      "\n",
      "Increase the number of iterations (max_iter) or scale the data as shown in:\n",
      "    https://scikit-learn.org/stable/modules/preprocessing.html\n",
      "  self.n_iter_ = _check_optimize_result(\"lbfgs\", opt_res, self.max_iter)\n"
     ]
    },
    {
     "output_type": "stream",
     "name": "stdout",
     "text": [
      "[CV 5/5] END activation=logistic, alpha=5e-05, hidden_layer_sizes=(14, 7), solver=lbfgs;, score=0.708 total time=  29.3s\n",
      "[CV 5/5] END activation=relu, alpha=5e-05, hidden_layer_sizes=(14, 3), solver=adam;, score=0.797 total time=   2.8s\n",
      "[CV 1/5] END activation=logistic, alpha=0.0001, hidden_layer_sizes=(3, 2), solver=lbfgs;, score=0.372 total time=   1.5s\n",
      "[CV 3/5] END activation=logistic, alpha=0.0001, hidden_layer_sizes=(3, 2), solver=lbfgs;, score=0.390 total time=   0.1s\n",
      "[CV 1/5] END activation=relu, alpha=5e-05, hidden_layer_sizes=(14, 3), solver=adam;, score=0.503 total time=   5.1s\n",
      "[CV 2/5] END activation=logistic, alpha=0.0001, hidden_layer_sizes=(3, 2), solver=lbfgs;, score=0.469 total time=   4.1s\n",
      "[CV 5/5] END activation=logistic, alpha=0.0001, hidden_layer_sizes=(3, 2), solver=lbfgs;, score=0.591 total time=   3.7s\n",
      "[CV 4/5] END activation=logistic, alpha=0.0001, hidden_layer_sizes=(3, 2), solver=lbfgs;, score=0.546 total time=   6.9s\n"
     ]
    },
    {
     "output_type": "stream",
     "name": "stderr",
     "text": [
      "/Users/mohamed/ZenAI-3YP/3yp_venv/lib/python3.10/site-packages/sklearn/neural_network/_multilayer_perceptron.py:536: ConvergenceWarning: lbfgs failed to converge (status=1):\n",
      "STOP: TOTAL NO. of ITERATIONS REACHED LIMIT.\n",
      "\n",
      "Increase the number of iterations (max_iter) or scale the data as shown in:\n",
      "    https://scikit-learn.org/stable/modules/preprocessing.html\n",
      "  self.n_iter_ = _check_optimize_result(\"lbfgs\", opt_res, self.max_iter)\n",
      "/Users/mohamed/ZenAI-3YP/3yp_venv/lib/python3.10/site-packages/sklearn/neural_network/_multilayer_perceptron.py:536: ConvergenceWarning: lbfgs failed to converge (status=1):\n",
      "STOP: TOTAL NO. of ITERATIONS REACHED LIMIT.\n",
      "\n",
      "Increase the number of iterations (max_iter) or scale the data as shown in:\n",
      "    https://scikit-learn.org/stable/modules/preprocessing.html\n",
      "  self.n_iter_ = _check_optimize_result(\"lbfgs\", opt_res, self.max_iter)\n"
     ]
    },
    {
     "output_type": "stream",
     "name": "stdout",
     "text": [
      "[CV 2/5] END activation=logistic, alpha=0.0001, hidden_layer_sizes=(11, 10), solver=lbfgs;, score=0.569 total time=  27.8s\n",
      "[CV 3/5] END activation=logistic, alpha=0.0001, hidden_layer_sizes=(11, 10), solver=lbfgs;, score=0.719 total time=  27.7s\n"
     ]
    },
    {
     "output_type": "stream",
     "name": "stderr",
     "text": [
      "/Users/mohamed/ZenAI-3YP/3yp_venv/lib/python3.10/site-packages/sklearn/neural_network/_multilayer_perceptron.py:536: ConvergenceWarning: lbfgs failed to converge (status=1):\n",
      "STOP: TOTAL NO. of ITERATIONS REACHED LIMIT.\n",
      "\n",
      "Increase the number of iterations (max_iter) or scale the data as shown in:\n",
      "    https://scikit-learn.org/stable/modules/preprocessing.html\n",
      "  self.n_iter_ = _check_optimize_result(\"lbfgs\", opt_res, self.max_iter)\n"
     ]
    },
    {
     "output_type": "stream",
     "name": "stdout",
     "text": [
      "[CV 1/5] END activation=logistic, alpha=0.0001, hidden_layer_sizes=(11, 10), solver=lbfgs;, score=0.639 total time=  28.2s\n"
     ]
    },
    {
     "output_type": "stream",
     "name": "stderr",
     "text": [
      "/Users/mohamed/ZenAI-3YP/3yp_venv/lib/python3.10/site-packages/sklearn/neural_network/_multilayer_perceptron.py:536: ConvergenceWarning: lbfgs failed to converge (status=1):\n",
      "STOP: TOTAL NO. of ITERATIONS REACHED LIMIT.\n",
      "\n",
      "Increase the number of iterations (max_iter) or scale the data as shown in:\n",
      "    https://scikit-learn.org/stable/modules/preprocessing.html\n",
      "  self.n_iter_ = _check_optimize_result(\"lbfgs\", opt_res, self.max_iter)\n",
      "/Users/mohamed/ZenAI-3YP/3yp_venv/lib/python3.10/site-packages/sklearn/neural_network/_multilayer_perceptron.py:536: ConvergenceWarning: lbfgs failed to converge (status=1):\n",
      "STOP: TOTAL NO. of ITERATIONS REACHED LIMIT.\n",
      "\n",
      "Increase the number of iterations (max_iter) or scale the data as shown in:\n",
      "    https://scikit-learn.org/stable/modules/preprocessing.html\n",
      "  self.n_iter_ = _check_optimize_result(\"lbfgs\", opt_res, self.max_iter)\n"
     ]
    },
    {
     "output_type": "stream",
     "name": "stdout",
     "text": [
      "[CV 4/5] END activation=logistic, alpha=0.0001, hidden_layer_sizes=(11, 10), solver=lbfgs;, score=0.727 total time=  28.5s\n",
      "[CV 5/5] END activation=logistic, alpha=0.0001, hidden_layer_sizes=(11, 10), solver=lbfgs;, score=0.652 total time=  28.1s\n",
      "[CV 1/5] END activation=logistic, alpha=5e-05, hidden_layer_sizes=(10, 10), solver=lbfgs;, score=0.561 total time=  27.2s\n"
     ]
    },
    {
     "output_type": "stream",
     "name": "stderr",
     "text": [
      "/Users/mohamed/ZenAI-3YP/3yp_venv/lib/python3.10/site-packages/sklearn/neural_network/_multilayer_perceptron.py:536: ConvergenceWarning: lbfgs failed to converge (status=1):\n",
      "STOP: TOTAL NO. of ITERATIONS REACHED LIMIT.\n",
      "\n",
      "Increase the number of iterations (max_iter) or scale the data as shown in:\n",
      "    https://scikit-learn.org/stable/modules/preprocessing.html\n",
      "  self.n_iter_ = _check_optimize_result(\"lbfgs\", opt_res, self.max_iter)\n"
     ]
    },
    {
     "output_type": "stream",
     "name": "stdout",
     "text": [
      "[CV 2/5] END activation=logistic, alpha=5e-05, hidden_layer_sizes=(10, 10), solver=lbfgs;, score=0.594 total time=  27.8s\n"
     ]
    },
    {
     "output_type": "stream",
     "name": "stderr",
     "text": [
      "/Users/mohamed/ZenAI-3YP/3yp_venv/lib/python3.10/site-packages/sklearn/neural_network/_multilayer_perceptron.py:536: ConvergenceWarning: lbfgs failed to converge (status=1):\n",
      "STOP: TOTAL NO. of ITERATIONS REACHED LIMIT.\n",
      "\n",
      "Increase the number of iterations (max_iter) or scale the data as shown in:\n",
      "    https://scikit-learn.org/stable/modules/preprocessing.html\n",
      "  self.n_iter_ = _check_optimize_result(\"lbfgs\", opt_res, self.max_iter)\n"
     ]
    },
    {
     "output_type": "stream",
     "name": "stdout",
     "text": [
      "[CV 3/5] END activation=logistic, alpha=5e-05, hidden_layer_sizes=(10, 10), solver=lbfgs;, score=0.682 total time=  27.3s\n",
      "[CV 1/5] END activation=relu, alpha=0.0001, hidden_layer_sizes=(14, 1), solver=lbfgs;, score=0.225 total time=   0.0s\n",
      "[CV 2/5] END activation=relu, alpha=0.0001, hidden_layer_sizes=(14, 1), solver=lbfgs;, score=0.225 total time=   0.0s\n",
      "[CV 3/5] END activation=relu, alpha=0.0001, hidden_layer_sizes=(14, 1), solver=lbfgs;, score=0.228 total time=   0.0s\n",
      "[CV 4/5] END activation=relu, alpha=0.0001, hidden_layer_sizes=(14, 1), solver=lbfgs;, score=0.226 total time=   0.0s\n",
      "[CV 5/5] END activation=relu, alpha=0.0001, hidden_layer_sizes=(14, 1), solver=lbfgs;, score=0.585 total time=   7.4s\n"
     ]
    },
    {
     "output_type": "stream",
     "name": "stderr",
     "text": [
      "/Users/mohamed/ZenAI-3YP/3yp_venv/lib/python3.10/site-packages/sklearn/neural_network/_multilayer_perceptron.py:536: ConvergenceWarning: lbfgs failed to converge (status=1):\n",
      "STOP: TOTAL NO. of ITERATIONS REACHED LIMIT.\n",
      "\n",
      "Increase the number of iterations (max_iter) or scale the data as shown in:\n",
      "    https://scikit-learn.org/stable/modules/preprocessing.html\n",
      "  self.n_iter_ = _check_optimize_result(\"lbfgs\", opt_res, self.max_iter)\n"
     ]
    },
    {
     "output_type": "stream",
     "name": "stdout",
     "text": [
      "[CV 5/5] END activation=logistic, alpha=5e-05, hidden_layer_sizes=(10, 10), solver=lbfgs;, score=0.774 total time=  25.6s\n"
     ]
    },
    {
     "output_type": "stream",
     "name": "stderr",
     "text": [
      "/Users/mohamed/ZenAI-3YP/3yp_venv/lib/python3.10/site-packages/sklearn/neural_network/_multilayer_perceptron.py:536: ConvergenceWarning: lbfgs failed to converge (status=1):\n",
      "STOP: TOTAL NO. of ITERATIONS REACHED LIMIT.\n",
      "\n",
      "Increase the number of iterations (max_iter) or scale the data as shown in:\n",
      "    https://scikit-learn.org/stable/modules/preprocessing.html\n",
      "  self.n_iter_ = _check_optimize_result(\"lbfgs\", opt_res, self.max_iter)\n"
     ]
    },
    {
     "output_type": "stream",
     "name": "stdout",
     "text": [
      "[CV 4/5] END activation=logistic, alpha=5e-05, hidden_layer_sizes=(10, 10), solver=lbfgs;, score=0.638 total time=  26.3s\n"
     ]
    },
    {
     "output_type": "stream",
     "name": "stderr",
     "text": [
      "/Users/mohamed/ZenAI-3YP/3yp_venv/lib/python3.10/site-packages/sklearn/neural_network/_multilayer_perceptron.py:536: ConvergenceWarning: lbfgs failed to converge (status=1):\n",
      "STOP: TOTAL NO. of ITERATIONS REACHED LIMIT.\n",
      "\n",
      "Increase the number of iterations (max_iter) or scale the data as shown in:\n",
      "    https://scikit-learn.org/stable/modules/preprocessing.html\n",
      "  self.n_iter_ = _check_optimize_result(\"lbfgs\", opt_res, self.max_iter)\n"
     ]
    },
    {
     "output_type": "stream",
     "name": "stdout",
     "text": [
      "[CV 1/5] END activation=logistic, alpha=0.0001, hidden_layer_sizes=(12, 8), solver=lbfgs;, score=0.581 total time=  26.7s\n"
     ]
    },
    {
     "output_type": "stream",
     "name": "stderr",
     "text": [
      "/Users/mohamed/ZenAI-3YP/3yp_venv/lib/python3.10/site-packages/sklearn/neural_network/_multilayer_perceptron.py:536: ConvergenceWarning: lbfgs failed to converge (status=1):\n",
      "STOP: TOTAL NO. of ITERATIONS REACHED LIMIT.\n",
      "\n",
      "Increase the number of iterations (max_iter) or scale the data as shown in:\n",
      "    https://scikit-learn.org/stable/modules/preprocessing.html\n",
      "  self.n_iter_ = _check_optimize_result(\"lbfgs\", opt_res, self.max_iter)\n",
      "/Users/mohamed/ZenAI-3YP/3yp_venv/lib/python3.10/site-packages/sklearn/neural_network/_multilayer_perceptron.py:536: ConvergenceWarning: lbfgs failed to converge (status=1):\n",
      "STOP: TOTAL NO. of ITERATIONS REACHED LIMIT.\n",
      "\n",
      "Increase the number of iterations (max_iter) or scale the data as shown in:\n",
      "    https://scikit-learn.org/stable/modules/preprocessing.html\n",
      "  self.n_iter_ = _check_optimize_result(\"lbfgs\", opt_res, self.max_iter)\n"
     ]
    },
    {
     "output_type": "stream",
     "name": "stdout",
     "text": [
      "[CV 3/5] END activation=logistic, alpha=0.0001, hidden_layer_sizes=(12, 8), solver=lbfgs;, score=0.763 total time=  27.1s\n",
      "[CV 2/5] END activation=logistic, alpha=0.0001, hidden_layer_sizes=(12, 8), solver=lbfgs;, score=0.597 total time=  27.4s\n",
      "[CV 1/5] END activation=relu, alpha=5e-05, hidden_layer_sizes=(9, 5), solver=lbfgs;, score=0.678 total time=   3.0s\n",
      "[CV 2/5] END activation=relu, alpha=5e-05, hidden_layer_sizes=(9, 5), solver=lbfgs;, score=0.358 total time=   0.5s\n"
     ]
    },
    {
     "output_type": "stream",
     "name": "stderr",
     "text": [
      "/Users/mohamed/ZenAI-3YP/3yp_venv/lib/python3.10/site-packages/sklearn/neural_network/_multilayer_perceptron.py:536: ConvergenceWarning: lbfgs failed to converge (status=1):\n",
      "STOP: TOTAL NO. of ITERATIONS REACHED LIMIT.\n",
      "\n",
      "Increase the number of iterations (max_iter) or scale the data as shown in:\n",
      "    https://scikit-learn.org/stable/modules/preprocessing.html\n",
      "  self.n_iter_ = _check_optimize_result(\"lbfgs\", opt_res, self.max_iter)\n"
     ]
    },
    {
     "output_type": "stream",
     "name": "stdout",
     "text": [
      "[CV 4/5] END activation=logistic, alpha=0.0001, hidden_layer_sizes=(12, 8), solver=lbfgs;, score=0.783 total time=  28.1s\n",
      "[CV 4/5] END activation=relu, alpha=5e-05, hidden_layer_sizes=(9, 5), solver=lbfgs;, score=0.226 total time=   0.1s\n",
      "[CV 5/5] END activation=relu, alpha=5e-05, hidden_layer_sizes=(9, 5), solver=lbfgs;, score=0.223 total time=   0.1s\n"
     ]
    },
    {
     "output_type": "stream",
     "name": "stderr",
     "text": [
      "/Users/mohamed/ZenAI-3YP/3yp_venv/lib/python3.10/site-packages/sklearn/neural_network/_multilayer_perceptron.py:536: ConvergenceWarning: lbfgs failed to converge (status=1):\n",
      "STOP: TOTAL NO. of ITERATIONS REACHED LIMIT.\n",
      "\n",
      "Increase the number of iterations (max_iter) or scale the data as shown in:\n",
      "    https://scikit-learn.org/stable/modules/preprocessing.html\n",
      "  self.n_iter_ = _check_optimize_result(\"lbfgs\", opt_res, self.max_iter)\n"
     ]
    },
    {
     "output_type": "stream",
     "name": "stdout",
     "text": [
      "[CV 5/5] END activation=logistic, alpha=0.0001, hidden_layer_sizes=(12, 8), solver=lbfgs;, score=0.844 total time=  28.3s\n",
      "[CV 3/5] END activation=relu, alpha=5e-05, hidden_layer_sizes=(9, 5), solver=lbfgs;, score=0.805 total time=   4.4s\n",
      "[CV 1/5] END activation=logistic, alpha=0.0001, hidden_layer_sizes=(4, 11), solver=adam;, score=0.553 total time=   3.4s\n",
      "[CV 3/5] END activation=logistic, alpha=0.0001, hidden_layer_sizes=(4, 11), solver=adam;, score=0.713 total time=   2.7s\n",
      "[CV 1/5] END activation=logistic, alpha=0.0001, hidden_layer_sizes=(10, 3), solver=lbfgs;, score=0.506 total time=  22.4s\n",
      "[CV 2/5] END activation=logistic, alpha=0.0001, hidden_layer_sizes=(4, 11), solver=adam;, score=0.692 total time=   3.8s\n"
     ]
    },
    {
     "output_type": "stream",
     "name": "stderr",
     "text": [
      "/Users/mohamed/ZenAI-3YP/3yp_venv/lib/python3.10/site-packages/sklearn/neural_network/_multilayer_perceptron.py:536: ConvergenceWarning: lbfgs failed to converge (status=1):\n",
      "STOP: TOTAL NO. of ITERATIONS REACHED LIMIT.\n",
      "\n",
      "Increase the number of iterations (max_iter) or scale the data as shown in:\n",
      "    https://scikit-learn.org/stable/modules/preprocessing.html\n",
      "  self.n_iter_ = _check_optimize_result(\"lbfgs\", opt_res, self.max_iter)\n"
     ]
    },
    {
     "output_type": "stream",
     "name": "stdout",
     "text": [
      "[CV 4/5] END activation=logistic, alpha=0.0001, hidden_layer_sizes=(4, 11), solver=adam;, score=0.721 total time=   1.9s\n",
      "[CV 5/5] END activation=logistic, alpha=0.0001, hidden_layer_sizes=(4, 11), solver=adam;, score=0.669 total time=   2.9s\n",
      "[CV 3/5] END activation=logistic, alpha=5e-05, hidden_layer_sizes=(9, 8), solver=adam;, score=0.794 total time=   4.4s\n",
      "[CV 1/5] END activation=logistic, alpha=5e-05, hidden_layer_sizes=(9, 8), solver=adam;, score=0.614 total time=   4.8s\n",
      "[CV 2/5] END activation=logistic, alpha=5e-05, hidden_layer_sizes=(9, 8), solver=adam;, score=0.692 total time=   5.0s\n",
      "[CV 4/5] END activation=logistic, alpha=5e-05, hidden_layer_sizes=(9, 8), solver=adam;, score=0.741 total time=   5.0s\n",
      "[CV 5/5] END activation=logistic, alpha=5e-05, hidden_layer_sizes=(9, 8), solver=adam;, score=0.833 total time=   3.7s\n",
      "[CV 2/5] END activation=logistic, alpha=0.0001, hidden_layer_sizes=(10, 4), solver=adam;, score=0.739 total time=   4.8s\n",
      "[CV 1/5] END activation=logistic, alpha=0.0001, hidden_layer_sizes=(10, 4), solver=adam;, score=0.692 total time=   5.3s\n",
      "[CV 4/5] END activation=logistic, alpha=0.0001, hidden_layer_sizes=(10, 3), solver=lbfgs;, score=0.638 total time=  22.4s\n",
      "[CV 3/5] END activation=logistic, alpha=0.0001, hidden_layer_sizes=(10, 4), solver=adam;, score=0.774 total time=   4.0s\n",
      "[CV 3/5] END activation=logistic, alpha=0.0001, hidden_layer_sizes=(10, 3), solver=lbfgs;, score=0.666 total time=  24.9s\n"
     ]
    },
    {
     "output_type": "stream",
     "name": "stderr",
     "text": [
      "/Users/mohamed/ZenAI-3YP/3yp_venv/lib/python3.10/site-packages/sklearn/neural_network/_multilayer_perceptron.py:536: ConvergenceWarning: lbfgs failed to converge (status=1):\n",
      "STOP: TOTAL NO. of ITERATIONS REACHED LIMIT.\n",
      "\n",
      "Increase the number of iterations (max_iter) or scale the data as shown in:\n",
      "    https://scikit-learn.org/stable/modules/preprocessing.html\n",
      "  self.n_iter_ = _check_optimize_result(\"lbfgs\", opt_res, self.max_iter)\n"
     ]
    },
    {
     "output_type": "stream",
     "name": "stdout",
     "text": [
      "[CV 2/5] END activation=logistic, alpha=0.0001, hidden_layer_sizes=(3, 5), solver=adam;, score=0.483 total time=   2.0s\n",
      "[CV 4/5] END activation=logistic, alpha=0.0001, hidden_layer_sizes=(10, 4), solver=adam;, score=0.825 total time=   4.0s\n"
     ]
    },
    {
     "output_type": "stream",
     "name": "stderr",
     "text": [
      "/Users/mohamed/ZenAI-3YP/3yp_venv/lib/python3.10/site-packages/sklearn/neural_network/_multilayer_perceptron.py:536: ConvergenceWarning: lbfgs failed to converge (status=1):\n",
      "STOP: TOTAL NO. of ITERATIONS REACHED LIMIT.\n",
      "\n",
      "Increase the number of iterations (max_iter) or scale the data as shown in:\n",
      "    https://scikit-learn.org/stable/modules/preprocessing.html\n",
      "  self.n_iter_ = _check_optimize_result(\"lbfgs\", opt_res, self.max_iter)\n"
     ]
    },
    {
     "output_type": "stream",
     "name": "stdout",
     "text": [
      "[CV 2/5] END activation=logistic, alpha=0.0001, hidden_layer_sizes=(10, 3), solver=lbfgs;, score=0.703 total time=  26.5s\n",
      "[CV 1/5] END activation=logistic, alpha=0.0001, hidden_layer_sizes=(3, 5), solver=adam;, score=0.417 total time=   3.3s\n",
      "[CV 3/5] END activation=logistic, alpha=0.0001, hidden_layer_sizes=(3, 5), solver=adam;, score=0.663 total time=   2.3s\n"
     ]
    },
    {
     "output_type": "stream",
     "name": "stderr",
     "text": [
      "/Users/mohamed/ZenAI-3YP/3yp_venv/lib/python3.10/site-packages/sklearn/neural_network/_multilayer_perceptron.py:536: ConvergenceWarning: lbfgs failed to converge (status=1):\n",
      "STOP: TOTAL NO. of ITERATIONS REACHED LIMIT.\n",
      "\n",
      "Increase the number of iterations (max_iter) or scale the data as shown in:\n",
      "    https://scikit-learn.org/stable/modules/preprocessing.html\n",
      "  self.n_iter_ = _check_optimize_result(\"lbfgs\", opt_res, self.max_iter)\n"
     ]
    },
    {
     "output_type": "stream",
     "name": "stdout",
     "text": [
      "[CV 5/5] END activation=logistic, alpha=0.0001, hidden_layer_sizes=(3, 5), solver=adam;, score=0.423 total time=   2.1s\n",
      "[CV 5/5] END activation=logistic, alpha=0.0001, hidden_layer_sizes=(10, 3), solver=lbfgs;, score=0.772 total time=  25.3s\n",
      "[CV 1/5] END activation=relu, alpha=0.0001, hidden_layer_sizes=(5, 6), solver=lbfgs;, score=0.250 total time=   0.0s\n",
      "[CV 5/5] END activation=logistic, alpha=0.0001, hidden_layer_sizes=(10, 4), solver=adam;, score=0.838 total time=   5.2s\n",
      "[CV 4/5] END activation=logistic, alpha=0.0001, hidden_layer_sizes=(3, 5), solver=adam;, score=0.663 total time=   3.4s\n",
      "[CV 4/5] END activation=relu, alpha=0.0001, hidden_layer_sizes=(5, 6), solver=lbfgs;, score=0.529 total time=   0.6s\n",
      "[CV 4/5] END activation=relu, alpha=0.0001, hidden_layer_sizes=(10, 12), solver=lbfgs;, score=0.799 total time=   1.8s\n",
      "[CV 5/5] END activation=relu, alpha=0.0001, hidden_layer_sizes=(5, 6), solver=lbfgs;, score=0.404 total time=   0.4s\n",
      "[CV 1/5] END activation=relu, alpha=0.0001, hidden_layer_sizes=(10, 12), solver=lbfgs;, score=0.742 total time=   5.6s\n",
      "[CV 2/5] END activation=relu, alpha=0.0001, hidden_layer_sizes=(10, 12), solver=lbfgs;, score=0.644 total time=   5.5s\n",
      "[CV 5/5] END activation=relu, alpha=0.0001, hidden_layer_sizes=(10, 12), solver=lbfgs;, score=0.819 total time=   4.1s\n",
      "[CV 2/5] END activation=relu, alpha=0.0001, hidden_layer_sizes=(5, 6), solver=lbfgs;, score=0.633 total time=   4.1s\n",
      "[CV 3/5] END activation=relu, alpha=0.0001, hidden_layer_sizes=(5, 6), solver=lbfgs;, score=0.797 total time=   3.7s\n",
      "[CV 1/5] END activation=logistic, alpha=0.0001, hidden_layer_sizes=(6, 7), solver=adam;, score=0.744 total time=   3.0s\n",
      "[CV 2/5] END activation=logistic, alpha=0.0001, hidden_layer_sizes=(6, 7), solver=adam;, score=0.628 total time=   3.4s\n",
      "[CV 4/5] END activation=logistic, alpha=0.0001, hidden_layer_sizes=(6, 7), solver=adam;, score=0.744 total time=   2.3s\n",
      "[CV 1/5] END activation=logistic, alpha=0.0001, hidden_layer_sizes=(12, 8), solver=adam;, score=0.719 total time=   2.9s\n",
      "[CV 3/5] END activation=logistic, alpha=0.0001, hidden_layer_sizes=(12, 8), solver=adam;, score=0.827 total time=   2.5s\n",
      "[CV 3/5] END activation=logistic, alpha=0.0001, hidden_layer_sizes=(6, 7), solver=adam;, score=0.738 total time=   3.5s\n",
      "[CV 5/5] END activation=logistic, alpha=0.0001, hidden_layer_sizes=(6, 7), solver=adam;, score=0.825 total time=   4.0s\n",
      "[CV 2/5] END activation=logistic, alpha=0.0001, hidden_layer_sizes=(12, 8), solver=adam;, score=0.725 total time=   3.6s\n",
      "[CV 3/5] END activation=relu, alpha=0.0001, hidden_layer_sizes=(10, 12), solver=lbfgs;, score=0.788 total time=   9.5s\n",
      "[CV 4/5] END activation=logistic, alpha=0.0001, hidden_layer_sizes=(12, 8), solver=adam;, score=0.813 total time=   3.6s\n",
      "[CV 1/5] END activation=relu, alpha=5e-05, hidden_layer_sizes=(10, 10), solver=adam;, score=0.625 total time=   2.0s\n",
      "[CV 5/5] END activation=logistic, alpha=0.0001, hidden_layer_sizes=(12, 8), solver=adam;, score=0.841 total time=   2.9s\n",
      "[CV 2/5] END activation=relu, alpha=5e-05, hidden_layer_sizes=(10, 10), solver=adam;, score=0.631 total time=   2.4s\n",
      "[CV 4/5] END activation=relu, alpha=5e-05, hidden_layer_sizes=(10, 10), solver=adam;, score=0.825 total time=   1.5s\n",
      "[CV 3/5] END activation=relu, alpha=5e-05, hidden_layer_sizes=(10, 10), solver=adam;, score=0.852 total time=   2.5s\n",
      "[CV 5/5] END activation=relu, alpha=5e-05, hidden_layer_sizes=(10, 10), solver=adam;, score=0.866 total time=   1.6s\n",
      "Best solver:  adam\n",
      "Best activation:  logistic\n",
      "Layers:  (13, 9)\n",
      "Alpha:  5e-05\n",
      "Accuracy:  0.8504273504273504\n"
     ]
    }
   ],
   "metadata": {}
  },
  {
   "cell_type": "code",
   "execution_count": 29,
   "source": [
    "from sklearn.metrics import classification_report, confusion_matrix, accuracy_score, ConfusionMatrixDisplay\n",
    "pred = mlp.predict(X_test)\n",
    "\n",
    "cm = confusion_matrix(y_test, pred)\n",
    "display_confusion_matrix = ConfusionMatrixDisplay(confusion_matrix=cm, display_labels=classes)\n",
    "display_confusion_matrix.plot()\n",
    "\n",
    "\n",
    "print(f'{list(zip(classes, range(5)))}\\n')\n",
    "print(classification_report(y_test, pred))\n",
    "print()\n",
    "print(\"Best solver: \", best_params['solver'])\n",
    "print(\"Best activation: \", best_params['activation'])\n",
    "print(\"Layers: \", best_params['hidden_layer_sizes'] )"
   ],
   "outputs": [
    {
     "output_type": "stream",
     "name": "stdout",
     "text": [
      "[('WarriorIII', 0), ('Tree', 1), ('Cobra', 2), ('Chair', 3), ('DownDog', 4)]\n",
      "\n",
      "              precision    recall  f1-score   support\n",
      "\n",
      "           0       0.72      0.46      0.56       103\n",
      "           1       0.91      0.91      0.91       127\n",
      "           2       0.85      0.94      0.89       188\n",
      "           3       0.80      0.83      0.81       142\n",
      "           4       0.91      0.99      0.95       142\n",
      "\n",
      "    accuracy                           0.85       702\n",
      "   macro avg       0.84      0.82      0.82       702\n",
      "weighted avg       0.84      0.85      0.84       702\n",
      "\n",
      "\n",
      "Best solver:  adam\n",
      "Best activation:  logistic\n",
      "Layers:  (13, 9)\n"
     ]
    },
    {
     "output_type": "display_data",
     "data": {
      "image/png": "[encoded data removed]",
      "text/plain": [
       "<Figure size 640x480 with 2 Axes>"
      ]
     },
     "metadata": {}
    }
   ],
   "metadata": {}
  }
 ],
 "metadata": {
  "orig_nbformat": 4,
  "language_info": {
   "name": "python",
   "version": "3.10.9",
   "mimetype": "text/x-python",
   "codemirror_mode": {
    "name": "ipython",
    "version": 3
   },
   "pygments_lexer": "ipython3",
   "nbconvert_exporter": "python",
   "file_extension": ".py"
  },
  "kernelspec": {
   "name": "python3",
   "display_name": "Python 3.10.9 64-bit ('3yp_venv': venv)"
  },
  "interpreter": {
   "hash": "863f67b31f24466e0883f69032a69c124c9bc374896dddab98911f54145fcab2"
  }
 },
 "nbformat": 4,
 "nbformat_minor": 2
}