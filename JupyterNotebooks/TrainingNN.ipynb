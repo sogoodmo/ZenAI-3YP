{
 "cells": [
  {
   "cell_type": "code",
   "execution_count": 1,
   "id": "f6b3cae5",
   "metadata": {},
   "outputs": [],
   "source": [
    "import numpy as np"
   ]
  },
  {
   "cell_type": "code",
   "execution_count": 2,
   "id": "63b52821",
   "metadata": {},
   "outputs": [],
   "source": [
    "#assign input values"
   ]
  },
  {
   "cell_type": "code",
   "execution_count": 5,
   "id": "f14ecaec",
   "metadata": {},
   "outputs": [
    {
     "data": {
      "text/plain": [
       "(4, 2)"
      ]
     },
     "execution_count": 5,
     "metadata": {},
     "output_type": "execute_result"
    }
   ],
   "source": [
    "inputs = np.array([[0,0],[0,1],[1,1],[1,0]])\n",
    "inputs.shape"
   ]
  },
  {
   "cell_type": "code",
   "execution_count": 9,
   "id": "ee806014",
   "metadata": {},
   "outputs": [
    {
     "data": {
      "text/plain": [
       "(4, 1)"
      ]
     },
     "execution_count": 9,
     "metadata": {},
     "output_type": "execute_result"
    }
   ],
   "source": [
    "outputs = np.array([0,1,1,0])\n",
    "outputs = outputs.reshape(4, 1)\n",
    "outputs.shape"
   ]
  },
  {
   "cell_type": "code",
   "execution_count": 10,
   "id": "1c0653d7",
   "metadata": {},
   "outputs": [],
   "source": [
    "#assign weights"
   ]
  },
  {
   "cell_type": "code",
   "execution_count": 12,
   "id": "d087c6f8",
   "metadata": {},
   "outputs": [],
   "source": [
    "weights = np.array([[0.1], [0.2]])\n",
    "bias = 0.3"
   ]
  },
  {
   "cell_type": "code",
   "execution_count": 13,
   "id": "2c30bc7d",
   "metadata": {},
   "outputs": [],
   "source": [
    "#activation function\n",
    "def sigmoid_func(x):\n",
    "    return 1/(1+np.exp(-x))\n",
    "def der(x):\n",
    "    return sigmoid_func(x) * (1-sigmoid_func(x))"
   ]
  },
  {
   "cell_type": "code",
   "execution_count": 47,
   "id": "406aea78",
   "metadata": {},
   "outputs": [],
   "source": [
    "#updating weights\n",
    "for epochs in range(100_000):\n",
    "    input_arr = inputs\n",
    "    \n",
    "    weighted_sum = np.dot(input_arr, weights) + bias \n",
    "    first_output = sigmoid_func(weighted_sum)\n",
    "    \n",
    "    error = first_output - outputs\n",
    "    meansqrerror = np.square(np.subtract(first_output, outputs)).mean()\n",
    "    \n",
    "    fst_der = error \n",
    "    snd_der = der(error)\n",
    "    derivative = fst_der * snd_der \n",
    "    \n",
    "    t_input = input_value.T\n",
    "    final_derivative = np.dot(t_input, derivative)\n",
    "    \n",
    "    #upate weights\n",
    "    weights = weights - 0.05 * final_derivative\n",
    "    \n",
    "    for i in derivative:\n",
    "        bias = bias - 0.05 * i \n"
   ]
  },
  {
   "cell_type": "code",
   "execution_count": 48,
   "id": "e1d3601c",
   "metadata": {},
   "outputs": [],
   "source": [
    "pred = np.array([0,0])"
   ]
  },
  {
   "cell_type": "code",
   "execution_count": 53,
   "id": "e9e5a2a6",
   "metadata": {},
   "outputs": [],
   "source": [
    "result = np.dot(pred, weights) + bias"
   ]
  },
  {
   "cell_type": "code",
   "execution_count": 54,
   "id": "91558b3f",
   "metadata": {},
   "outputs": [],
   "source": [
    "res = sigmoid_func(result)"
   ]
  },
  {
   "cell_type": "code",
   "execution_count": 56,
   "id": "9dad1d0e",
   "metadata": {},
   "outputs": [
    {
     "name": "stdout",
     "output_type": "stream",
     "text": [
      "[0.0013169]\n"
     ]
    }
   ],
   "source": [
    "print(res)"
   ]
  },
  {
   "cell_type": "raw",
   "id": "87df03b8",
   "metadata": {},
   "source": []
  }
 ],
 "metadata": {
  "kernelspec": {
   "display_name": "Python 3 (ipykernel)",
   "language": "python",
   "name": "python3"
  },
  "language_info": {
   "codemirror_mode": {
    "name": "ipython",
    "version": 3
   },
   "file_extension": ".py",
   "mimetype": "text/x-python",
   "name": "python",
   "nbconvert_exporter": "python",
   "pygments_lexer": "ipython3",
   "version": "3.10.7"
  },
  "vscode": {
   "interpreter": {
    "hash": "c03d7ca79527c43668de5fef191e6a32e993596d47f3147d82e5050d734e1650"
   }
  }
 },
 "nbformat": 4,
 "nbformat_minor": 5
}
