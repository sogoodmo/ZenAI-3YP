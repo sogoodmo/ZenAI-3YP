{
 "cells": [
  {
   "cell_type": "code",
   "execution_count": 1,
   "source": [
    "import pandas as pd \n",
    "from sklearn.neighbors import KNeighborsClassifier as KNN \n",
    "from sklearn.model_selection import KFold\n",
    "from sklearn.model_selection import cross_val_score\n",
    "import matplotlib.pyplot as plt\n",
    "import numpy as np\n",
    "import os \n",
    "\n",
    "os.chdir('../Dataset')\n",
    "path = os.getcwd()\n",
    "\n",
    "\n",
    "columns = ['class','l_shoulder','r_shoulder','l_arm','r_arm','l_hip','r_hip','l_knee','r_knee']\n",
    "\n",
    "y82_test = pd.read_csv(os.path.join(path,'y82_testing.csv'), header=None)\n",
    "y82_train = pd.read_csv(os.path.join(path,'y82_training.csv'), header=None)\n",
    "L_test = pd.read_csv(os.path.join(path,'L_testing.csv'), header=None)\n",
    "L_train = pd.read_csv(os.path.join(path,'L_training.csv'), header=None)\n",
    "\n",
    "combined_test = pd.concat([L_test, y82_test])\n",
    "combined_train = pd.concat([L_train, y82_train])\n",
    "\n",
    "combined_test.columns = columns \n",
    "combined_train.columns = columns \n",
    "\n",
    "combined_test['class'], classes = pd.factorize(combined_test['class'])\n",
    "combined_train['class'], _ = pd.factorize(combined_train['class'])\n",
    "\n",
    "classes = list(classes)"
   ],
   "outputs": [],
   "metadata": {}
  },
  {
   "cell_type": "code",
   "execution_count": null,
   "source": [
    "all_combined_df = pd.concat([y82_train, y82_test, L_test, L_train])\n",
    "all_combined = pd.concat([combined_test, combined_train])\n",
    "\n",
    "def split_features_labels(df):\n",
    "    return df.drop('class', axis=1), df['class']"
   ],
   "outputs": [],
   "metadata": {}
  },
  {
   "cell_type": "code",
   "execution_count": null,
   "source": [
    "from sklearn.decomposition import PCA\n",
    "from sklearn.svm import SVC\n",
    "from sklearn.model_selection import GridSearchCV\n",
    "from sklearn.metrics import classification_report, confusion_matrix, accuracy_score, ConfusionMatrixDisplay\n",
    "from mlxtend.plotting import plot_decision_regions\n",
    "\n",
    "RANDOM_ORDER_DATA = True \n",
    "\n",
    "'''Shuffle data for better resuliting'''\n",
    "if RANDOM_ORDER_DATA:\n",
    "    mutated_train = combined_train.sample(frac=1)\n",
    "else:\n",
    "    mutated_train = combined_train\n",
    "\n",
    "X_train, y_train = split_features_labels(mutated_train)\n",
    "X_test, y_test = split_features_labels(combined_test)\n",
    "\n",
    "# First Step: Decomp\n",
    "pca = PCA(n_components = 2)\n",
    "\n",
    "# Note the use of .transform and .fit_transform \n",
    "X_train_pca = pca.fit_transform(X_train)\n",
    "X_test_pca = pca.transform(X_test)\n"
   ],
   "outputs": [],
   "metadata": {}
  },
  {
   "cell_type": "code",
   "execution_count": null,
   "source": [
    "from sklearn.metrics import classification_report, confusion_matrix, accuracy_score, ConfusionMatrixDisplay\n",
    "\n",
    "print(f'Best Params: {forest_classifier_gscv.best_params_} ~ Best Score: {forest_classifier_gscv.best_score_}\\n')\n",
    "\n",
    "X_test, y_test = split_features_labels(combined_test)\n",
    "pred = forest_classifier_gscv.predict(X_test)\n",
    "\n",
    "cm = confusion_matrix(y_test, pred)\n",
    "display_confusion_matrix = ConfusionMatrixDisplay(confusion_matrix=cm, display_labels=classes)\n",
    "display_confusion_matrix.plot()\n",
    "\n",
    "print(classification_report(y_test, pred))\n",
    "print(f'Accurace of Random Forest Model: {accuracy_score(y_test, pred)}')"
   ],
   "outputs": [],
   "metadata": {}
  },
  {
   "cell_type": "code",
   "execution_count": null,
   "source": [
    "from sklearn.pipeline import Pipeline\n",
    "from sklearn.decomposition import PCA\n",
    "from sklearn.svm import SVC\n",
    "from sklearn.model_selection import GridSearchCV\n",
    "from sklearn.metrics import classification_report, confusion_matrix, accuracy_score, ConfusionMatrixDisplay\n",
    "from mlxtend.plotting import plot_decision_regions\n",
    "\n",
    "RANDOM_ORDER_DATA = True \n",
    "\n",
    "'''Shuffle data for better resuliting'''\n",
    "if RANDOM_ORDER_DATA:\n",
    "    mutated_train = combined_train.sample(frac=1)\n",
    "else:\n",
    "    mutated_train = combined_train\n",
    "\n",
    "X_train, y_train = split_features_labels(mutated_train)\n",
    "X_test, y_test = split_features_labels(combined_test)\n",
    "\n",
    "# First Step: Decomp\n",
    "pca = PCA(n_components = 15)\n",
    "\n",
    "# Note the use of .transform and .fit_transform \n",
    "X_train_pca = pca.fit_transform(X_train)\n",
    "X_test_pca = pca.transform(X_test)"
   ],
   "outputs": [],
   "metadata": {}
  }
 ],
 "metadata": {
  "orig_nbformat": 4,
  "language_info": {
   "name": "python",
   "version": "3.10.9",
   "mimetype": "text/x-python",
   "codemirror_mode": {
    "name": "ipython",
    "version": 3
   },
   "pygments_lexer": "ipython3",
   "nbconvert_exporter": "python",
   "file_extension": ".py"
  },
  "kernelspec": {
   "name": "python3",
   "display_name": "Python 3.10.9 64-bit ('3yp_venv': venv)"
  },
  "interpreter": {
   "hash": "863f67b31f24466e0883f69032a69c124c9bc374896dddab98911f54145fcab2"
  }
 },
 "nbformat": 4,
 "nbformat_minor": 2
}