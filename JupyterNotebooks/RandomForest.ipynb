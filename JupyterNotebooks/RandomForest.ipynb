{
 "cells": [
  {
   "cell_type": "code",
   "execution_count": 1,
   "source": [
    "# import pandas as pd \n",
    "# import numpy as np\n",
    "# from sklearn.ensemble import RandomForestClassifier\n",
    "# from sklearn.metrics import accuracy_score, confusion_matrix, classification_report\n",
    "# import matplotlib.pyplot as plt\n",
    "\n",
    "# path = 'C:\\\\Users\\\\moham\\\\Desktop\\\\Third Year Project\\\\Dataset\\\\'\n",
    "\n",
    "# columns = ['class','l_shoulder','r_shoulder','l_arm','r_arm','l_hip','r_hip','l_knee','r_knee']\n",
    "\n",
    "\n",
    "# # y82_test = pd.read_csv(path+'y82_testing.csv', header=None)\n",
    "# # y82_train = pd.read_csv(path+'y82_training.csv', header=None)\n",
    "# # L_test = pd.read_csv(path+'L_testing.csv', header=None)\n",
    "# # L_train = pd.read_csv(path+'y82_training.csv', header=None)\n",
    "\n",
    "# # df_train = pd.concat([y82_train, L_train])\n",
    "# # df_test = pd.concat([y82_test, L_test])\n",
    "\n",
    "# # df_train.columns = columns\n",
    "# # df_test.columns = columns\n",
    "\n",
    "\n",
    "# # # factorize \n",
    "# # df_train['class'], classes = pd.factorize(df_train['class'])\n",
    "# # df_test['class'], classes = pd.factorize(df_test['class'])\n",
    "\n",
    "# # classes = list(classes)\n",
    "# # df_test\n",
    "\n",
    "\n",
    "\n",
    "# y82_test = pd.read_csv(path+'y82_testing.csv', header=None)\n",
    "# y82_train = pd.read_csv(path+'y82_training.csv', header=None)\n",
    "# L_test = pd.read_csv(path+'L_testing.csv', header=None)\n",
    "# L_train = pd.read_csv(path+'y82_training.csv', header=None)\n",
    "\n",
    "# df = pd.concat([y82_train, y82_test, L_test, L_train])\n",
    "\n",
    "# df.columns = columns\n",
    "\n",
    "# df['class'], classes = pd.factorize(df['class'])\n",
    "# classes = list(classes)\n",
    "\n",
    "# X = df.drop('class', axis=1)\n",
    "# y = df['class']\n",
    "# classes"
   ],
   "outputs": [
    {
     "output_type": "execute_result",
     "data": {
      "text/plain": [
       "['Chair', 'DownDog', 'Tree', 'WarriorIII', 'Cobra']"
      ]
     },
     "metadata": {},
     "execution_count": 1
    }
   ],
   "metadata": {}
  },
  {
   "cell_type": "code",
   "execution_count": 1,
   "source": [
    "import pandas as pd \n",
    "import numpy as np\n",
    "from sklearn.ensemble import RandomForestClassifier\n",
    "from sklearn.metrics import accuracy_score, confusion_matrix, classification_report\n",
    "import matplotlib.pyplot as plt\n",
    "import os\n",
    "import wandb\n",
    "\n",
    "os.chdir('../Dataset')\n",
    "path = os.getcwd()\n",
    "\n",
    "\n",
    "columns = ['class','l_shoulder','r_shoulder','l_arm','r_arm','l_hip','r_hip','l_knee','r_knee']\n",
    "\n",
    "y82_test = pd.read_csv(os.path.join(path,'y82_testing.csv'), header=None)\n",
    "y82_train = pd.read_csv(os.path.join(path,'y82_training.csv'), header=None)\n",
    "L_test = pd.read_csv(os.path.join(path,'L_testing.csv'), header=None)\n",
    "L_train = pd.read_csv(os.path.join(path,'L_training.csv'), header=None)\n",
    "\n",
    "combined_test = pd.concat([L_test, y82_test])\n",
    "combined_train = pd.concat([L_train, y82_train])\n",
    "\n",
    "combined_test.columns = columns \n",
    "combined_train.columns = columns \n",
    "\n",
    "combined_test['class'], classes = pd.factorize(combined_test['class'])\n",
    "combined_train['class'], _ = pd.factorize(combined_train['class'])\n",
    "\n",
    "classes = list(classes)\n"
   ],
   "outputs": [],
   "metadata": {}
  },
  {
   "cell_type": "code",
   "execution_count": 2,
   "source": [
    "def split_features_labels(df):\n",
    "    return df.drop('class', axis=1), df['class']"
   ],
   "outputs": [],
   "metadata": {}
  },
  {
   "cell_type": "markdown",
   "source": [
    "# HYPER PARAM SEARCHING FOR RANDOM FORESTS\n",
    "### Kinda slow"
   ],
   "metadata": {}
  },
  {
   "cell_type": "code",
   "execution_count": 4,
   "source": [
    "from sklearn.model_selection import GridSearchCV\n",
    "# from sklearn.model_selection import train_test_split\n",
    "\n",
    "RANDOM_ORDER_DATA = True \n",
    "MAX_ESTIMATORS = 2\n",
    "MAX_DEPTH = 2\n",
    "\n",
    "if RANDOM_ORDER_DATA:\n",
    "  mutated_data = combined_train.sample(frac=1)\n",
    "else:\n",
    "  mutated_data = combined_train\n",
    "\n",
    "X_train, y_train = split_features_labels(mutated_data)\n",
    "X_test, y_test = split_features_labels(combined_test)\n",
    "\n",
    "forest_classifier = RandomForestClassifier()\n",
    "param_grid = {'n_estimators' : np.arange(1, MAX_ESTIMATORS),\n",
    "              'max_depth' : np.arange(1, MAX_DEPTH),\n",
    "            }\n",
    "forest_classifier_gscv = GridSearchCV(forest_classifier, param_grid, cv=5)\n",
    "\n",
    "#fit model to data\n",
    "# {'max_depth': 6, 'n_estimators': 73}\n",
    "forest_classifier_gscv.fit(X_train, y_train)\n",
    "forest_classifier_gscv.best_params_\n"
   ],
   "outputs": [
    {
     "output_type": "execute_result",
     "data": {
      "text/plain": [
       "{'max_depth': 1, 'n_estimators': 1}"
      ]
     },
     "metadata": {},
     "execution_count": 4
    }
   ],
   "metadata": {}
  },
  {
   "cell_type": "markdown",
   "source": [
    "# Testing out Wandb"
   ],
   "metadata": {}
  },
  {
   "cell_type": "code",
   "execution_count": 13,
   "source": [
    "from sklearn.metrics import accuracy_score, confusion_matrix, classification_report, ConfusionMatrixDisplay\n",
    "best_forest = RandomForestClassifier(max_depth=7, n_estimators=75)\n",
    "best_forest.fit(X_train, y_train)\n",
    "\n",
    "y_pred = best_forest.predict(X_test)\n",
    "y_probas = best_forest.predict_proba(X_test)\n",
    "\n",
    "\n",
    "cm = confusion_matrix(y_test, y_pred)\n",
    "display_confusion_matrix = ConfusionMatrixDisplay(confusion_matrix=cm, display_labels=classes)\n",
    "display_confusion_matrix.plot()\n",
    "print(classification_report(y_test, y_pred))"
   ],
   "outputs": [
    {
     "output_type": "stream",
     "name": "stdout",
     "text": [
      "              precision    recall  f1-score   support\n",
      "\n",
      "           0       0.73      0.69      0.71       103\n",
      "           1       0.95      0.89      0.92       127\n",
      "           2       0.87      0.93      0.90       188\n",
      "           3       0.87      0.89      0.88       142\n",
      "           4       0.96      0.96      0.96       142\n",
      "\n",
      "    accuracy                           0.88       702\n",
      "   macro avg       0.88      0.87      0.87       702\n",
      "weighted avg       0.88      0.88      0.88       702\n",
      "\n"
     ]
    },
    {
     "output_type": "display_data",
     "data": {
      "image/png": "[encoded data removed]",
      "text/plain": [
       "<Figure size 640x480 with 2 Axes>"
      ]
     },
     "metadata": {}
    }
   ],
   "metadata": {}
  },
  {
   "cell_type": "markdown",
   "source": [
    "# This takes ages, it's generating a whole image "
   ],
   "metadata": {},
   "attachments": {}
  },
  {
   "cell_type": "code",
   "execution_count": 83,
   "source": [
    "from sklearn import tree\n",
    "def generate_tree():\n",
    "    fn=columns\n",
    "    cn=classes\n",
    "    fig, axes = plt.subplots(nrows = 1, ncols = forest_classifier_gscv.n_estimators, figsize = (10,6), dpi=900)\n",
    "\n",
    "    for tree_idx in range(forest_classifier_gscv.n_estimators):\n",
    "        tree.plot_tree(forest_classifier_gscv.estimators_[tree_idx],\n",
    "                    feature_names = fn, \n",
    "                    class_names=cn,\n",
    "                    filled = True,\n",
    "                    ax = axes[tree_idx]);\n",
    "        axes[tree_idx].set_title('Estimator: ' + str(tree_idx), fontsize = 11)\n",
    "        \n",
    "    fig.savefig('rf_individualtree.png')\n",
    "    "
   ],
   "outputs": [],
   "metadata": {}
  },
  {
   "cell_type": "code",
   "execution_count": 1,
   "source": [
    "''' Increased value, means less trees will be plotted'''\n",
    "TREE_STEP = 1\n",
    "START_TREE = 1\n",
    "END_TREE = 100\n",
    "\n",
    "\n",
    "att = [x for x in forest_classifier_gscv.cv_results_]\n",
    "\n",
    "scores = [x for x in forest_classifier_gscv.cv_results_['mean_test_score']]\n",
    "times = [x for x in forest_classifier_gscv.cv_results_['mean_fit_time']]\n",
    "\n",
    "scores = np.array(scores).reshape(MAX_ESTIMATORS-1, MAX_DEPTH-1)\n",
    "times = np.array(times).reshape(MAX_ESTIMATORS-1, MAX_DEPTH-1)\n",
    "\n",
    "\n",
    "fig, (ax1, ax2) = plt.subplots(1, 2, figsize=(15, 5))\n",
    "fig.suptitle('Mean Score / Time Against Max Depth and # Trees in Random Forest ')\n",
    "\n",
    "for idx in range(START_TREE, END_TREE, TREE_STEP):\n",
    "    ax1.plot(range(1, MAX_DEPTH), scores[idx-1], label='Estimators: ' + str(idx))\n",
    "    ax2.plot(range(1, MAX_DEPTH), times[idx-1], label='Estimators: ' + str(idx))\n",
    "    \n",
    "ax1.set(xlabel='Depth', ylabel='Mean Score') \n",
    "ax2.set(xlabel='Depth', ylabel='Mean Time') \n",
    "    \n",
    "handles, labels = ax1.get_legend_handles_labels()\n",
    "fig.legend(handles, labels, loc='upper right')\n",
    "plt.show()"
   ],
   "outputs": [
    {
     "output_type": "error",
     "ename": "NameError",
     "evalue": "name 'forest_classifier_gscv' is not defined",
     "traceback": [
      "\u001b[0;31m---------------------------------------------------------------------------\u001b[0m",
      "\u001b[0;31mNameError\u001b[0m                                 Traceback (most recent call last)",
      "Cell \u001b[0;32mIn[1], line 7\u001b[0m\n\u001b[1;32m      3\u001b[0m START_TREE \u001b[38;5;241m=\u001b[39m \u001b[38;5;241m1\u001b[39m\n\u001b[1;32m      4\u001b[0m END_TREE \u001b[38;5;241m=\u001b[39m \u001b[38;5;241m100\u001b[39m\n\u001b[0;32m----> 7\u001b[0m att \u001b[38;5;241m=\u001b[39m [x \u001b[38;5;28;01mfor\u001b[39;00m x \u001b[38;5;129;01min\u001b[39;00m \u001b[43mforest_classifier_gscv\u001b[49m\u001b[38;5;241m.\u001b[39mcv_results_]\n\u001b[1;32m      9\u001b[0m scores \u001b[38;5;241m=\u001b[39m [x \u001b[38;5;28;01mfor\u001b[39;00m x \u001b[38;5;129;01min\u001b[39;00m forest_classifier_gscv\u001b[38;5;241m.\u001b[39mcv_results_[\u001b[38;5;124m'\u001b[39m\u001b[38;5;124mmean_test_score\u001b[39m\u001b[38;5;124m'\u001b[39m]]\n\u001b[1;32m     10\u001b[0m times \u001b[38;5;241m=\u001b[39m [x \u001b[38;5;28;01mfor\u001b[39;00m x \u001b[38;5;129;01min\u001b[39;00m forest_classifier_gscv\u001b[38;5;241m.\u001b[39mcv_results_[\u001b[38;5;124m'\u001b[39m\u001b[38;5;124mmean_fit_time\u001b[39m\u001b[38;5;124m'\u001b[39m]]\n",
      "\u001b[0;31mNameError\u001b[0m: name 'forest_classifier_gscv' is not defined"
     ]
    }
   ],
   "metadata": {}
  },
  {
   "cell_type": "markdown",
   "source": [
    "## Thoughts\n",
    "From the graphs, it seems that the score growth is logarithmic and starts to slow down around the 4-5 mark in terms of number of estimators. Where as increasing the depth only marginally increases the score, there is a high jump at the beginning and rapidly decreases increase in score. \n",
    "\n",
    "In terms of time, it seems that the time take to fit these models are linear both in terms of depth and number of trees in the forest\n",
    "\n",
    "# Intersting Note:\n",
    "If we plot using estimators [0, 9] it looks very simialr to using estimators [0, 100, step=10]"
   ],
   "metadata": {},
   "attachments": {}
  },
  {
   "cell_type": "markdown",
   "source": [
    "### Feature Importance\n",
    "\n",
    "According to the random forest model, the most important feature are the knees, followed by the hips then arms then shoulders."
   ],
   "metadata": {}
  },
  {
   "cell_type": "code",
   "execution_count": 24,
   "source": [
    "import seaborn as sns\n",
    "max_depth = forest_classifier_gscv.best_params_['max_depth']\n",
    "n_estimators = forest_classifier_gscv.best_params_['n_estimators']\n",
    "\n",
    "X, y = split_features_labels(combined_train)\n",
    "\n",
    "best_forest = RandomForestClassifier(max_depth = max_depth, n_estimators=n_estimators)\n",
    "best_forest.fit(X, y)\n",
    "\n",
    "feature_imp = pd.Series(best_forest.feature_importances_,index=columns[1:]).sort_values(ascending=False)\n",
    "\n",
    "sns.barplot(x=feature_imp, y=feature_imp.index)\n",
    "plt.xlabel('Feature Importance Score')\n",
    "plt.ylabel('Features')\n",
    "plt.title(\"Visualizing Important Features\")\n",
    "plt.legend()\n",
    "plt.show()"
   ],
   "outputs": [
    {
     "output_type": "stream",
     "name": "stderr",
     "text": [
      "No artists with labels found to put in legend.  Note that artists whose label start with an underscore are ignored when legend() is called with no argument.\n"
     ]
    },
    {
     "output_type": "display_data",
     "data": {
      "image/png": "[encoded data removed]",
      "text/plain": [
       "<Figure size 640x480 with 1 Axes>"
      ]
     },
     "metadata": {}
    }
   ],
   "metadata": {}
  },
  {
   "cell_type": "code",
   "execution_count": null,
   "source": [],
   "outputs": [],
   "metadata": {}
  }
 ],
 "metadata": {
  "kernelspec": {
   "name": "python3",
   "display_name": "Python 3.10.9 64-bit ('3yp_venv': venv)"
  },
  "language_info": {
   "codemirror_mode": {
    "name": "ipython",
    "version": 3
   },
   "file_extension": ".py",
   "mimetype": "text/x-python",
   "name": "python",
   "nbconvert_exporter": "python",
   "pygments_lexer": "ipython3",
   "version": "3.10.9"
  },
  "vscode": {
   "interpreter": {
    "hash": "c03d7ca79527c43668de5fef191e6a32e993596d47f3147d82e5050d734e1650"
   }
  },
  "interpreter": {
   "hash": "863f67b31f24466e0883f69032a69c124c9bc374896dddab98911f54145fcab2"
  }
 },
 "nbformat": 4,
 "nbformat_minor": 5
}